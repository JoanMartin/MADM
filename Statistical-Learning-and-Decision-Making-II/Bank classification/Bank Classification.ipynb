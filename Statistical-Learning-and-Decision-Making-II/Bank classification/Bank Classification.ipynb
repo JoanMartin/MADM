{
 "cells": [
  {
   "cell_type": "markdown",
   "metadata": {},
   "source": [
    "http://fastml.com/how-to-use-pd-dot-get-dummies-with-the-test-set/"
   ]
  },
  {
   "cell_type": "code",
   "execution_count": 24,
   "metadata": {},
   "outputs": [],
   "source": [
    "import os\n",
    "import glob\n",
    "import math\n",
    "\n",
    "import pandas as pd\n",
    "pd.set_option('display.height', 1000)\n",
    "pd.set_option('display.max_rows', 100)\n",
    "pd.set_option('display.max_columns', 200)\n",
    "pd.set_option('display.width', 80)\n",
    "\n",
    "import numpy as np\n",
    "\n",
    "%matplotlib inline\n",
    "import matplotlib.pyplot as plt\n",
    "plt.rcParams['figure.figsize'] = (12, 8)\n",
    "\n",
    "import seaborn as sns\n",
    "\n",
    "from sklearn.metrics import roc_auc_score, confusion_matrix, log_loss, brier_score_loss\n",
    "from sklearn.metrics import accuracy_score, precision_score, recall_score, f1_score\n",
    "from sklearn.model_selection import StratifiedKFold, GridSearchCV, cross_val_score\n",
    "from sklearn.preprocessing import PolynomialFeatures, StandardScaler\n",
    "from sklearn.pipeline import Pipeline"
   ]
  },
  {
   "cell_type": "code",
   "execution_count": 3,
   "metadata": {},
   "outputs": [
    {
     "data": {
      "text/html": [
       "<div>\n",
       "<style scoped>\n",
       "    .dataframe tbody tr th:only-of-type {\n",
       "        vertical-align: middle;\n",
       "    }\n",
       "\n",
       "    .dataframe tbody tr th {\n",
       "        vertical-align: top;\n",
       "    }\n",
       "\n",
       "    .dataframe thead th {\n",
       "        text-align: right;\n",
       "    }\n",
       "</style>\n",
       "<table border=\"1\" class=\"dataframe\">\n",
       "  <thead>\n",
       "    <tr style=\"text-align: right;\">\n",
       "      <th></th>\n",
       "      <th>age</th>\n",
       "      <th>job</th>\n",
       "      <th>marital</th>\n",
       "      <th>education</th>\n",
       "      <th>default</th>\n",
       "      <th>balance</th>\n",
       "      <th>housing</th>\n",
       "      <th>loan</th>\n",
       "      <th>contact</th>\n",
       "      <th>day</th>\n",
       "      <th>month</th>\n",
       "      <th>duration</th>\n",
       "      <th>campaign</th>\n",
       "      <th>pdays</th>\n",
       "      <th>previous</th>\n",
       "      <th>poutcome</th>\n",
       "      <th>y</th>\n",
       "    </tr>\n",
       "  </thead>\n",
       "  <tbody>\n",
       "    <tr>\n",
       "      <th>0</th>\n",
       "      <td>58</td>\n",
       "      <td>management</td>\n",
       "      <td>married</td>\n",
       "      <td>tertiary</td>\n",
       "      <td>no</td>\n",
       "      <td>2143</td>\n",
       "      <td>yes</td>\n",
       "      <td>no</td>\n",
       "      <td>unknown</td>\n",
       "      <td>5</td>\n",
       "      <td>may</td>\n",
       "      <td>261</td>\n",
       "      <td>1</td>\n",
       "      <td>-1</td>\n",
       "      <td>0</td>\n",
       "      <td>unknown</td>\n",
       "      <td>no</td>\n",
       "    </tr>\n",
       "    <tr>\n",
       "      <th>1</th>\n",
       "      <td>44</td>\n",
       "      <td>technician</td>\n",
       "      <td>single</td>\n",
       "      <td>secondary</td>\n",
       "      <td>no</td>\n",
       "      <td>29</td>\n",
       "      <td>yes</td>\n",
       "      <td>no</td>\n",
       "      <td>unknown</td>\n",
       "      <td>5</td>\n",
       "      <td>may</td>\n",
       "      <td>151</td>\n",
       "      <td>1</td>\n",
       "      <td>-1</td>\n",
       "      <td>0</td>\n",
       "      <td>unknown</td>\n",
       "      <td>no</td>\n",
       "    </tr>\n",
       "    <tr>\n",
       "      <th>2</th>\n",
       "      <td>33</td>\n",
       "      <td>entrepreneur</td>\n",
       "      <td>married</td>\n",
       "      <td>secondary</td>\n",
       "      <td>no</td>\n",
       "      <td>2</td>\n",
       "      <td>yes</td>\n",
       "      <td>yes</td>\n",
       "      <td>unknown</td>\n",
       "      <td>5</td>\n",
       "      <td>may</td>\n",
       "      <td>76</td>\n",
       "      <td>1</td>\n",
       "      <td>-1</td>\n",
       "      <td>0</td>\n",
       "      <td>unknown</td>\n",
       "      <td>no</td>\n",
       "    </tr>\n",
       "    <tr>\n",
       "      <th>3</th>\n",
       "      <td>47</td>\n",
       "      <td>blue-collar</td>\n",
       "      <td>married</td>\n",
       "      <td>unknown</td>\n",
       "      <td>no</td>\n",
       "      <td>1506</td>\n",
       "      <td>yes</td>\n",
       "      <td>no</td>\n",
       "      <td>unknown</td>\n",
       "      <td>5</td>\n",
       "      <td>may</td>\n",
       "      <td>92</td>\n",
       "      <td>1</td>\n",
       "      <td>-1</td>\n",
       "      <td>0</td>\n",
       "      <td>unknown</td>\n",
       "      <td>no</td>\n",
       "    </tr>\n",
       "    <tr>\n",
       "      <th>4</th>\n",
       "      <td>33</td>\n",
       "      <td>unknown</td>\n",
       "      <td>single</td>\n",
       "      <td>unknown</td>\n",
       "      <td>no</td>\n",
       "      <td>1</td>\n",
       "      <td>no</td>\n",
       "      <td>no</td>\n",
       "      <td>unknown</td>\n",
       "      <td>5</td>\n",
       "      <td>may</td>\n",
       "      <td>198</td>\n",
       "      <td>1</td>\n",
       "      <td>-1</td>\n",
       "      <td>0</td>\n",
       "      <td>unknown</td>\n",
       "      <td>no</td>\n",
       "    </tr>\n",
       "  </tbody>\n",
       "</table>\n",
       "</div>"
      ],
      "text/plain": [
       "   age           job  marital  education default  balance housing loan  \\\n",
       "0   58    management  married   tertiary      no     2143     yes   no   \n",
       "1   44    technician   single  secondary      no       29     yes   no   \n",
       "2   33  entrepreneur  married  secondary      no        2     yes  yes   \n",
       "3   47   blue-collar  married    unknown      no     1506     yes   no   \n",
       "4   33       unknown   single    unknown      no        1      no   no   \n",
       "\n",
       "   contact  day month  duration  campaign  pdays  previous poutcome   y  \n",
       "0  unknown    5   may       261         1     -1         0  unknown  no  \n",
       "1  unknown    5   may       151         1     -1         0  unknown  no  \n",
       "2  unknown    5   may        76         1     -1         0  unknown  no  \n",
       "3  unknown    5   may        92         1     -1         0  unknown  no  \n",
       "4  unknown    5   may       198         1     -1         0  unknown  no  "
      ]
     },
     "execution_count": 3,
     "metadata": {},
     "output_type": "execute_result"
    }
   ],
   "source": [
    "df = pd.read_csv(\"bank-dataset.csv\", sep=\";\")\n",
    "df.head()"
   ]
  },
  {
   "cell_type": "markdown",
   "metadata": {},
   "source": [
    "# Análisis exploratorio de los datos"
   ]
  },
  {
   "cell_type": "code",
   "execution_count": 4,
   "metadata": {},
   "outputs": [
    {
     "data": {
      "text/plain": [
       "(45211, 17)"
      ]
     },
     "execution_count": 4,
     "metadata": {},
     "output_type": "execute_result"
    }
   ],
   "source": [
    "df.shape"
   ]
  },
  {
   "cell_type": "code",
   "execution_count": 5,
   "metadata": {},
   "outputs": [
    {
     "data": {
      "text/html": [
       "<div>\n",
       "<style scoped>\n",
       "    .dataframe tbody tr th:only-of-type {\n",
       "        vertical-align: middle;\n",
       "    }\n",
       "\n",
       "    .dataframe tbody tr th {\n",
       "        vertical-align: top;\n",
       "    }\n",
       "\n",
       "    .dataframe thead th {\n",
       "        text-align: right;\n",
       "    }\n",
       "</style>\n",
       "<table border=\"1\" class=\"dataframe\">\n",
       "  <thead>\n",
       "    <tr style=\"text-align: right;\">\n",
       "      <th></th>\n",
       "      <th>y</th>\n",
       "      <th>loan</th>\n",
       "      <th>housing</th>\n",
       "      <th>default</th>\n",
       "    </tr>\n",
       "  </thead>\n",
       "  <tbody>\n",
       "    <tr>\n",
       "      <th>no</th>\n",
       "      <td>39922</td>\n",
       "      <td>37967</td>\n",
       "      <td>20081</td>\n",
       "      <td>44396</td>\n",
       "    </tr>\n",
       "    <tr>\n",
       "      <th>yes</th>\n",
       "      <td>5289</td>\n",
       "      <td>7244</td>\n",
       "      <td>25130</td>\n",
       "      <td>815</td>\n",
       "    </tr>\n",
       "  </tbody>\n",
       "</table>\n",
       "</div>"
      ],
      "text/plain": [
       "         y   loan  housing  default\n",
       "no   39922  37967    20081    44396\n",
       "yes   5289   7244    25130      815"
      ]
     },
     "execution_count": 5,
     "metadata": {},
     "output_type": "execute_result"
    }
   ],
   "source": [
    "binary_col_list = ['y', 'loan', 'housing', 'default']\n",
    "df[binary_col_list].apply(lambda x: x.value_counts())"
   ]
  },
  {
   "cell_type": "code",
   "execution_count": 6,
   "metadata": {},
   "outputs": [
    {
     "data": {
      "text/html": [
       "<div>\n",
       "<style scoped>\n",
       "    .dataframe tbody tr th:only-of-type {\n",
       "        vertical-align: middle;\n",
       "    }\n",
       "\n",
       "    .dataframe tbody tr th {\n",
       "        vertical-align: top;\n",
       "    }\n",
       "\n",
       "    .dataframe thead th {\n",
       "        text-align: right;\n",
       "    }\n",
       "</style>\n",
       "<table border=\"1\" class=\"dataframe\">\n",
       "  <thead>\n",
       "    <tr style=\"text-align: right;\">\n",
       "      <th></th>\n",
       "      <th>y</th>\n",
       "      <th>loan</th>\n",
       "      <th>housing</th>\n",
       "      <th>default</th>\n",
       "    </tr>\n",
       "  </thead>\n",
       "  <tbody>\n",
       "    <tr>\n",
       "      <th>0</th>\n",
       "      <td>39922</td>\n",
       "      <td>37967</td>\n",
       "      <td>20081</td>\n",
       "      <td>44396</td>\n",
       "    </tr>\n",
       "    <tr>\n",
       "      <th>1</th>\n",
       "      <td>5289</td>\n",
       "      <td>7244</td>\n",
       "      <td>25130</td>\n",
       "      <td>815</td>\n",
       "    </tr>\n",
       "  </tbody>\n",
       "</table>\n",
       "</div>"
      ],
      "text/plain": [
       "       y   loan  housing  default\n",
       "0  39922  37967    20081    44396\n",
       "1   5289   7244    25130      815"
      ]
     },
     "execution_count": 6,
     "metadata": {},
     "output_type": "execute_result"
    }
   ],
   "source": [
    "df[binary_col_list] = df[binary_col_list].apply(lambda x: x.map(dict(yes=1, no=0)))\n",
    "df[binary_col_list].apply(lambda x: x.value_counts())"
   ]
  },
  {
   "cell_type": "code",
   "execution_count": 7,
   "metadata": {},
   "outputs": [
    {
     "data": {
      "text/html": [
       "<div>\n",
       "<style scoped>\n",
       "    .dataframe tbody tr th:only-of-type {\n",
       "        vertical-align: middle;\n",
       "    }\n",
       "\n",
       "    .dataframe tbody tr th {\n",
       "        vertical-align: top;\n",
       "    }\n",
       "\n",
       "    .dataframe thead th {\n",
       "        text-align: right;\n",
       "    }\n",
       "</style>\n",
       "<table border=\"1\" class=\"dataframe\">\n",
       "  <thead>\n",
       "    <tr style=\"text-align: right;\">\n",
       "      <th></th>\n",
       "      <th>age</th>\n",
       "      <th>job</th>\n",
       "      <th>marital</th>\n",
       "      <th>education</th>\n",
       "      <th>default</th>\n",
       "      <th>balance</th>\n",
       "      <th>housing</th>\n",
       "      <th>loan</th>\n",
       "      <th>contact</th>\n",
       "      <th>day</th>\n",
       "      <th>month</th>\n",
       "      <th>duration</th>\n",
       "      <th>campaign</th>\n",
       "      <th>pdays</th>\n",
       "      <th>previous</th>\n",
       "      <th>poutcome</th>\n",
       "      <th>y</th>\n",
       "    </tr>\n",
       "  </thead>\n",
       "  <tbody>\n",
       "    <tr>\n",
       "      <th>0</th>\n",
       "      <td>58</td>\n",
       "      <td>management</td>\n",
       "      <td>married</td>\n",
       "      <td>tertiary</td>\n",
       "      <td>0</td>\n",
       "      <td>2143</td>\n",
       "      <td>1</td>\n",
       "      <td>0</td>\n",
       "      <td>unknown</td>\n",
       "      <td>5</td>\n",
       "      <td>may</td>\n",
       "      <td>261</td>\n",
       "      <td>1</td>\n",
       "      <td>-1</td>\n",
       "      <td>0</td>\n",
       "      <td>unknown</td>\n",
       "      <td>0</td>\n",
       "    </tr>\n",
       "    <tr>\n",
       "      <th>1</th>\n",
       "      <td>44</td>\n",
       "      <td>technician</td>\n",
       "      <td>single</td>\n",
       "      <td>secondary</td>\n",
       "      <td>0</td>\n",
       "      <td>29</td>\n",
       "      <td>1</td>\n",
       "      <td>0</td>\n",
       "      <td>unknown</td>\n",
       "      <td>5</td>\n",
       "      <td>may</td>\n",
       "      <td>151</td>\n",
       "      <td>1</td>\n",
       "      <td>-1</td>\n",
       "      <td>0</td>\n",
       "      <td>unknown</td>\n",
       "      <td>0</td>\n",
       "    </tr>\n",
       "    <tr>\n",
       "      <th>2</th>\n",
       "      <td>33</td>\n",
       "      <td>entrepreneur</td>\n",
       "      <td>married</td>\n",
       "      <td>secondary</td>\n",
       "      <td>0</td>\n",
       "      <td>2</td>\n",
       "      <td>1</td>\n",
       "      <td>1</td>\n",
       "      <td>unknown</td>\n",
       "      <td>5</td>\n",
       "      <td>may</td>\n",
       "      <td>76</td>\n",
       "      <td>1</td>\n",
       "      <td>-1</td>\n",
       "      <td>0</td>\n",
       "      <td>unknown</td>\n",
       "      <td>0</td>\n",
       "    </tr>\n",
       "    <tr>\n",
       "      <th>3</th>\n",
       "      <td>47</td>\n",
       "      <td>blue-collar</td>\n",
       "      <td>married</td>\n",
       "      <td>unknown</td>\n",
       "      <td>0</td>\n",
       "      <td>1506</td>\n",
       "      <td>1</td>\n",
       "      <td>0</td>\n",
       "      <td>unknown</td>\n",
       "      <td>5</td>\n",
       "      <td>may</td>\n",
       "      <td>92</td>\n",
       "      <td>1</td>\n",
       "      <td>-1</td>\n",
       "      <td>0</td>\n",
       "      <td>unknown</td>\n",
       "      <td>0</td>\n",
       "    </tr>\n",
       "    <tr>\n",
       "      <th>4</th>\n",
       "      <td>33</td>\n",
       "      <td>unknown</td>\n",
       "      <td>single</td>\n",
       "      <td>unknown</td>\n",
       "      <td>0</td>\n",
       "      <td>1</td>\n",
       "      <td>0</td>\n",
       "      <td>0</td>\n",
       "      <td>unknown</td>\n",
       "      <td>5</td>\n",
       "      <td>may</td>\n",
       "      <td>198</td>\n",
       "      <td>1</td>\n",
       "      <td>-1</td>\n",
       "      <td>0</td>\n",
       "      <td>unknown</td>\n",
       "      <td>0</td>\n",
       "    </tr>\n",
       "  </tbody>\n",
       "</table>\n",
       "</div>"
      ],
      "text/plain": [
       "   age           job  marital  education  default  balance  housing  loan  \\\n",
       "0   58    management  married   tertiary        0     2143        1     0   \n",
       "1   44    technician   single  secondary        0       29        1     0   \n",
       "2   33  entrepreneur  married  secondary        0        2        1     1   \n",
       "3   47   blue-collar  married    unknown        0     1506        1     0   \n",
       "4   33       unknown   single    unknown        0        1        0     0   \n",
       "\n",
       "   contact  day month  duration  campaign  pdays  previous poutcome  y  \n",
       "0  unknown    5   may       261         1     -1         0  unknown  0  \n",
       "1  unknown    5   may       151         1     -1         0  unknown  0  \n",
       "2  unknown    5   may        76         1     -1         0  unknown  0  \n",
       "3  unknown    5   may        92         1     -1         0  unknown  0  \n",
       "4  unknown    5   may       198         1     -1         0  unknown  0  "
      ]
     },
     "execution_count": 7,
     "metadata": {},
     "output_type": "execute_result"
    }
   ],
   "source": [
    "df.head()"
   ]
  },
  {
   "cell_type": "code",
   "execution_count": 8,
   "metadata": {},
   "outputs": [
    {
     "data": {
      "text/plain": [
       "age           int64\n",
       "job          object\n",
       "marital      object\n",
       "education    object\n",
       "default       int64\n",
       "balance       int64\n",
       "housing       int64\n",
       "loan          int64\n",
       "contact      object\n",
       "day           int64\n",
       "month        object\n",
       "duration      int64\n",
       "campaign      int64\n",
       "pdays         int64\n",
       "previous      int64\n",
       "poutcome     object\n",
       "y             int64\n",
       "dtype: object"
      ]
     },
     "execution_count": 8,
     "metadata": {},
     "output_type": "execute_result"
    }
   ],
   "source": [
    "df.dtypes"
   ]
  },
  {
   "cell_type": "code",
   "execution_count": 9,
   "metadata": {},
   "outputs": [
    {
     "data": {
      "text/html": [
       "<div>\n",
       "<style scoped>\n",
       "    .dataframe tbody tr th:only-of-type {\n",
       "        vertical-align: middle;\n",
       "    }\n",
       "\n",
       "    .dataframe tbody tr th {\n",
       "        vertical-align: top;\n",
       "    }\n",
       "\n",
       "    .dataframe thead th {\n",
       "        text-align: right;\n",
       "    }\n",
       "</style>\n",
       "<table border=\"1\" class=\"dataframe\">\n",
       "  <thead>\n",
       "    <tr style=\"text-align: right;\">\n",
       "      <th></th>\n",
       "      <th>age</th>\n",
       "      <th>default</th>\n",
       "      <th>balance</th>\n",
       "      <th>housing</th>\n",
       "      <th>loan</th>\n",
       "      <th>day</th>\n",
       "      <th>duration</th>\n",
       "      <th>campaign</th>\n",
       "      <th>pdays</th>\n",
       "      <th>previous</th>\n",
       "      <th>y</th>\n",
       "    </tr>\n",
       "  </thead>\n",
       "  <tbody>\n",
       "    <tr>\n",
       "      <th>count</th>\n",
       "      <td>45211.000000</td>\n",
       "      <td>45211.000000</td>\n",
       "      <td>45211.000000</td>\n",
       "      <td>45211.000000</td>\n",
       "      <td>45211.000000</td>\n",
       "      <td>45211.000000</td>\n",
       "      <td>45211.000000</td>\n",
       "      <td>45211.000000</td>\n",
       "      <td>45211.000000</td>\n",
       "      <td>45211.000000</td>\n",
       "      <td>45211.000000</td>\n",
       "    </tr>\n",
       "    <tr>\n",
       "      <th>mean</th>\n",
       "      <td>40.936210</td>\n",
       "      <td>0.018027</td>\n",
       "      <td>1362.272058</td>\n",
       "      <td>0.555838</td>\n",
       "      <td>0.160226</td>\n",
       "      <td>15.806419</td>\n",
       "      <td>258.163080</td>\n",
       "      <td>2.763841</td>\n",
       "      <td>40.197828</td>\n",
       "      <td>0.580323</td>\n",
       "      <td>0.116985</td>\n",
       "    </tr>\n",
       "    <tr>\n",
       "      <th>std</th>\n",
       "      <td>10.618762</td>\n",
       "      <td>0.133049</td>\n",
       "      <td>3044.765829</td>\n",
       "      <td>0.496878</td>\n",
       "      <td>0.366820</td>\n",
       "      <td>8.322476</td>\n",
       "      <td>257.527812</td>\n",
       "      <td>3.098021</td>\n",
       "      <td>100.128746</td>\n",
       "      <td>2.303441</td>\n",
       "      <td>0.321406</td>\n",
       "    </tr>\n",
       "    <tr>\n",
       "      <th>min</th>\n",
       "      <td>18.000000</td>\n",
       "      <td>0.000000</td>\n",
       "      <td>-8019.000000</td>\n",
       "      <td>0.000000</td>\n",
       "      <td>0.000000</td>\n",
       "      <td>1.000000</td>\n",
       "      <td>0.000000</td>\n",
       "      <td>1.000000</td>\n",
       "      <td>-1.000000</td>\n",
       "      <td>0.000000</td>\n",
       "      <td>0.000000</td>\n",
       "    </tr>\n",
       "    <tr>\n",
       "      <th>25%</th>\n",
       "      <td>33.000000</td>\n",
       "      <td>0.000000</td>\n",
       "      <td>72.000000</td>\n",
       "      <td>0.000000</td>\n",
       "      <td>0.000000</td>\n",
       "      <td>8.000000</td>\n",
       "      <td>103.000000</td>\n",
       "      <td>1.000000</td>\n",
       "      <td>-1.000000</td>\n",
       "      <td>0.000000</td>\n",
       "      <td>0.000000</td>\n",
       "    </tr>\n",
       "    <tr>\n",
       "      <th>50%</th>\n",
       "      <td>39.000000</td>\n",
       "      <td>0.000000</td>\n",
       "      <td>448.000000</td>\n",
       "      <td>1.000000</td>\n",
       "      <td>0.000000</td>\n",
       "      <td>16.000000</td>\n",
       "      <td>180.000000</td>\n",
       "      <td>2.000000</td>\n",
       "      <td>-1.000000</td>\n",
       "      <td>0.000000</td>\n",
       "      <td>0.000000</td>\n",
       "    </tr>\n",
       "    <tr>\n",
       "      <th>75%</th>\n",
       "      <td>48.000000</td>\n",
       "      <td>0.000000</td>\n",
       "      <td>1428.000000</td>\n",
       "      <td>1.000000</td>\n",
       "      <td>0.000000</td>\n",
       "      <td>21.000000</td>\n",
       "      <td>319.000000</td>\n",
       "      <td>3.000000</td>\n",
       "      <td>-1.000000</td>\n",
       "      <td>0.000000</td>\n",
       "      <td>0.000000</td>\n",
       "    </tr>\n",
       "    <tr>\n",
       "      <th>max</th>\n",
       "      <td>95.000000</td>\n",
       "      <td>1.000000</td>\n",
       "      <td>102127.000000</td>\n",
       "      <td>1.000000</td>\n",
       "      <td>1.000000</td>\n",
       "      <td>31.000000</td>\n",
       "      <td>4918.000000</td>\n",
       "      <td>63.000000</td>\n",
       "      <td>871.000000</td>\n",
       "      <td>275.000000</td>\n",
       "      <td>1.000000</td>\n",
       "    </tr>\n",
       "  </tbody>\n",
       "</table>\n",
       "</div>"
      ],
      "text/plain": [
       "                age       default        balance       housing          loan  \\\n",
       "count  45211.000000  45211.000000   45211.000000  45211.000000  45211.000000   \n",
       "mean      40.936210      0.018027    1362.272058      0.555838      0.160226   \n",
       "std       10.618762      0.133049    3044.765829      0.496878      0.366820   \n",
       "min       18.000000      0.000000   -8019.000000      0.000000      0.000000   \n",
       "25%       33.000000      0.000000      72.000000      0.000000      0.000000   \n",
       "50%       39.000000      0.000000     448.000000      1.000000      0.000000   \n",
       "75%       48.000000      0.000000    1428.000000      1.000000      0.000000   \n",
       "max       95.000000      1.000000  102127.000000      1.000000      1.000000   \n",
       "\n",
       "                day      duration      campaign         pdays      previous  \\\n",
       "count  45211.000000  45211.000000  45211.000000  45211.000000  45211.000000   \n",
       "mean      15.806419    258.163080      2.763841     40.197828      0.580323   \n",
       "std        8.322476    257.527812      3.098021    100.128746      2.303441   \n",
       "min        1.000000      0.000000      1.000000     -1.000000      0.000000   \n",
       "25%        8.000000    103.000000      1.000000     -1.000000      0.000000   \n",
       "50%       16.000000    180.000000      2.000000     -1.000000      0.000000   \n",
       "75%       21.000000    319.000000      3.000000     -1.000000      0.000000   \n",
       "max       31.000000   4918.000000     63.000000    871.000000    275.000000   \n",
       "\n",
       "                  y  \n",
       "count  45211.000000  \n",
       "mean       0.116985  \n",
       "std        0.321406  \n",
       "min        0.000000  \n",
       "25%        0.000000  \n",
       "50%        0.000000  \n",
       "75%        0.000000  \n",
       "max        1.000000  "
      ]
     },
     "execution_count": 9,
     "metadata": {},
     "output_type": "execute_result"
    }
   ],
   "source": [
    "df.describe()"
   ]
  },
  {
   "cell_type": "markdown",
   "metadata": {},
   "source": [
    "Variable **pdays**"
   ]
  },
  {
   "cell_type": "code",
   "execution_count": 10,
   "metadata": {},
   "outputs": [
    {
     "data": {
      "text/plain": [
       "0.81736745482294137"
      ]
     },
     "execution_count": 10,
     "metadata": {},
     "output_type": "execute_result"
    }
   ],
   "source": [
    "df.loc[df.pdays == -1, 'pdays'].count() / len(df)"
   ]
  },
  {
   "cell_type": "markdown",
   "metadata": {},
   "source": [
    "El 81% de los registros de la variable **pdays** es -1, lo cual quiere decir que el cliente nunca fue contactado anteriormente. Por lo tanto, la variable **poutcome** tendrá el valor *unknown* un 81% de las veces, al igual que la variable **previous** con el valor 0."
   ]
  },
  {
   "cell_type": "code",
   "execution_count": 72,
   "metadata": {},
   "outputs": [
    {
     "name": "stdout",
     "output_type": "stream",
     "text": [
      "0.817478047378\n",
      "0.817367454823\n"
     ]
    }
   ],
   "source": [
    "print(df.loc[df.poutcome == 'unknown', 'poutcome'].count() / len(df))\n",
    "print(df.loc[df.previous == 0, 'previous'].count() / len(df))"
   ]
  },
  {
   "cell_type": "markdown",
   "metadata": {},
   "source": [
    "Se han de usar técnicas de balanceo de clases, dado que solo hay un 11% de la clase positiva."
   ]
  },
  {
   "cell_type": "code",
   "execution_count": 12,
   "metadata": {},
   "outputs": [
    {
     "data": {
      "text/plain": [
       "y            0.0\n",
       "loan         0.0\n",
       "job          0.0\n",
       "marital      0.0\n",
       "education    0.0\n",
       "default      0.0\n",
       "balance      0.0\n",
       "housing      0.0\n",
       "contact      0.0\n",
       "poutcome     0.0\n",
       "day          0.0\n",
       "month        0.0\n",
       "duration     0.0\n",
       "campaign     0.0\n",
       "pdays        0.0\n",
       "previous     0.0\n",
       "age          0.0\n",
       "dtype: float64"
      ]
     },
     "execution_count": 12,
     "metadata": {},
     "output_type": "execute_result"
    }
   ],
   "source": [
    "null_data = df.isnull().mean()\n",
    "null_data.sort_values(ascending=False)"
   ]
  },
  {
   "cell_type": "code",
   "execution_count": 13,
   "metadata": {},
   "outputs": [
    {
     "data": {
      "text/html": [
       "<div>\n",
       "<style scoped>\n",
       "    .dataframe tbody tr th:only-of-type {\n",
       "        vertical-align: middle;\n",
       "    }\n",
       "\n",
       "    .dataframe tbody tr th {\n",
       "        vertical-align: top;\n",
       "    }\n",
       "\n",
       "    .dataframe thead th {\n",
       "        text-align: right;\n",
       "    }\n",
       "</style>\n",
       "<table border=\"1\" class=\"dataframe\">\n",
       "  <thead>\n",
       "    <tr style=\"text-align: right;\">\n",
       "      <th></th>\n",
       "      <th>age</th>\n",
       "      <th>default</th>\n",
       "      <th>balance</th>\n",
       "      <th>housing</th>\n",
       "      <th>loan</th>\n",
       "      <th>day</th>\n",
       "      <th>duration</th>\n",
       "      <th>campaign</th>\n",
       "      <th>pdays</th>\n",
       "      <th>previous</th>\n",
       "      <th>y</th>\n",
       "    </tr>\n",
       "  </thead>\n",
       "  <tbody>\n",
       "    <tr>\n",
       "      <th>age</th>\n",
       "      <td>1.000000</td>\n",
       "      <td>-0.017879</td>\n",
       "      <td>0.097783</td>\n",
       "      <td>-0.185513</td>\n",
       "      <td>-0.015655</td>\n",
       "      <td>-0.009120</td>\n",
       "      <td>-0.004648</td>\n",
       "      <td>0.004760</td>\n",
       "      <td>-0.023758</td>\n",
       "      <td>0.001288</td>\n",
       "      <td>0.025155</td>\n",
       "    </tr>\n",
       "    <tr>\n",
       "      <th>default</th>\n",
       "      <td>-0.017879</td>\n",
       "      <td>1.000000</td>\n",
       "      <td>-0.066745</td>\n",
       "      <td>-0.006025</td>\n",
       "      <td>0.077234</td>\n",
       "      <td>0.009424</td>\n",
       "      <td>-0.010021</td>\n",
       "      <td>0.016822</td>\n",
       "      <td>-0.029979</td>\n",
       "      <td>-0.018329</td>\n",
       "      <td>-0.022419</td>\n",
       "    </tr>\n",
       "    <tr>\n",
       "      <th>balance</th>\n",
       "      <td>0.097783</td>\n",
       "      <td>-0.066745</td>\n",
       "      <td>1.000000</td>\n",
       "      <td>-0.068768</td>\n",
       "      <td>-0.084350</td>\n",
       "      <td>0.004503</td>\n",
       "      <td>0.021560</td>\n",
       "      <td>-0.014578</td>\n",
       "      <td>0.003435</td>\n",
       "      <td>0.016674</td>\n",
       "      <td>0.052838</td>\n",
       "    </tr>\n",
       "    <tr>\n",
       "      <th>housing</th>\n",
       "      <td>-0.185513</td>\n",
       "      <td>-0.006025</td>\n",
       "      <td>-0.068768</td>\n",
       "      <td>1.000000</td>\n",
       "      <td>0.041323</td>\n",
       "      <td>-0.027982</td>\n",
       "      <td>0.005075</td>\n",
       "      <td>-0.023599</td>\n",
       "      <td>0.124178</td>\n",
       "      <td>0.037076</td>\n",
       "      <td>-0.139173</td>\n",
       "    </tr>\n",
       "    <tr>\n",
       "      <th>loan</th>\n",
       "      <td>-0.015655</td>\n",
       "      <td>0.077234</td>\n",
       "      <td>-0.084350</td>\n",
       "      <td>0.041323</td>\n",
       "      <td>1.000000</td>\n",
       "      <td>0.011370</td>\n",
       "      <td>-0.012412</td>\n",
       "      <td>0.009980</td>\n",
       "      <td>-0.022754</td>\n",
       "      <td>-0.011043</td>\n",
       "      <td>-0.068185</td>\n",
       "    </tr>\n",
       "    <tr>\n",
       "      <th>day</th>\n",
       "      <td>-0.009120</td>\n",
       "      <td>0.009424</td>\n",
       "      <td>0.004503</td>\n",
       "      <td>-0.027982</td>\n",
       "      <td>0.011370</td>\n",
       "      <td>1.000000</td>\n",
       "      <td>-0.030206</td>\n",
       "      <td>0.162490</td>\n",
       "      <td>-0.093044</td>\n",
       "      <td>-0.051710</td>\n",
       "      <td>-0.028348</td>\n",
       "    </tr>\n",
       "    <tr>\n",
       "      <th>duration</th>\n",
       "      <td>-0.004648</td>\n",
       "      <td>-0.010021</td>\n",
       "      <td>0.021560</td>\n",
       "      <td>0.005075</td>\n",
       "      <td>-0.012412</td>\n",
       "      <td>-0.030206</td>\n",
       "      <td>1.000000</td>\n",
       "      <td>-0.084570</td>\n",
       "      <td>-0.001565</td>\n",
       "      <td>0.001203</td>\n",
       "      <td>0.394521</td>\n",
       "    </tr>\n",
       "    <tr>\n",
       "      <th>campaign</th>\n",
       "      <td>0.004760</td>\n",
       "      <td>0.016822</td>\n",
       "      <td>-0.014578</td>\n",
       "      <td>-0.023599</td>\n",
       "      <td>0.009980</td>\n",
       "      <td>0.162490</td>\n",
       "      <td>-0.084570</td>\n",
       "      <td>1.000000</td>\n",
       "      <td>-0.088628</td>\n",
       "      <td>-0.032855</td>\n",
       "      <td>-0.073172</td>\n",
       "    </tr>\n",
       "    <tr>\n",
       "      <th>pdays</th>\n",
       "      <td>-0.023758</td>\n",
       "      <td>-0.029979</td>\n",
       "      <td>0.003435</td>\n",
       "      <td>0.124178</td>\n",
       "      <td>-0.022754</td>\n",
       "      <td>-0.093044</td>\n",
       "      <td>-0.001565</td>\n",
       "      <td>-0.088628</td>\n",
       "      <td>1.000000</td>\n",
       "      <td>0.454820</td>\n",
       "      <td>0.103621</td>\n",
       "    </tr>\n",
       "    <tr>\n",
       "      <th>previous</th>\n",
       "      <td>0.001288</td>\n",
       "      <td>-0.018329</td>\n",
       "      <td>0.016674</td>\n",
       "      <td>0.037076</td>\n",
       "      <td>-0.011043</td>\n",
       "      <td>-0.051710</td>\n",
       "      <td>0.001203</td>\n",
       "      <td>-0.032855</td>\n",
       "      <td>0.454820</td>\n",
       "      <td>1.000000</td>\n",
       "      <td>0.093236</td>\n",
       "    </tr>\n",
       "    <tr>\n",
       "      <th>y</th>\n",
       "      <td>0.025155</td>\n",
       "      <td>-0.022419</td>\n",
       "      <td>0.052838</td>\n",
       "      <td>-0.139173</td>\n",
       "      <td>-0.068185</td>\n",
       "      <td>-0.028348</td>\n",
       "      <td>0.394521</td>\n",
       "      <td>-0.073172</td>\n",
       "      <td>0.103621</td>\n",
       "      <td>0.093236</td>\n",
       "      <td>1.000000</td>\n",
       "    </tr>\n",
       "  </tbody>\n",
       "</table>\n",
       "</div>"
      ],
      "text/plain": [
       "               age   default   balance   housing      loan       day  \\\n",
       "age       1.000000 -0.017879  0.097783 -0.185513 -0.015655 -0.009120   \n",
       "default  -0.017879  1.000000 -0.066745 -0.006025  0.077234  0.009424   \n",
       "balance   0.097783 -0.066745  1.000000 -0.068768 -0.084350  0.004503   \n",
       "housing  -0.185513 -0.006025 -0.068768  1.000000  0.041323 -0.027982   \n",
       "loan     -0.015655  0.077234 -0.084350  0.041323  1.000000  0.011370   \n",
       "day      -0.009120  0.009424  0.004503 -0.027982  0.011370  1.000000   \n",
       "duration -0.004648 -0.010021  0.021560  0.005075 -0.012412 -0.030206   \n",
       "campaign  0.004760  0.016822 -0.014578 -0.023599  0.009980  0.162490   \n",
       "pdays    -0.023758 -0.029979  0.003435  0.124178 -0.022754 -0.093044   \n",
       "previous  0.001288 -0.018329  0.016674  0.037076 -0.011043 -0.051710   \n",
       "y         0.025155 -0.022419  0.052838 -0.139173 -0.068185 -0.028348   \n",
       "\n",
       "          duration  campaign     pdays  previous         y  \n",
       "age      -0.004648  0.004760 -0.023758  0.001288  0.025155  \n",
       "default  -0.010021  0.016822 -0.029979 -0.018329 -0.022419  \n",
       "balance   0.021560 -0.014578  0.003435  0.016674  0.052838  \n",
       "housing   0.005075 -0.023599  0.124178  0.037076 -0.139173  \n",
       "loan     -0.012412  0.009980 -0.022754 -0.011043 -0.068185  \n",
       "day      -0.030206  0.162490 -0.093044 -0.051710 -0.028348  \n",
       "duration  1.000000 -0.084570 -0.001565  0.001203  0.394521  \n",
       "campaign -0.084570  1.000000 -0.088628 -0.032855 -0.073172  \n",
       "pdays    -0.001565 -0.088628  1.000000  0.454820  0.103621  \n",
       "previous  0.001203 -0.032855  0.454820  1.000000  0.093236  \n",
       "y         0.394521 -0.073172  0.103621  0.093236  1.000000  "
      ]
     },
     "execution_count": 13,
     "metadata": {},
     "output_type": "execute_result"
    }
   ],
   "source": [
    "corr = df.corr()\n",
    "corr"
   ]
  },
  {
   "cell_type": "code",
   "execution_count": 81,
   "metadata": {},
   "outputs": [
    {
     "data": {
      "text/plain": [
       "<matplotlib.axes._subplots.AxesSubplot at 0x7ff6a27cb6a0>"
      ]
     },
     "execution_count": 81,
     "metadata": {},
     "output_type": "execute_result"
    },
    {
     "data": {
      "image/png": "[encoded data removed]",
      "text/plain": [
       "<matplotlib.figure.Figure at 0x7ff6a27d53c8>"
      ]
     },
     "metadata": {},
     "output_type": "display_data"
    }
   ],
   "source": [
    "sns.heatmap(corr, \n",
    "            xticklabels=corr.columns.values,\n",
    "            yticklabels=corr.columns.values)"
   ]
  },
  {
   "cell_type": "markdown",
   "metadata": {},
   "source": [
    "# Análisis de las variables continuas"
   ]
  },
  {
   "cell_type": "code",
   "execution_count": 15,
   "metadata": {},
   "outputs": [
    {
     "data": {
      "text/plain": [
       "<seaborn.axisgrid.FacetGrid at 0x7ff6a5303ba8>"
      ]
     },
     "execution_count": 15,
     "metadata": {},
     "output_type": "execute_result"
    },
    {
     "data": {
      "image/png": "[encoded data removed]",
      "text/plain": [
       "<matplotlib.figure.Figure at 0x7ff6a5303c88>"
      ]
     },
     "metadata": {},
     "output_type": "display_data"
    }
   ],
   "source": [
    "binary_col_list = ['y', 'loan', 'housing', 'default']\n",
    "\n",
    "sns.factorplot(kind='box',\n",
    "               data=df.loc[:, df.columns.difference(binary_col_list)],\n",
    "               size=7,\n",
    "               aspect=1.5,\n",
    "               legend_out=False)"
   ]
  },
  {
   "cell_type": "markdown",
   "metadata": {},
   "source": [
    "## Balance"
   ]
  },
  {
   "cell_type": "code",
   "execution_count": 16,
   "metadata": {},
   "outputs": [
    {
     "data": {
      "text/html": [
       "<div>\n",
       "<style scoped>\n",
       "    .dataframe tbody tr th:only-of-type {\n",
       "        vertical-align: middle;\n",
       "    }\n",
       "\n",
       "    .dataframe tbody tr th {\n",
       "        vertical-align: top;\n",
       "    }\n",
       "\n",
       "    .dataframe thead tr th {\n",
       "        text-align: left;\n",
       "    }\n",
       "\n",
       "    .dataframe thead tr:last-of-type th {\n",
       "        text-align: right;\n",
       "    }\n",
       "</style>\n",
       "<table border=\"1\" class=\"dataframe\">\n",
       "  <thead>\n",
       "    <tr>\n",
       "      <th></th>\n",
       "      <th colspan=\"8\" halign=\"left\">balance</th>\n",
       "    </tr>\n",
       "    <tr>\n",
       "      <th></th>\n",
       "      <th>count</th>\n",
       "      <th>mean</th>\n",
       "      <th>std</th>\n",
       "      <th>min</th>\n",
       "      <th>25%</th>\n",
       "      <th>50%</th>\n",
       "      <th>75%</th>\n",
       "      <th>max</th>\n",
       "    </tr>\n",
       "    <tr>\n",
       "      <th>y</th>\n",
       "      <th></th>\n",
       "      <th></th>\n",
       "      <th></th>\n",
       "      <th></th>\n",
       "      <th></th>\n",
       "      <th></th>\n",
       "      <th></th>\n",
       "      <th></th>\n",
       "    </tr>\n",
       "  </thead>\n",
       "  <tbody>\n",
       "    <tr>\n",
       "      <th>0</th>\n",
       "      <td>39922.0</td>\n",
       "      <td>1303.714969</td>\n",
       "      <td>2974.195473</td>\n",
       "      <td>-8019.0</td>\n",
       "      <td>58.0</td>\n",
       "      <td>417.0</td>\n",
       "      <td>1345.0</td>\n",
       "      <td>102127.0</td>\n",
       "    </tr>\n",
       "    <tr>\n",
       "      <th>1</th>\n",
       "      <td>5289.0</td>\n",
       "      <td>1804.267915</td>\n",
       "      <td>3501.104777</td>\n",
       "      <td>-3058.0</td>\n",
       "      <td>210.0</td>\n",
       "      <td>733.0</td>\n",
       "      <td>2159.0</td>\n",
       "      <td>81204.0</td>\n",
       "    </tr>\n",
       "  </tbody>\n",
       "</table>\n",
       "</div>"
      ],
      "text/plain": [
       "   balance                                                                  \n",
       "     count         mean          std     min    25%    50%     75%       max\n",
       "y                                                                           \n",
       "0  39922.0  1303.714969  2974.195473 -8019.0   58.0  417.0  1345.0  102127.0\n",
       "1   5289.0  1804.267915  3501.104777 -3058.0  210.0  733.0  2159.0   81204.0"
      ]
     },
     "execution_count": 16,
     "metadata": {},
     "output_type": "execute_result"
    }
   ],
   "source": [
    "df[['balance', 'y']].groupby('y').describe()"
   ]
  },
  {
   "cell_type": "code",
   "execution_count": 60,
   "metadata": {
    "scrolled": false
   },
   "outputs": [
    {
     "data": {
      "text/plain": [
       "<matplotlib.legend.Legend at 0x7ff6a38809b0>"
      ]
     },
     "execution_count": 60,
     "metadata": {},
     "output_type": "execute_result"
    },
    {
     "data": {
      "image/png": "[encoded data removed]",
      "text/plain": [
       "<matplotlib.figure.Figure at 0x7ff6a38a64a8>"
      ]
     },
     "metadata": {},
     "output_type": "display_data"
    }
   ],
   "source": [
    "ranges =  [i for i in range(-2000, 10000, 500)]\n",
    "\n",
    "temp = df[['balance', 'y']].groupby([pd.cut(df.balance, ranges, right=False), 'y']).count()\n",
    "temp = temp.groupby(level=1).apply(lambda x: x * 100 / x.sum()).unstack()\n",
    "\n",
    "ax = temp.plot(kind='bar', title =\"Percentage of balance per 'y' group\", legend=True)\n",
    "ax.set_xlabel(\"Balance\", fontsize=12)\n",
    "ax.set_ylabel(\"%\", fontsize=12)\n",
    "ax.legend([\"0\", \"1\"])"
   ]
  },
  {
   "cell_type": "code",
   "execution_count": 74,
   "metadata": {},
   "outputs": [
    {
     "data": {
      "text/plain": [
       "<seaborn.axisgrid.FacetGrid at 0x7ff6a2930470>"
      ]
     },
     "execution_count": 74,
     "metadata": {},
     "output_type": "execute_result"
    },
    {
     "data": {
      "image/png": "[encoded data removed]",
      "text/plain": [
       "<matplotlib.figure.Figure at 0x7ff6a2934518>"
      ]
     },
     "metadata": {},
     "output_type": "display_data"
    }
   ],
   "source": [
    "sns.factorplot(kind='box',\n",
    "               x='y',\n",
    "               y='balance',\n",
    "               data=df,\n",
    "               size=7,\n",
    "               aspect=1.5,\n",
    "               legend_out=False)"
   ]
  },
  {
   "cell_type": "markdown",
   "metadata": {},
   "source": [
    "## Duration"
   ]
  },
  {
   "cell_type": "code",
   "execution_count": 19,
   "metadata": {},
   "outputs": [
    {
     "data": {
      "text/html": [
       "<div>\n",
       "<style scoped>\n",
       "    .dataframe tbody tr th:only-of-type {\n",
       "        vertical-align: middle;\n",
       "    }\n",
       "\n",
       "    .dataframe tbody tr th {\n",
       "        vertical-align: top;\n",
       "    }\n",
       "\n",
       "    .dataframe thead tr th {\n",
       "        text-align: left;\n",
       "    }\n",
       "\n",
       "    .dataframe thead tr:last-of-type th {\n",
       "        text-align: right;\n",
       "    }\n",
       "</style>\n",
       "<table border=\"1\" class=\"dataframe\">\n",
       "  <thead>\n",
       "    <tr>\n",
       "      <th></th>\n",
       "      <th colspan=\"8\" halign=\"left\">duration</th>\n",
       "    </tr>\n",
       "    <tr>\n",
       "      <th></th>\n",
       "      <th>count</th>\n",
       "      <th>mean</th>\n",
       "      <th>std</th>\n",
       "      <th>min</th>\n",
       "      <th>25%</th>\n",
       "      <th>50%</th>\n",
       "      <th>75%</th>\n",
       "      <th>max</th>\n",
       "    </tr>\n",
       "    <tr>\n",
       "      <th>y</th>\n",
       "      <th></th>\n",
       "      <th></th>\n",
       "      <th></th>\n",
       "      <th></th>\n",
       "      <th></th>\n",
       "      <th></th>\n",
       "      <th></th>\n",
       "      <th></th>\n",
       "    </tr>\n",
       "  </thead>\n",
       "  <tbody>\n",
       "    <tr>\n",
       "      <th>0</th>\n",
       "      <td>39922.0</td>\n",
       "      <td>221.182806</td>\n",
       "      <td>207.383237</td>\n",
       "      <td>0.0</td>\n",
       "      <td>95.0</td>\n",
       "      <td>164.0</td>\n",
       "      <td>279.0</td>\n",
       "      <td>4918.0</td>\n",
       "    </tr>\n",
       "    <tr>\n",
       "      <th>1</th>\n",
       "      <td>5289.0</td>\n",
       "      <td>537.294574</td>\n",
       "      <td>392.525262</td>\n",
       "      <td>8.0</td>\n",
       "      <td>244.0</td>\n",
       "      <td>426.0</td>\n",
       "      <td>725.0</td>\n",
       "      <td>3881.0</td>\n",
       "    </tr>\n",
       "  </tbody>\n",
       "</table>\n",
       "</div>"
      ],
      "text/plain": [
       "  duration                                                          \n",
       "     count        mean         std  min    25%    50%    75%     max\n",
       "y                                                                   \n",
       "0  39922.0  221.182806  207.383237  0.0   95.0  164.0  279.0  4918.0\n",
       "1   5289.0  537.294574  392.525262  8.0  244.0  426.0  725.0  3881.0"
      ]
     },
     "execution_count": 19,
     "metadata": {},
     "output_type": "execute_result"
    }
   ],
   "source": [
    "df[['duration', 'y']].groupby('y').describe()"
   ]
  },
  {
   "cell_type": "code",
   "execution_count": 61,
   "metadata": {
    "scrolled": false
   },
   "outputs": [
    {
     "data": {
      "text/plain": [
       "<matplotlib.legend.Legend at 0x7ff6a383ab70>"
      ]
     },
     "execution_count": 61,
     "metadata": {},
     "output_type": "execute_result"
    },
    {
     "data": {
      "image/png": "[encoded data removed]",
      "text/plain": [
       "<matplotlib.figure.Figure at 0x7ff6a37f8dd8>"
      ]
     },
     "metadata": {},
     "output_type": "display_data"
    }
   ],
   "source": [
    "ranges =  [i for i in range(min(df.duration), 3000, 150)]\n",
    "\n",
    "temp = df[['duration', 'y']].groupby([pd.cut(df.duration, ranges, right=False), 'y']).count()\n",
    "temp = temp.groupby(level=1).apply(lambda x: x * 100 / x.sum()).unstack()\n",
    "\n",
    "ax = temp.plot(kind='bar', title =\"Percentage of balance per 'y' group\", legend=True)\n",
    "ax.set_xlabel(\"duration\", fontsize=12)\n",
    "ax.set_ylabel(\"%\", fontsize=12)\n",
    "ax.legend([\"0\", \"1\"])"
   ]
  },
  {
   "cell_type": "code",
   "execution_count": 75,
   "metadata": {},
   "outputs": [
    {
     "data": {
      "text/plain": [
       "<seaborn.axisgrid.FacetGrid at 0x7ff6a2949f28>"
      ]
     },
     "execution_count": 75,
     "metadata": {},
     "output_type": "execute_result"
    },
    {
     "data": {
      "image/png": "[encoded data removed]",
      "text/plain": [
       "<matplotlib.figure.Figure at 0x7ff6a3a172e8>"
      ]
     },
     "metadata": {},
     "output_type": "display_data"
    }
   ],
   "source": [
    "sns.factorplot(kind='box',\n",
    "               x='y',\n",
    "               y='duration',\n",
    "               data=df,\n",
    "               size=7,\n",
    "               aspect=1.5,\n",
    "               legend_out=False)"
   ]
  },
  {
   "cell_type": "markdown",
   "metadata": {},
   "source": [
    "## pdays and previous"
   ]
  },
  {
   "cell_type": "code",
   "execution_count": 62,
   "metadata": {},
   "outputs": [
    {
     "data": {
      "text/plain": [
       "<matplotlib.legend.Legend at 0x7ff6a2cc14e0>"
      ]
     },
     "execution_count": 62,
     "metadata": {},
     "output_type": "execute_result"
    },
    {
     "data": {
      "image/png": "[encoded data removed]",
      "text/plain": [
       "<matplotlib.figure.Figure at 0x7ff6a2d0cd30>"
      ]
     },
     "metadata": {},
     "output_type": "display_data"
    }
   ],
   "source": [
    "ranges =  [i for i in range(min(df.pdays), 500, 50)]\n",
    "\n",
    "temp = df[['pdays', 'y']].groupby([pd.cut(df.pdays, ranges, right=False), 'y']).count()\n",
    "temp = temp.groupby(level=1).apply(lambda x: x * 100 / x.sum()).unstack()\n",
    "\n",
    "ax = temp.plot(kind='bar', title =\"Percentage of balance per 'y' group\", legend=True)\n",
    "ax.set_xlabel(\"Balance\", fontsize=12)\n",
    "ax.set_ylabel(\"%\", fontsize=12)\n",
    "ax.legend([\"0\", \"1\"])"
   ]
  },
  {
   "cell_type": "code",
   "execution_count": 76,
   "metadata": {},
   "outputs": [
    {
     "data": {
      "text/plain": [
       "<seaborn.axisgrid.FacetGrid at 0x7ff6a28bfc50>"
      ]
     },
     "execution_count": 76,
     "metadata": {},
     "output_type": "execute_result"
    },
    {
     "data": {
      "image/png": "[encoded data removed]",
      "text/plain": [
       "<matplotlib.figure.Figure at 0x7ff6a28bfe48>"
      ]
     },
     "metadata": {},
     "output_type": "display_data"
    }
   ],
   "source": [
    "sns.factorplot(kind='box',\n",
    "               x='y',\n",
    "               y='pdays',\n",
    "               data=df,\n",
    "               size=7,\n",
    "               aspect=1.5,\n",
    "               legend_out=False)"
   ]
  },
  {
   "cell_type": "code",
   "execution_count": 65,
   "metadata": {},
   "outputs": [
    {
     "data": {
      "text/plain": [
       "<matplotlib.legend.Legend at 0x7ff6a2c52cc0>"
      ]
     },
     "execution_count": 65,
     "metadata": {},
     "output_type": "execute_result"
    },
    {
     "data": {
      "image/png": "[encoded data removed]",
      "text/plain": [
       "<matplotlib.figure.Figure at 0x7ff6a2c52c50>"
      ]
     },
     "metadata": {},
     "output_type": "display_data"
    }
   ],
   "source": [
    "ranges =  [i for i in range(min(df.previous), 10, 1)]\n",
    "\n",
    "temp = df[['previous', 'y']].groupby([pd.cut(df.previous, ranges, right=False), 'y']).count()\n",
    "temp = temp.groupby(level=1).apply(lambda x: x * 100 / x.sum()).unstack()\n",
    "\n",
    "ax = temp.plot(kind='bar', title =\"Percentage of balance per 'y' group\", legend=True)\n",
    "ax.set_xlabel(\"Balance\", fontsize=12)\n",
    "ax.set_ylabel(\"%\", fontsize=12)\n",
    "ax.legend([\"0\", \"1\"])"
   ]
  },
  {
   "cell_type": "code",
   "execution_count": 77,
   "metadata": {},
   "outputs": [
    {
     "data": {
      "text/plain": [
       "<seaborn.axisgrid.FacetGrid at 0x7ff6a28da7b8>"
      ]
     },
     "execution_count": 77,
     "metadata": {},
     "output_type": "execute_result"
    },
    {
     "data": {
      "image/png": "[encoded data removed]",
      "text/plain": [
       "<matplotlib.figure.Figure at 0x7ff6a28992e8>"
      ]
     },
     "metadata": {},
     "output_type": "display_data"
    }
   ],
   "source": [
    "sns.factorplot(kind='box',\n",
    "               x='y',\n",
    "               y='previous',\n",
    "               data=df,\n",
    "               size=7,\n",
    "               aspect=1.5,\n",
    "               legend_out=False)"
   ]
  },
  {
   "cell_type": "markdown",
   "metadata": {},
   "source": [
    "## campaign, day y age"
   ]
  },
  {
   "cell_type": "code",
   "execution_count": 73,
   "metadata": {},
   "outputs": [
    {
     "data": {
      "text/plain": [
       "<matplotlib.legend.Legend at 0x7ff6a29635f8>"
      ]
     },
     "execution_count": 73,
     "metadata": {},
     "output_type": "execute_result"
    },
    {
     "data": {
      "image/png": "[encoded data removed]",
      "text/plain": [
       "<matplotlib.figure.Figure at 0x7ff6a2963c88>"
      ]
     },
     "metadata": {},
     "output_type": "display_data"
    }
   ],
   "source": [
    "ranges =  [i for i in range(min(df.campaign), 30, 2)]\n",
    "\n",
    "temp = df[['campaign', 'y']].groupby([pd.cut(df.campaign, ranges, right=False), 'y']).count()\n",
    "temp = temp.groupby(level=1).apply(lambda x: x * 100 / x.sum()).unstack()\n",
    "\n",
    "ax = temp.plot(kind='bar', title =\"Percentage of balance per 'y' group\", legend=True)\n",
    "ax.set_xlabel(\"Balance\", fontsize=12)\n",
    "ax.set_ylabel(\"%\", fontsize=12)\n",
    "ax.legend([\"0\", \"1\"])"
   ]
  },
  {
   "cell_type": "code",
   "execution_count": 78,
   "metadata": {},
   "outputs": [
    {
     "data": {
      "text/plain": [
       "<seaborn.axisgrid.FacetGrid at 0x7ff6a28705c0>"
      ]
     },
     "execution_count": 78,
     "metadata": {},
     "output_type": "execute_result"
    },
    {
     "data": {
      "image/png": "[encoded data removed]",
      "text/plain": [
       "<matplotlib.figure.Figure at 0x7ff6a283d4e0>"
      ]
     },
     "metadata": {},
     "output_type": "display_data"
    }
   ],
   "source": [
    "sns.factorplot(kind='box',\n",
    "               x='y',\n",
    "               y='campaign',\n",
    "               data=df,\n",
    "               size=7,\n",
    "               aspect=1.5,\n",
    "               legend_out=False)"
   ]
  },
  {
   "cell_type": "code",
   "execution_count": 79,
   "metadata": {},
   "outputs": [
    {
     "data": {
      "text/plain": [
       "<seaborn.axisgrid.FacetGrid at 0x7ff6a27f4da0>"
      ]
     },
     "execution_count": 79,
     "metadata": {},
     "output_type": "execute_result"
    },
    {
     "data": {
      "image/png": "[encoded data removed]",
      "text/plain": [
       "<matplotlib.figure.Figure at 0x7ff6a27f49b0>"
      ]
     },
     "metadata": {},
     "output_type": "display_data"
    }
   ],
   "source": [
    "sns.factorplot(kind='box',\n",
    "               x='y',\n",
    "               y='day',\n",
    "               data=df,\n",
    "               size=7,\n",
    "               aspect=1.5,\n",
    "               legend_out=False)"
   ]
  },
  {
   "cell_type": "code",
   "execution_count": 80,
   "metadata": {},
   "outputs": [
    {
     "data": {
      "text/plain": [
       "<seaborn.axisgrid.FacetGrid at 0x7ff6a28c8a90>"
      ]
     },
     "execution_count": 80,
     "metadata": {},
     "output_type": "execute_result"
    },
    {
     "data": {
      "image/png": "[encoded data removed]",
      "text/plain": [
       "<matplotlib.figure.Figure at 0x7ff6a2817080>"
      ]
     },
     "metadata": {},
     "output_type": "display_data"
    }
   ],
   "source": [
    "sns.factorplot(kind='box',\n",
    "               x='y',\n",
    "               y='age',\n",
    "               data=df,\n",
    "               size=7,\n",
    "               aspect=1.5,\n",
    "               legend_out=False)"
   ]
  },
  {
   "cell_type": "markdown",
   "metadata": {},
   "source": [
    "# Análisis de variables categóricas"
   ]
  },
  {
   "cell_type": "code",
   "execution_count": null,
   "metadata": {},
   "outputs": [],
   "source": []
  },
  {
   "cell_type": "code",
   "execution_count": null,
   "metadata": {},
   "outputs": [],
   "source": []
  },
  {
   "cell_type": "code",
   "execution_count": null,
   "metadata": {},
   "outputs": [],
   "source": []
  },
  {
   "cell_type": "code",
   "execution_count": null,
   "metadata": {},
   "outputs": [],
   "source": []
  },
  {
   "cell_type": "markdown",
   "metadata": {},
   "source": [
    "# Selección del conjunto de datos final"
   ]
  },
  {
   "cell_type": "markdown",
   "metadata": {},
   "source": [
    "Borrar variables **age**, **day**, **campaign**"
   ]
  },
  {
   "cell_type": "code",
   "execution_count": 17,
   "metadata": {},
   "outputs": [],
   "source": [
    "df_dummies = pd.get_dummies(df)"
   ]
  },
  {
   "cell_type": "code",
   "execution_count": 18,
   "metadata": {},
   "outputs": [
    {
     "data": {
      "text/plain": [
       "(45211, 49)"
      ]
     },
     "execution_count": 18,
     "metadata": {},
     "output_type": "execute_result"
    }
   ],
   "source": [
    "df_dummies.shape"
   ]
  },
  {
   "cell_type": "markdown",
   "metadata": {},
   "source": [
    "# Separación de datos de entrenamiento y prueba"
   ]
  },
  {
   "cell_type": "code",
   "execution_count": 10,
   "metadata": {},
   "outputs": [],
   "source": [
    "from sklearn.model_selection import train_test_split"
   ]
  },
  {
   "cell_type": "code",
   "execution_count": 21,
   "metadata": {},
   "outputs": [],
   "source": [
    "df_X = df_dummies.loc[:, df_dummies.columns != 'y'].copy()\n",
    "df_y = df_dummies.y.copy()\n",
    "\n",
    "TEST_SIZE = 0.3\n",
    "\n",
    "X_train, X_test, y_train, y_test = train_test_split(df_X, df_y,\n",
    "                                                    test_size = TEST_SIZE, random_state = 42)"
   ]
  },
  {
   "cell_type": "code",
   "execution_count": 22,
   "metadata": {},
   "outputs": [
    {
     "name": "stdout",
     "output_type": "stream",
     "text": [
      "X_train: (31647, 48)\n",
      "X_test:  (13564, 48)\n",
      "y_train: (31647,)\n",
      "y_test:  (13564,)\n"
     ]
    }
   ],
   "source": [
    "print(\"X_train: \" + str(X_train.shape))\n",
    "print(\"X_test:  \" + str(X_test.shape))\n",
    "print(\"y_train: \" + str(y_train.shape))\n",
    "print(\"y_test:  \" + str(y_test.shape))"
   ]
  },
  {
   "cell_type": "markdown",
   "metadata": {},
   "source": [
    "# K-Nearest Neighbors Classifier"
   ]
  },
  {
   "cell_type": "code",
   "execution_count": 13,
   "metadata": {},
   "outputs": [],
   "source": [
    "from sklearn.neighbors import KNeighborsClassifier"
   ]
  },
  {
   "cell_type": "code",
   "execution_count": 23,
   "metadata": {
    "scrolled": false
   },
   "outputs": [
    {
     "ename": "KeyboardInterrupt",
     "evalue": "",
     "output_type": "error",
     "traceback": [
      "\u001b[0;31m---------------------------------------------------------------------------\u001b[0m",
      "\u001b[0;31mKeyboardInterrupt\u001b[0m                         Traceback (most recent call last)",
      "\u001b[0;32m<ipython-input-23-ac404c68b011>\u001b[0m in \u001b[0;36m<module>\u001b[0;34m()\u001b[0m\n\u001b[1;32m     15\u001b[0m \u001b[0;34m\u001b[0m\u001b[0m\n\u001b[1;32m     16\u001b[0m \u001b[0mgs_knn_class\u001b[0m \u001b[0;34m=\u001b[0m \u001b[0mGridSearchCV\u001b[0m\u001b[0;34m(\u001b[0m\u001b[0mpipe\u001b[0m\u001b[0;34m,\u001b[0m \u001b[0mparam_grid\u001b[0m\u001b[0;34m=\u001b[0m\u001b[0mparams\u001b[0m\u001b[0;34m,\u001b[0m \u001b[0mcv\u001b[0m\u001b[0;34m=\u001b[0m\u001b[0mkfold\u001b[0m\u001b[0;34m,\u001b[0m \u001b[0mn_jobs\u001b[0m\u001b[0;34m=\u001b[0m\u001b[0;34m-\u001b[0m\u001b[0;36m1\u001b[0m\u001b[0;34m)\u001b[0m\u001b[0;34m\u001b[0m\u001b[0m\n\u001b[0;32m---> 17\u001b[0;31m \u001b[0mgs_knn_class\u001b[0m\u001b[0;34m.\u001b[0m\u001b[0mfit\u001b[0m\u001b[0;34m(\u001b[0m\u001b[0mX_train\u001b[0m\u001b[0;34m,\u001b[0m \u001b[0my_train\u001b[0m\u001b[0;34m)\u001b[0m\u001b[0;34m\u001b[0m\u001b[0m\n\u001b[0m\u001b[1;32m     18\u001b[0m \u001b[0;34m\u001b[0m\u001b[0m\n\u001b[1;32m     19\u001b[0m \u001b[0my_pred_gs_knn_class\u001b[0m \u001b[0;34m=\u001b[0m \u001b[0mgs_knn_class\u001b[0m\u001b[0;34m.\u001b[0m\u001b[0mpredict\u001b[0m\u001b[0;34m(\u001b[0m\u001b[0mX_test\u001b[0m\u001b[0;34m)\u001b[0m\u001b[0;34m\u001b[0m\u001b[0m\n",
      "\u001b[0;32m~/.virtualenvs/MADM/lib/python3.5/site-packages/sklearn/model_selection/_search.py\u001b[0m in \u001b[0;36mfit\u001b[0;34m(self, X, y, groups, **fit_params)\u001b[0m\n\u001b[1;32m    637\u001b[0m                                   error_score=self.error_score)\n\u001b[1;32m    638\u001b[0m           for parameters, (train, test) in product(candidate_params,\n\u001b[0;32m--> 639\u001b[0;31m                                                    cv.split(X, y, groups)))\n\u001b[0m\u001b[1;32m    640\u001b[0m \u001b[0;34m\u001b[0m\u001b[0m\n\u001b[1;32m    641\u001b[0m         \u001b[0;31m# if one choose to see train score, \"out\" will contain train score info\u001b[0m\u001b[0;34m\u001b[0m\u001b[0;34m\u001b[0m\u001b[0m\n",
      "\u001b[0;32m~/.virtualenvs/MADM/lib/python3.5/site-packages/sklearn/externals/joblib/parallel.py\u001b[0m in \u001b[0;36m__call__\u001b[0;34m(self, iterable)\u001b[0m\n\u001b[1;32m    787\u001b[0m                 \u001b[0;31m# consumption.\u001b[0m\u001b[0;34m\u001b[0m\u001b[0;34m\u001b[0m\u001b[0m\n\u001b[1;32m    788\u001b[0m                 \u001b[0mself\u001b[0m\u001b[0;34m.\u001b[0m\u001b[0m_iterating\u001b[0m \u001b[0;34m=\u001b[0m \u001b[0;32mFalse\u001b[0m\u001b[0;34m\u001b[0m\u001b[0m\n\u001b[0;32m--> 789\u001b[0;31m             \u001b[0mself\u001b[0m\u001b[0;34m.\u001b[0m\u001b[0mretrieve\u001b[0m\u001b[0;34m(\u001b[0m\u001b[0;34m)\u001b[0m\u001b[0;34m\u001b[0m\u001b[0m\n\u001b[0m\u001b[1;32m    790\u001b[0m             \u001b[0;31m# Make sure that we get a last message telling us we are done\u001b[0m\u001b[0;34m\u001b[0m\u001b[0;34m\u001b[0m\u001b[0m\n\u001b[1;32m    791\u001b[0m             \u001b[0melapsed_time\u001b[0m \u001b[0;34m=\u001b[0m \u001b[0mtime\u001b[0m\u001b[0;34m.\u001b[0m\u001b[0mtime\u001b[0m\u001b[0;34m(\u001b[0m\u001b[0;34m)\u001b[0m \u001b[0;34m-\u001b[0m \u001b[0mself\u001b[0m\u001b[0;34m.\u001b[0m\u001b[0m_start_time\u001b[0m\u001b[0;34m\u001b[0m\u001b[0m\n",
      "\u001b[0;32m~/.virtualenvs/MADM/lib/python3.5/site-packages/sklearn/externals/joblib/parallel.py\u001b[0m in \u001b[0;36mretrieve\u001b[0;34m(self)\u001b[0m\n\u001b[1;32m    697\u001b[0m             \u001b[0;32mtry\u001b[0m\u001b[0;34m:\u001b[0m\u001b[0;34m\u001b[0m\u001b[0m\n\u001b[1;32m    698\u001b[0m                 \u001b[0;32mif\u001b[0m \u001b[0mgetattr\u001b[0m\u001b[0;34m(\u001b[0m\u001b[0mself\u001b[0m\u001b[0;34m.\u001b[0m\u001b[0m_backend\u001b[0m\u001b[0;34m,\u001b[0m \u001b[0;34m'supports_timeout'\u001b[0m\u001b[0;34m,\u001b[0m \u001b[0;32mFalse\u001b[0m\u001b[0;34m)\u001b[0m\u001b[0;34m:\u001b[0m\u001b[0;34m\u001b[0m\u001b[0m\n\u001b[0;32m--> 699\u001b[0;31m                     \u001b[0mself\u001b[0m\u001b[0;34m.\u001b[0m\u001b[0m_output\u001b[0m\u001b[0;34m.\u001b[0m\u001b[0mextend\u001b[0m\u001b[0;34m(\u001b[0m\u001b[0mjob\u001b[0m\u001b[0;34m.\u001b[0m\u001b[0mget\u001b[0m\u001b[0;34m(\u001b[0m\u001b[0mtimeout\u001b[0m\u001b[0;34m=\u001b[0m\u001b[0mself\u001b[0m\u001b[0;34m.\u001b[0m\u001b[0mtimeout\u001b[0m\u001b[0;34m)\u001b[0m\u001b[0;34m)\u001b[0m\u001b[0;34m\u001b[0m\u001b[0m\n\u001b[0m\u001b[1;32m    700\u001b[0m                 \u001b[0;32melse\u001b[0m\u001b[0;34m:\u001b[0m\u001b[0;34m\u001b[0m\u001b[0m\n\u001b[1;32m    701\u001b[0m                     \u001b[0mself\u001b[0m\u001b[0;34m.\u001b[0m\u001b[0m_output\u001b[0m\u001b[0;34m.\u001b[0m\u001b[0mextend\u001b[0m\u001b[0;34m(\u001b[0m\u001b[0mjob\u001b[0m\u001b[0;34m.\u001b[0m\u001b[0mget\u001b[0m\u001b[0;34m(\u001b[0m\u001b[0;34m)\u001b[0m\u001b[0;34m)\u001b[0m\u001b[0;34m\u001b[0m\u001b[0m\n",
      "\u001b[0;32m/usr/lib/python3.5/multiprocessing/pool.py\u001b[0m in \u001b[0;36mget\u001b[0;34m(self, timeout)\u001b[0m\n\u001b[1;32m    600\u001b[0m \u001b[0;34m\u001b[0m\u001b[0m\n\u001b[1;32m    601\u001b[0m     \u001b[0;32mdef\u001b[0m \u001b[0mget\u001b[0m\u001b[0;34m(\u001b[0m\u001b[0mself\u001b[0m\u001b[0;34m,\u001b[0m \u001b[0mtimeout\u001b[0m\u001b[0;34m=\u001b[0m\u001b[0;32mNone\u001b[0m\u001b[0;34m)\u001b[0m\u001b[0;34m:\u001b[0m\u001b[0;34m\u001b[0m\u001b[0m\n\u001b[0;32m--> 602\u001b[0;31m         \u001b[0mself\u001b[0m\u001b[0;34m.\u001b[0m\u001b[0mwait\u001b[0m\u001b[0;34m(\u001b[0m\u001b[0mtimeout\u001b[0m\u001b[0;34m)\u001b[0m\u001b[0;34m\u001b[0m\u001b[0m\n\u001b[0m\u001b[1;32m    603\u001b[0m         \u001b[0;32mif\u001b[0m \u001b[0;32mnot\u001b[0m \u001b[0mself\u001b[0m\u001b[0;34m.\u001b[0m\u001b[0mready\u001b[0m\u001b[0;34m(\u001b[0m\u001b[0;34m)\u001b[0m\u001b[0;34m:\u001b[0m\u001b[0;34m\u001b[0m\u001b[0m\n\u001b[1;32m    604\u001b[0m             \u001b[0;32mraise\u001b[0m \u001b[0mTimeoutError\u001b[0m\u001b[0;34m\u001b[0m\u001b[0m\n",
      "\u001b[0;32m/usr/lib/python3.5/multiprocessing/pool.py\u001b[0m in \u001b[0;36mwait\u001b[0;34m(self, timeout)\u001b[0m\n\u001b[1;32m    597\u001b[0m \u001b[0;34m\u001b[0m\u001b[0m\n\u001b[1;32m    598\u001b[0m     \u001b[0;32mdef\u001b[0m \u001b[0mwait\u001b[0m\u001b[0;34m(\u001b[0m\u001b[0mself\u001b[0m\u001b[0;34m,\u001b[0m \u001b[0mtimeout\u001b[0m\u001b[0;34m=\u001b[0m\u001b[0;32mNone\u001b[0m\u001b[0;34m)\u001b[0m\u001b[0;34m:\u001b[0m\u001b[0;34m\u001b[0m\u001b[0m\n\u001b[0;32m--> 599\u001b[0;31m         \u001b[0mself\u001b[0m\u001b[0;34m.\u001b[0m\u001b[0m_event\u001b[0m\u001b[0;34m.\u001b[0m\u001b[0mwait\u001b[0m\u001b[0;34m(\u001b[0m\u001b[0mtimeout\u001b[0m\u001b[0;34m)\u001b[0m\u001b[0;34m\u001b[0m\u001b[0m\n\u001b[0m\u001b[1;32m    600\u001b[0m \u001b[0;34m\u001b[0m\u001b[0m\n\u001b[1;32m    601\u001b[0m     \u001b[0;32mdef\u001b[0m \u001b[0mget\u001b[0m\u001b[0;34m(\u001b[0m\u001b[0mself\u001b[0m\u001b[0;34m,\u001b[0m \u001b[0mtimeout\u001b[0m\u001b[0;34m=\u001b[0m\u001b[0;32mNone\u001b[0m\u001b[0;34m)\u001b[0m\u001b[0;34m:\u001b[0m\u001b[0;34m\u001b[0m\u001b[0m\n",
      "\u001b[0;32m/usr/lib/python3.5/threading.py\u001b[0m in \u001b[0;36mwait\u001b[0;34m(self, timeout)\u001b[0m\n\u001b[1;32m    547\u001b[0m             \u001b[0msignaled\u001b[0m \u001b[0;34m=\u001b[0m \u001b[0mself\u001b[0m\u001b[0;34m.\u001b[0m\u001b[0m_flag\u001b[0m\u001b[0;34m\u001b[0m\u001b[0m\n\u001b[1;32m    548\u001b[0m             \u001b[0;32mif\u001b[0m \u001b[0;32mnot\u001b[0m \u001b[0msignaled\u001b[0m\u001b[0;34m:\u001b[0m\u001b[0;34m\u001b[0m\u001b[0m\n\u001b[0;32m--> 549\u001b[0;31m                 \u001b[0msignaled\u001b[0m \u001b[0;34m=\u001b[0m \u001b[0mself\u001b[0m\u001b[0;34m.\u001b[0m\u001b[0m_cond\u001b[0m\u001b[0;34m.\u001b[0m\u001b[0mwait\u001b[0m\u001b[0;34m(\u001b[0m\u001b[0mtimeout\u001b[0m\u001b[0;34m)\u001b[0m\u001b[0;34m\u001b[0m\u001b[0m\n\u001b[0m\u001b[1;32m    550\u001b[0m             \u001b[0;32mreturn\u001b[0m \u001b[0msignaled\u001b[0m\u001b[0;34m\u001b[0m\u001b[0m\n\u001b[1;32m    551\u001b[0m \u001b[0;34m\u001b[0m\u001b[0m\n",
      "\u001b[0;32m/usr/lib/python3.5/threading.py\u001b[0m in \u001b[0;36mwait\u001b[0;34m(self, timeout)\u001b[0m\n\u001b[1;32m    291\u001b[0m         \u001b[0;32mtry\u001b[0m\u001b[0;34m:\u001b[0m    \u001b[0;31m# restore state no matter what (e.g., KeyboardInterrupt)\u001b[0m\u001b[0;34m\u001b[0m\u001b[0m\n\u001b[1;32m    292\u001b[0m             \u001b[0;32mif\u001b[0m \u001b[0mtimeout\u001b[0m \u001b[0;32mis\u001b[0m \u001b[0;32mNone\u001b[0m\u001b[0;34m:\u001b[0m\u001b[0;34m\u001b[0m\u001b[0m\n\u001b[0;32m--> 293\u001b[0;31m                 \u001b[0mwaiter\u001b[0m\u001b[0;34m.\u001b[0m\u001b[0macquire\u001b[0m\u001b[0;34m(\u001b[0m\u001b[0;34m)\u001b[0m\u001b[0;34m\u001b[0m\u001b[0m\n\u001b[0m\u001b[1;32m    294\u001b[0m                 \u001b[0mgotit\u001b[0m \u001b[0;34m=\u001b[0m \u001b[0;32mTrue\u001b[0m\u001b[0;34m\u001b[0m\u001b[0m\n\u001b[1;32m    295\u001b[0m             \u001b[0;32melse\u001b[0m\u001b[0;34m:\u001b[0m\u001b[0;34m\u001b[0m\u001b[0m\n",
      "\u001b[0;31mKeyboardInterrupt\u001b[0m: "
     ]
    }
   ],
   "source": [
    "scaler = StandardScaler()\n",
    "knn_class = KNeighborsClassifier()\n",
    "\n",
    "scaler_step = ('scaler', scaler)\n",
    "knn_class_step = ('knn', knn_class)\n",
    "steps = [scaler_step, knn_class_step]\n",
    "pipe = Pipeline(steps)\n",
    "\n",
    "params = {'knn__n_neighbors': range(2, 10),\n",
    "          'knn__weights': ['uniform', 'distance'],\n",
    "          'knn__algorithm': ['auto', 'kd_tree'],\n",
    "          'knn__p': [1, 2]} # distance metric\n",
    "\n",
    "kfold = StratifiedKFold(n_splits = 5)\n",
    "\n",
    "gs_knn_class = GridSearchCV(pipe, param_grid=params, cv=kfold, n_jobs=-1)\n",
    "gs_knn_class.fit(X_train, y_train)\n",
    "\n",
    "y_pred_gs_knn_class = gs_knn_class.predict(X_test)\n",
    "y_pred_gs_knn_class_proba = gs_knn_class.predict_proba(X_test)\n",
    "\n",
    "print(\"Best params: \", gs_knn_class.best_params_)\n",
    "print('\\n')\n",
    "print(\"ROC Curve: %.2f\" % roc_auc_score(y_true=y_test, y_score=y_pred_gs_knn_class_proba[:, 1]))\n",
    "print('\\n')\n",
    "print(\"Confusion matrix: \\n\", confusion_matrix(y_test, y_pred_gs_knn_class, labels=[1, 0]))\n",
    "print('\\n')\n",
    "print(\"Accuracy:\", accuracy_score(y_test, y_pred_gs_knn_class))\n",
    "print(\"Precision:\", precision_score(y_test, y_pred_gs_knn_class))\n",
    "print(\"Recall:\", recall_score(y_test, y_pred_gs_knn_class))\n",
    "print(\"F1:\", f1_score(y_test, y_pred_gs_knn_class))"
   ]
  },
  {
   "cell_type": "markdown",
   "metadata": {},
   "source": [
    "# Regresión logística"
   ]
  },
  {
   "cell_type": "code",
   "execution_count": 17,
   "metadata": {},
   "outputs": [],
   "source": [
    "from sklearn.linear_model import LogisticRegression"
   ]
  },
  {
   "cell_type": "code",
   "execution_count": 18,
   "metadata": {},
   "outputs": [
    {
     "name": "stdout",
     "output_type": "stream",
     "text": [
      "ROC Curve: 0.97\n",
      "\n",
      "\n",
      "Confusion matrix: \n",
      " [[  95   18]\n",
      " [   1 1955]]\n",
      "\n",
      "\n",
      "Accuracy: 0.99081681972\n",
      "Precision: 0.989583333333\n",
      "Recall: 0.840707964602\n",
      "F1: 0.909090909091\n",
      "\n",
      "\n",
      "Log loss: 0.0441987943402\n"
     ]
    }
   ],
   "source": [
    "scaler = StandardScaler()\n",
    "class_LR = LogisticRegression()\n",
    "\n",
    "scaler_step = ('scaler', scaler)\n",
    "class_LR_step = ('class_LR', class_LR)\n",
    "steps = [scaler_step, class_LR_step]\n",
    "pipe = Pipeline(steps)\n",
    "\n",
    "pipe.fit(X_train, y_train)\n",
    "\n",
    "y_pred_LR = pipe.predict(X_test)\n",
    "y_pred_LR_proba = pipe.predict_proba(X_test)\n",
    "\n",
    "print(\"ROC Curve: %.2f\" % roc_auc_score(y_true=y_test, y_score=y_pred_LR_proba[:, 1]))\n",
    "print('\\n')\n",
    "print(\"Confusion matrix: \\n\", confusion_matrix(y_test, y_pred_LR, labels=[1, 0]))\n",
    "print('\\n')\n",
    "print(\"Accuracy:\", accuracy_score(y_test, y_pred_LR))\n",
    "print(\"Precision:\", precision_score(y_test, y_pred_LR))\n",
    "print(\"Recall:\", recall_score(y_test, y_pred_LR))\n",
    "print(\"F1:\", f1_score(y_test, y_pred_LR))\n",
    "print('\\n')\n",
    "print(\"Log loss:\", log_loss(y_test, y_pred_LR_proba[:, 1]))"
   ]
  },
  {
   "cell_type": "markdown",
   "metadata": {},
   "source": [
    "# Árbol de decisión"
   ]
  },
  {
   "cell_type": "code",
   "execution_count": 19,
   "metadata": {},
   "outputs": [],
   "source": [
    "from sklearn.tree import DecisionTreeClassifier"
   ]
  },
  {
   "cell_type": "markdown",
   "metadata": {},
   "source": [
    "### 6.1 Árbol de decisión básico <a class=\"anchor\" id=\"arbol-decision-basico\"></a>"
   ]
  },
  {
   "cell_type": "markdown",
   "metadata": {},
   "source": [
    "Creamos un modelo con un árbol de decisión sin modificar ningún parámetro:"
   ]
  },
  {
   "cell_type": "code",
   "execution_count": 20,
   "metadata": {},
   "outputs": [
    {
     "name": "stdout",
     "output_type": "stream",
     "text": [
      "ROC Curve: 0.91\n",
      "\n",
      "\n",
      "Confusion matrix: \n",
      " [[  95   18]\n",
      " [  23 1933]]\n",
      "\n",
      "\n",
      "Accuracy: 0.980183663606\n",
      "Precision: 0.805084745763\n",
      "Recall: 0.840707964602\n",
      "F1: 0.822510822511\n"
     ]
    }
   ],
   "source": [
    "scaler = StandardScaler()\n",
    "class_DT = DecisionTreeClassifier()\n",
    "\n",
    "scaler_step = ('scaler', scaler)\n",
    "class_DT_step = ('class_DT', class_DT)\n",
    "steps = [scaler_step, class_DT_step]\n",
    "pipe = Pipeline(steps)\n",
    "\n",
    "pipe.fit(X_train, y_train)\n",
    "\n",
    "y_pred_class_DT = pipe.predict(X_test)\n",
    "y_pred_class_DT_proba = pipe.predict_proba(X_test)\n",
    "\n",
    "print(\"ROC Curve: %.2f\" % roc_auc_score(y_true=y_test, y_score=y_pred_class_DT_proba[:, 1]))\n",
    "print('\\n')\n",
    "print(\"Confusion matrix: \\n\", confusion_matrix(y_test, y_pred_class_DT, labels=[1, 0]))\n",
    "print('\\n')\n",
    "print(\"Accuracy:\", accuracy_score(y_test, y_pred_class_DT))\n",
    "print(\"Precision:\", precision_score(y_test, y_pred_class_DT))\n",
    "print(\"Recall:\", recall_score(y_test, y_pred_class_DT))\n",
    "print(\"F1:\", f1_score(y_test, y_pred_class_DT))"
   ]
  },
  {
   "cell_type": "markdown",
   "metadata": {},
   "source": [
    "### 6.2 Árbol de decisión mediante GridSearchCV <a class=\"anchor\" id=\"arbol-decision-gs\"></a>"
   ]
  },
  {
   "cell_type": "markdown",
   "metadata": {},
   "source": [
    "Para ver si mejora un modelo basado en árboles de decisión, utilizamos la función de **GridSearchCV** para modificar los parámetros."
   ]
  },
  {
   "cell_type": "code",
   "execution_count": 21,
   "metadata": {},
   "outputs": [
    {
     "name": "stdout",
     "output_type": "stream",
     "text": [
      "Best params:  {'class_DT__max_depth': 3, 'class_DT__criterion': 'entropy', 'class_DT__min_samples_leaf': 2, 'class_DT__min_samples_split': 2}\n",
      "\n",
      "\n",
      "ROC Curve: 0.95\n",
      "\n",
      "\n",
      "Confusion matrix: \n",
      " [[  94   19]\n",
      " [   3 1953]]\n",
      "\n",
      "\n",
      "Accuracy: 0.989366843886\n",
      "Precision: 0.969072164948\n",
      "Recall: 0.83185840708\n",
      "F1: 0.895238095238\n"
     ]
    }
   ],
   "source": [
    "scaler = StandardScaler()\n",
    "class_DT = DecisionTreeClassifier()\n",
    "\n",
    "scaler_step = ('scaler', scaler)\n",
    "class_DT_step = ('class_DT', class_DT)\n",
    "\n",
    "steps = [scaler_step, class_DT_step]\n",
    "\n",
    "pipe = Pipeline(steps)\n",
    "\n",
    "params = {'class_DT__max_depth': range(1, 8),\n",
    "          'class_DT__min_samples_split': range(2, 10),\n",
    "          'class_DT__min_samples_leaf': range(2, 10),\n",
    "          'class_DT__criterion': ['gini', 'entropy']}\n",
    "\n",
    "kfold = StratifiedKFold(n_splits = 5)\n",
    "\n",
    "gs_class_DT = GridSearchCV(pipe, param_grid=params, cv=kfold, n_jobs=-1)\n",
    "gs_class_DT.fit(X_train, y_train)\n",
    "\n",
    "y_pred_gs_class_DT = gs_class_DT.predict(X_test)\n",
    "y_pred_gs_class_DT_proba = gs_class_DT.predict_proba(X_test)\n",
    "\n",
    "print(\"Best params: \", gs_class_DT.best_params_)\n",
    "print('\\n')\n",
    "print(\"ROC Curve: %.2f\" % roc_auc_score(y_true=y_test, y_score=y_pred_gs_class_DT_proba[:, 1]))\n",
    "print('\\n')\n",
    "print(\"Confusion matrix: \\n\", confusion_matrix(y_test, y_pred_gs_class_DT, labels=[1, 0]))\n",
    "print('\\n')\n",
    "print(\"Accuracy:\", accuracy_score(y_test, y_pred_gs_class_DT))\n",
    "print(\"Precision:\", precision_score(y_test, y_pred_gs_class_DT))\n",
    "print(\"Recall:\", recall_score(y_test, y_pred_gs_class_DT))\n",
    "print(\"F1:\", f1_score(y_test, y_pred_gs_class_DT))"
   ]
  },
  {
   "cell_type": "markdown",
   "metadata": {},
   "source": [
    "Observamos que la métrica ROC Curve ha pasado de un 0.92 a un 0.95, usando una profundidad de 3, lo que quiere decir que usa pocas variables para crear el árbol."
   ]
  },
  {
   "cell_type": "markdown",
   "metadata": {},
   "source": [
    "### 6.3 Visualización de las variables más importantes <a class=\"anchor\" id=\"arbol-decision-visualizacion\"></a>"
   ]
  },
  {
   "cell_type": "code",
   "execution_count": 22,
   "metadata": {},
   "outputs": [
    {
     "data": {
      "text/plain": [
       "DecisionTreeClassifier(class_weight=None, criterion='entropy', max_depth=3,\n",
       "            max_features=None, max_leaf_nodes=None,\n",
       "            min_impurity_decrease=0.0, min_impurity_split=None,\n",
       "            min_samples_leaf=2, min_samples_split=2,\n",
       "            min_weight_fraction_leaf=0.0, presort=False, random_state=None,\n",
       "            splitter='best')"
      ]
     },
     "execution_count": 22,
     "metadata": {},
     "output_type": "execute_result"
    }
   ],
   "source": [
    "class_DT = DecisionTreeClassifier(max_depth = gs_class_DT.best_params_['class_DT__max_depth'],\n",
    "                                  min_samples_leaf = gs_class_DT.best_params_['class_DT__min_samples_leaf'],\n",
    "                                  min_samples_split = gs_class_DT.best_params_['class_DT__min_samples_split'],\n",
    "                                  criterion = gs_class_DT.best_params_['class_DT__criterion'])\n",
    "class_DT.fit(X_train, y_train)"
   ]
  },
  {
   "cell_type": "code",
   "execution_count": 23,
   "metadata": {},
   "outputs": [
    {
     "data": {
      "text/plain": [
       "<matplotlib.axes._subplots.AxesSubplot at 0x7fc73d2e12e8>"
      ]
     },
     "execution_count": 23,
     "metadata": {},
     "output_type": "execute_result"
    },
    {
     "data": {
      "image/png": "[encoded data removed]",
      "text/plain": [
       "<matplotlib.figure.Figure at 0x7fc73d2e17b8>"
      ]
     },
     "metadata": {},
     "output_type": "display_data"
    }
   ],
   "source": [
    "feat = pd.DataFrame(index=X_train.keys(), data=class_DT.feature_importances_, columns=['score'])\n",
    "feat = feat.sort_values(by='score', ascending=False)\n",
    "\n",
    "feat[:10].plot(kind='bar', rot=80)"
   ]
  },
  {
   "cell_type": "markdown",
   "metadata": {},
   "source": [
    "Como hemos dicho anteriormente, este modelo usa pocas variables para crear el árbol. En concreto usa 5, teniendo como la más importante **V14**."
   ]
  },
  {
   "cell_type": "markdown",
   "metadata": {},
   "source": [
    "### 6.4 Visualización del árbol final <a class=\"anchor\" id=\"arbol-decision-final\"></a>"
   ]
  },
  {
   "cell_type": "code",
   "execution_count": 24,
   "metadata": {},
   "outputs": [
    {
     "data": {
      "image/svg+xml": [
       "<?xml version=\"1.0\" encoding=\"UTF-8\" standalone=\"no\"?>\n",
       "<!DOCTYPE svg PUBLIC \"-//W3C//DTD SVG 1.1//EN\"\n",
       " \"http://www.w3.org/Graphics/SVG/1.1/DTD/svg11.dtd\">\n",
       "<!-- Generated by graphviz version 2.38.0 (20140413.2041)\n",
       " -->\n",
       "<!-- Title: Tree Pages: 1 -->\n",
       "<svg width=\"776pt\" height=\"373pt\"\n",
       " viewBox=\"0.00 0.00 776.00 373.00\" xmlns=\"http://www.w3.org/2000/svg\" xmlns:xlink=\"http://www.w3.org/1999/xlink\">\n",
       "<g id=\"graph0\" class=\"graph\" transform=\"scale(1 1) rotate(0) translate(4 369)\">\n",
       "<title>Tree</title>\n",
       "<polygon fill=\"white\" stroke=\"none\" points=\"-4,4 -4,-369 772,-369 772,4 -4,4\"/>\n",
       "<!-- 0 -->\n",
       "<g id=\"node1\" class=\"node\"><title>0</title>\n",
       "<path fill=\"#e58139\" fill-opacity=\"0.952941\" stroke=\"black\" d=\"M431.5,-365C431.5,-365 323.5,-365 323.5,-365 317.5,-365 311.5,-359 311.5,-353 311.5,-353 311.5,-309 311.5,-309 311.5,-303 317.5,-297 323.5,-297 323.5,-297 431.5,-297 431.5,-297 437.5,-297 443.5,-303 443.5,-309 443.5,-309 443.5,-353 443.5,-353 443.5,-359 437.5,-365 431.5,-365\"/>\n",
       "<text text-anchor=\"middle\" x=\"377.5\" y=\"-349.8\" font-family=\"Helvetica,sans-Serif\" font-size=\"14.00\">V14 &lt;= &#45;3.407</text>\n",
       "<text text-anchor=\"middle\" x=\"377.5\" y=\"-334.8\" font-family=\"Helvetica,sans-Serif\" font-size=\"14.00\">entropy = 0.266</text>\n",
       "<text text-anchor=\"middle\" x=\"377.5\" y=\"-319.8\" font-family=\"Helvetica,sans-Serif\" font-size=\"14.00\">samples = 6205</text>\n",
       "<text text-anchor=\"middle\" x=\"377.5\" y=\"-304.8\" font-family=\"Helvetica,sans-Serif\" font-size=\"14.00\">value = [5924, 281]</text>\n",
       "</g>\n",
       "<!-- 1 -->\n",
       "<g id=\"node2\" class=\"node\"><title>1</title>\n",
       "<path fill=\"#399de5\" fill-opacity=\"0.941176\" stroke=\"black\" d=\"M355,-261C355,-261 262,-261 262,-261 256,-261 250,-255 250,-249 250,-249 250,-205 250,-205 250,-199 256,-193 262,-193 262,-193 355,-193 355,-193 361,-193 367,-199 367,-205 367,-205 367,-249 367,-249 367,-255 361,-261 355,-261\"/>\n",
       "<text text-anchor=\"middle\" x=\"308.5\" y=\"-245.8\" font-family=\"Helvetica,sans-Serif\" font-size=\"14.00\">V12 &lt;= &#45;1.825</text>\n",
       "<text text-anchor=\"middle\" x=\"308.5\" y=\"-230.8\" font-family=\"Helvetica,sans-Serif\" font-size=\"14.00\">entropy = 0.303</text>\n",
       "<text text-anchor=\"middle\" x=\"308.5\" y=\"-215.8\" font-family=\"Helvetica,sans-Serif\" font-size=\"14.00\">samples = 241</text>\n",
       "<text text-anchor=\"middle\" x=\"308.5\" y=\"-200.8\" font-family=\"Helvetica,sans-Serif\" font-size=\"14.00\">value = [13, 228]</text>\n",
       "</g>\n",
       "<!-- 0&#45;&gt;1 -->\n",
       "<g id=\"edge1\" class=\"edge\"><title>0&#45;&gt;1</title>\n",
       "<path fill=\"none\" stroke=\"black\" d=\"M355.098,-296.884C349.253,-288.243 342.878,-278.819 336.772,-269.793\"/>\n",
       "<polygon fill=\"black\" stroke=\"black\" points=\"339.528,-267.621 331.026,-261.299 333.73,-271.543 339.528,-267.621\"/>\n",
       "<text text-anchor=\"middle\" x=\"326.289\" y=\"-282.146\" font-family=\"Helvetica,sans-Serif\" font-size=\"14.00\">True</text>\n",
       "</g>\n",
       "<!-- 8 -->\n",
       "<g id=\"node9\" class=\"node\"><title>8</title>\n",
       "<path fill=\"#e58139\" fill-opacity=\"0.992157\" stroke=\"black\" d=\"M498,-261C498,-261 397,-261 397,-261 391,-261 385,-255 385,-249 385,-249 385,-205 385,-205 385,-199 391,-193 397,-193 397,-193 498,-193 498,-193 504,-193 510,-199 510,-205 510,-205 510,-249 510,-249 510,-255 504,-261 498,-261\"/>\n",
       "<text text-anchor=\"middle\" x=\"447.5\" y=\"-245.8\" font-family=\"Helvetica,sans-Serif\" font-size=\"14.00\">V17 &lt;= &#45;1.984</text>\n",
       "<text text-anchor=\"middle\" x=\"447.5\" y=\"-230.8\" font-family=\"Helvetica,sans-Serif\" font-size=\"14.00\">entropy = 0.073</text>\n",
       "<text text-anchor=\"middle\" x=\"447.5\" y=\"-215.8\" font-family=\"Helvetica,sans-Serif\" font-size=\"14.00\">samples = 5964</text>\n",
       "<text text-anchor=\"middle\" x=\"447.5\" y=\"-200.8\" font-family=\"Helvetica,sans-Serif\" font-size=\"14.00\">value = [5911, 53]</text>\n",
       "</g>\n",
       "<!-- 0&#45;&gt;8 -->\n",
       "<g id=\"edge8\" class=\"edge\"><title>0&#45;&gt;8</title>\n",
       "<path fill=\"none\" stroke=\"black\" d=\"M400.227,-296.884C406.157,-288.243 412.624,-278.819 418.819,-269.793\"/>\n",
       "<polygon fill=\"black\" stroke=\"black\" points=\"421.875,-271.525 424.647,-261.299 416.103,-267.564 421.875,-271.525\"/>\n",
       "<text text-anchor=\"middle\" x=\"429.22\" y=\"-282.178\" font-family=\"Helvetica,sans-Serif\" font-size=\"14.00\">False</text>\n",
       "</g>\n",
       "<!-- 2 -->\n",
       "<g id=\"node3\" class=\"node\"><title>2</title>\n",
       "<path fill=\"#399de5\" fill-opacity=\"0.996078\" stroke=\"black\" d=\"M226,-157C226,-157 139,-157 139,-157 133,-157 127,-151 127,-145 127,-145 127,-101 127,-101 127,-95 133,-89 139,-89 139,-89 226,-89 226,-89 232,-89 238,-95 238,-101 238,-101 238,-145 238,-145 238,-151 232,-157 226,-157\"/>\n",
       "<text text-anchor=\"middle\" x=\"182.5\" y=\"-141.8\" font-family=\"Helvetica,sans-Serif\" font-size=\"14.00\">V6 &lt;= &#45;3.475</text>\n",
       "<text text-anchor=\"middle\" x=\"182.5\" y=\"-126.8\" font-family=\"Helvetica,sans-Serif\" font-size=\"14.00\">entropy = 0.042</text>\n",
       "<text text-anchor=\"middle\" x=\"182.5\" y=\"-111.8\" font-family=\"Helvetica,sans-Serif\" font-size=\"14.00\">samples = 221</text>\n",
       "<text text-anchor=\"middle\" x=\"182.5\" y=\"-96.8\" font-family=\"Helvetica,sans-Serif\" font-size=\"14.00\">value = [1, 220]</text>\n",
       "</g>\n",
       "<!-- 1&#45;&gt;2 -->\n",
       "<g id=\"edge2\" class=\"edge\"><title>1&#45;&gt;2</title>\n",
       "<path fill=\"none\" stroke=\"black\" d=\"M267.591,-192.884C256.148,-183.62 243.591,-173.455 231.721,-163.845\"/>\n",
       "<polygon fill=\"black\" stroke=\"black\" points=\"233.609,-160.871 223.635,-157.299 229.205,-166.312 233.609,-160.871\"/>\n",
       "</g>\n",
       "<!-- 5 -->\n",
       "<g id=\"node6\" class=\"node\"><title>5</title>\n",
       "<path fill=\"#e58139\" fill-opacity=\"0.333333\" stroke=\"black\" d=\"M355,-157C355,-157 268,-157 268,-157 262,-157 256,-151 256,-145 256,-145 256,-101 256,-101 256,-95 262,-89 268,-89 268,-89 355,-89 355,-89 361,-89 367,-95 367,-101 367,-101 367,-145 367,-145 367,-151 361,-157 355,-157\"/>\n",
       "<text text-anchor=\"middle\" x=\"311.5\" y=\"-141.8\" font-family=\"Helvetica,sans-Serif\" font-size=\"14.00\">V14 &lt;= &#45;4.59</text>\n",
       "<text text-anchor=\"middle\" x=\"311.5\" y=\"-126.8\" font-family=\"Helvetica,sans-Serif\" font-size=\"14.00\">entropy = 0.971</text>\n",
       "<text text-anchor=\"middle\" x=\"311.5\" y=\"-111.8\" font-family=\"Helvetica,sans-Serif\" font-size=\"14.00\">samples = 20</text>\n",
       "<text text-anchor=\"middle\" x=\"311.5\" y=\"-96.8\" font-family=\"Helvetica,sans-Serif\" font-size=\"14.00\">value = [12, 8]</text>\n",
       "</g>\n",
       "<!-- 1&#45;&gt;5 -->\n",
       "<g id=\"edge5\" class=\"edge\"><title>1&#45;&gt;5</title>\n",
       "<path fill=\"none\" stroke=\"black\" d=\"M309.474,-192.884C309.712,-184.778 309.971,-175.982 310.221,-167.472\"/>\n",
       "<polygon fill=\"black\" stroke=\"black\" points=\"313.725,-167.398 310.521,-157.299 306.728,-167.192 313.725,-167.398\"/>\n",
       "</g>\n",
       "<!-- 3 -->\n",
       "<g id=\"node4\" class=\"node\"><title>3</title>\n",
       "<path fill=\"#399de5\" fill-opacity=\"0.952941\" stroke=\"black\" d=\"M99,-53C99,-53 12,-53 12,-53 6,-53 7.10543e-15,-47 7.10543e-15,-41 7.10543e-15,-41 7.10543e-15,-12 7.10543e-15,-12 7.10543e-15,-6 6,-0 12,-0 12,-0 99,-0 99,-0 105,-0 111,-6 111,-12 111,-12 111,-41 111,-41 111,-47 105,-53 99,-53\"/>\n",
       "<text text-anchor=\"middle\" x=\"55.5\" y=\"-37.8\" font-family=\"Helvetica,sans-Serif\" font-size=\"14.00\">entropy = 0.258</text>\n",
       "<text text-anchor=\"middle\" x=\"55.5\" y=\"-22.8\" font-family=\"Helvetica,sans-Serif\" font-size=\"14.00\">samples = 23</text>\n",
       "<text text-anchor=\"middle\" x=\"55.5\" y=\"-7.8\" font-family=\"Helvetica,sans-Serif\" font-size=\"14.00\">value = [1, 22]</text>\n",
       "</g>\n",
       "<!-- 2&#45;&gt;3 -->\n",
       "<g id=\"edge3\" class=\"edge\"><title>2&#45;&gt;3</title>\n",
       "<path fill=\"none\" stroke=\"black\" d=\"M138.082,-88.9485C125.173,-79.3431 111.104,-68.8747 98.297,-59.345\"/>\n",
       "<polygon fill=\"black\" stroke=\"black\" points=\"100.2,-56.3984 90.088,-53.2367 96.0213,-62.0143 100.2,-56.3984\"/>\n",
       "</g>\n",
       "<!-- 4 -->\n",
       "<g id=\"node5\" class=\"node\"><title>4</title>\n",
       "<path fill=\"#399de5\" stroke=\"black\" d=\"M227.5,-53C227.5,-53 141.5,-53 141.5,-53 135.5,-53 129.5,-47 129.5,-41 129.5,-41 129.5,-12 129.5,-12 129.5,-6 135.5,-0 141.5,-0 141.5,-0 227.5,-0 227.5,-0 233.5,-0 239.5,-6 239.5,-12 239.5,-12 239.5,-41 239.5,-41 239.5,-47 233.5,-53 227.5,-53\"/>\n",
       "<text text-anchor=\"middle\" x=\"184.5\" y=\"-37.8\" font-family=\"Helvetica,sans-Serif\" font-size=\"14.00\">entropy = 0.0</text>\n",
       "<text text-anchor=\"middle\" x=\"184.5\" y=\"-22.8\" font-family=\"Helvetica,sans-Serif\" font-size=\"14.00\">samples = 198</text>\n",
       "<text text-anchor=\"middle\" x=\"184.5\" y=\"-7.8\" font-family=\"Helvetica,sans-Serif\" font-size=\"14.00\">value = [0, 198]</text>\n",
       "</g>\n",
       "<!-- 2&#45;&gt;4 -->\n",
       "<g id=\"edge4\" class=\"edge\"><title>2&#45;&gt;4</title>\n",
       "<path fill=\"none\" stroke=\"black\" d=\"M183.2,-88.9485C183.374,-80.7153 183.561,-71.848 183.738,-63.4814\"/>\n",
       "<polygon fill=\"black\" stroke=\"black\" points=\"187.243,-63.3086 183.955,-53.2367 180.244,-63.1604 187.243,-63.3086\"/>\n",
       "</g>\n",
       "<!-- 6 -->\n",
       "<g id=\"node7\" class=\"node\"><title>6</title>\n",
       "<path fill=\"#399de5\" stroke=\"black\" d=\"M345.5,-53C345.5,-53 273.5,-53 273.5,-53 267.5,-53 261.5,-47 261.5,-41 261.5,-41 261.5,-12 261.5,-12 261.5,-6 267.5,-0 273.5,-0 273.5,-0 345.5,-0 345.5,-0 351.5,-0 357.5,-6 357.5,-12 357.5,-12 357.5,-41 357.5,-41 357.5,-47 351.5,-53 345.5,-53\"/>\n",
       "<text text-anchor=\"middle\" x=\"309.5\" y=\"-37.8\" font-family=\"Helvetica,sans-Serif\" font-size=\"14.00\">entropy = 0.0</text>\n",
       "<text text-anchor=\"middle\" x=\"309.5\" y=\"-22.8\" font-family=\"Helvetica,sans-Serif\" font-size=\"14.00\">samples = 6</text>\n",
       "<text text-anchor=\"middle\" x=\"309.5\" y=\"-7.8\" font-family=\"Helvetica,sans-Serif\" font-size=\"14.00\">value = [0, 6]</text>\n",
       "</g>\n",
       "<!-- 5&#45;&gt;6 -->\n",
       "<g id=\"edge6\" class=\"edge\"><title>5&#45;&gt;6</title>\n",
       "<path fill=\"none\" stroke=\"black\" d=\"M310.8,-88.9485C310.626,-80.7153 310.439,-71.848 310.262,-63.4814\"/>\n",
       "<polygon fill=\"black\" stroke=\"black\" points=\"313.756,-63.1604 310.045,-53.2367 306.757,-63.3086 313.756,-63.1604\"/>\n",
       "</g>\n",
       "<!-- 7 -->\n",
       "<g id=\"node8\" class=\"node\"><title>7</title>\n",
       "<path fill=\"#e58139\" fill-opacity=\"0.831373\" stroke=\"black\" d=\"M475,-53C475,-53 388,-53 388,-53 382,-53 376,-47 376,-41 376,-41 376,-12 376,-12 376,-6 382,-0 388,-0 388,-0 475,-0 475,-0 481,-0 487,-6 487,-12 487,-12 487,-41 487,-41 487,-47 481,-53 475,-53\"/>\n",
       "<text text-anchor=\"middle\" x=\"431.5\" y=\"-37.8\" font-family=\"Helvetica,sans-Serif\" font-size=\"14.00\">entropy = 0.592</text>\n",
       "<text text-anchor=\"middle\" x=\"431.5\" y=\"-22.8\" font-family=\"Helvetica,sans-Serif\" font-size=\"14.00\">samples = 14</text>\n",
       "<text text-anchor=\"middle\" x=\"431.5\" y=\"-7.8\" font-family=\"Helvetica,sans-Serif\" font-size=\"14.00\">value = [12, 2]</text>\n",
       "</g>\n",
       "<!-- 5&#45;&gt;7 -->\n",
       "<g id=\"edge7\" class=\"edge\"><title>5&#45;&gt;7</title>\n",
       "<path fill=\"none\" stroke=\"black\" d=\"M353.47,-88.9485C365.551,-79.4346 378.708,-69.074 390.716,-59.6175\"/>\n",
       "<polygon fill=\"black\" stroke=\"black\" points=\"393.128,-62.1734 398.818,-53.2367 388.797,-56.6739 393.128,-62.1734\"/>\n",
       "</g>\n",
       "<!-- 9 -->\n",
       "<g id=\"node10\" class=\"node\"><title>9</title>\n",
       "<path fill=\"#399de5\" stroke=\"black\" d=\"M480.5,-149.5C480.5,-149.5 402.5,-149.5 402.5,-149.5 396.5,-149.5 390.5,-143.5 390.5,-137.5 390.5,-137.5 390.5,-108.5 390.5,-108.5 390.5,-102.5 396.5,-96.5 402.5,-96.5 402.5,-96.5 480.5,-96.5 480.5,-96.5 486.5,-96.5 492.5,-102.5 492.5,-108.5 492.5,-108.5 492.5,-137.5 492.5,-137.5 492.5,-143.5 486.5,-149.5 480.5,-149.5\"/>\n",
       "<text text-anchor=\"middle\" x=\"441.5\" y=\"-134.3\" font-family=\"Helvetica,sans-Serif\" font-size=\"14.00\">entropy = 0.0</text>\n",
       "<text text-anchor=\"middle\" x=\"441.5\" y=\"-119.3\" font-family=\"Helvetica,sans-Serif\" font-size=\"14.00\">samples = 11</text>\n",
       "<text text-anchor=\"middle\" x=\"441.5\" y=\"-104.3\" font-family=\"Helvetica,sans-Serif\" font-size=\"14.00\">value = [0, 11]</text>\n",
       "</g>\n",
       "<!-- 8&#45;&gt;9 -->\n",
       "<g id=\"edge9\" class=\"edge\"><title>8&#45;&gt;9</title>\n",
       "<path fill=\"none\" stroke=\"black\" d=\"M445.552,-192.884C444.924,-182.216 444.227,-170.352 443.589,-159.519\"/>\n",
       "<polygon fill=\"black\" stroke=\"black\" points=\"447.082,-159.297 443.001,-149.52 440.095,-159.708 447.082,-159.297\"/>\n",
       "</g>\n",
       "<!-- 10 -->\n",
       "<g id=\"node11\" class=\"node\"><title>10</title>\n",
       "<path fill=\"#e58139\" fill-opacity=\"0.992157\" stroke=\"black\" d=\"M624,-157C624,-157 523,-157 523,-157 517,-157 511,-151 511,-145 511,-145 511,-101 511,-101 511,-95 517,-89 523,-89 523,-89 624,-89 624,-89 630,-89 636,-95 636,-101 636,-101 636,-145 636,-145 636,-151 630,-157 624,-157\"/>\n",
       "<text text-anchor=\"middle\" x=\"573.5\" y=\"-141.8\" font-family=\"Helvetica,sans-Serif\" font-size=\"14.00\">V4 &lt;= 1.66</text>\n",
       "<text text-anchor=\"middle\" x=\"573.5\" y=\"-126.8\" font-family=\"Helvetica,sans-Serif\" font-size=\"14.00\">entropy = 0.061</text>\n",
       "<text text-anchor=\"middle\" x=\"573.5\" y=\"-111.8\" font-family=\"Helvetica,sans-Serif\" font-size=\"14.00\">samples = 5953</text>\n",
       "<text text-anchor=\"middle\" x=\"573.5\" y=\"-96.8\" font-family=\"Helvetica,sans-Serif\" font-size=\"14.00\">value = [5911, 42]</text>\n",
       "</g>\n",
       "<!-- 8&#45;&gt;10 -->\n",
       "<g id=\"edge10\" class=\"edge\"><title>8&#45;&gt;10</title>\n",
       "<path fill=\"none\" stroke=\"black\" d=\"M488.409,-192.884C499.852,-183.62 512.409,-173.455 524.279,-163.845\"/>\n",
       "<polygon fill=\"black\" stroke=\"black\" points=\"526.795,-166.312 532.365,-157.299 522.391,-160.871 526.795,-166.312\"/>\n",
       "</g>\n",
       "<!-- 11 -->\n",
       "<g id=\"node12\" class=\"node\"><title>11</title>\n",
       "<path fill=\"#e58139\" fill-opacity=\"0.996078\" stroke=\"black\" d=\"M621,-53C621,-53 520,-53 520,-53 514,-53 508,-47 508,-41 508,-41 508,-12 508,-12 508,-6 514,-0 520,-0 520,-0 621,-0 621,-0 627,-0 633,-6 633,-12 633,-12 633,-41 633,-41 633,-47 627,-53 621,-53\"/>\n",
       "<text text-anchor=\"middle\" x=\"570.5\" y=\"-37.8\" font-family=\"Helvetica,sans-Serif\" font-size=\"14.00\">entropy = 0.039</text>\n",
       "<text text-anchor=\"middle\" x=\"570.5\" y=\"-22.8\" font-family=\"Helvetica,sans-Serif\" font-size=\"14.00\">samples = 5477</text>\n",
       "<text text-anchor=\"middle\" x=\"570.5\" y=\"-7.8\" font-family=\"Helvetica,sans-Serif\" font-size=\"14.00\">value = [5454, 23]</text>\n",
       "</g>\n",
       "<!-- 10&#45;&gt;11 -->\n",
       "<g id=\"edge11\" class=\"edge\"><title>10&#45;&gt;11</title>\n",
       "<path fill=\"none\" stroke=\"black\" d=\"M572.451,-88.9485C572.189,-80.7153 571.908,-71.848 571.642,-63.4814\"/>\n",
       "<polygon fill=\"black\" stroke=\"black\" points=\"575.133,-63.1206 571.317,-53.2367 568.136,-63.3428 575.133,-63.1206\"/>\n",
       "</g>\n",
       "<!-- 12 -->\n",
       "<g id=\"node13\" class=\"node\"><title>12</title>\n",
       "<path fill=\"#e58139\" fill-opacity=\"0.956863\" stroke=\"black\" d=\"M756,-53C756,-53 663,-53 663,-53 657,-53 651,-47 651,-41 651,-41 651,-12 651,-12 651,-6 657,-0 663,-0 663,-0 756,-0 756,-0 762,-0 768,-6 768,-12 768,-12 768,-41 768,-41 768,-47 762,-53 756,-53\"/>\n",
       "<text text-anchor=\"middle\" x=\"709.5\" y=\"-37.8\" font-family=\"Helvetica,sans-Serif\" font-size=\"14.00\">entropy = 0.242</text>\n",
       "<text text-anchor=\"middle\" x=\"709.5\" y=\"-22.8\" font-family=\"Helvetica,sans-Serif\" font-size=\"14.00\">samples = 476</text>\n",
       "<text text-anchor=\"middle\" x=\"709.5\" y=\"-7.8\" font-family=\"Helvetica,sans-Serif\" font-size=\"14.00\">value = [457, 19]</text>\n",
       "</g>\n",
       "<!-- 10&#45;&gt;12 -->\n",
       "<g id=\"edge12\" class=\"edge\"><title>10&#45;&gt;12</title>\n",
       "<path fill=\"none\" stroke=\"black\" d=\"M621.066,-88.9485C635.022,-79.2516 650.243,-68.6752 664.062,-59.073\"/>\n",
       "<polygon fill=\"black\" stroke=\"black\" points=\"666.246,-61.8172 672.461,-53.2367 662.252,-56.0687 666.246,-61.8172\"/>\n",
       "</g>\n",
       "</g>\n",
       "</svg>\n"
      ],
      "text/plain": [
       "<graphviz.files.Source at 0x7fc73d349588>"
      ]
     },
     "execution_count": 24,
     "metadata": {},
     "output_type": "execute_result"
    }
   ],
   "source": [
    "from sklearn import tree\n",
    "import graphviz\n",
    "\n",
    "tree_graph = tree.export_graphviz(class_DT, \n",
    "                                  out_file=None, \n",
    "                                  feature_names=X_train.columns,\n",
    "                                  filled=True,\n",
    "                                  rounded=True)\n",
    "graphviz.Source(tree_graph)"
   ]
  },
  {
   "cell_type": "markdown",
   "metadata": {},
   "source": [
    "# Random Forest"
   ]
  },
  {
   "cell_type": "code",
   "execution_count": 25,
   "metadata": {},
   "outputs": [],
   "source": [
    "from sklearn.ensemble import RandomForestClassifier"
   ]
  },
  {
   "cell_type": "markdown",
   "metadata": {},
   "source": [
    "**Random Forest** provee una mejora sobre los árboles de decisión para reducir la varianza. Esto se hace de modo que cada vez que se hace una división en un árbol, se considera una selección aleatoria de m predictores elegidos como candidatos de división de todo el conjunto de p predictores.\n",
    "\n",
    "Normalmente se usa $m = \\sqrt{p}$, lo cual se refleja en el siguiente algoritmo mediante el parámetro *max_features = 'sqrt'*, aunque también se busca si con *max_features = 'auto'*, que es $m = p$ mejora el resultado. Además, con el parámetro n_estimators indicamos el número de árboles que se generan y con max_depth la profundidad de cada árbol. Estimamos la mejor combinación de estos parámetros mediante **GridSearchCV**."
   ]
  },
  {
   "cell_type": "code",
   "execution_count": 26,
   "metadata": {},
   "outputs": [
    {
     "name": "stdout",
     "output_type": "stream",
     "text": [
      "Best params:  {'rand_for_class__n_estimators': 17, 'rand_for_class__max_depth': 10, 'rand_for_class__max_features': 'sqrt'}\n",
      "\n",
      "\n",
      "ROC Curve: 0.97\n",
      "\n",
      "\n",
      "Confusion matrix: \n",
      " [[  94   19]\n",
      " [   2 1954]]\n",
      "\n",
      "\n",
      "Accuracy: 0.989850169164\n",
      "Precision: 0.979166666667\n",
      "Recall: 0.83185840708\n",
      "F1: 0.8995215311\n"
     ]
    }
   ],
   "source": [
    "scaler = StandardScaler()\n",
    "rand_for_class = RandomForestClassifier()\n",
    "\n",
    "scaler_step = ('scaler', scaler)\n",
    "rand_for_class_step = ('rand_for_class', rand_for_class)\n",
    "steps = [scaler_step, rand_for_class_step]\n",
    "pipe = Pipeline(steps)\n",
    "\n",
    "tuned_parameters = {'rand_for_class__n_estimators': range(15, 30, 2),\n",
    "                    'rand_for_class__max_features': ['sqrt', 'auto'],\n",
    "                    'rand_for_class__max_depth': range(8, 25)}\n",
    "\n",
    "kfold = StratifiedKFold(n_splits = 5)\n",
    "\n",
    "gs_rand_for_class = GridSearchCV(pipe, tuned_parameters, cv=kfold, n_jobs=-1)\n",
    "gs_rand_for_class.fit(X_train, y_train)\n",
    "\n",
    "y_pred_rand_for_class = gs_rand_for_class.predict(X_test)\n",
    "y_pred_rand_for_class_proba = gs_rand_for_class.predict_proba(X_test)\n",
    "\n",
    "print(\"Best params: \", gs_rand_for_class.best_params_)\n",
    "print('\\n')\n",
    "print(\"ROC Curve: %.2f\" % roc_auc_score(y_true=y_test, y_score=y_pred_rand_for_class_proba[:, 1]))\n",
    "print('\\n')\n",
    "print(\"Confusion matrix: \\n\", confusion_matrix(y_test, y_pred_rand_for_class, labels=[1, 0]))\n",
    "print('\\n')\n",
    "print(\"Accuracy:\", accuracy_score(y_test, y_pred_rand_for_class))\n",
    "print(\"Precision:\", precision_score(y_test, y_pred_rand_for_class))\n",
    "print(\"Recall:\", recall_score(y_test, y_pred_rand_for_class))\n",
    "print(\"F1:\", f1_score(y_test, y_pred_rand_for_class))"
   ]
  },
  {
   "cell_type": "markdown",
   "metadata": {},
   "source": [
    "### 7.1 Visualización de las variables más importantes <a class=\"anchor\" id=\"random-forest-visualizacion\"></a>"
   ]
  },
  {
   "cell_type": "code",
   "execution_count": 27,
   "metadata": {},
   "outputs": [
    {
     "data": {
      "text/plain": [
       "RandomForestClassifier(bootstrap=True, class_weight=None, criterion='gini',\n",
       "            max_depth=10, max_features='sqrt', max_leaf_nodes=None,\n",
       "            min_impurity_decrease=0.0, min_impurity_split=None,\n",
       "            min_samples_leaf=1, min_samples_split=2,\n",
       "            min_weight_fraction_leaf=0.0, n_estimators=17, n_jobs=1,\n",
       "            oob_score=False, random_state=None, verbose=0,\n",
       "            warm_start=False)"
      ]
     },
     "execution_count": 27,
     "metadata": {},
     "output_type": "execute_result"
    }
   ],
   "source": [
    "rand_for_class = RandomForestClassifier(\n",
    "                    n_estimators = gs_rand_for_class.best_params_['rand_for_class__n_estimators'],\n",
    "                    max_features = gs_rand_for_class.best_params_['rand_for_class__max_features'],\n",
    "                    max_depth = gs_rand_for_class.best_params_['rand_for_class__max_depth'])\n",
    "rand_for_class.fit(X_train, y_train)"
   ]
  },
  {
   "cell_type": "code",
   "execution_count": 28,
   "metadata": {
    "scrolled": false
   },
   "outputs": [
    {
     "data": {
      "text/plain": [
       "<matplotlib.axes._subplots.AxesSubplot at 0x7fc73d264fd0>"
      ]
     },
     "execution_count": 28,
     "metadata": {},
     "output_type": "execute_result"
    },
    {
     "data": {
      "image/png": "[encoded data removed]",
      "text/plain": [
       "<matplotlib.figure.Figure at 0x7fc73d25f518>"
      ]
     },
     "metadata": {},
     "output_type": "display_data"
    }
   ],
   "source": [
    "feat = pd.DataFrame(index=X_train.keys(), data=rand_for_class.feature_importances_, columns=['score'])\n",
    "feat = feat.sort_values(by='score', ascending=False)\n",
    "\n",
    "feat[:20].plot(kind='bar', rot=80)"
   ]
  },
  {
   "cell_type": "markdown",
   "metadata": {},
   "source": [
    "***\n",
    "\n",
    "Observamos que los modelos de **Regresión Logística**, **Árbol de decisión** y **Random Forest** nos dan resultados parecidos. No obstante, como ya hemos dicho, **Random Forest** provee una mejora sobre los árboles de decisión para reducir la varianza, por lo que en los próximos modelos, en los que se ha usado **Resampling**, vamos a usar **Random Forest**."
   ]
  },
  {
   "cell_type": "code",
   "execution_count": null,
   "metadata": {},
   "outputs": [],
   "source": []
  }
 ],
 "metadata": {
  "kernelspec": {
   "display_name": "Python 3",
   "language": "python",
   "name": "python3"
  },
  "language_info": {
   "codemirror_mode": {
    "name": "ipython",
    "version": 3
   },
   "file_extension": ".py",
   "mimetype": "text/x-python",
   "name": "python",
   "nbconvert_exporter": "python",
   "pygments_lexer": "ipython3",
   "version": "3.5.2"
  }
 },
 "nbformat": 4,
 "nbformat_minor": 2
}
