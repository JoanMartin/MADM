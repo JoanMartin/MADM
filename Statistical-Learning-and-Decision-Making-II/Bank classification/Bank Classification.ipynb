{
 "cells": [
  {
   "cell_type": "markdown",
   "metadata": {},
   "source": [
    "# Bank Classification\n",
    "\n",
    "Los datos están relacionados con una campaña de marketing directo de una institución bancaria portuguesa. Las campañas de marketing se basaban en llamadas telefónicas. A menudo, se requería más de un contacto con el mismo cliente, para saber  si el producto (depósito bancario a plazo) sería  ('sí') o no ('no') suscrito. La descripción de la base de  datos se puede encontrar en el fichero **bank_names.txt**.\n",
    "\n",
    "\n",
    "* **Datos de los clientes del banco**\n",
    "    * **age**\n",
    "    * **job**: tipo de trabajo (categórico)\n",
    "    * **marital**: estado civil (categórico)\n",
    "    * **education** (categórico)\n",
    "    * **default**: has credit in default? (binario)\n",
    "    * **balance**: media del balance anual en euros (numérico)\n",
    "    * **housing**: ¿tiene un préctamo de vivienda? (binario)\n",
    "    * **loan**: ¿tiene un préstamo personal? (binario)\n",
    "   \n",
    "* **Variables relacionadas con el último contacto de la actual campaña**\n",
    "    * **contact**: tipo de contacto (categórico: \"unknown\",\"telephone\",\"cellular\") \n",
    "    * **day**: último día de contacto del mes (numérico)\n",
    "    * **month**: último mes de contacto del mes (categórico)\n",
    "    * **duration**: última duración del contacto es segundos (numérico)\n",
    "  \n",
    "* **Otros atributos**\n",
    "    * **campaign**: número de contactos realizados durante esta campaña y para este cliente (numérico)\n",
    "    * **pdays**: número de días que han pasado desde que el cliente fue contactado por última vez en una campaña anterior (numérico. -1 quiere decir que el cliente no fue previamente contactado)\n",
    "    * **previous**: número de contactos realizados antes de esta campaña y para este cliente (numérico)\n",
    "    * **poutcome**: resultado de la campaña de marketing previa (categórico)\n",
    "\n",
    "* **Variable objectivo**\n",
    "    * **y**: ¿se ha suscrito el cliente al depósito? (binario)\n",
    "    \n",
    "<br>\n",
    "\n",
    "<div class=\"panel panel-success\">\n",
    "    <div class='panel-heading'>\n",
    "        <h2>Índice</h2>\n",
    "    </div>\n",
    "    <div class='panel-body'>\n",
    "        <ol type=\"A\">\n",
    "            <li><a href=\"#carga\">Carga de datos</a></li>\n",
    "            <li><a href=\"#analisis\">Análisis exploratorio de datos</a></li>\n",
    "                <ol type=\"B\">\n",
    "                    <li><a href=\"#analisis-continuas\">Análisis de variables continuas</a></li>\n",
    "                    <li><a href=\"#analisis-descriptivas\">Análisis de variables descriptivas</a></li>\n",
    "                    <li><a href=\"#feature-importance\">Test Chi Square y Feature Importance</a></li>\n",
    "                </ol>\n",
    "            <li><a href=\"#seleccion-datos\">Selección del conjunto de datos final</a></li>\n",
    "            <li><a href=\"#train-test\">Separación de datos de entrenamiento y prueba</a></li>\n",
    "            <li><a href=#knn>K-Nearest Neighbors Classifier</a></li>\n",
    "            <li><a href=#regresion-logistica>Regresión logística</a></li>\n",
    "            <li><a href=#arbol-decision>Árboles de decisión</a></li>\n",
    "                <ol type=B>\n",
    "                    <li><a href=#arbol-decision-basico>Árbol de decisión básico</a></li>\n",
    "                    <li><a href=#arbol-decision-gs>Árbol de decisión mediante GridSearchCV</a></li>\n",
    "                    <li><a href=#arbol-decision-visualizacion>Visualización de las variables más importantes</a></li>\n",
    "                </ol>\n",
    "            <li><a href=#random-forest>Random Forest</a></li>\n",
    "                <ol type=B>\n",
    "                   <li><a href=#random-forest-visualizacion>Visualización de las variables más importantes</a></li>\n",
    "                </ol>\n",
    "            <li><a href=#svm>SVM</a></li>\n",
    "                <ol type=B>\n",
    "                    <li><a href=#svm-lineal>SVM con Kernel lineal</a></li>\n",
    "                    <li><a href=#svm-rbf>SVM con Kernel RBF</a></li>\n",
    "                    <li><a href=#svm-poly>SVM con Kernel polinomial</a></li>\n",
    "                </ol>\n",
    "            <li><a href=#neural-net>Redes neuronales</a></li>\n",
    "            <li><a href=#conclusiones>Conclusiones</a></li>\n",
    "        </ol>\n",
    "    </div>\n",
    "</div>"
   ]
  },
  {
   "cell_type": "markdown",
   "metadata": {},
   "source": [
    "# 1. Carga de los datos <a class=\"anchor\" id=\"carga\"></a>"
   ]
  },
  {
   "cell_type": "markdown",
   "metadata": {},
   "source": [
    "Se realiza una carga de las librerías necesarias para este proyecto."
   ]
  },
  {
   "cell_type": "code",
   "execution_count": 50,
   "metadata": {},
   "outputs": [],
   "source": [
    "import os\n",
    "import glob\n",
    "import math\n",
    "\n",
    "import pandas as pd\n",
    "pd.set_option('display.height', 1000)\n",
    "pd.set_option('display.max_rows', 100)\n",
    "pd.set_option('display.max_columns', 200)\n",
    "pd.set_option('display.width', 80)\n",
    "\n",
    "import numpy as np\n",
    "\n",
    "%matplotlib inline\n",
    "import matplotlib.pyplot as plt\n",
    "plt.rcParams['figure.figsize'] = (12, 8)\n",
    "\n",
    "import seaborn as sns\n",
    "\n",
    "from sklearn.metrics import roc_auc_score, confusion_matrix\n",
    "from sklearn.metrics import accuracy_score, classification_report\n",
    "from sklearn.model_selection import StratifiedKFold, GridSearchCV\n",
    "from sklearn.preprocessing import MinMaxScaler\n",
    "from sklearn.pipeline import Pipeline"
   ]
  },
  {
   "cell_type": "markdown",
   "metadata": {},
   "source": [
    "<br>\n",
    "Se lee el fichero CSV **bank-dataset** para cargar los datos en un dataframe de Pandas."
   ]
  },
  {
   "cell_type": "code",
   "execution_count": 51,
   "metadata": {},
   "outputs": [
    {
     "data": {
      "text/html": [
       "<div>\n",
       "<style scoped>\n",
       "    .dataframe tbody tr th:only-of-type {\n",
       "        vertical-align: middle;\n",
       "    }\n",
       "\n",
       "    .dataframe tbody tr th {\n",
       "        vertical-align: top;\n",
       "    }\n",
       "\n",
       "    .dataframe thead th {\n",
       "        text-align: right;\n",
       "    }\n",
       "</style>\n",
       "<table border=\"1\" class=\"dataframe\">\n",
       "  <thead>\n",
       "    <tr style=\"text-align: right;\">\n",
       "      <th></th>\n",
       "      <th>age</th>\n",
       "      <th>job</th>\n",
       "      <th>marital</th>\n",
       "      <th>education</th>\n",
       "      <th>default</th>\n",
       "      <th>balance</th>\n",
       "      <th>housing</th>\n",
       "      <th>loan</th>\n",
       "      <th>contact</th>\n",
       "      <th>day</th>\n",
       "      <th>month</th>\n",
       "      <th>duration</th>\n",
       "      <th>campaign</th>\n",
       "      <th>pdays</th>\n",
       "      <th>previous</th>\n",
       "      <th>poutcome</th>\n",
       "      <th>y</th>\n",
       "    </tr>\n",
       "  </thead>\n",
       "  <tbody>\n",
       "    <tr>\n",
       "      <th>0</th>\n",
       "      <td>58</td>\n",
       "      <td>management</td>\n",
       "      <td>married</td>\n",
       "      <td>tertiary</td>\n",
       "      <td>no</td>\n",
       "      <td>2143</td>\n",
       "      <td>yes</td>\n",
       "      <td>no</td>\n",
       "      <td>unknown</td>\n",
       "      <td>5</td>\n",
       "      <td>may</td>\n",
       "      <td>261</td>\n",
       "      <td>1</td>\n",
       "      <td>-1</td>\n",
       "      <td>0</td>\n",
       "      <td>unknown</td>\n",
       "      <td>no</td>\n",
       "    </tr>\n",
       "    <tr>\n",
       "      <th>1</th>\n",
       "      <td>44</td>\n",
       "      <td>technician</td>\n",
       "      <td>single</td>\n",
       "      <td>secondary</td>\n",
       "      <td>no</td>\n",
       "      <td>29</td>\n",
       "      <td>yes</td>\n",
       "      <td>no</td>\n",
       "      <td>unknown</td>\n",
       "      <td>5</td>\n",
       "      <td>may</td>\n",
       "      <td>151</td>\n",
       "      <td>1</td>\n",
       "      <td>-1</td>\n",
       "      <td>0</td>\n",
       "      <td>unknown</td>\n",
       "      <td>no</td>\n",
       "    </tr>\n",
       "    <tr>\n",
       "      <th>2</th>\n",
       "      <td>33</td>\n",
       "      <td>entrepreneur</td>\n",
       "      <td>married</td>\n",
       "      <td>secondary</td>\n",
       "      <td>no</td>\n",
       "      <td>2</td>\n",
       "      <td>yes</td>\n",
       "      <td>yes</td>\n",
       "      <td>unknown</td>\n",
       "      <td>5</td>\n",
       "      <td>may</td>\n",
       "      <td>76</td>\n",
       "      <td>1</td>\n",
       "      <td>-1</td>\n",
       "      <td>0</td>\n",
       "      <td>unknown</td>\n",
       "      <td>no</td>\n",
       "    </tr>\n",
       "    <tr>\n",
       "      <th>3</th>\n",
       "      <td>47</td>\n",
       "      <td>blue-collar</td>\n",
       "      <td>married</td>\n",
       "      <td>unknown</td>\n",
       "      <td>no</td>\n",
       "      <td>1506</td>\n",
       "      <td>yes</td>\n",
       "      <td>no</td>\n",
       "      <td>unknown</td>\n",
       "      <td>5</td>\n",
       "      <td>may</td>\n",
       "      <td>92</td>\n",
       "      <td>1</td>\n",
       "      <td>-1</td>\n",
       "      <td>0</td>\n",
       "      <td>unknown</td>\n",
       "      <td>no</td>\n",
       "    </tr>\n",
       "    <tr>\n",
       "      <th>4</th>\n",
       "      <td>33</td>\n",
       "      <td>unknown</td>\n",
       "      <td>single</td>\n",
       "      <td>unknown</td>\n",
       "      <td>no</td>\n",
       "      <td>1</td>\n",
       "      <td>no</td>\n",
       "      <td>no</td>\n",
       "      <td>unknown</td>\n",
       "      <td>5</td>\n",
       "      <td>may</td>\n",
       "      <td>198</td>\n",
       "      <td>1</td>\n",
       "      <td>-1</td>\n",
       "      <td>0</td>\n",
       "      <td>unknown</td>\n",
       "      <td>no</td>\n",
       "    </tr>\n",
       "  </tbody>\n",
       "</table>\n",
       "</div>"
      ],
      "text/plain": [
       "   age           job  marital  education default  balance housing loan  \\\n",
       "0   58    management  married   tertiary      no     2143     yes   no   \n",
       "1   44    technician   single  secondary      no       29     yes   no   \n",
       "2   33  entrepreneur  married  secondary      no        2     yes  yes   \n",
       "3   47   blue-collar  married    unknown      no     1506     yes   no   \n",
       "4   33       unknown   single    unknown      no        1      no   no   \n",
       "\n",
       "   contact  day month  duration  campaign  pdays  previous poutcome   y  \n",
       "0  unknown    5   may       261         1     -1         0  unknown  no  \n",
       "1  unknown    5   may       151         1     -1         0  unknown  no  \n",
       "2  unknown    5   may        76         1     -1         0  unknown  no  \n",
       "3  unknown    5   may        92         1     -1         0  unknown  no  \n",
       "4  unknown    5   may       198         1     -1         0  unknown  no  "
      ]
     },
     "execution_count": 51,
     "metadata": {},
     "output_type": "execute_result"
    }
   ],
   "source": [
    "df = pd.read_csv(\"bank-dataset.csv\", sep=\";\")\n",
    "df.head()"
   ]
  },
  {
   "cell_type": "markdown",
   "metadata": {},
   "source": [
    "# 2. Análisis exploratorio de los datos <a class=\"anchor\" id=\"analisis\"></a>"
   ]
  },
  {
   "cell_type": "markdown",
   "metadata": {},
   "source": [
    "<br>\n",
    "El conjunto de datos se compone por 45.211 registros y 17 columnas."
   ]
  },
  {
   "cell_type": "code",
   "execution_count": 52,
   "metadata": {},
   "outputs": [
    {
     "data": {
      "text/plain": [
       "(45211, 17)"
      ]
     },
     "execution_count": 52,
     "metadata": {},
     "output_type": "execute_result"
    }
   ],
   "source": [
    "df.shape"
   ]
  },
  {
   "cell_type": "markdown",
   "metadata": {},
   "source": [
    "### Variables binarias"
   ]
  },
  {
   "cell_type": "markdown",
   "metadata": {},
   "source": [
    "Las variables binarias **y**, **loan**, **housing** y **default**, cuyos valores están como **yes** y **no**, se sustituyen por 1 y 0, respectivamente."
   ]
  },
  {
   "cell_type": "code",
   "execution_count": 53,
   "metadata": {},
   "outputs": [
    {
     "data": {
      "text/html": [
       "<div>\n",
       "<style scoped>\n",
       "    .dataframe tbody tr th:only-of-type {\n",
       "        vertical-align: middle;\n",
       "    }\n",
       "\n",
       "    .dataframe tbody tr th {\n",
       "        vertical-align: top;\n",
       "    }\n",
       "\n",
       "    .dataframe thead th {\n",
       "        text-align: right;\n",
       "    }\n",
       "</style>\n",
       "<table border=\"1\" class=\"dataframe\">\n",
       "  <thead>\n",
       "    <tr style=\"text-align: right;\">\n",
       "      <th></th>\n",
       "      <th>y</th>\n",
       "      <th>loan</th>\n",
       "      <th>housing</th>\n",
       "      <th>default</th>\n",
       "    </tr>\n",
       "  </thead>\n",
       "  <tbody>\n",
       "    <tr>\n",
       "      <th>no</th>\n",
       "      <td>39922</td>\n",
       "      <td>37967</td>\n",
       "      <td>20081</td>\n",
       "      <td>44396</td>\n",
       "    </tr>\n",
       "    <tr>\n",
       "      <th>yes</th>\n",
       "      <td>5289</td>\n",
       "      <td>7244</td>\n",
       "      <td>25130</td>\n",
       "      <td>815</td>\n",
       "    </tr>\n",
       "  </tbody>\n",
       "</table>\n",
       "</div>"
      ],
      "text/plain": [
       "         y   loan  housing  default\n",
       "no   39922  37967    20081    44396\n",
       "yes   5289   7244    25130      815"
      ]
     },
     "execution_count": 53,
     "metadata": {},
     "output_type": "execute_result"
    }
   ],
   "source": [
    "binary_col_list = ['y', 'loan', 'housing', 'default']\n",
    "df[binary_col_list].apply(lambda x: x.value_counts())"
   ]
  },
  {
   "cell_type": "code",
   "execution_count": 54,
   "metadata": {},
   "outputs": [
    {
     "data": {
      "text/html": [
       "<div>\n",
       "<style scoped>\n",
       "    .dataframe tbody tr th:only-of-type {\n",
       "        vertical-align: middle;\n",
       "    }\n",
       "\n",
       "    .dataframe tbody tr th {\n",
       "        vertical-align: top;\n",
       "    }\n",
       "\n",
       "    .dataframe thead th {\n",
       "        text-align: right;\n",
       "    }\n",
       "</style>\n",
       "<table border=\"1\" class=\"dataframe\">\n",
       "  <thead>\n",
       "    <tr style=\"text-align: right;\">\n",
       "      <th></th>\n",
       "      <th>y</th>\n",
       "      <th>loan</th>\n",
       "      <th>housing</th>\n",
       "      <th>default</th>\n",
       "    </tr>\n",
       "  </thead>\n",
       "  <tbody>\n",
       "    <tr>\n",
       "      <th>0</th>\n",
       "      <td>39922</td>\n",
       "      <td>37967</td>\n",
       "      <td>20081</td>\n",
       "      <td>44396</td>\n",
       "    </tr>\n",
       "    <tr>\n",
       "      <th>1</th>\n",
       "      <td>5289</td>\n",
       "      <td>7244</td>\n",
       "      <td>25130</td>\n",
       "      <td>815</td>\n",
       "    </tr>\n",
       "  </tbody>\n",
       "</table>\n",
       "</div>"
      ],
      "text/plain": [
       "       y   loan  housing  default\n",
       "0  39922  37967    20081    44396\n",
       "1   5289   7244    25130      815"
      ]
     },
     "execution_count": 54,
     "metadata": {},
     "output_type": "execute_result"
    }
   ],
   "source": [
    "df[binary_col_list] = df[binary_col_list].apply(lambda x: x.map(dict(yes=1, no=0)))\n",
    "df[binary_col_list].apply(lambda x: x.value_counts())"
   ]
  },
  {
   "cell_type": "markdown",
   "metadata": {},
   "source": [
    "<br>\n",
    "La variable objetivo **y** tiene 39.922 registros con valor 0 y 5289 registros con valor 1. Esto resulta en una proporción del 7.54%. A pesar de que no es un desbalanceamiento extremo, como podría ser un 2% o 3%, se podrían tomar medidas de balanceamiento como, por ejemplo, **upsampling** o **downsampling**, pero no es el objetivo de este proyecto estudiar este tipo de técnicas."
   ]
  },
  {
   "cell_type": "markdown",
   "metadata": {},
   "source": [
    "<br>\n",
    "Los tipos de las columnas del dataframe son los siguientes:"
   ]
  },
  {
   "cell_type": "code",
   "execution_count": 55,
   "metadata": {},
   "outputs": [
    {
     "data": {
      "text/plain": [
       "age           int64\n",
       "job          object\n",
       "marital      object\n",
       "education    object\n",
       "default       int64\n",
       "balance       int64\n",
       "housing       int64\n",
       "loan          int64\n",
       "contact      object\n",
       "day           int64\n",
       "month        object\n",
       "duration      int64\n",
       "campaign      int64\n",
       "pdays         int64\n",
       "previous      int64\n",
       "poutcome     object\n",
       "y             int64\n",
       "dtype: object"
      ]
     },
     "execution_count": 55,
     "metadata": {},
     "output_type": "execute_result"
    }
   ],
   "source": [
    "df.dtypes"
   ]
  },
  {
   "cell_type": "markdown",
   "metadata": {},
   "source": [
    "<br>\n",
    "A continuación, se muestra las estadísticas descriptivas de cada columna que resume la tendencia, dispersión y forma de la distribución del conjunto de datos, excluyendo los valores nulos."
   ]
  },
  {
   "cell_type": "code",
   "execution_count": 56,
   "metadata": {},
   "outputs": [
    {
     "data": {
      "text/html": [
       "<div>\n",
       "<style scoped>\n",
       "    .dataframe tbody tr th:only-of-type {\n",
       "        vertical-align: middle;\n",
       "    }\n",
       "\n",
       "    .dataframe tbody tr th {\n",
       "        vertical-align: top;\n",
       "    }\n",
       "\n",
       "    .dataframe thead th {\n",
       "        text-align: right;\n",
       "    }\n",
       "</style>\n",
       "<table border=\"1\" class=\"dataframe\">\n",
       "  <thead>\n",
       "    <tr style=\"text-align: right;\">\n",
       "      <th></th>\n",
       "      <th>age</th>\n",
       "      <th>default</th>\n",
       "      <th>balance</th>\n",
       "      <th>housing</th>\n",
       "      <th>loan</th>\n",
       "      <th>day</th>\n",
       "      <th>duration</th>\n",
       "      <th>campaign</th>\n",
       "      <th>pdays</th>\n",
       "      <th>previous</th>\n",
       "      <th>y</th>\n",
       "    </tr>\n",
       "  </thead>\n",
       "  <tbody>\n",
       "    <tr>\n",
       "      <th>count</th>\n",
       "      <td>45211.000000</td>\n",
       "      <td>45211.000000</td>\n",
       "      <td>45211.000000</td>\n",
       "      <td>45211.000000</td>\n",
       "      <td>45211.000000</td>\n",
       "      <td>45211.000000</td>\n",
       "      <td>45211.000000</td>\n",
       "      <td>45211.000000</td>\n",
       "      <td>45211.000000</td>\n",
       "      <td>45211.000000</td>\n",
       "      <td>45211.000000</td>\n",
       "    </tr>\n",
       "    <tr>\n",
       "      <th>mean</th>\n",
       "      <td>40.936210</td>\n",
       "      <td>0.018027</td>\n",
       "      <td>1362.272058</td>\n",
       "      <td>0.555838</td>\n",
       "      <td>0.160226</td>\n",
       "      <td>15.806419</td>\n",
       "      <td>258.163080</td>\n",
       "      <td>2.763841</td>\n",
       "      <td>40.197828</td>\n",
       "      <td>0.580323</td>\n",
       "      <td>0.116985</td>\n",
       "    </tr>\n",
       "    <tr>\n",
       "      <th>std</th>\n",
       "      <td>10.618762</td>\n",
       "      <td>0.133049</td>\n",
       "      <td>3044.765829</td>\n",
       "      <td>0.496878</td>\n",
       "      <td>0.366820</td>\n",
       "      <td>8.322476</td>\n",
       "      <td>257.527812</td>\n",
       "      <td>3.098021</td>\n",
       "      <td>100.128746</td>\n",
       "      <td>2.303441</td>\n",
       "      <td>0.321406</td>\n",
       "    </tr>\n",
       "    <tr>\n",
       "      <th>min</th>\n",
       "      <td>18.000000</td>\n",
       "      <td>0.000000</td>\n",
       "      <td>-8019.000000</td>\n",
       "      <td>0.000000</td>\n",
       "      <td>0.000000</td>\n",
       "      <td>1.000000</td>\n",
       "      <td>0.000000</td>\n",
       "      <td>1.000000</td>\n",
       "      <td>-1.000000</td>\n",
       "      <td>0.000000</td>\n",
       "      <td>0.000000</td>\n",
       "    </tr>\n",
       "    <tr>\n",
       "      <th>25%</th>\n",
       "      <td>33.000000</td>\n",
       "      <td>0.000000</td>\n",
       "      <td>72.000000</td>\n",
       "      <td>0.000000</td>\n",
       "      <td>0.000000</td>\n",
       "      <td>8.000000</td>\n",
       "      <td>103.000000</td>\n",
       "      <td>1.000000</td>\n",
       "      <td>-1.000000</td>\n",
       "      <td>0.000000</td>\n",
       "      <td>0.000000</td>\n",
       "    </tr>\n",
       "    <tr>\n",
       "      <th>50%</th>\n",
       "      <td>39.000000</td>\n",
       "      <td>0.000000</td>\n",
       "      <td>448.000000</td>\n",
       "      <td>1.000000</td>\n",
       "      <td>0.000000</td>\n",
       "      <td>16.000000</td>\n",
       "      <td>180.000000</td>\n",
       "      <td>2.000000</td>\n",
       "      <td>-1.000000</td>\n",
       "      <td>0.000000</td>\n",
       "      <td>0.000000</td>\n",
       "    </tr>\n",
       "    <tr>\n",
       "      <th>75%</th>\n",
       "      <td>48.000000</td>\n",
       "      <td>0.000000</td>\n",
       "      <td>1428.000000</td>\n",
       "      <td>1.000000</td>\n",
       "      <td>0.000000</td>\n",
       "      <td>21.000000</td>\n",
       "      <td>319.000000</td>\n",
       "      <td>3.000000</td>\n",
       "      <td>-1.000000</td>\n",
       "      <td>0.000000</td>\n",
       "      <td>0.000000</td>\n",
       "    </tr>\n",
       "    <tr>\n",
       "      <th>max</th>\n",
       "      <td>95.000000</td>\n",
       "      <td>1.000000</td>\n",
       "      <td>102127.000000</td>\n",
       "      <td>1.000000</td>\n",
       "      <td>1.000000</td>\n",
       "      <td>31.000000</td>\n",
       "      <td>4918.000000</td>\n",
       "      <td>63.000000</td>\n",
       "      <td>871.000000</td>\n",
       "      <td>275.000000</td>\n",
       "      <td>1.000000</td>\n",
       "    </tr>\n",
       "  </tbody>\n",
       "</table>\n",
       "</div>"
      ],
      "text/plain": [
       "                age       default        balance       housing          loan  \\\n",
       "count  45211.000000  45211.000000   45211.000000  45211.000000  45211.000000   \n",
       "mean      40.936210      0.018027    1362.272058      0.555838      0.160226   \n",
       "std       10.618762      0.133049    3044.765829      0.496878      0.366820   \n",
       "min       18.000000      0.000000   -8019.000000      0.000000      0.000000   \n",
       "25%       33.000000      0.000000      72.000000      0.000000      0.000000   \n",
       "50%       39.000000      0.000000     448.000000      1.000000      0.000000   \n",
       "75%       48.000000      0.000000    1428.000000      1.000000      0.000000   \n",
       "max       95.000000      1.000000  102127.000000      1.000000      1.000000   \n",
       "\n",
       "                day      duration      campaign         pdays      previous  \\\n",
       "count  45211.000000  45211.000000  45211.000000  45211.000000  45211.000000   \n",
       "mean      15.806419    258.163080      2.763841     40.197828      0.580323   \n",
       "std        8.322476    257.527812      3.098021    100.128746      2.303441   \n",
       "min        1.000000      0.000000      1.000000     -1.000000      0.000000   \n",
       "25%        8.000000    103.000000      1.000000     -1.000000      0.000000   \n",
       "50%       16.000000    180.000000      2.000000     -1.000000      0.000000   \n",
       "75%       21.000000    319.000000      3.000000     -1.000000      0.000000   \n",
       "max       31.000000   4918.000000     63.000000    871.000000    275.000000   \n",
       "\n",
       "                  y  \n",
       "count  45211.000000  \n",
       "mean       0.116985  \n",
       "std        0.321406  \n",
       "min        0.000000  \n",
       "25%        0.000000  \n",
       "50%        0.000000  \n",
       "75%        0.000000  \n",
       "max        1.000000  "
      ]
     },
     "execution_count": 56,
     "metadata": {},
     "output_type": "execute_result"
    }
   ],
   "source": [
    "df.describe()"
   ]
  },
  {
   "cell_type": "markdown",
   "metadata": {},
   "source": [
    "<br>\n",
    "Lo que se puede apreciar es que la variable **balance** tiene valores muy dispersos, estando la media y los cuartiles muy alejados de los valores máximos y mínimos. Es posible que tenga outliers y se tengan que eliminar.\n",
    "\n",
    "La variable **duration** también es posible que tenga algún outlier debido a que su valor máximo está muy alejado del valor medio.\n",
    "\n",
    "La variables se tendrán que normalizar para que todas estén en la misma escala cuando se entrenen los modelos."
   ]
  },
  {
   "cell_type": "markdown",
   "metadata": {},
   "source": [
    "<br>\n",
    "A continuación, se analizan las variables una a una para hacer cambios sobre ellas en caso de que sea necesario."
   ]
  },
  {
   "cell_type": "markdown",
   "metadata": {},
   "source": [
    "### Variable \"job\""
   ]
  },
  {
   "cell_type": "code",
   "execution_count": 57,
   "metadata": {},
   "outputs": [
    {
     "data": {
      "text/plain": [
       "blue-collar      9732\n",
       "management       9458\n",
       "technician       7597\n",
       "admin.           5171\n",
       "services         4154\n",
       "retired          2264\n",
       "self-employed    1579\n",
       "entrepreneur     1487\n",
       "unemployed       1303\n",
       "housemaid        1240\n",
       "student           938\n",
       "unknown           288\n",
       "Name: job, dtype: int64"
      ]
     },
     "execution_count": 57,
     "metadata": {},
     "output_type": "execute_result"
    }
   ],
   "source": [
    "df.job.value_counts()"
   ]
  },
  {
   "cell_type": "markdown",
   "metadata": {},
   "source": [
    "<br>\n",
    "Algunas categorías de la variable **job** pueden unirse y, de esta forma, reducir el número de estas. Esto nos beneficiara, en el caso de usarse, en reducir el número de variables que empleen para entrenar los modelos, debido a que se tendrán que crear variables **dummies**.\n",
    "\n",
    "De esta forma, **management** y **admin.** se unirán en una categoría llamada **administration**, **services** y **housemaid** en una llamada **services**, y **retired**, **student**, **unemployed** y **unknown** en una llama **other**."
   ]
  },
  {
   "cell_type": "code",
   "execution_count": 58,
   "metadata": {},
   "outputs": [],
   "source": [
    "df['job'] = df.job.replace(['management', 'admin.'], 'administration')\n",
    "df['job'] = df.job.replace(['services', 'housemaid'], 'services')\n",
    "df['job'] = df.job.replace(['retired', 'student', 'unemployed', 'unknown'], 'other')"
   ]
  },
  {
   "cell_type": "code",
   "execution_count": 59,
   "metadata": {},
   "outputs": [
    {
     "data": {
      "text/plain": [
       "administration    14629\n",
       "blue-collar        9732\n",
       "technician         7597\n",
       "services           5394\n",
       "other              4793\n",
       "self-employed      1579\n",
       "entrepreneur       1487\n",
       "Name: job, dtype: int64"
      ]
     },
     "execution_count": 59,
     "metadata": {},
     "output_type": "execute_result"
    }
   ],
   "source": [
    "df.job.value_counts()"
   ]
  },
  {
   "cell_type": "markdown",
   "metadata": {},
   "source": [
    "### Variable \"marital\""
   ]
  },
  {
   "cell_type": "code",
   "execution_count": 60,
   "metadata": {},
   "outputs": [
    {
     "data": {
      "text/plain": [
       "married     27214\n",
       "single      12790\n",
       "divorced     5207\n",
       "Name: marital, dtype: int64"
      ]
     },
     "execution_count": 60,
     "metadata": {},
     "output_type": "execute_result"
    }
   ],
   "source": [
    "df.marital.value_counts()"
   ]
  },
  {
   "cell_type": "markdown",
   "metadata": {},
   "source": [
    "### Variable \"education\""
   ]
  },
  {
   "cell_type": "code",
   "execution_count": 61,
   "metadata": {},
   "outputs": [
    {
     "data": {
      "text/plain": [
       "secondary    23202\n",
       "tertiary     13301\n",
       "primary       6851\n",
       "unknown       1857\n",
       "Name: education, dtype: int64"
      ]
     },
     "execution_count": 61,
     "metadata": {},
     "output_type": "execute_result"
    }
   ],
   "source": [
    "df.education.value_counts()"
   ]
  },
  {
   "cell_type": "markdown",
   "metadata": {},
   "source": [
    "### Variable \"contact\""
   ]
  },
  {
   "cell_type": "code",
   "execution_count": 62,
   "metadata": {},
   "outputs": [
    {
     "data": {
      "text/plain": [
       "cellular     29285\n",
       "unknown      13020\n",
       "telephone     2906\n",
       "Name: contact, dtype: int64"
      ]
     },
     "execution_count": 62,
     "metadata": {},
     "output_type": "execute_result"
    }
   ],
   "source": [
    "df.contact.value_counts()"
   ]
  },
  {
   "cell_type": "markdown",
   "metadata": {},
   "source": [
    "### Variable \"month\""
   ]
  },
  {
   "cell_type": "code",
   "execution_count": 63,
   "metadata": {},
   "outputs": [
    {
     "data": {
      "text/plain": [
       "may    13766\n",
       "jul     6895\n",
       "aug     6247\n",
       "jun     5341\n",
       "nov     3970\n",
       "apr     2932\n",
       "feb     2649\n",
       "jan     1403\n",
       "oct      738\n",
       "sep      579\n",
       "mar      477\n",
       "dec      214\n",
       "Name: month, dtype: int64"
      ]
     },
     "execution_count": 63,
     "metadata": {},
     "output_type": "execute_result"
    }
   ],
   "source": [
    "df.month.value_counts()"
   ]
  },
  {
   "cell_type": "markdown",
   "metadata": {},
   "source": [
    "### Variable \"pdays\""
   ]
  },
  {
   "cell_type": "code",
   "execution_count": 64,
   "metadata": {},
   "outputs": [
    {
     "data": {
      "text/plain": [
       "0.81736745482294137"
      ]
     },
     "execution_count": 64,
     "metadata": {},
     "output_type": "execute_result"
    }
   ],
   "source": [
    "df.loc[df.pdays == -1, 'pdays'].count() / len(df)"
   ]
  },
  {
   "cell_type": "markdown",
   "metadata": {},
   "source": [
    "<br>\n",
    "El 81% de los registros de la variable **pdays** es -1, lo cual quiere decir que el cliente nunca fue contactado anteriormente. Por lo tanto, la variable **poutcome** también tendrá el valor *unknown* un 81% de las veces, al igual que la variable **previous** con el valor 0."
   ]
  },
  {
   "cell_type": "code",
   "execution_count": 65,
   "metadata": {},
   "outputs": [
    {
     "name": "stdout",
     "output_type": "stream",
     "text": [
      "0.817478047378\n",
      "0.817367454823\n"
     ]
    }
   ],
   "source": [
    "print(df.loc[df.poutcome == 'unknown', 'poutcome'].count() / len(df))\n",
    "print(df.loc[df.previous == 0, 'previous'].count() / len(df))"
   ]
  },
  {
   "cell_type": "markdown",
   "metadata": {},
   "source": [
    "### Variable \"poutcome\""
   ]
  },
  {
   "cell_type": "code",
   "execution_count": 66,
   "metadata": {},
   "outputs": [
    {
     "data": {
      "text/plain": [
       "unknown    36959\n",
       "failure     4901\n",
       "other       1840\n",
       "success     1511\n",
       "Name: poutcome, dtype: int64"
      ]
     },
     "execution_count": 66,
     "metadata": {},
     "output_type": "execute_result"
    }
   ],
   "source": [
    "df.poutcome.value_counts()"
   ]
  },
  {
   "cell_type": "markdown",
   "metadata": {},
   "source": [
    "<br>\n",
    "La categoría **unknown** puede unirse con la categoría **other** debido a que, prácticamente, nos da la misma información."
   ]
  },
  {
   "cell_type": "code",
   "execution_count": 67,
   "metadata": {},
   "outputs": [],
   "source": [
    "df['poutcome'] = df.poutcome.replace(['unknown'], 'other')"
   ]
  },
  {
   "cell_type": "code",
   "execution_count": 68,
   "metadata": {},
   "outputs": [
    {
     "data": {
      "text/plain": [
       "other      38799\n",
       "failure     4901\n",
       "success     1511\n",
       "Name: poutcome, dtype: int64"
      ]
     },
     "execution_count": 68,
     "metadata": {},
     "output_type": "execute_result"
    }
   ],
   "source": [
    "df.poutcome.value_counts()"
   ]
  },
  {
   "cell_type": "markdown",
   "metadata": {},
   "source": [
    "### Variable \"duration\""
   ]
  },
  {
   "cell_type": "markdown",
   "metadata": {},
   "source": [
    "Pasamos los segundos a minutos."
   ]
  },
  {
   "cell_type": "code",
   "execution_count": 69,
   "metadata": {},
   "outputs": [],
   "source": [
    "df['duration'] = df.duration / 60"
   ]
  },
  {
   "cell_type": "markdown",
   "metadata": {},
   "source": [
    "### Valores nulos"
   ]
  },
  {
   "cell_type": "markdown",
   "metadata": {},
   "source": [
    "A continuacón, se demuestra que no hay ningún valor nulo en el dataset."
   ]
  },
  {
   "cell_type": "code",
   "execution_count": 70,
   "metadata": {},
   "outputs": [
    {
     "data": {
      "text/plain": [
       "y            0.0\n",
       "loan         0.0\n",
       "job          0.0\n",
       "marital      0.0\n",
       "education    0.0\n",
       "default      0.0\n",
       "balance      0.0\n",
       "housing      0.0\n",
       "contact      0.0\n",
       "poutcome     0.0\n",
       "day          0.0\n",
       "month        0.0\n",
       "duration     0.0\n",
       "campaign     0.0\n",
       "pdays        0.0\n",
       "previous     0.0\n",
       "age          0.0\n",
       "dtype: float64"
      ]
     },
     "execution_count": 70,
     "metadata": {},
     "output_type": "execute_result"
    }
   ],
   "source": [
    "null_data = df.isnull().mean()\n",
    "null_data.sort_values(ascending=False)"
   ]
  },
  {
   "cell_type": "markdown",
   "metadata": {},
   "source": [
    "### Correlación entre variables"
   ]
  },
  {
   "cell_type": "code",
   "execution_count": 71,
   "metadata": {},
   "outputs": [
    {
     "data": {
      "text/html": [
       "<div>\n",
       "<style scoped>\n",
       "    .dataframe tbody tr th:only-of-type {\n",
       "        vertical-align: middle;\n",
       "    }\n",
       "\n",
       "    .dataframe tbody tr th {\n",
       "        vertical-align: top;\n",
       "    }\n",
       "\n",
       "    .dataframe thead th {\n",
       "        text-align: right;\n",
       "    }\n",
       "</style>\n",
       "<table border=\"1\" class=\"dataframe\">\n",
       "  <thead>\n",
       "    <tr style=\"text-align: right;\">\n",
       "      <th></th>\n",
       "      <th>age</th>\n",
       "      <th>default</th>\n",
       "      <th>balance</th>\n",
       "      <th>housing</th>\n",
       "      <th>loan</th>\n",
       "      <th>day</th>\n",
       "      <th>duration</th>\n",
       "      <th>campaign</th>\n",
       "      <th>pdays</th>\n",
       "      <th>previous</th>\n",
       "      <th>y</th>\n",
       "    </tr>\n",
       "  </thead>\n",
       "  <tbody>\n",
       "    <tr>\n",
       "      <th>age</th>\n",
       "      <td>1.000000</td>\n",
       "      <td>-0.017879</td>\n",
       "      <td>0.097783</td>\n",
       "      <td>-0.185513</td>\n",
       "      <td>-0.015655</td>\n",
       "      <td>-0.009120</td>\n",
       "      <td>-0.004648</td>\n",
       "      <td>0.004760</td>\n",
       "      <td>-0.023758</td>\n",
       "      <td>0.001288</td>\n",
       "      <td>0.025155</td>\n",
       "    </tr>\n",
       "    <tr>\n",
       "      <th>default</th>\n",
       "      <td>-0.017879</td>\n",
       "      <td>1.000000</td>\n",
       "      <td>-0.066745</td>\n",
       "      <td>-0.006025</td>\n",
       "      <td>0.077234</td>\n",
       "      <td>0.009424</td>\n",
       "      <td>-0.010021</td>\n",
       "      <td>0.016822</td>\n",
       "      <td>-0.029979</td>\n",
       "      <td>-0.018329</td>\n",
       "      <td>-0.022419</td>\n",
       "    </tr>\n",
       "    <tr>\n",
       "      <th>balance</th>\n",
       "      <td>0.097783</td>\n",
       "      <td>-0.066745</td>\n",
       "      <td>1.000000</td>\n",
       "      <td>-0.068768</td>\n",
       "      <td>-0.084350</td>\n",
       "      <td>0.004503</td>\n",
       "      <td>0.021560</td>\n",
       "      <td>-0.014578</td>\n",
       "      <td>0.003435</td>\n",
       "      <td>0.016674</td>\n",
       "      <td>0.052838</td>\n",
       "    </tr>\n",
       "    <tr>\n",
       "      <th>housing</th>\n",
       "      <td>-0.185513</td>\n",
       "      <td>-0.006025</td>\n",
       "      <td>-0.068768</td>\n",
       "      <td>1.000000</td>\n",
       "      <td>0.041323</td>\n",
       "      <td>-0.027982</td>\n",
       "      <td>0.005075</td>\n",
       "      <td>-0.023599</td>\n",
       "      <td>0.124178</td>\n",
       "      <td>0.037076</td>\n",
       "      <td>-0.139173</td>\n",
       "    </tr>\n",
       "    <tr>\n",
       "      <th>loan</th>\n",
       "      <td>-0.015655</td>\n",
       "      <td>0.077234</td>\n",
       "      <td>-0.084350</td>\n",
       "      <td>0.041323</td>\n",
       "      <td>1.000000</td>\n",
       "      <td>0.011370</td>\n",
       "      <td>-0.012412</td>\n",
       "      <td>0.009980</td>\n",
       "      <td>-0.022754</td>\n",
       "      <td>-0.011043</td>\n",
       "      <td>-0.068185</td>\n",
       "    </tr>\n",
       "    <tr>\n",
       "      <th>day</th>\n",
       "      <td>-0.009120</td>\n",
       "      <td>0.009424</td>\n",
       "      <td>0.004503</td>\n",
       "      <td>-0.027982</td>\n",
       "      <td>0.011370</td>\n",
       "      <td>1.000000</td>\n",
       "      <td>-0.030206</td>\n",
       "      <td>0.162490</td>\n",
       "      <td>-0.093044</td>\n",
       "      <td>-0.051710</td>\n",
       "      <td>-0.028348</td>\n",
       "    </tr>\n",
       "    <tr>\n",
       "      <th>duration</th>\n",
       "      <td>-0.004648</td>\n",
       "      <td>-0.010021</td>\n",
       "      <td>0.021560</td>\n",
       "      <td>0.005075</td>\n",
       "      <td>-0.012412</td>\n",
       "      <td>-0.030206</td>\n",
       "      <td>1.000000</td>\n",
       "      <td>-0.084570</td>\n",
       "      <td>-0.001565</td>\n",
       "      <td>0.001203</td>\n",
       "      <td>0.394521</td>\n",
       "    </tr>\n",
       "    <tr>\n",
       "      <th>campaign</th>\n",
       "      <td>0.004760</td>\n",
       "      <td>0.016822</td>\n",
       "      <td>-0.014578</td>\n",
       "      <td>-0.023599</td>\n",
       "      <td>0.009980</td>\n",
       "      <td>0.162490</td>\n",
       "      <td>-0.084570</td>\n",
       "      <td>1.000000</td>\n",
       "      <td>-0.088628</td>\n",
       "      <td>-0.032855</td>\n",
       "      <td>-0.073172</td>\n",
       "    </tr>\n",
       "    <tr>\n",
       "      <th>pdays</th>\n",
       "      <td>-0.023758</td>\n",
       "      <td>-0.029979</td>\n",
       "      <td>0.003435</td>\n",
       "      <td>0.124178</td>\n",
       "      <td>-0.022754</td>\n",
       "      <td>-0.093044</td>\n",
       "      <td>-0.001565</td>\n",
       "      <td>-0.088628</td>\n",
       "      <td>1.000000</td>\n",
       "      <td>0.454820</td>\n",
       "      <td>0.103621</td>\n",
       "    </tr>\n",
       "    <tr>\n",
       "      <th>previous</th>\n",
       "      <td>0.001288</td>\n",
       "      <td>-0.018329</td>\n",
       "      <td>0.016674</td>\n",
       "      <td>0.037076</td>\n",
       "      <td>-0.011043</td>\n",
       "      <td>-0.051710</td>\n",
       "      <td>0.001203</td>\n",
       "      <td>-0.032855</td>\n",
       "      <td>0.454820</td>\n",
       "      <td>1.000000</td>\n",
       "      <td>0.093236</td>\n",
       "    </tr>\n",
       "    <tr>\n",
       "      <th>y</th>\n",
       "      <td>0.025155</td>\n",
       "      <td>-0.022419</td>\n",
       "      <td>0.052838</td>\n",
       "      <td>-0.139173</td>\n",
       "      <td>-0.068185</td>\n",
       "      <td>-0.028348</td>\n",
       "      <td>0.394521</td>\n",
       "      <td>-0.073172</td>\n",
       "      <td>0.103621</td>\n",
       "      <td>0.093236</td>\n",
       "      <td>1.000000</td>\n",
       "    </tr>\n",
       "  </tbody>\n",
       "</table>\n",
       "</div>"
      ],
      "text/plain": [
       "               age   default   balance   housing      loan       day  \\\n",
       "age       1.000000 -0.017879  0.097783 -0.185513 -0.015655 -0.009120   \n",
       "default  -0.017879  1.000000 -0.066745 -0.006025  0.077234  0.009424   \n",
       "balance   0.097783 -0.066745  1.000000 -0.068768 -0.084350  0.004503   \n",
       "housing  -0.185513 -0.006025 -0.068768  1.000000  0.041323 -0.027982   \n",
       "loan     -0.015655  0.077234 -0.084350  0.041323  1.000000  0.011370   \n",
       "day      -0.009120  0.009424  0.004503 -0.027982  0.011370  1.000000   \n",
       "duration -0.004648 -0.010021  0.021560  0.005075 -0.012412 -0.030206   \n",
       "campaign  0.004760  0.016822 -0.014578 -0.023599  0.009980  0.162490   \n",
       "pdays    -0.023758 -0.029979  0.003435  0.124178 -0.022754 -0.093044   \n",
       "previous  0.001288 -0.018329  0.016674  0.037076 -0.011043 -0.051710   \n",
       "y         0.025155 -0.022419  0.052838 -0.139173 -0.068185 -0.028348   \n",
       "\n",
       "          duration  campaign     pdays  previous         y  \n",
       "age      -0.004648  0.004760 -0.023758  0.001288  0.025155  \n",
       "default  -0.010021  0.016822 -0.029979 -0.018329 -0.022419  \n",
       "balance   0.021560 -0.014578  0.003435  0.016674  0.052838  \n",
       "housing   0.005075 -0.023599  0.124178  0.037076 -0.139173  \n",
       "loan     -0.012412  0.009980 -0.022754 -0.011043 -0.068185  \n",
       "day      -0.030206  0.162490 -0.093044 -0.051710 -0.028348  \n",
       "duration  1.000000 -0.084570 -0.001565  0.001203  0.394521  \n",
       "campaign -0.084570  1.000000 -0.088628 -0.032855 -0.073172  \n",
       "pdays    -0.001565 -0.088628  1.000000  0.454820  0.103621  \n",
       "previous  0.001203 -0.032855  0.454820  1.000000  0.093236  \n",
       "y         0.394521 -0.073172  0.103621  0.093236  1.000000  "
      ]
     },
     "execution_count": 71,
     "metadata": {},
     "output_type": "execute_result"
    }
   ],
   "source": [
    "corr = df.corr()\n",
    "corr"
   ]
  },
  {
   "cell_type": "code",
   "execution_count": 72,
   "metadata": {},
   "outputs": [
    {
     "data": {
      "text/plain": [
       "<matplotlib.axes._subplots.AxesSubplot at 0x7f2216ecc4a8>"
      ]
     },
     "execution_count": 72,
     "metadata": {},
     "output_type": "execute_result"
    },
    {
     "data": {
      "image/png": "[encoded data removed]",
      "text/plain": [
       "<matplotlib.figure.Figure at 0x7f2216ee7a20>"
      ]
     },
     "metadata": {},
     "output_type": "display_data"
    }
   ],
   "source": [
    "sns.heatmap(corr, \n",
    "            xticklabels=corr.columns.values,\n",
    "            yticklabels=corr.columns.values)"
   ]
  },
  {
   "cell_type": "markdown",
   "metadata": {},
   "source": [
    "Hay que tener en cuenta que la medida de correlación se debe hacer para variables continuas.\n",
    "\n",
    "En general, no existe ningún par de variables con una alta correlación. La variables más correlacionadas son **pdays** y **previous**."
   ]
  },
  {
   "cell_type": "markdown",
   "metadata": {},
   "source": [
    "##  2.1. Análisis de variables continuas <a class=\"anchor\" id=\"analisis-continuas\"></a>"
   ]
  },
  {
   "cell_type": "markdown",
   "metadata": {},
   "source": [
    "Las variables continuas a analizar son **age**, **balance**, **day**, **duration**, **pdays**, **previous** y **campaign**."
   ]
  },
  {
   "cell_type": "code",
   "execution_count": 73,
   "metadata": {},
   "outputs": [
    {
     "data": {
      "text/plain": [
       "<seaborn.axisgrid.FacetGrid at 0x7f22170b3ac8>"
      ]
     },
     "execution_count": 73,
     "metadata": {},
     "output_type": "execute_result"
    },
    {
     "data": {
      "image/png": "[encoded data removed]",
      "text/plain": [
       "<matplotlib.figure.Figure at 0x7f22170b35c0>"
      ]
     },
     "metadata": {},
     "output_type": "display_data"
    }
   ],
   "source": [
    "continuous_feature_list = ['age', 'balance', 'day', 'duration', 'pdays', 'previous', 'campaign']\n",
    "\n",
    "sns.factorplot(kind='box',\n",
    "               data=df[continuous_feature_list],\n",
    "               size=7,\n",
    "               aspect=1.5,\n",
    "               legend_out=False)"
   ]
  },
  {
   "cell_type": "markdown",
   "metadata": {},
   "source": [
    "<br>\n",
    "Con los diagramas de cajas anteriores, podemos ver como la variable **balance** es la que más dispersión en los datos tiene y cuyos valores sobrepasan mucho sobre su mediana, como ya hemos comentado anteriormente. Dado que no es posible analizar todas las variables en esta escala, a continuación se crea un diagrama de cajas para cada variable separando los datos por la variable objetivo **y** para poder analizar cómo afecta cada una de las variables a la objetivo."
   ]
  },
  {
   "cell_type": "code",
   "execution_count": 74,
   "metadata": {
    "scrolled": false
   },
   "outputs": [
    {
     "data": {
      "image/png": "[encoded data removed]",
      "text/plain": [
       "<matplotlib.figure.Figure at 0x7f22170b3898>"
      ]
     },
     "metadata": {},
     "output_type": "display_data"
    },
    {
     "data": {
      "image/png": "[encoded data removed]",
      "text/plain": [
       "<matplotlib.figure.Figure at 0x7f2219557048>"
      ]
     },
     "metadata": {},
     "output_type": "display_data"
    },
    {
     "data": {
      "image/png": "[encoded data removed]",
      "text/plain": [
       "<matplotlib.figure.Figure at 0x7f22196b5a58>"
      ]
     },
     "metadata": {},
     "output_type": "display_data"
    },
    {
     "data": {
      "image/png": "[encoded data removed]",
      "text/plain": [
       "<matplotlib.figure.Figure at 0x7f2216df47b8>"
      ]
     },
     "metadata": {},
     "output_type": "display_data"
    },
    {
     "data": {
      "image/png": "[encoded data removed]",
      "text/plain": [
       "<matplotlib.figure.Figure at 0x7f2219816860>"
      ]
     },
     "metadata": {},
     "output_type": "display_data"
    },
    {
     "data": {
      "image/png": "[encoded data removed]",
      "text/plain": [
       "<matplotlib.figure.Figure at 0x7f2216f77cc0>"
      ]
     },
     "metadata": {},
     "output_type": "display_data"
    },
    {
     "data": {
      "image/png": "[encoded data removed]",
      "text/plain": [
       "<matplotlib.figure.Figure at 0x7f22170e1b00>"
      ]
     },
     "metadata": {},
     "output_type": "display_data"
    }
   ],
   "source": [
    "for i in continuous_feature_list:\n",
    "    tt = sns.factorplot(kind='box',\n",
    "                   x='y',\n",
    "                   y=i,\n",
    "                   data=df,\n",
    "                   size=7,\n",
    "                   aspect=1.5,\n",
    "                   legend_out=False)\n",
    "    tt.fig.suptitle(i)"
   ]
  },
  {
   "cell_type": "markdown",
   "metadata": {},
   "source": [
    "<br>\n",
    "Con estos diagramas de cajas podemos observar como todas las variables, excepto **duration** y **age** tienen aproximadamente la misma mediana y los mismos primer y tercer cuartiles para los valores 0 y 1 de la variable **y**.\n",
    "\n",
    "En la variable **age** se puede ver como en la categoría 1 de **y** hay una mayor dispersión de edades que para la categoría 0 de **y**. No obstante, es muy posible que esta variable por sí sola no aporte mucha información a los modelos, pero en conjunto con otras variables sí.\n",
    "\n",
    "Para la variable **duration**, se ve claramente que los clientes suscritos al depósito son los que han estado más minutos en contacto, por lo que es posible que sea una de las variables importantes para los modelos. Con la variable **pdays** parece que ocurre lo mismo, pero hay que tener en cuenta que el 81% de los registros tienen valor -1. Por lo tanto, lo que vemos en su diagrama de cajas es que hay una mayor proporción de valores -1 para la categoría 0 de **y**. Lo podemos ver a continuación:"
   ]
  },
  {
   "cell_type": "code",
   "execution_count": 75,
   "metadata": {},
   "outputs": [
    {
     "data": {
      "text/html": [
       "<div>\n",
       "<style scoped>\n",
       "    .dataframe tbody tr th:only-of-type {\n",
       "        vertical-align: middle;\n",
       "    }\n",
       "\n",
       "    .dataframe tbody tr th {\n",
       "        vertical-align: top;\n",
       "    }\n",
       "\n",
       "    .dataframe thead tr th {\n",
       "        text-align: left;\n",
       "    }\n",
       "\n",
       "    .dataframe thead tr:last-of-type th {\n",
       "        text-align: right;\n",
       "    }\n",
       "</style>\n",
       "<table border=\"1\" class=\"dataframe\">\n",
       "  <thead>\n",
       "    <tr>\n",
       "      <th></th>\n",
       "      <th colspan=\"8\" halign=\"left\">pdays</th>\n",
       "    </tr>\n",
       "    <tr>\n",
       "      <th></th>\n",
       "      <th>count</th>\n",
       "      <th>mean</th>\n",
       "      <th>std</th>\n",
       "      <th>min</th>\n",
       "      <th>25%</th>\n",
       "      <th>50%</th>\n",
       "      <th>75%</th>\n",
       "      <th>max</th>\n",
       "    </tr>\n",
       "    <tr>\n",
       "      <th>y</th>\n",
       "      <th></th>\n",
       "      <th></th>\n",
       "      <th></th>\n",
       "      <th></th>\n",
       "      <th></th>\n",
       "      <th></th>\n",
       "      <th></th>\n",
       "      <th></th>\n",
       "    </tr>\n",
       "  </thead>\n",
       "  <tbody>\n",
       "    <tr>\n",
       "      <th>0</th>\n",
       "      <td>39922.0</td>\n",
       "      <td>36.421372</td>\n",
       "      <td>96.757135</td>\n",
       "      <td>-1.0</td>\n",
       "      <td>-1.0</td>\n",
       "      <td>-1.0</td>\n",
       "      <td>-1.0</td>\n",
       "      <td>871.0</td>\n",
       "    </tr>\n",
       "    <tr>\n",
       "      <th>1</th>\n",
       "      <td>5289.0</td>\n",
       "      <td>68.702968</td>\n",
       "      <td>118.822266</td>\n",
       "      <td>-1.0</td>\n",
       "      <td>-1.0</td>\n",
       "      <td>-1.0</td>\n",
       "      <td>98.0</td>\n",
       "      <td>854.0</td>\n",
       "    </tr>\n",
       "  </tbody>\n",
       "</table>\n",
       "</div>"
      ],
      "text/plain": [
       "     pdays                                                   \n",
       "     count       mean         std  min  25%  50%   75%    max\n",
       "y                                                            \n",
       "0  39922.0  36.421372   96.757135 -1.0 -1.0 -1.0  -1.0  871.0\n",
       "1   5289.0  68.702968  118.822266 -1.0 -1.0 -1.0  98.0  854.0"
      ]
     },
     "execution_count": 75,
     "metadata": {},
     "output_type": "execute_result"
    }
   ],
   "source": [
    "df[['pdays', 'y']].groupby('y').describe()"
   ]
  },
  {
   "cell_type": "markdown",
   "metadata": {},
   "source": [
    "<br>\n",
    "Vemos que para la categoría 1, el tercer cuartil ya no es -1 y que la media es ligeramente más alta que para la categoría 0."
   ]
  },
  {
   "cell_type": "markdown",
   "metadata": {},
   "source": [
    "### Outliers"
   ]
  },
  {
   "cell_type": "markdown",
   "metadata": {},
   "source": [
    "Los anteriores diagramas de cajas han mostrado muchos valores por encima de los bigotes superiores, los cuales se podrían clasificar como outliers. No obstante, en la mayoría de las variables esto puede deberse a que la proporción de registros sobre una misma serie de valores es muy alta, dejando los cuartiles con un valor bajo. En mi opinión, no todos los valores que sobrepasan los bigotes superiores son outliers debido a que pueden ser valores perfectamente posibles y no parecen errores de inserción. No obstante, he eliminado aquellos donde sí se ve una separación clara del resto de valores para las variables **previous**, **duration** y **balance**."
   ]
  },
  {
   "cell_type": "markdown",
   "metadata": {},
   "source": [
    "** *previous* **"
   ]
  },
  {
   "cell_type": "code",
   "execution_count": 76,
   "metadata": {},
   "outputs": [
    {
     "name": "stdout",
     "output_type": "stream",
     "text": [
      "4 registros a eliminar\n"
     ]
    }
   ],
   "source": [
    "print(len(df[df.previous > 50]), 'registros a eliminar')"
   ]
  },
  {
   "cell_type": "code",
   "execution_count": 77,
   "metadata": {},
   "outputs": [
    {
     "data": {
      "text/plain": [
       "<seaborn.axisgrid.FacetGrid at 0x7f22196ca630>"
      ]
     },
     "execution_count": 77,
     "metadata": {},
     "output_type": "execute_result"
    },
    {
     "data": {
      "image/png": "[encoded data removed]",
      "text/plain": [
       "<matplotlib.figure.Figure at 0x7f2219666518>"
      ]
     },
     "metadata": {},
     "output_type": "display_data"
    }
   ],
   "source": [
    "df = df[df.previous < 50]\n",
    "\n",
    "sns.factorplot(kind='box',\n",
    "               x='y',\n",
    "               y='previous',\n",
    "               data=df,\n",
    "               size=7,\n",
    "               aspect=1.5,\n",
    "               legend_out=False)"
   ]
  },
  {
   "cell_type": "markdown",
   "metadata": {},
   "source": [
    "** *duration* **"
   ]
  },
  {
   "cell_type": "code",
   "execution_count": 78,
   "metadata": {},
   "outputs": [
    {
     "name": "stdout",
     "output_type": "stream",
     "text": [
      "3 registros a eliminar\n"
     ]
    }
   ],
   "source": [
    "print(len(df[df.duration > 60]), 'registros a eliminar')"
   ]
  },
  {
   "cell_type": "code",
   "execution_count": 79,
   "metadata": {},
   "outputs": [
    {
     "data": {
      "text/plain": [
       "<seaborn.axisgrid.FacetGrid at 0x7f2216f80908>"
      ]
     },
     "execution_count": 79,
     "metadata": {},
     "output_type": "execute_result"
    },
    {
     "data": {
      "image/png": "[encoded data removed]",
      "text/plain": [
       "<matplotlib.figure.Figure at 0x7f2219641748>"
      ]
     },
     "metadata": {},
     "output_type": "display_data"
    }
   ],
   "source": [
    "df = df[df.duration < 60]\n",
    "\n",
    "sns.factorplot(kind='box',\n",
    "               x='y',\n",
    "               y='duration',\n",
    "               data=df,\n",
    "               size=7,\n",
    "               aspect=1.5,\n",
    "               legend_out=False)"
   ]
  },
  {
   "cell_type": "markdown",
   "metadata": {},
   "source": [
    "** *balance* **"
   ]
  },
  {
   "cell_type": "code",
   "execution_count": 80,
   "metadata": {},
   "outputs": [
    {
     "name": "stdout",
     "output_type": "stream",
     "text": [
      "8 registros a eliminar\n"
     ]
    }
   ],
   "source": [
    "print(len(df[df.balance > 60000]), 'registros a eliminar')"
   ]
  },
  {
   "cell_type": "code",
   "execution_count": 81,
   "metadata": {},
   "outputs": [
    {
     "data": {
      "text/plain": [
       "<seaborn.axisgrid.FacetGrid at 0x7f221700ccc0>"
      ]
     },
     "execution_count": 81,
     "metadata": {},
     "output_type": "execute_result"
    },
    {
     "data": {
      "image/png": "[encoded data removed]",
      "text/plain": [
       "<matplotlib.figure.Figure at 0x7f2216f59fd0>"
      ]
     },
     "metadata": {},
     "output_type": "display_data"
    }
   ],
   "source": [
    "df = df[df.balance < 60000]\n",
    "\n",
    "sns.factorplot(kind='box',\n",
    "               x='y',\n",
    "               y='balance',\n",
    "               data=df,\n",
    "               size=7,\n",
    "               aspect=1.5,\n",
    "               legend_out=False)"
   ]
  },
  {
   "cell_type": "markdown",
   "metadata": {},
   "source": [
    "### Histogramas"
   ]
  },
  {
   "cell_type": "code",
   "execution_count": 82,
   "metadata": {
    "scrolled": false
   },
   "outputs": [
    {
     "data": {
      "image/png": "[encoded data removed]",
      "text/plain": [
       "<matplotlib.figure.Figure at 0x7f221726f5c0>"
      ]
     },
     "metadata": {},
     "output_type": "display_data"
    },
    {
     "data": {
      "image/png": "[encoded data removed]",
      "text/plain": [
       "<matplotlib.figure.Figure at 0x7f22173da048>"
      ]
     },
     "metadata": {},
     "output_type": "display_data"
    },
    {
     "data": {
      "image/png": "[encoded data removed]",
      "text/plain": [
       "<matplotlib.figure.Figure at 0x7f2217124a90>"
      ]
     },
     "metadata": {},
     "output_type": "display_data"
    },
    {
     "data": {
      "image/png": "[encoded data removed]",
      "text/plain": [
       "<matplotlib.figure.Figure at 0x7f221986b710>"
      ]
     },
     "metadata": {},
     "output_type": "display_data"
    },
    {
     "data": {
      "image/png": "[encoded data removed]",
      "text/plain": [
       "<matplotlib.figure.Figure at 0x7f2216f628d0>"
      ]
     },
     "metadata": {},
     "output_type": "display_data"
    },
    {
     "data": {
      "image/png": "[encoded data removed]",
      "text/plain": [
       "<matplotlib.figure.Figure at 0x7f2215093400>"
      ]
     },
     "metadata": {},
     "output_type": "display_data"
    },
    {
     "data": {
      "image/png": "[encoded data removed]",
      "text/plain": [
       "<matplotlib.figure.Figure at 0x7f2214f02128>"
      ]
     },
     "metadata": {},
     "output_type": "display_data"
    }
   ],
   "source": [
    "for i in continuous_feature_list:\n",
    "    df.hist(column=i, by='y', bins=100)\n",
    "    plt.suptitle(i)"
   ]
  },
  {
   "cell_type": "markdown",
   "metadata": {},
   "source": [
    "### Diagramas de barras"
   ]
  },
  {
   "cell_type": "markdown",
   "metadata": {},
   "source": [
    "A continuación, se discretizan las variables continuas para poder mostrar la proporción de suscritos y no suscritos al depósito por cada conjunto de valores. Se analiza la proporción debido a que no es posible comparar el efecto con el número de registros para cada categoría por haber una desproporción entre ambas (39.922 con valor 0 y 5289 con valor 1)."
   ]
  },
  {
   "cell_type": "markdown",
   "metadata": {},
   "source": [
    "** *balance* **"
   ]
  },
  {
   "cell_type": "code",
   "execution_count": 83,
   "metadata": {
    "scrolled": false
   },
   "outputs": [
    {
     "data": {
      "text/plain": [
       "<matplotlib.legend.Legend at 0x7f2214f84a90>"
      ]
     },
     "execution_count": 83,
     "metadata": {},
     "output_type": "execute_result"
    },
    {
     "data": {
      "image/png": "[encoded data removed]",
      "text/plain": [
       "<matplotlib.figure.Figure at 0x7f2214e55a58>"
      ]
     },
     "metadata": {},
     "output_type": "display_data"
    }
   ],
   "source": [
    "ranges =  [i for i in range(-2000, 10000, 500)]\n",
    "\n",
    "temp = df[['balance', 'y']].groupby([pd.cut(df.balance, ranges, right=False), 'y']).count()\n",
    "temp = temp.groupby(level=0).apply(lambda x: x * 100 / x.sum()).unstack()\n",
    "\n",
    "ax = temp.plot(kind='bar', legend=True, stacked=True)\n",
    "ax.set_xlabel(\"balance\", fontsize=12)\n",
    "ax.set_ylabel(\"%\", fontsize=12)\n",
    "ax.legend([\"0\", \"1\"])"
   ]
  },
  {
   "cell_type": "markdown",
   "metadata": {},
   "source": [
    "** *duration* **"
   ]
  },
  {
   "cell_type": "code",
   "execution_count": 84,
   "metadata": {
    "scrolled": false
   },
   "outputs": [
    {
     "data": {
      "text/plain": [
       "<matplotlib.legend.Legend at 0x7f2214be6278>"
      ]
     },
     "execution_count": 84,
     "metadata": {},
     "output_type": "execute_result"
    },
    {
     "data": {
      "image/png": "[encoded data removed]",
      "text/plain": [
       "<matplotlib.figure.Figure at 0x7f2214be2630>"
      ]
     },
     "metadata": {},
     "output_type": "display_data"
    }
   ],
   "source": [
    "ranges =  [i for i in range(int(min(df.duration)), int(max(df.duration)), 5)]\n",
    "\n",
    "temp = df[['duration', 'y']].groupby([pd.cut(df.duration, ranges, right=False), 'y']).count()\n",
    "temp = temp.groupby(level=0).apply(lambda x: x * 100 / x.sum()).unstack()\n",
    "\n",
    "ax = temp.plot(kind='bar', legend=True, stacked=True)\n",
    "ax.set_xlabel(\"duration\", fontsize=12)\n",
    "ax.set_ylabel(\"%\", fontsize=12)\n",
    "ax.legend([\"0\", \"1\"])"
   ]
  },
  {
   "cell_type": "markdown",
   "metadata": {},
   "source": [
    "** *pdays* **"
   ]
  },
  {
   "cell_type": "code",
   "execution_count": 85,
   "metadata": {},
   "outputs": [
    {
     "data": {
      "text/plain": [
       "<matplotlib.legend.Legend at 0x7f2214bd2550>"
      ]
     },
     "execution_count": 85,
     "metadata": {},
     "output_type": "execute_result"
    },
    {
     "data": {
      "image/png": "[encoded data removed]",
      "text/plain": [
       "<matplotlib.figure.Figure at 0x7f2214be2550>"
      ]
     },
     "metadata": {},
     "output_type": "display_data"
    }
   ],
   "source": [
    "ranges =  [i for i in range(min(df.pdays), 500, 50)]\n",
    "\n",
    "temp = df[['pdays', 'y']].groupby([pd.cut(df.pdays, ranges, right=False), 'y']).count()\n",
    "temp = temp.groupby(level=0).apply(lambda x: x * 100 / x.sum()).unstack()\n",
    "\n",
    "ax = temp.plot(kind='bar', legend=True, stacked=True)\n",
    "ax.set_xlabel(\"pdays\", fontsize=12)\n",
    "ax.set_ylabel(\"%\", fontsize=12)\n",
    "ax.legend([\"0\", \"1\"])"
   ]
  },
  {
   "cell_type": "markdown",
   "metadata": {},
   "source": [
    "** *previous* **"
   ]
  },
  {
   "cell_type": "code",
   "execution_count": 86,
   "metadata": {},
   "outputs": [
    {
     "data": {
      "text/plain": [
       "<matplotlib.legend.Legend at 0x7f2216f87eb8>"
      ]
     },
     "execution_count": 86,
     "metadata": {},
     "output_type": "execute_result"
    },
    {
     "data": {
      "image/png": "[encoded data removed]",
      "text/plain": [
       "<matplotlib.figure.Figure at 0x7f2214ebd080>"
      ]
     },
     "metadata": {},
     "output_type": "display_data"
    }
   ],
   "source": [
    "ranges =  [i for i in range(min(df.previous), 10, 1)]\n",
    "\n",
    "temp = df[['previous', 'y']].groupby([pd.cut(df.previous, ranges, right=False), 'y']).count()\n",
    "temp = temp.groupby(level=0).apply(lambda x: x * 100 / x.sum()).unstack()\n",
    "\n",
    "ax = temp.plot(kind='bar', legend=True, stacked=True)\n",
    "ax.set_xlabel(\"previous\", fontsize=12)\n",
    "ax.set_ylabel(\"%\", fontsize=12)\n",
    "ax.legend([\"0\", \"1\"])"
   ]
  },
  {
   "cell_type": "markdown",
   "metadata": {},
   "source": [
    "** *campaign* **"
   ]
  },
  {
   "cell_type": "code",
   "execution_count": 87,
   "metadata": {},
   "outputs": [
    {
     "data": {
      "text/plain": [
       "<matplotlib.legend.Legend at 0x7f221710b400>"
      ]
     },
     "execution_count": 87,
     "metadata": {},
     "output_type": "execute_result"
    },
    {
     "data": {
      "image/png": "[encoded data removed]",
      "text/plain": [
       "<matplotlib.figure.Figure at 0x7f2214dda668>"
      ]
     },
     "metadata": {},
     "output_type": "display_data"
    }
   ],
   "source": [
    "ranges =  [i for i in range(min(df.campaign), 30, 2)]\n",
    "\n",
    "temp = df[['campaign', 'y']].groupby([pd.cut(df.campaign, ranges, right=False), 'y']).count()\n",
    "temp = temp.groupby(level=0).apply(lambda x: x * 100 / x.sum()).unstack()\n",
    "\n",
    "ax = temp.plot(kind='bar', legend=True, stacked=True)\n",
    "ax.set_xlabel(\"campaign\", fontsize=12)\n",
    "ax.set_ylabel(\"%\", fontsize=12)\n",
    "ax.legend([\"0\", \"1\"])"
   ]
  },
  {
   "cell_type": "markdown",
   "metadata": {},
   "source": [
    "## 2.2. Análisis de variables descriptivas <a class=\"anchor\" id=\"analisis-descriptivas\"></a>"
   ]
  },
  {
   "cell_type": "code",
   "execution_count": 88,
   "metadata": {},
   "outputs": [
    {
     "data": {
      "text/plain": [
       "Text(81.125,0.5,'Number of elements')"
      ]
     },
     "execution_count": 88,
     "metadata": {},
     "output_type": "execute_result"
    },
    {
     "data": {
      "image/png": "[encoded data removed]",
      "text/plain": [
       "<matplotlib.figure.Figure at 0x7f2219769080>"
      ]
     },
     "metadata": {},
     "output_type": "display_data"
    }
   ],
   "source": [
    "descriptive_features = ['job', 'marital', 'education', 'contact', 'month', 'poutcome']\n",
    "\n",
    "fig, axis = plt.subplots(ncols=3, nrows=2)\n",
    "plt.tight_layout(h_pad=5, w_pad=2)\n",
    "\n",
    "for i, ax in enumerate(fig.axes):\n",
    "    temp = df[[descriptive_features[i], 'y']].groupby([descriptive_features[i], 'y']).size()\n",
    "    temp = temp.groupby(level=0).apply(lambda x: x * 100 / x.sum()).unstack()\n",
    "\n",
    "    temp.plot(kind='bar', legend=True, ax=ax, figsize=(13, 14), stacked=True)\n",
    "    ax.legend([\"0\", \"1\"])\n",
    "    \n",
    "axis[0][0].set_ylabel(\"Number of elements\", fontsize=12)\n",
    "axis[1][0].set_ylabel(\"Number of elements\", fontsize=12)"
   ]
  },
  {
   "cell_type": "markdown",
   "metadata": {},
   "source": [
    "## 2.3. Test Chi Square y Feature Importance <a class=\"anchor\" id=\"feature-importance\"></a>"
   ]
  },
  {
   "cell_type": "markdown",
   "metadata": {},
   "source": [
    "Para la selección de variables, además, se puede utilizar el método $\\chi^2$, el cual comprueba la independencia de dos eventos. En este caso se muestra la independencia entre las variables de entrenamiento y la variable objetivo. Se ha usado el *p-value* para medir el grado de independencia, siendo un *p-value* alto relación de gran independencia."
   ]
  },
  {
   "cell_type": "code",
   "execution_count": 89,
   "metadata": {},
   "outputs": [],
   "source": [
    "from sklearn.feature_selection import SelectKBest, chi2"
   ]
  },
  {
   "cell_type": "markdown",
   "metadata": {},
   "source": [
    "<br>\n",
    "Ha sido necesario crear variables **dummy** de las variables descriptivas."
   ]
  },
  {
   "cell_type": "code",
   "execution_count": 90,
   "metadata": {},
   "outputs": [
    {
     "data": {
      "text/plain": [
       "<matplotlib.axes._subplots.AxesSubplot at 0x7f2214d36f60>"
      ]
     },
     "execution_count": 90,
     "metadata": {},
     "output_type": "execute_result"
    },
    {
     "data": {
      "image/png": "[encoded data removed]",
      "text/plain": [
       "<matplotlib.figure.Figure at 0x7f22196d7f60>"
      ]
     },
     "metadata": {},
     "output_type": "display_data"
    }
   ],
   "source": [
    "X = df.loc[:, df.columns != 'y']\n",
    "Y = df.y\n",
    "\n",
    "X_dummies = pd.get_dummies(X)\n",
    "X_dummies_min_max = MinMaxScaler().fit_transform(X_dummies)\n",
    "\n",
    "k_best_features = SelectKBest(chi2, k=10).fit(X_dummies_min_max, Y)\n",
    "\n",
    "feat = pd.DataFrame(index=X_dummies.keys(), data=k_best_features.pvalues_, columns=['p-value'])\n",
    "feat = feat.sort_values(by='p-value', ascending=True)\n",
    "\n",
    "feat.plot(kind='bar', rot=80, figsize=(14, 10))"
   ]
  },
  {
   "cell_type": "markdown",
   "metadata": {},
   "source": [
    "<br>\n",
    "Las variables de **job**, **marital**, **balance** y **age** son las que más independencia muestran con respecto a la variable objetivo. Las variables de **poutcome** se muestran como las más dependientes de la variable objetivo."
   ]
  },
  {
   "cell_type": "markdown",
   "metadata": {},
   "source": [
    "<br>\n",
    "Otro método para comprobar la importancia que tiene cada variable para la variable objetivo es entrenando, por ejemplo, un **Random Forest** y viendo qué variables ha considerado más importantes para realizar las separaciones. Este método es más robusto que el anterior, ya que tiene en cuenta a todas las variables en conjunto. Es decir, es posible que una variable por sí sola no tenga impacto sobre la variable objetivo, pero sobre otro espacio de dimensiones donde se tienen en cuenta a todas las variables, es posible que sí tenga impacto."
   ]
  },
  {
   "cell_type": "code",
   "execution_count": 91,
   "metadata": {},
   "outputs": [],
   "source": [
    "from sklearn.ensemble import RandomForestClassifier"
   ]
  },
  {
   "cell_type": "code",
   "execution_count": 92,
   "metadata": {},
   "outputs": [
    {
     "data": {
      "text/plain": [
       "<matplotlib.axes._subplots.AxesSubplot at 0x7f2216e42358>"
      ]
     },
     "execution_count": 92,
     "metadata": {},
     "output_type": "execute_result"
    },
    {
     "data": {
      "image/png": "[encoded data removed]",
      "text/plain": [
       "<matplotlib.figure.Figure at 0x7f2214e4f438>"
      ]
     },
     "metadata": {},
     "output_type": "display_data"
    }
   ],
   "source": [
    "X = df.loc[:, df.columns != 'y']\n",
    "Y = df.y\n",
    "\n",
    "# Get dummies\n",
    "X_dummies = pd.get_dummies(X)\n",
    "\n",
    "# Scale between 0 to 1\n",
    "X_dummies_min_max = MinMaxScaler().fit_transform(X_dummies)\n",
    "\n",
    "# Random Forest Classifier\n",
    "model = RandomForestClassifier()\n",
    "model.fit(X_dummies_min_max, Y)\n",
    "\n",
    "feat = pd.DataFrame(index=X_dummies.keys(), data=model.feature_importances_, columns=['Feature importances'])\n",
    "feat = feat.sort_values(by='Feature importances', ascending=False)\n",
    "\n",
    "feat.plot(kind='bar', rot=80, figsize=(14, 10))"
   ]
  },
  {
   "cell_type": "markdown",
   "metadata": {},
   "source": [
    "<br>\n",
    "En este caso, podemos observar como las variables **age** y **balance**, las cuales eran consideradas poco importantes con el anterior método, son las más importantes para los árboles aleatorios, junto a la variable **duration**. Además, las variables **poutcome**, como en el anterior método, también son importantes para el modelo.\n",
    "\n",
    "En cambio, **job**, **marital** y **default** son las que se muestran menos importantes para los árboles aleatorios, siendo las dos primeras poco importantes también para el test $\\chi^2$, por lo que se eliminarán y no se tendrán en cuenta en los modelos que se entrenen."
   ]
  },
  {
   "cell_type": "markdown",
   "metadata": {},
   "source": [
    "# 3. Selección del conjunto de datos final <a class=\"anchor\" id=\"seleccion-datos\"></a>"
   ]
  },
  {
   "cell_type": "markdown",
   "metadata": {},
   "source": [
    "Como se ha comentado anteriormente, las variable **job**, **default**, **marital** y **contact** se eliminan del modelo de datos para no tenerlas en cuenta en el entrenamiento de los modelos."
   ]
  },
  {
   "cell_type": "code",
   "execution_count": 93,
   "metadata": {},
   "outputs": [],
   "source": [
    "df_final = df[df.columns.difference(['job', 'marital', 'default', 'contact'])]"
   ]
  },
  {
   "cell_type": "markdown",
   "metadata": {},
   "source": [
    "<br>\n",
    "A continuación, se crean las variables **dummies** de las variables descriptivas."
   ]
  },
  {
   "cell_type": "code",
   "execution_count": 94,
   "metadata": {},
   "outputs": [
    {
     "data": {
      "text/plain": [
       "(45196, 29)"
      ]
     },
     "execution_count": 94,
     "metadata": {},
     "output_type": "execute_result"
    }
   ],
   "source": [
    "df_dummies = pd.get_dummies(df_final)\n",
    "df_dummies.shape"
   ]
  },
  {
   "cell_type": "code",
   "execution_count": 95,
   "metadata": {},
   "outputs": [
    {
     "data": {
      "text/html": [
       "<div>\n",
       "<style scoped>\n",
       "    .dataframe tbody tr th:only-of-type {\n",
       "        vertical-align: middle;\n",
       "    }\n",
       "\n",
       "    .dataframe tbody tr th {\n",
       "        vertical-align: top;\n",
       "    }\n",
       "\n",
       "    .dataframe thead th {\n",
       "        text-align: right;\n",
       "    }\n",
       "</style>\n",
       "<table border=\"1\" class=\"dataframe\">\n",
       "  <thead>\n",
       "    <tr style=\"text-align: right;\">\n",
       "      <th></th>\n",
       "      <th>age</th>\n",
       "      <th>balance</th>\n",
       "      <th>campaign</th>\n",
       "      <th>day</th>\n",
       "      <th>duration</th>\n",
       "      <th>housing</th>\n",
       "      <th>loan</th>\n",
       "      <th>pdays</th>\n",
       "      <th>previous</th>\n",
       "      <th>y</th>\n",
       "      <th>education_primary</th>\n",
       "      <th>education_secondary</th>\n",
       "      <th>education_tertiary</th>\n",
       "      <th>education_unknown</th>\n",
       "      <th>month_apr</th>\n",
       "      <th>month_aug</th>\n",
       "      <th>month_dec</th>\n",
       "      <th>month_feb</th>\n",
       "      <th>month_jan</th>\n",
       "      <th>month_jul</th>\n",
       "      <th>month_jun</th>\n",
       "      <th>month_mar</th>\n",
       "      <th>month_may</th>\n",
       "      <th>month_nov</th>\n",
       "      <th>month_oct</th>\n",
       "      <th>month_sep</th>\n",
       "      <th>poutcome_failure</th>\n",
       "      <th>poutcome_other</th>\n",
       "      <th>poutcome_success</th>\n",
       "    </tr>\n",
       "  </thead>\n",
       "  <tbody>\n",
       "    <tr>\n",
       "      <th>0</th>\n",
       "      <td>58</td>\n",
       "      <td>2143</td>\n",
       "      <td>1</td>\n",
       "      <td>5</td>\n",
       "      <td>4.350000</td>\n",
       "      <td>1</td>\n",
       "      <td>0</td>\n",
       "      <td>-1</td>\n",
       "      <td>0</td>\n",
       "      <td>0</td>\n",
       "      <td>0</td>\n",
       "      <td>0</td>\n",
       "      <td>1</td>\n",
       "      <td>0</td>\n",
       "      <td>0</td>\n",
       "      <td>0</td>\n",
       "      <td>0</td>\n",
       "      <td>0</td>\n",
       "      <td>0</td>\n",
       "      <td>0</td>\n",
       "      <td>0</td>\n",
       "      <td>0</td>\n",
       "      <td>1</td>\n",
       "      <td>0</td>\n",
       "      <td>0</td>\n",
       "      <td>0</td>\n",
       "      <td>0</td>\n",
       "      <td>1</td>\n",
       "      <td>0</td>\n",
       "    </tr>\n",
       "    <tr>\n",
       "      <th>1</th>\n",
       "      <td>44</td>\n",
       "      <td>29</td>\n",
       "      <td>1</td>\n",
       "      <td>5</td>\n",
       "      <td>2.516667</td>\n",
       "      <td>1</td>\n",
       "      <td>0</td>\n",
       "      <td>-1</td>\n",
       "      <td>0</td>\n",
       "      <td>0</td>\n",
       "      <td>0</td>\n",
       "      <td>1</td>\n",
       "      <td>0</td>\n",
       "      <td>0</td>\n",
       "      <td>0</td>\n",
       "      <td>0</td>\n",
       "      <td>0</td>\n",
       "      <td>0</td>\n",
       "      <td>0</td>\n",
       "      <td>0</td>\n",
       "      <td>0</td>\n",
       "      <td>0</td>\n",
       "      <td>1</td>\n",
       "      <td>0</td>\n",
       "      <td>0</td>\n",
       "      <td>0</td>\n",
       "      <td>0</td>\n",
       "      <td>1</td>\n",
       "      <td>0</td>\n",
       "    </tr>\n",
       "    <tr>\n",
       "      <th>2</th>\n",
       "      <td>33</td>\n",
       "      <td>2</td>\n",
       "      <td>1</td>\n",
       "      <td>5</td>\n",
       "      <td>1.266667</td>\n",
       "      <td>1</td>\n",
       "      <td>1</td>\n",
       "      <td>-1</td>\n",
       "      <td>0</td>\n",
       "      <td>0</td>\n",
       "      <td>0</td>\n",
       "      <td>1</td>\n",
       "      <td>0</td>\n",
       "      <td>0</td>\n",
       "      <td>0</td>\n",
       "      <td>0</td>\n",
       "      <td>0</td>\n",
       "      <td>0</td>\n",
       "      <td>0</td>\n",
       "      <td>0</td>\n",
       "      <td>0</td>\n",
       "      <td>0</td>\n",
       "      <td>1</td>\n",
       "      <td>0</td>\n",
       "      <td>0</td>\n",
       "      <td>0</td>\n",
       "      <td>0</td>\n",
       "      <td>1</td>\n",
       "      <td>0</td>\n",
       "    </tr>\n",
       "    <tr>\n",
       "      <th>3</th>\n",
       "      <td>47</td>\n",
       "      <td>1506</td>\n",
       "      <td>1</td>\n",
       "      <td>5</td>\n",
       "      <td>1.533333</td>\n",
       "      <td>1</td>\n",
       "      <td>0</td>\n",
       "      <td>-1</td>\n",
       "      <td>0</td>\n",
       "      <td>0</td>\n",
       "      <td>0</td>\n",
       "      <td>0</td>\n",
       "      <td>0</td>\n",
       "      <td>1</td>\n",
       "      <td>0</td>\n",
       "      <td>0</td>\n",
       "      <td>0</td>\n",
       "      <td>0</td>\n",
       "      <td>0</td>\n",
       "      <td>0</td>\n",
       "      <td>0</td>\n",
       "      <td>0</td>\n",
       "      <td>1</td>\n",
       "      <td>0</td>\n",
       "      <td>0</td>\n",
       "      <td>0</td>\n",
       "      <td>0</td>\n",
       "      <td>1</td>\n",
       "      <td>0</td>\n",
       "    </tr>\n",
       "    <tr>\n",
       "      <th>4</th>\n",
       "      <td>33</td>\n",
       "      <td>1</td>\n",
       "      <td>1</td>\n",
       "      <td>5</td>\n",
       "      <td>3.300000</td>\n",
       "      <td>0</td>\n",
       "      <td>0</td>\n",
       "      <td>-1</td>\n",
       "      <td>0</td>\n",
       "      <td>0</td>\n",
       "      <td>0</td>\n",
       "      <td>0</td>\n",
       "      <td>0</td>\n",
       "      <td>1</td>\n",
       "      <td>0</td>\n",
       "      <td>0</td>\n",
       "      <td>0</td>\n",
       "      <td>0</td>\n",
       "      <td>0</td>\n",
       "      <td>0</td>\n",
       "      <td>0</td>\n",
       "      <td>0</td>\n",
       "      <td>1</td>\n",
       "      <td>0</td>\n",
       "      <td>0</td>\n",
       "      <td>0</td>\n",
       "      <td>0</td>\n",
       "      <td>1</td>\n",
       "      <td>0</td>\n",
       "    </tr>\n",
       "  </tbody>\n",
       "</table>\n",
       "</div>"
      ],
      "text/plain": [
       "   age  balance  campaign  day  duration  housing  loan  pdays  previous  y  \\\n",
       "0   58     2143         1    5  4.350000        1     0     -1         0  0   \n",
       "1   44       29         1    5  2.516667        1     0     -1         0  0   \n",
       "2   33        2         1    5  1.266667        1     1     -1         0  0   \n",
       "3   47     1506         1    5  1.533333        1     0     -1         0  0   \n",
       "4   33        1         1    5  3.300000        0     0     -1         0  0   \n",
       "\n",
       "   education_primary  education_secondary  education_tertiary  \\\n",
       "0                  0                    0                   1   \n",
       "1                  0                    1                   0   \n",
       "2                  0                    1                   0   \n",
       "3                  0                    0                   0   \n",
       "4                  0                    0                   0   \n",
       "\n",
       "   education_unknown  month_apr  month_aug  month_dec  month_feb  month_jan  \\\n",
       "0                  0          0          0          0          0          0   \n",
       "1                  0          0          0          0          0          0   \n",
       "2                  0          0          0          0          0          0   \n",
       "3                  1          0          0          0          0          0   \n",
       "4                  1          0          0          0          0          0   \n",
       "\n",
       "   month_jul  month_jun  month_mar  month_may  month_nov  month_oct  \\\n",
       "0          0          0          0          1          0          0   \n",
       "1          0          0          0          1          0          0   \n",
       "2          0          0          0          1          0          0   \n",
       "3          0          0          0          1          0          0   \n",
       "4          0          0          0          1          0          0   \n",
       "\n",
       "   month_sep  poutcome_failure  poutcome_other  poutcome_success  \n",
       "0          0                 0               1                 0  \n",
       "1          0                 0               1                 0  \n",
       "2          0                 0               1                 0  \n",
       "3          0                 0               1                 0  \n",
       "4          0                 0               1                 0  "
      ]
     },
     "execution_count": 95,
     "metadata": {},
     "output_type": "execute_result"
    }
   ],
   "source": [
    "df_dummies.head()"
   ]
  },
  {
   "cell_type": "markdown",
   "metadata": {},
   "source": [
    "# 4. Separación de datos de entrenamiento y prueba <a class=\"anchor\" id=\"train-test\"></a>"
   ]
  },
  {
   "cell_type": "code",
   "execution_count": 96,
   "metadata": {},
   "outputs": [],
   "source": [
    "from sklearn.model_selection import train_test_split"
   ]
  },
  {
   "cell_type": "markdown",
   "metadata": {},
   "source": [
    "<br>\n",
    "Separamos los datos en entrenamiento y prueba (30%) del conjunto de datos completo."
   ]
  },
  {
   "cell_type": "code",
   "execution_count": 97,
   "metadata": {},
   "outputs": [],
   "source": [
    "df_X = df_dummies.loc[:, df_dummies.columns != 'y']\n",
    "df_y = df_dummies.y\n",
    "\n",
    "X_train, X_test, y_train, y_test = train_test_split(df_X, df_y,\n",
    "                                                    test_size = 0.3, \n",
    "                                                    random_state = 1234)"
   ]
  },
  {
   "cell_type": "code",
   "execution_count": 98,
   "metadata": {},
   "outputs": [
    {
     "name": "stdout",
     "output_type": "stream",
     "text": [
      "X_train: (31637, 28)\n",
      "X_test:  (13559, 28)\n",
      "y_train: (31637,)\n",
      "y_test:  (13559,)\n"
     ]
    }
   ],
   "source": [
    "print(\"X_train: \" + str(X_train.shape))\n",
    "print(\"X_test:  \" + str(X_test.shape))\n",
    "print(\"y_train: \" + str(y_train.shape))\n",
    "print(\"y_test:  \" + str(y_test.shape))"
   ]
  },
  {
   "cell_type": "markdown",
   "metadata": {},
   "source": [
    "# 5. K-Nearest Neighbors Classifier <a class=\"anchor\" id=\"knn\"></a>"
   ]
  },
  {
   "cell_type": "markdown",
   "metadata": {},
   "source": [
    "A continuación, realizamos un *GridSearchCV* de un **K-Nearest Neighbors** con $k-vecinos = [12, 20]$, considerando pesos uniformes o la inversa de su distancia, y midiendo con la distancia de Manhattan y la Euclidiana."
   ]
  },
  {
   "cell_type": "code",
   "execution_count": 99,
   "metadata": {},
   "outputs": [],
   "source": [
    "from sklearn.neighbors import KNeighborsClassifier"
   ]
  },
  {
   "cell_type": "code",
   "execution_count": 100,
   "metadata": {
    "scrolled": false
   },
   "outputs": [
    {
     "name": "stdout",
     "output_type": "stream",
     "text": [
      "Best params:  {'knn__n_neighbors': 14, 'knn__p': 1, 'knn__weights': 'uniform'}\n",
      "\n",
      "\n",
      "ROC Curve: 0.87\n",
      "\n",
      "\n",
      "Confusion matrix: \n",
      " [[  381  1262]\n",
      " [  204 11712]]\n",
      "\n",
      "\n",
      "Accuracy: 0.891879932148\n",
      "\n",
      "\n",
      "Classification report: \n",
      "              precision    recall  f1-score   support\n",
      "\n",
      "          0       0.90      0.98      0.94     11916\n",
      "          1       0.65      0.23      0.34      1643\n",
      "\n",
      "avg / total       0.87      0.89      0.87     13559\n",
      "\n"
     ]
    }
   ],
   "source": [
    "scaler = MinMaxScaler()\n",
    "knn_class = KNeighborsClassifier()\n",
    "\n",
    "scaler_step = ('scaler', scaler)\n",
    "knn_class_step = ('knn', knn_class)\n",
    "steps = [scaler_step, knn_class_step]\n",
    "pipe = Pipeline(steps)\n",
    "\n",
    "params = {'knn__n_neighbors': range(12, 20),\n",
    "          'knn__weights': ['uniform', 'distance'],\n",
    "          'knn__p': [1, 2]} # p = 1 -> manhattan_distance (L1), p = 2 -> euclidean_distance (L2)\n",
    "\n",
    "kfold = StratifiedKFold(n_splits = 10)\n",
    "\n",
    "gs_knn_class = GridSearchCV(pipe, param_grid=params, cv=kfold, n_jobs=5)\n",
    "gs_knn_class.fit(X_train, y_train)\n",
    "\n",
    "y_pred_gs_knn_class = gs_knn_class.predict(X_test)\n",
    "y_pred_gs_knn_class_proba = gs_knn_class.predict_proba(X_test)\n",
    "\n",
    "print(\"Best params: \", gs_knn_class.best_params_)\n",
    "print('\\n')\n",
    "print(\"ROC Curve: %.2f\" % roc_auc_score(y_true=y_test, y_score=y_pred_gs_knn_class_proba[:, 1]))\n",
    "print('\\n')\n",
    "print(\"Confusion matrix: \\n\", confusion_matrix(y_test, y_pred_gs_knn_class, labels=[1, 0]))\n",
    "print('\\n')\n",
    "print(\"Accuracy:\", accuracy_score(y_test, y_pred_gs_knn_class))\n",
    "print('\\n')\n",
    "print(\"Classification report: \\n\", classification_report(y_test, y_pred_gs_knn_class))"
   ]
  },
  {
   "cell_type": "markdown",
   "metadata": {},
   "source": [
    "# 6. Regresión logística <a class=\"anchor\" id=\"regresion-logistica\"></a>"
   ]
  },
  {
   "cell_type": "code",
   "execution_count": 56,
   "metadata": {
    "collapsed": true
   },
   "outputs": [],
   "source": [
    "from sklearn.linear_model import LogisticRegression"
   ]
  },
  {
   "cell_type": "code",
   "execution_count": 57,
   "metadata": {},
   "outputs": [
    {
     "name": "stdout",
     "output_type": "stream",
     "text": [
      "ROC Curve: 0.90\n",
      "\n",
      "\n",
      "Confusion matrix: \n",
      " [[  541  1102]\n",
      " [  286 11630]]\n",
      "\n",
      "\n",
      "Accuracy: 0.897632568774\n",
      "\n",
      "\n",
      "Classification report: \n",
      "              precision    recall  f1-score   support\n",
      "\n",
      "          0       0.91      0.98      0.94     11916\n",
      "          1       0.65      0.33      0.44      1643\n",
      "\n",
      "avg / total       0.88      0.90      0.88     13559\n",
      "\n"
     ]
    }
   ],
   "source": [
    "scaler = MinMaxScaler()\n",
    "class_LR = LogisticRegression()\n",
    "\n",
    "scaler_step = ('scaler', scaler)\n",
    "class_LR_step = ('class_LR', class_LR)\n",
    "steps = [scaler_step, class_LR_step]\n",
    "pipe = Pipeline(steps)\n",
    "\n",
    "pipe.fit(X_train, y_train)\n",
    "\n",
    "y_pred_LR = pipe.predict(X_test)\n",
    "y_pred_LR_proba = pipe.predict_proba(X_test)\n",
    "\n",
    "print(\"ROC Curve: %.2f\" % roc_auc_score(y_true=y_test, y_score=y_pred_LR_proba[:, 1]))\n",
    "print('\\n')\n",
    "print(\"Confusion matrix: \\n\", confusion_matrix(y_test, y_pred_LR, labels=[1, 0]))\n",
    "print('\\n')\n",
    "print(\"Accuracy:\", accuracy_score(y_test, y_pred_LR))\n",
    "print('\\n')\n",
    "print(\"Classification report: \\n\", classification_report(y_test, y_pred_LR))"
   ]
  },
  {
   "cell_type": "markdown",
   "metadata": {},
   "source": [
    "# 7. Árbol de decisión <a class=\"anchor\" id=\"arbol-decision\"></a>"
   ]
  },
  {
   "cell_type": "markdown",
   "metadata": {},
   "source": [
    "Los árboles de decisión son algoritmos de aprendizaje supervisado donde es posible visualizar el árbol de decisión entrenado, por lo que la interpretación de los resultados es más fácil. La forma en la que se genera un árbol de decisión es cogiendo el mejor atributo del conjunto de datos y situándolo en la *raíz* del árbol, para hacer un *split* y obtener un subconjunto de datos más pequeño. Posteriormente, se realizan estos mismos pasos en cada subconjunto de datos hasta encontrar los *nodos hoja* en cada una de las ramas del árbol. Los árboles de decisión, aunque son fácilmente interpretables, sufren por tener una alta varianza y un pequeño cambio en los datos, puede cambiar el resultado final del árbol. "
   ]
  },
  {
   "cell_type": "code",
   "execution_count": 58,
   "metadata": {
    "collapsed": true
   },
   "outputs": [],
   "source": [
    "from sklearn.tree import DecisionTreeClassifier"
   ]
  },
  {
   "cell_type": "markdown",
   "metadata": {},
   "source": [
    "## 7.1 Árbol de decisión básico <a class=\"anchor\" id=\"arbol-decision-basico\"></a>"
   ]
  },
  {
   "cell_type": "markdown",
   "metadata": {},
   "source": [
    "Creamos un modelo con un árbol de decisión sin modificar ningún parámetro:"
   ]
  },
  {
   "cell_type": "code",
   "execution_count": 59,
   "metadata": {},
   "outputs": [
    {
     "name": "stdout",
     "output_type": "stream",
     "text": [
      "ROC Curve: 0.70\n",
      "\n",
      "\n",
      "Confusion matrix: \n",
      " [[  795   848]\n",
      " [  896 11020]]\n",
      "\n",
      "\n",
      "Accuracy: 0.871376945202\n",
      "\n",
      "\n",
      "Classification report: \n",
      "              precision    recall  f1-score   support\n",
      "\n",
      "          0       0.93      0.92      0.93     11916\n",
      "          1       0.47      0.48      0.48      1643\n",
      "\n",
      "avg / total       0.87      0.87      0.87     13559\n",
      "\n"
     ]
    }
   ],
   "source": [
    "scaler = MinMaxScaler()\n",
    "class_DT = DecisionTreeClassifier()\n",
    "\n",
    "scaler_step = ('scaler', scaler)\n",
    "class_DT_step = ('class_DT', class_DT)\n",
    "steps = [scaler_step, class_DT_step]\n",
    "pipe = Pipeline(steps)\n",
    "\n",
    "pipe.fit(X_train, y_train)\n",
    "\n",
    "y_pred_class_DT = pipe.predict(X_test)\n",
    "y_pred_class_DT_proba = pipe.predict_proba(X_test)\n",
    "\n",
    "print(\"ROC Curve: %.2f\" % roc_auc_score(y_true=y_test, y_score=y_pred_class_DT_proba[:, 1]))\n",
    "print('\\n')\n",
    "print(\"Confusion matrix: \\n\", confusion_matrix(y_test, y_pred_class_DT, labels=[1, 0]))\n",
    "print('\\n')\n",
    "print(\"Accuracy:\", accuracy_score(y_test, y_pred_class_DT))\n",
    "print('\\n')\n",
    "print(\"Classification report: \\n\", classification_report(y_test, y_pred_class_DT))"
   ]
  },
  {
   "cell_type": "markdown",
   "metadata": {},
   "source": [
    "## 7.2 Árbol de decisión mediante GridSearchCV <a class=\"anchor\" id=\"arbol-decision-gs\"></a>"
   ]
  },
  {
   "cell_type": "markdown",
   "metadata": {},
   "source": [
    "Para ver si mejora un modelo basado en árboles de decisión, utilizamos la función de **GridSearchCV** para modificar los parámetros."
   ]
  },
  {
   "cell_type": "code",
   "execution_count": 70,
   "metadata": {
    "scrolled": false
   },
   "outputs": [
    {
     "name": "stdout",
     "output_type": "stream",
     "text": [
      "Best params:  {'class_DT__criterion': 'entropy', 'class_DT__min_samples_leaf': 2, 'class_DT__max_depth': 7, 'class_DT__min_samples_split': 2}\n",
      "\n",
      "\n",
      "ROC Curve: 0.88\n",
      "\n",
      "\n",
      "Confusion matrix: \n",
      " [[  610  1033]\n",
      " [  387 11529]]\n",
      "\n",
      "\n",
      "Accuracy: 0.895272512722\n",
      "\n",
      "\n",
      "Classification report: \n",
      "              precision    recall  f1-score   support\n",
      "\n",
      "          0       0.92      0.97      0.94     11916\n",
      "          1       0.61      0.37      0.46      1643\n",
      "\n",
      "avg / total       0.88      0.90      0.88     13559\n",
      "\n"
     ]
    }
   ],
   "source": [
    "scaler = MinMaxScaler()\n",
    "class_DT = DecisionTreeClassifier()\n",
    "\n",
    "scaler_step = ('scaler', scaler)\n",
    "class_DT_step = ('class_DT', class_DT)\n",
    "steps = [scaler_step, class_DT_step]\n",
    "pipe = Pipeline(steps)\n",
    "\n",
    "params = {'class_DT__max_depth': range(2, 15),\n",
    "          'class_DT__min_samples_split': range(2, 15),\n",
    "          'class_DT__min_samples_leaf': range(2, 15),\n",
    "          'class_DT__criterion': ['gini', 'entropy']}\n",
    "\n",
    "kfold = StratifiedKFold(n_splits = 10)\n",
    "\n",
    "gs_class_DT = GridSearchCV(pipe, param_grid=params, cv=kfold, n_jobs=-1)\n",
    "gs_class_DT.fit(X_train, y_train)\n",
    "\n",
    "y_pred_gs_class_DT = gs_class_DT.predict(X_test)\n",
    "y_pred_gs_class_DT_proba = gs_class_DT.predict_proba(X_test)\n",
    "\n",
    "print(\"Best params: \", gs_class_DT.best_params_)\n",
    "print('\\n')\n",
    "print(\"ROC Curve: %.2f\" % roc_auc_score(y_true=y_test, y_score=y_pred_gs_class_DT_proba[:, 1]))\n",
    "print('\\n')\n",
    "print(\"Confusion matrix: \\n\", confusion_matrix(y_test, y_pred_gs_class_DT, labels=[1, 0]))\n",
    "print('\\n')\n",
    "print(\"Accuracy:\", accuracy_score(y_test, y_pred_gs_class_DT))\n",
    "print('\\n')\n",
    "print(\"Classification report: \\n\", classification_report(y_test, y_pred_gs_class_DT))"
   ]
  },
  {
   "cell_type": "markdown",
   "metadata": {},
   "source": [
    "Observamos que la métrica ROC Curve ha pasado de un 0.70 a un 0.88, usando una profundidad de 7, lo que podría decir que usa pocas variables para crear el árbol. Por este motivo, vamos a estudiar a continuación qué variables son las más importantes para el árbol generado."
   ]
  },
  {
   "cell_type": "markdown",
   "metadata": {},
   "source": [
    "## 7.3 Visualización de las variables más importantes <a class=\"anchor\" id=\"arbol-decision-visualizacion\"></a>"
   ]
  },
  {
   "cell_type": "markdown",
   "metadata": {},
   "source": [
    "A partir de los mejores parámetros para el árbol encontrados en el anterior *GridSearchCV*, generamos el árbol."
   ]
  },
  {
   "cell_type": "code",
   "execution_count": 71,
   "metadata": {},
   "outputs": [
    {
     "data": {
      "text/plain": [
       "Pipeline(memory=None,\n",
       "     steps=[('scaler', MinMaxScaler(copy=True, feature_range=(0, 1))), ('class_DT', DecisionTreeClassifier(class_weight=None, criterion='entropy', max_depth=7,\n",
       "            max_features=None, max_leaf_nodes=None,\n",
       "            min_impurity_decrease=0.0, min_impurity_split=None,\n",
       "            min_samples_leaf=2, min_samples_split=2,\n",
       "            min_weight_fraction_leaf=0.0, presort=False, random_state=None,\n",
       "            splitter='best'))])"
      ]
     },
     "execution_count": 71,
     "metadata": {},
     "output_type": "execute_result"
    }
   ],
   "source": [
    "scaler = MinMaxScaler()\n",
    "class_DT = DecisionTreeClassifier(max_depth = gs_class_DT.best_params_['class_DT__max_depth'],\n",
    "                                  min_samples_leaf = gs_class_DT.best_params_['class_DT__min_samples_leaf'],\n",
    "                                  min_samples_split = gs_class_DT.best_params_['class_DT__min_samples_split'],\n",
    "                                  criterion = gs_class_DT.best_params_['class_DT__criterion'])\n",
    "\n",
    "scaler_step = ('scaler', scaler)\n",
    "class_DT_step = ('class_DT', class_DT)\n",
    "steps = [scaler_step, class_DT_step]\n",
    "pipe = Pipeline(steps)\n",
    "\n",
    "pipe.fit(X_train, y_train)"
   ]
  },
  {
   "cell_type": "code",
   "execution_count": 72,
   "metadata": {},
   "outputs": [
    {
     "data": {
      "text/plain": [
       "<matplotlib.axes._subplots.AxesSubplot at 0x7f8ee275ad68>"
      ]
     },
     "execution_count": 72,
     "metadata": {},
     "output_type": "execute_result"
    },
    {
     "data": {
      "image/png": "[encoded data removed]",
      "text/plain": [
       "<matplotlib.figure.Figure at 0x7f8ee28c1e48>"
      ]
     },
     "metadata": {},
     "output_type": "display_data"
    }
   ],
   "source": [
    "feat = pd.DataFrame(index=X_train.keys(), data=class_DT.feature_importances_, columns=['score'])\n",
    "feat = feat.sort_values(by='score', ascending=False)\n",
    "\n",
    "feat.plot(kind='bar', rot=80)"
   ]
  },
  {
   "cell_type": "markdown",
   "metadata": {},
   "source": [
    "Las cuatro variables más importantes que ha considerado el algoritmo son **duration**, **poutcome_succes**, **housing** y **pdays**."
   ]
  },
  {
   "cell_type": "markdown",
   "metadata": {},
   "source": [
    "# 8. Random Forest <a class=\"anchor\" id=\"random-forest\"></a>"
   ]
  },
  {
   "cell_type": "code",
   "execution_count": 73,
   "metadata": {
    "collapsed": true
   },
   "outputs": [],
   "source": [
    "from sklearn.ensemble import RandomForestClassifier"
   ]
  },
  {
   "cell_type": "markdown",
   "metadata": {},
   "source": [
    "**Random Forest** provee una mejora sobre los árboles de decisión para reducir la varianza. Esto se hace de modo que cada vez que se hace una división en un árbol, se considera una selección aleatoria de m predictores elegidos como candidatos de división de todo el conjunto de p predictores.\n",
    "\n",
    "Normalmente se usan $m = \\sqrt{p} \\quad$  o  $\\quad m = p$, y se pueden indicar en el siguiente algoritmo mediante el parámetro **max_features = 'sqrt'** o **max_features = 'auto'**, respectivamente. Además, con el parámetro **n_estimators** indicamos el número de árboles que se generan y con **max_depth** la profundidad de cada árbol. Estimamos la mejor combinación de estos parámetros mediante *GridSearchCV*."
   ]
  },
  {
   "cell_type": "code",
   "execution_count": 74,
   "metadata": {},
   "outputs": [
    {
     "name": "stdout",
     "output_type": "stream",
     "text": [
      "Best params:  {'rand_for_class__max_depth': 17, 'rand_for_class__max_features': 'auto', 'rand_for_class__n_estimators': 41}\n",
      "\n",
      "\n",
      "ROC Curve: 0.93\n",
      "\n",
      "\n",
      "Confusion matrix: \n",
      " [[  624  1019]\n",
      " [  322 11594]]\n",
      "\n",
      "\n",
      "Accuracy: 0.901098901099\n",
      "\n",
      "\n",
      "Classification report: \n",
      "              precision    recall  f1-score   support\n",
      "\n",
      "          0       0.92      0.97      0.95     11916\n",
      "          1       0.66      0.38      0.48      1643\n",
      "\n",
      "avg / total       0.89      0.90      0.89     13559\n",
      "\n"
     ]
    }
   ],
   "source": [
    "scaler = MinMaxScaler()\n",
    "rand_for_class = RandomForestClassifier()\n",
    "\n",
    "scaler_step = ('scaler', scaler)\n",
    "rand_for_class_step = ('rand_for_class', rand_for_class)\n",
    "steps = [scaler_step, rand_for_class_step]\n",
    "pipe = Pipeline(steps)\n",
    "\n",
    "tuned_parameters = {'rand_for_class__n_estimators': range(35, 48, 2),\n",
    "                    'rand_for_class__max_features': ['sqrt', 'auto'],\n",
    "                    'rand_for_class__max_depth': range(12, 22)}\n",
    "\n",
    "kfold = StratifiedKFold(n_splits = 10)\n",
    "\n",
    "gs_rand_for_class = GridSearchCV(pipe, tuned_parameters, cv=kfold, n_jobs=-1)\n",
    "gs_rand_for_class.fit(X_train, y_train)\n",
    "\n",
    "y_pred_rand_for_class = gs_rand_for_class.predict(X_test)\n",
    "y_pred_rand_for_class_proba = gs_rand_for_class.predict_proba(X_test)\n",
    "\n",
    "print(\"Best params: \", gs_rand_for_class.best_params_)\n",
    "print('\\n')\n",
    "print(\"ROC Curve: %.2f\" % roc_auc_score(y_true=y_test, y_score=y_pred_rand_for_class_proba[:, 1]))\n",
    "print('\\n')\n",
    "print(\"Confusion matrix: \\n\", confusion_matrix(y_test, y_pred_rand_for_class, labels=[1, 0]))\n",
    "print('\\n')\n",
    "print(\"Accuracy:\", accuracy_score(y_test, y_pred_rand_for_class))\n",
    "print('\\n')\n",
    "print(\"Classification report: \\n\", classification_report(y_test, y_pred_rand_for_class))"
   ]
  },
  {
   "cell_type": "markdown",
   "metadata": {},
   "source": [
    "## 8.1 Visualización de las variables más importantes <a class=\"anchor\" id=\"random-forest-visualizacion\"></a>"
   ]
  },
  {
   "cell_type": "markdown",
   "metadata": {},
   "source": [
    "A continuación, comprobamos cuáles son las variables que ha encontrado más importantes para generar los árboles aleatorios."
   ]
  },
  {
   "cell_type": "code",
   "execution_count": 75,
   "metadata": {},
   "outputs": [
    {
     "data": {
      "text/plain": [
       "Pipeline(memory=None,\n",
       "     steps=[('scaler', MinMaxScaler(copy=True, feature_range=(0, 1))), ('rand_for_class', RandomForestClassifier(bootstrap=True, class_weight=None, criterion='gini',\n",
       "            max_depth=17, max_features='auto', max_leaf_nodes=None,\n",
       "            min_impurity_decrease=0.0, min_impurity_split=None,\n",
       "       ...n_jobs=1,\n",
       "            oob_score=False, random_state=None, verbose=0,\n",
       "            warm_start=False))])"
      ]
     },
     "execution_count": 75,
     "metadata": {},
     "output_type": "execute_result"
    }
   ],
   "source": [
    "scaler = MinMaxScaler()\n",
    "rand_for_class = RandomForestClassifier(\n",
    "                    n_estimators = gs_rand_for_class.best_params_['rand_for_class__n_estimators'],\n",
    "                    max_features = gs_rand_for_class.best_params_['rand_for_class__max_features'],\n",
    "                    max_depth = gs_rand_for_class.best_params_['rand_for_class__max_depth'])\n",
    "\n",
    "scaler_step = ('scaler', scaler)\n",
    "rand_for_class_step = ('rand_for_class', rand_for_class)\n",
    "steps = [scaler_step, rand_for_class_step]\n",
    "pipe = Pipeline(steps)\n",
    "\n",
    "pipe.fit(X_train, y_train)"
   ]
  },
  {
   "cell_type": "code",
   "execution_count": 76,
   "metadata": {
    "scrolled": false
   },
   "outputs": [
    {
     "data": {
      "text/plain": [
       "<matplotlib.axes._subplots.AxesSubplot at 0x7f8ee5358eb8>"
      ]
     },
     "execution_count": 76,
     "metadata": {},
     "output_type": "execute_result"
    },
    {
     "data": {
      "image/png": "[encoded data removed]",
      "text/plain": [
       "<matplotlib.figure.Figure at 0x7f8ee2d27c88>"
      ]
     },
     "metadata": {},
     "output_type": "display_data"
    }
   ],
   "source": [
    "feat = pd.DataFrame(index=X_train.keys(), data=rand_for_class.feature_importances_, columns=['score'])\n",
    "feat = feat.sort_values(by='score', ascending=False)\n",
    "\n",
    "feat.plot(kind='bar', rot=80)"
   ]
  },
  {
   "cell_type": "markdown",
   "metadata": {},
   "source": [
    "<br>\n",
    "Observamos que los modelos de **Regresión Logística**, **Árbol de decisión** y **Random Forest** nos dan resultados parecidos, siendo este último el mejor de los tres. No obstante, como ya hemos dicho, **Random Forest** provee una mejora sobre los árboles de decisión para reducir la varianza."
   ]
  },
  {
   "cell_type": "markdown",
   "metadata": {},
   "source": [
    "# 9. SVM <a class=\"anchor\" id=\"svm\"></a>"
   ]
  },
  {
   "cell_type": "code",
   "execution_count": 53,
   "metadata": {
    "collapsed": true
   },
   "outputs": [],
   "source": [
    "from sklearn.svm import SVC"
   ]
  },
  {
   "cell_type": "markdown",
   "metadata": {},
   "source": [
    "A continuación, se prueban tres modelos de SVM con tres kernels diferentes: **lineal**, **Radial Basis Function (*RBF*)** y **polinomial** de grado 3. Los parámetros para los tres modelos son los mismos, exceptuando el parámetros **gamma** para el RBF y el parámetro **degree** para el polinomial.\n",
    "\n",
    "Los parámetros a analizar mediante *GridSearchCV* son:\n",
    "\n",
    "* **C**: parámetro de penalización del término de error. Cuanto mayor sea el valor de C, menos número de errores se permitiràn, por lo que si $C -> \\infty$ se consideraría que todos los ejemplos son perfectamente separables. Cuanto más pequeño sea C, mayor número de errores se admitirían de ejemplos mal clasificados.\n",
    "\n",
    "Los parámetros que se espefican de manera fija son:\n",
    "\n",
    "* **tol**: Tolerancia máxima aceptada para converger.\n",
    "* **max_iter**: número máximo de iteraciones que se realizarían en caso de no haber convergido con la tolerancia especificada.\n",
    "\n",
    "La formulación matemática para las SVM de clasificación es la siguiente. Dados los vectores de entrenamiento $x_i \\in \\mathbb{R}^p, i = 1, ..., n$, en dos clases, y un vector $y \\in \\{1, -1\\}^n$, se resuelve el siguiente problema primal:\n",
    "\n",
    "$$ min_{\\omega, b, \\zeta} \\frac{1}{2} \\omega^T \\omega + C \\sum_{i=1}^n \\zeta_i$$\n",
    "\n",
    "sujeto a\n",
    "\n",
    "$$ y_i (\\omega^T \\phi(x_i) + b) \\le 1 - \\zeta_i $$\n",
    "$$ \\zeta_i \\ge 0, i = 1, ..., n $$"
   ]
  },
  {
   "cell_type": "markdown",
   "metadata": {},
   "source": [
    "## 9.1. SVM con Kernel lineal <a class=\"anchor\" id=\"svm-lineal\"></a>"
   ]
  },
  {
   "cell_type": "markdown",
   "metadata": {},
   "source": [
    "La función del kernel lineal es $\\langle x, x' \\rangle$."
   ]
  },
  {
   "cell_type": "code",
   "execution_count": 55,
   "metadata": {},
   "outputs": [
    {
     "name": "stdout",
     "output_type": "stream",
     "text": [
      "Best params:  {'svc_lin_class__C': 0.01}\n",
      "\n",
      "\n",
      "Confusion matrix: \n",
      " [[  296  1347]\n",
      " [  157 11759]]\n",
      "\n",
      "\n",
      "Accuracy: 0.8890773655874327\n",
      "\n",
      "\n",
      "Classification report: \n",
      "              precision    recall  f1-score   support\n",
      "\n",
      "          0       0.90      0.99      0.94     11916\n",
      "          1       0.65      0.18      0.28      1643\n",
      "\n",
      "avg / total       0.87      0.89      0.86     13559\n",
      "\n"
     ]
    }
   ],
   "source": [
    "scaler = MinMaxScaler()\n",
    "svc_lin_class = SVC(kernel='linear', \n",
    "                    shrinking=True, \n",
    "                    cache_size=8192, \n",
    "                    max_iter=10000000, \n",
    "                    tol=10e-3)\n",
    "\n",
    "scaler_step = ('scaler', scaler)\n",
    "svc_lin_class_step = ('svc_lin_class', svc_lin_class)\n",
    "steps = [scaler_step, svc_lin_class_step]\n",
    "pipe = Pipeline(steps)\n",
    "\n",
    "c = [0.001, 0.01, 0.1, 1, 5, 10, 100]\n",
    "\n",
    "tuned_parameters = {'svc_lin_class__C': c}\n",
    "\n",
    "kfold = StratifiedKFold(n_splits = 10)\n",
    "\n",
    "gs_svc_lin_class = GridSearchCV(pipe, tuned_parameters, cv=kfold, n_jobs=-1)\n",
    "gs_svc_lin_class.fit(X_train, y_train)\n",
    "\n",
    "y_pred_svc_lin_class = gs_svc_lin_class.predict(X_test)\n",
    "\n",
    "print(\"Best params: \", gs_svc_lin_class.best_params_)\n",
    "print('\\n')\n",
    "print(\"Confusion matrix: \\n\", confusion_matrix(y_test, y_pred_svc_lin_class, labels=[1, 0]))\n",
    "print('\\n')\n",
    "print(\"Accuracy:\", accuracy_score(y_test, y_pred_svc_lin_class))\n",
    "print('\\n')\n",
    "print(\"Classification report: \\n\", classification_report(y_test, y_pred_svc_lin_class))"
   ]
  },
  {
   "cell_type": "markdown",
   "metadata": {},
   "source": [
    "## 9.2. SVM con Kernel RBF <a class=\"anchor\" id=\"svm-rbf\"></a>"
   ]
  },
  {
   "cell_type": "markdown",
   "metadata": {},
   "source": [
    "Cuando se entrena una SVM con el kernel **RBF**, se han de tener en cuenta los parámetros *C* y *gamma*, entre los que existe un *trade-off*. El parámetro *gamma* define cuánta influencia tiene un único ejemplo del entrenamiento. Cuando más grande sea *gamma*, más cercanos han de estar otros ejemplos para ser afectados.\n",
    "\n",
    "Si *gamma* es muy grande, el radio del área de influencia de los vectores de soporte solo incluye al propio soporte y *C* no tendrá ningún tipo de influencia. Por el contrario, cuando *gamma* es muy pequeño, el modelo queda muy limitado y no es capaz de ver toda la complejidad de los datos en el espacio de dimensiones. Cualquier vector de soporte incluirá todo el dataset de entrenamiento.\n",
    "\n",
    "En la siguiente gráfica se puede observar dicho *trade-off*:\n",
    "\n",
    "![Validation accuracy](http://scikit-learn.org/stable/_images/sphx_glr_plot_rbf_parameters_002.png)\n",
    "\n",
    "Por este motivo, para el *GridSearchCV* se han escogido unos valores de *gamma* de {0.001, 0.01, 0.1, 1, 10}, dado que la *C* podrá tener los valores {0.001, 0.01, 0.1, 1, 5, 10, 100}.\n",
    "\n",
    "La función del kernel radial es $exp(-\\gamma \\| x - x'\\|^2)$, donde $\\gamma$ es el parámetro *gamma*."
   ]
  },
  {
   "cell_type": "code",
   "execution_count": 56,
   "metadata": {},
   "outputs": [
    {
     "name": "stdout",
     "output_type": "stream",
     "text": [
      "Best params:  {'svc_rbf_class__C': 100, 'svc_rbf_class__gamma': 0.1}\n",
      "\n",
      "\n",
      "Confusion matrix: \n",
      " [[  514  1129]\n",
      " [  252 11664]]\n",
      "\n",
      "\n",
      "Accuracy: 0.8981488310347371\n",
      "\n",
      "\n",
      "Classification report: \n",
      "              precision    recall  f1-score   support\n",
      "\n",
      "          0       0.91      0.98      0.94     11916\n",
      "          1       0.67      0.31      0.43      1643\n",
      "\n",
      "avg / total       0.88      0.90      0.88     13559\n",
      "\n"
     ]
    }
   ],
   "source": [
    "scaler = MinMaxScaler()\n",
    "svc_rbf_class = SVC(kernel='rbf', \n",
    "                    shrinking=True, \n",
    "                    cache_size=8192, \n",
    "                    max_iter=10000000, \n",
    "                    tol=10e-3)\n",
    "\n",
    "scaler_step = ('scaler', scaler)\n",
    "svc_rbf_class_step = ('svc_rbf_class', svc_rbf_class)\n",
    "steps = [scaler_step, svc_rbf_class_step]\n",
    "pipe = Pipeline(steps)\n",
    "\n",
    "c = [0.001, 0.01, 0.1, 1, 5, 10, 100]\n",
    "gamma = [0.001, 0.01, 0.1, 1, 10]\n",
    "\n",
    "tuned_parameters = {'svc_rbf_class__C': c, \n",
    "                    'svc_rbf_class__gamma': gamma}\n",
    "\n",
    "kfold = StratifiedKFold(n_splits = 10)\n",
    "\n",
    "gs_svc_rbf_class = GridSearchCV(pipe, tuned_parameters, cv=kfold, n_jobs=-1)\n",
    "gs_svc_rbf_class.fit(X_train, y_train)\n",
    "\n",
    "y_pred_svc_rbf_class = gs_svc_rbf_class.predict(X_test)\n",
    "\n",
    "print(\"Best params: \", gs_svc_rbf_class.best_params_)\n",
    "print('\\n')\n",
    "print(\"Confusion matrix: \\n\", confusion_matrix(y_test, y_pred_svc_rbf_class, labels=[1, 0]))\n",
    "print('\\n')\n",
    "print(\"Accuracy:\", accuracy_score(y_test, y_pred_svc_rbf_class))\n",
    "print('\\n')\n",
    "print(\"Classification report: \\n\", classification_report(y_test, y_pred_svc_rbf_class))"
   ]
  },
  {
   "cell_type": "markdown",
   "metadata": {},
   "source": [
    "## 9.3. SVM con Kernel polinomial <a class=\"anchor\" id=\"svm-poly\"></a>"
   ]
  },
  {
   "cell_type": "markdown",
   "metadata": {},
   "source": [
    "La función del kernel polinolial es $(\\gamma \\langle x, x' \\rangle + r)^d$, donde $d$ es el parámetro *degree*, $r$ el parámetro *coef0* (por defecto es 0) y $\\gamma$ es el parámetro *gamma*."
   ]
  },
  {
   "cell_type": "code",
   "execution_count": 57,
   "metadata": {
    "scrolled": false
   },
   "outputs": [
    {
     "name": "stdout",
     "output_type": "stream",
     "text": [
      "Best params:  {'svc_ps_class__gamma': 10, 'svc_ps_class__C': 0.001}\n",
      "\n",
      "\n",
      "Confusion matrix: \n",
      " [[  539  1104]\n",
      " [  279 11637]]\n",
      "\n",
      "\n",
      "Accuracy: 0.8980013275315288\n",
      "\n",
      "\n",
      "Classification report: \n",
      "              precision    recall  f1-score   support\n",
      "\n",
      "          0       0.91      0.98      0.94     11916\n",
      "          1       0.66      0.33      0.44      1643\n",
      "\n",
      "avg / total       0.88      0.90      0.88     13559\n",
      "\n"
     ]
    }
   ],
   "source": [
    "scaler = MinMaxScaler()\n",
    "svc_ps_class = SVC(kernel='poly',\n",
    "                   shrinking=True, \n",
    "                   cache_size=8192, \n",
    "                   max_iter=10000000,\n",
    "                   tol=10e-2, \n",
    "                   degree=3)\n",
    "\n",
    "scaler_step = ('scaler', scaler)\n",
    "svc_ps_class_step = ('svc_ps_class', svc_ps_class)\n",
    "steps = [scaler_step, svc_ps_class_step]\n",
    "pipe = Pipeline(steps)\n",
    "\n",
    "c = [0.001, 0.01, 0.1, 1, 5, 10, 100]\n",
    "gamma = [0.001, 0.01, 0.1, 1, 10]\n",
    "\n",
    "tuned_parameters = {'svc_ps_class__C': c, \n",
    "                    'svc_ps_class__gamma': gamma}\n",
    "\n",
    "kfold = StratifiedKFold(n_splits = 10)\n",
    "\n",
    "gs_svc_ps_class = GridSearchCV(pipe, tuned_parameters, cv=kfold, n_jobs=-1)\n",
    "gs_svc_ps_class.fit(X_train, y_train)\n",
    "\n",
    "y_pred_svc_ps_class = gs_svc_ps_class.predict(X_test)\n",
    "\n",
    "print(\"Best params: \", gs_svc_ps_class.best_params_)\n",
    "print('\\n')\n",
    "print(\"Confusion matrix: \\n\", confusion_matrix(y_test, y_pred_svc_ps_class, labels=[1, 0]))\n",
    "print('\\n')\n",
    "print(\"Accuracy:\", accuracy_score(y_test, y_pred_svc_ps_class))\n",
    "print('\\n')\n",
    "print(\"Classification report: \\n\", classification_report(y_test, y_pred_svc_ps_class))"
   ]
  },
  {
   "cell_type": "markdown",
   "metadata": {},
   "source": [
    "# 10. Redes neuronales <a class=\"anchor\" id=\"neural-net\"></a>"
   ]
  },
  {
   "cell_type": "code",
   "execution_count": 83,
   "metadata": {
    "collapsed": true
   },
   "outputs": [],
   "source": [
    "from sklearn.neural_network import MLPClassifier"
   ]
  },
  {
   "cell_type": "markdown",
   "metadata": {},
   "source": [
    "Generamos varias combinaciones de número de neuronas en una, dos y tres capas."
   ]
  },
  {
   "cell_type": "code",
   "execution_count": 84,
   "metadata": {},
   "outputs": [
    {
     "data": {
      "text/plain": [
       "[1,\n",
       " 3,\n",
       " 5,\n",
       " 10,\n",
       " (1, 1),\n",
       " (1, 3),\n",
       " (1, 5),\n",
       " (1, 10),\n",
       " (3, 1),\n",
       " (3, 3),\n",
       " (3, 5),\n",
       " (3, 10),\n",
       " (5, 1),\n",
       " (5, 3),\n",
       " (5, 5),\n",
       " (5, 10),\n",
       " (10, 1),\n",
       " (10, 3),\n",
       " (10, 5),\n",
       " (10, 10),\n",
       " (1, 1, 1),\n",
       " (1, 1, 3),\n",
       " (1, 1, 5),\n",
       " (1, 3, 1),\n",
       " (1, 3, 3),\n",
       " (1, 3, 5),\n",
       " (1, 5, 1),\n",
       " (1, 5, 3),\n",
       " (1, 5, 5),\n",
       " (3, 1, 1),\n",
       " (3, 1, 3),\n",
       " (3, 1, 5),\n",
       " (3, 3, 1),\n",
       " (3, 3, 3),\n",
       " (3, 3, 5),\n",
       " (3, 5, 1),\n",
       " (3, 5, 3),\n",
       " (3, 5, 5),\n",
       " (5, 1, 1),\n",
       " (5, 1, 3),\n",
       " (5, 1, 5),\n",
       " (5, 3, 1),\n",
       " (5, 3, 3),\n",
       " (5, 3, 5),\n",
       " (5, 5, 1),\n",
       " (5, 5, 3),\n",
       " (5, 5, 5)]"
      ]
     },
     "execution_count": 84,
     "metadata": {},
     "output_type": "execute_result"
    }
   ],
   "source": [
    "import itertools\n",
    "\n",
    "n_neurons = [1, 3, 5, 10]\n",
    "hidden_layer_sizes = n_neurons\n",
    "\n",
    "for two_layer in itertools.product(n_neurons, repeat=2):\n",
    "    hidden_layer_sizes.append(two_layer)\n",
    "\n",
    "n_neurons = [1, 3, 5]\n",
    "for three_layer in itertools.product(n_neurons, repeat=3):\n",
    "    hidden_layer_sizes.append(three_layer)\n",
    "    \n",
    "hidden_layer_sizes"
   ]
  },
  {
   "cell_type": "markdown",
   "metadata": {},
   "source": [
    "A continuación, se realiza un *GridSearchCV* para todas estas posibilidades de redes neuronales, con funciones de activación **logistic** y **relu**, para un *alpha* (Penalizació L2) de {0.00001, 0.0001, 0.001} y un *learning rate* constante de {0.0001, 0.001, 0.01}.\n",
    "\n",
    "La función de optimización usada es **adam**, la cual hace referencia al optimizador de descendiente del gradiente estocástico propuesto por Kingma, Diederik y Jimmy Ba."
   ]
  },
  {
   "cell_type": "code",
   "execution_count": 85,
   "metadata": {
    "scrolled": false
   },
   "outputs": [
    {
     "name": "stdout",
     "output_type": "stream",
     "text": [
      "Best params:  {'mlp_class__hidden_layer_sizes': (10, 1), 'mlp_class__alpha': 0.0001, 'mlp_class__activation': 'logistic', 'mlp_class__learning_rate_init': 0.01}\n",
      "\n",
      "\n",
      "ROC Curve: 0.92\n",
      "\n",
      "\n",
      "Confusion matrix: \n",
      " [[  823   820]\n",
      " [  497 11419]]\n",
      "\n",
      "\n",
      "Accuracy: 0.902868943137\n",
      "\n",
      "\n",
      "Classification report: \n",
      "              precision    recall  f1-score   support\n",
      "\n",
      "          0       0.93      0.96      0.95     11916\n",
      "          1       0.62      0.50      0.56      1643\n",
      "\n",
      "avg / total       0.90      0.90      0.90     13559\n",
      "\n"
     ]
    }
   ],
   "source": [
    "scaler = MinMaxScaler()\n",
    "mlp_class = MLPClassifier(solver='adam',\n",
    "                          max_iter=1000)\n",
    "\n",
    "scaler_step = ('scaler', scaler)\n",
    "mlp_class_step = ('mlp_class', mlp_class)\n",
    "steps = [scaler_step, mlp_class_step]\n",
    "pipe = Pipeline(steps)\n",
    "\n",
    "activation = ['logistic', 'relu']\n",
    "alpha = [0.00001, 0.0001, 0.001]\n",
    "learning_rate_init = [0.0001, 0.001, 0.01]\n",
    "\n",
    "tuned_parameters = {'mlp_class__activation': activation, \n",
    "                    'mlp_class__alpha': alpha,\n",
    "                    'mlp_class__learning_rate_init': learning_rate_init, \n",
    "                    'mlp_class__hidden_layer_sizes': hidden_layer_sizes}\n",
    "\n",
    "kfold = StratifiedKFold(n_splits = 10)\n",
    "\n",
    "gs_mlp_class = GridSearchCV(pipe, tuned_parameters, cv=kfold, n_jobs=-1)\n",
    "gs_mlp_class.fit(X_train, y_train)\n",
    "\n",
    "y_pred_mlp_class = gs_mlp_class.predict(X_test)\n",
    "y_pred_mlp_class_proba = gs_mlp_class.predict_proba(X_test)\n",
    "\n",
    "print(\"Best params: \", gs_mlp_class.best_params_)\n",
    "print('\\n')\n",
    "print(\"ROC Curve: %.2f\" % roc_auc_score(y_true=y_test, y_score=y_pred_mlp_class_proba[:, 1]))\n",
    "print('\\n')\n",
    "print(\"Confusion matrix: \\n\", confusion_matrix(y_test, y_pred_mlp_class, labels=[1, 0]))\n",
    "print('\\n')\n",
    "print(\"Accuracy:\", accuracy_score(y_test, y_pred_mlp_class))\n",
    "print('\\n')\n",
    "print(\"Classification report: \\n\", classification_report(y_test, y_pred_mlp_class))"
   ]
  },
  {
   "cell_type": "markdown",
   "metadata": {},
   "source": [
    "# 11. Conclusiones <a class=\"anchor\" id=\"conclusiones\"></a>"
   ]
  },
  {
   "cell_type": "markdown",
   "metadata": {},
   "source": [
    "dfdsd"
   ]
  }
 ],
 "metadata": {
  "kernelspec": {
   "display_name": "Python 3",
   "language": "python",
   "name": "python3"
  },
  "language_info": {
   "codemirror_mode": {
    "name": "ipython",
    "version": 3
   },
   "file_extension": ".py",
   "mimetype": "text/x-python",
   "name": "python",
   "nbconvert_exporter": "python",
   "pygments_lexer": "ipython3",
   "version": "3.5.2"
  }
 },
 "nbformat": 4,
 "nbformat_minor": 2
}
