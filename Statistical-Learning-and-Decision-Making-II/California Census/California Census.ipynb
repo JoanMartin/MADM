{
 "cells": [
  {
   "cell_type": "markdown",
   "metadata": {},
   "source": [
    "# California Census\n",
    "\n",
    "Se pretende ilustrar la regresión utilizando SVMs aplicando tanto la $\\epsilon$‐SVR como la $\\nu$‐SVR sobre los datos del censo de California por grupos de bloques de vivienda con el objetivo de predecir los precios medios de la vivienda. También se deberá de utilizar una red neuronal artificial para resolver el problema.\n",
    "\n",
    "La variable dependiente es $ln(median\\_house\\_value)$, y se tiene que ajustar el siguiente modelo: \n",
    "\n",
    "$$ln(median\\_house\\_value) = a_1 + a_2 \\cdot median\\_income + a_3 \\cdot median\\_income^2 + a_4 \\cdot median\\_income^3 + a_5 \\cdot ln(median\\_age) + a_6 \\cdot ln(total\\_room / population) + a_7 \\cdot ln(total\\_bedrooms / population) + a_8 \\cdot ln(population / households) + a_9 \\cdot ln(households)$$\n",
    "\n",
    "<br>\n",
    "\n",
    "<div class=\"panel panel-success\">\n",
    "    <div class='panel-heading'>\n",
    "        <h2>Índice</h2>\n",
    "    </div>\n",
    "    <div class='panel-body'>\n",
    "        <ol type=\"A\">\n",
    "            <li><a href=\"#carga\">Carga de datos</a></li>\n",
    "            <li><a href=\"#analisis\">Análisis exploratorio de los datos</a></li>\n",
    "            <li><a href=\"#seleccion\">Selección del modelo de datos</a></li>\n",
    "            <li><a href=\"#train-test\">Separación de datos de entrenamiento y prueba</a></li>\n",
    "            <li><a href=\"#regresion-lineal\">Regresión lineal</a></li>\n",
    "                <ol type=\"B\">\n",
    "                    <li><a href=\"#regresion-lineal-basica\">Regresión lineal básica</a></li>\n",
    "                    <li><a href=\"#regresion-lineal-polinomial\">Regresión lineal con variables polinomiales</a></li>\n",
    "                </ol>\n",
    "            <li><a href=\"#arboles-decision\">Árboles de decisión</a></li>\n",
    "                <ol type=\"B\">\n",
    "                    <li><a href=\"#arbol-decision-basico\">Árbol de decisión básico</a></li>\n",
    "                    <li><a href=\"#arbol-decision-gridsearch\">Árbol de decisión mediante GridSearchCV</a></li>\n",
    "                    <li><a href=\"#arbol-decision-variables\">Visualización de las variables más importantes</a></li>\n",
    "                </ol>\n",
    "            <li><a href=\"#bagging\">Bagging</a></li>\n",
    "            <li><a href=\"#random-forest\">Random Forest</a></li>\n",
    "                <ol type=\"B\">\n",
    "                    <li><a href=\"#random-forest-variables\">Visualización de las variables más importantes</a></li>\n",
    "                </ol>\n",
    "            <li><a href=\"#boosting\">Boosting</a></li>\n",
    "            <li><a href=#svm>SVM</a></li>\n",
    "                <ol type=B>\n",
    "                    <li><a href=#epsvm-lineal>$\\epsilon$-SVM con Kernel lineal</a></li>\n",
    "                    <li><a href=#epsvm-rbf>$\\epsilon$-SVM con Kernel RBF</a></li>\n",
    "                    <li><a href=#epsvm-poly>$\\epsilon$-SVM con Kernel polinomial</a></li>\n",
    "                    <li><a href=#nusvm-rbf>$\\nu$-SVM con Kernel RBF</a></li>\n",
    "                    <li><a href=#svm-result>Conclusiones de SVM</a></li>\n",
    "                </ol>\n",
    "            <li><a href=#neural-net>Redes neuronales</a></li>\n",
    "            <li><a href=#results>Resultados finales</a></li>\n",
    "        </ol>\n",
    "    </div>\n",
    "</div>"
   ]
  },
  {
   "cell_type": "markdown",
   "metadata": {},
   "source": [
    "# 1. Carga de los datos <a class=\"anchor\" id=\"carga\"></a>"
   ]
  },
  {
   "cell_type": "markdown",
   "metadata": {},
   "source": [
    "Se realiza una carga de las librerías necesarias para este proyecto."
   ]
  },
  {
   "cell_type": "code",
   "execution_count": 19,
   "metadata": {},
   "outputs": [],
   "source": [
    "import os\n",
    "import glob\n",
    "import math\n",
    "\n",
    "import pandas as pd\n",
    "pd.set_option('display.height', 1000)\n",
    "pd.set_option('display.max_rows', 100)\n",
    "pd.set_option('display.max_columns', 200)\n",
    "pd.set_option('display.width', 80)\n",
    "\n",
    "import numpy as np\n",
    "\n",
    "%matplotlib inline\n",
    "import matplotlib.pyplot as plt\n",
    "plt.rcParams['figure.figsize'] = (12, 8)\n",
    "\n",
    "import seaborn as sns\n",
    "\n",
    "from sklearn.metrics import mean_squared_error, r2_score\n",
    "from sklearn.preprocessing import PolynomialFeatures, MinMaxScaler\n",
    "from sklearn.model_selection import KFold, GridSearchCV\n",
    "from sklearn.pipeline import Pipeline"
   ]
  },
  {
   "cell_type": "markdown",
   "metadata": {},
   "source": [
    "<br>\n",
    "Se lee el fichero CSV **census-dataset** para cargar los datos en un dataframe de Pandas."
   ]
  },
  {
   "cell_type": "code",
   "execution_count": 20,
   "metadata": {},
   "outputs": [
    {
     "data": {
      "text/html": [
       "<div>\n",
       "<style scoped>\n",
       "    .dataframe tbody tr th:only-of-type {\n",
       "        vertical-align: middle;\n",
       "    }\n",
       "\n",
       "    .dataframe tbody tr th {\n",
       "        vertical-align: top;\n",
       "    }\n",
       "\n",
       "    .dataframe thead th {\n",
       "        text-align: right;\n",
       "    }\n",
       "</style>\n",
       "<table border=\"1\" class=\"dataframe\">\n",
       "  <thead>\n",
       "    <tr style=\"text-align: right;\">\n",
       "      <th></th>\n",
       "      <th>median_house_value</th>\n",
       "      <th>median_income</th>\n",
       "      <th>housing_median_age</th>\n",
       "      <th>total_rooms</th>\n",
       "      <th>total_bedrooms</th>\n",
       "      <th>population</th>\n",
       "      <th>households</th>\n",
       "      <th>latitude</th>\n",
       "      <th>longitude</th>\n",
       "    </tr>\n",
       "  </thead>\n",
       "  <tbody>\n",
       "    <tr>\n",
       "      <th>0</th>\n",
       "      <td>452600</td>\n",
       "      <td>8.3252</td>\n",
       "      <td>41</td>\n",
       "      <td>880</td>\n",
       "      <td>129</td>\n",
       "      <td>322</td>\n",
       "      <td>126</td>\n",
       "      <td>37.88</td>\n",
       "      <td>-122.23</td>\n",
       "    </tr>\n",
       "    <tr>\n",
       "      <th>1</th>\n",
       "      <td>358500</td>\n",
       "      <td>8.3014</td>\n",
       "      <td>21</td>\n",
       "      <td>7099</td>\n",
       "      <td>1106</td>\n",
       "      <td>2401</td>\n",
       "      <td>1138</td>\n",
       "      <td>37.86</td>\n",
       "      <td>-122.22</td>\n",
       "    </tr>\n",
       "    <tr>\n",
       "      <th>2</th>\n",
       "      <td>352100</td>\n",
       "      <td>7.2574</td>\n",
       "      <td>52</td>\n",
       "      <td>1467</td>\n",
       "      <td>190</td>\n",
       "      <td>496</td>\n",
       "      <td>177</td>\n",
       "      <td>37.85</td>\n",
       "      <td>-122.24</td>\n",
       "    </tr>\n",
       "    <tr>\n",
       "      <th>3</th>\n",
       "      <td>341300</td>\n",
       "      <td>5.6431</td>\n",
       "      <td>52</td>\n",
       "      <td>1274</td>\n",
       "      <td>235</td>\n",
       "      <td>558</td>\n",
       "      <td>219</td>\n",
       "      <td>37.85</td>\n",
       "      <td>-122.25</td>\n",
       "    </tr>\n",
       "    <tr>\n",
       "      <th>4</th>\n",
       "      <td>342200</td>\n",
       "      <td>3.8462</td>\n",
       "      <td>52</td>\n",
       "      <td>1627</td>\n",
       "      <td>280</td>\n",
       "      <td>565</td>\n",
       "      <td>259</td>\n",
       "      <td>37.85</td>\n",
       "      <td>-122.25</td>\n",
       "    </tr>\n",
       "  </tbody>\n",
       "</table>\n",
       "</div>"
      ],
      "text/plain": [
       "   median_house_value  median_income  housing_median_age  total_rooms  \\\n",
       "0              452600         8.3252                  41          880   \n",
       "1              358500         8.3014                  21         7099   \n",
       "2              352100         7.2574                  52         1467   \n",
       "3              341300         5.6431                  52         1274   \n",
       "4              342200         3.8462                  52         1627   \n",
       "\n",
       "   total_bedrooms  population  households  latitude  longitude  \n",
       "0             129         322         126     37.88    -122.23  \n",
       "1            1106        2401        1138     37.86    -122.22  \n",
       "2             190         496         177     37.85    -122.24  \n",
       "3             235         558         219     37.85    -122.25  \n",
       "4             280         565         259     37.85    -122.25  "
      ]
     },
     "execution_count": 20,
     "metadata": {},
     "output_type": "execute_result"
    }
   ],
   "source": [
    "df = pd.read_csv(\"census-dataset.csv\", sep=\",\")\n",
    "df.head()"
   ]
  },
  {
   "cell_type": "markdown",
   "metadata": {},
   "source": [
    "<br>\n",
    "Eliminamos las variables **latitude** y **longitude** ya que no serán necesarios para este modelo."
   ]
  },
  {
   "cell_type": "code",
   "execution_count": 21,
   "metadata": {},
   "outputs": [],
   "source": [
    "df = df.drop(['latitude', 'longitude'], axis=1)"
   ]
  },
  {
   "cell_type": "markdown",
   "metadata": {},
   "source": [
    "# 2. Análisis exploratorio de los datos <a class=\"anchor\" id=\"analisis\"></a>"
   ]
  },
  {
   "cell_type": "markdown",
   "metadata": {},
   "source": [
    "El conjunto de datos se compone por 20.640 registros y 7 columnas."
   ]
  },
  {
   "cell_type": "code",
   "execution_count": 22,
   "metadata": {},
   "outputs": [
    {
     "data": {
      "text/plain": [
       "(20640, 7)"
      ]
     },
     "execution_count": 22,
     "metadata": {},
     "output_type": "execute_result"
    }
   ],
   "source": [
    "df.shape"
   ]
  },
  {
   "cell_type": "markdown",
   "metadata": {},
   "source": [
    "<br>\n",
    "Los tipos de las columnas del dataframe son los siguientes:"
   ]
  },
  {
   "cell_type": "code",
   "execution_count": 23,
   "metadata": {},
   "outputs": [
    {
     "data": {
      "text/plain": [
       "median_house_value      int64\n",
       "median_income         float64\n",
       "housing_median_age      int64\n",
       "total_rooms             int64\n",
       "total_bedrooms          int64\n",
       "population              int64\n",
       "households              int64\n",
       "dtype: object"
      ]
     },
     "execution_count": 23,
     "metadata": {},
     "output_type": "execute_result"
    }
   ],
   "source": [
    "df.dtypes"
   ]
  },
  {
   "cell_type": "markdown",
   "metadata": {},
   "source": [
    "<br>\n",
    "A continuación, se muestra las estadísticas descriptivas de cada columna con valores continuos que resume la tendencia, dispersión y forma de la distribución del conjunto de datos, excluyendo los valores nulos."
   ]
  },
  {
   "cell_type": "code",
   "execution_count": 24,
   "metadata": {},
   "outputs": [
    {
     "data": {
      "text/html": [
       "<div>\n",
       "<style scoped>\n",
       "    .dataframe tbody tr th:only-of-type {\n",
       "        vertical-align: middle;\n",
       "    }\n",
       "\n",
       "    .dataframe tbody tr th {\n",
       "        vertical-align: top;\n",
       "    }\n",
       "\n",
       "    .dataframe thead th {\n",
       "        text-align: right;\n",
       "    }\n",
       "</style>\n",
       "<table border=\"1\" class=\"dataframe\">\n",
       "  <thead>\n",
       "    <tr style=\"text-align: right;\">\n",
       "      <th></th>\n",
       "      <th>median_house_value</th>\n",
       "      <th>median_income</th>\n",
       "      <th>housing_median_age</th>\n",
       "      <th>total_rooms</th>\n",
       "      <th>total_bedrooms</th>\n",
       "      <th>population</th>\n",
       "      <th>households</th>\n",
       "    </tr>\n",
       "  </thead>\n",
       "  <tbody>\n",
       "    <tr>\n",
       "      <th>count</th>\n",
       "      <td>20640.000000</td>\n",
       "      <td>20640.000000</td>\n",
       "      <td>20640.000000</td>\n",
       "      <td>20640.000000</td>\n",
       "      <td>20640.000000</td>\n",
       "      <td>20640.000000</td>\n",
       "      <td>20640.000000</td>\n",
       "    </tr>\n",
       "    <tr>\n",
       "      <th>mean</th>\n",
       "      <td>206855.816909</td>\n",
       "      <td>3.870671</td>\n",
       "      <td>28.639486</td>\n",
       "      <td>2635.763081</td>\n",
       "      <td>537.898014</td>\n",
       "      <td>1425.476744</td>\n",
       "      <td>499.539680</td>\n",
       "    </tr>\n",
       "    <tr>\n",
       "      <th>std</th>\n",
       "      <td>115395.615874</td>\n",
       "      <td>1.899822</td>\n",
       "      <td>12.585558</td>\n",
       "      <td>2181.615252</td>\n",
       "      <td>421.247906</td>\n",
       "      <td>1132.462122</td>\n",
       "      <td>382.329753</td>\n",
       "    </tr>\n",
       "    <tr>\n",
       "      <th>min</th>\n",
       "      <td>14999.000000</td>\n",
       "      <td>0.499900</td>\n",
       "      <td>1.000000</td>\n",
       "      <td>2.000000</td>\n",
       "      <td>1.000000</td>\n",
       "      <td>3.000000</td>\n",
       "      <td>1.000000</td>\n",
       "    </tr>\n",
       "    <tr>\n",
       "      <th>25%</th>\n",
       "      <td>119600.000000</td>\n",
       "      <td>2.563400</td>\n",
       "      <td>18.000000</td>\n",
       "      <td>1447.750000</td>\n",
       "      <td>295.000000</td>\n",
       "      <td>787.000000</td>\n",
       "      <td>280.000000</td>\n",
       "    </tr>\n",
       "    <tr>\n",
       "      <th>50%</th>\n",
       "      <td>179700.000000</td>\n",
       "      <td>3.534800</td>\n",
       "      <td>29.000000</td>\n",
       "      <td>2127.000000</td>\n",
       "      <td>435.000000</td>\n",
       "      <td>1166.000000</td>\n",
       "      <td>409.000000</td>\n",
       "    </tr>\n",
       "    <tr>\n",
       "      <th>75%</th>\n",
       "      <td>264725.000000</td>\n",
       "      <td>4.743250</td>\n",
       "      <td>37.000000</td>\n",
       "      <td>3148.000000</td>\n",
       "      <td>647.000000</td>\n",
       "      <td>1725.000000</td>\n",
       "      <td>605.000000</td>\n",
       "    </tr>\n",
       "    <tr>\n",
       "      <th>max</th>\n",
       "      <td>500001.000000</td>\n",
       "      <td>15.000100</td>\n",
       "      <td>52.000000</td>\n",
       "      <td>39320.000000</td>\n",
       "      <td>6445.000000</td>\n",
       "      <td>35682.000000</td>\n",
       "      <td>6082.000000</td>\n",
       "    </tr>\n",
       "  </tbody>\n",
       "</table>\n",
       "</div>"
      ],
      "text/plain": [
       "       median_house_value  median_income  housing_median_age   total_rooms  \\\n",
       "count        20640.000000   20640.000000        20640.000000  20640.000000   \n",
       "mean        206855.816909       3.870671           28.639486   2635.763081   \n",
       "std         115395.615874       1.899822           12.585558   2181.615252   \n",
       "min          14999.000000       0.499900            1.000000      2.000000   \n",
       "25%         119600.000000       2.563400           18.000000   1447.750000   \n",
       "50%         179700.000000       3.534800           29.000000   2127.000000   \n",
       "75%         264725.000000       4.743250           37.000000   3148.000000   \n",
       "max         500001.000000      15.000100           52.000000  39320.000000   \n",
       "\n",
       "       total_bedrooms    population    households  \n",
       "count    20640.000000  20640.000000  20640.000000  \n",
       "mean       537.898014   1425.476744    499.539680  \n",
       "std        421.247906   1132.462122    382.329753  \n",
       "min          1.000000      3.000000      1.000000  \n",
       "25%        295.000000    787.000000    280.000000  \n",
       "50%        435.000000   1166.000000    409.000000  \n",
       "75%        647.000000   1725.000000    605.000000  \n",
       "max       6445.000000  35682.000000   6082.000000  "
      ]
     },
     "execution_count": 24,
     "metadata": {},
     "output_type": "execute_result"
    }
   ],
   "source": [
    "df.describe()"
   ]
  },
  {
   "cell_type": "markdown",
   "metadata": {},
   "source": [
    "### Valores nulos"
   ]
  },
  {
   "cell_type": "markdown",
   "metadata": {},
   "source": [
    "A continuacón, se demuestra que no hay ningún valor nulo en el dataset."
   ]
  },
  {
   "cell_type": "code",
   "execution_count": 25,
   "metadata": {},
   "outputs": [
    {
     "data": {
      "text/plain": [
       "households            0\n",
       "population            0\n",
       "total_bedrooms        0\n",
       "total_rooms           0\n",
       "housing_median_age    0\n",
       "median_income         0\n",
       "median_house_value    0\n",
       "dtype: int64"
      ]
     },
     "execution_count": 25,
     "metadata": {},
     "output_type": "execute_result"
    }
   ],
   "source": [
    "null_data = df.isnull().sum()\n",
    "null_data.sort_values(ascending=False)"
   ]
  },
  {
   "cell_type": "markdown",
   "metadata": {},
   "source": [
    "### Correlación entre variables"
   ]
  },
  {
   "cell_type": "code",
   "execution_count": 26,
   "metadata": {},
   "outputs": [
    {
     "data": {
      "text/html": [
       "<div>\n",
       "<style scoped>\n",
       "    .dataframe tbody tr th:only-of-type {\n",
       "        vertical-align: middle;\n",
       "    }\n",
       "\n",
       "    .dataframe tbody tr th {\n",
       "        vertical-align: top;\n",
       "    }\n",
       "\n",
       "    .dataframe thead th {\n",
       "        text-align: right;\n",
       "    }\n",
       "</style>\n",
       "<table border=\"1\" class=\"dataframe\">\n",
       "  <thead>\n",
       "    <tr style=\"text-align: right;\">\n",
       "      <th></th>\n",
       "      <th>median_house_value</th>\n",
       "      <th>median_income</th>\n",
       "      <th>housing_median_age</th>\n",
       "      <th>total_rooms</th>\n",
       "      <th>total_bedrooms</th>\n",
       "      <th>population</th>\n",
       "      <th>households</th>\n",
       "    </tr>\n",
       "  </thead>\n",
       "  <tbody>\n",
       "    <tr>\n",
       "      <th>median_house_value</th>\n",
       "      <td>1.000000</td>\n",
       "      <td>0.688075</td>\n",
       "      <td>0.105623</td>\n",
       "      <td>0.134153</td>\n",
       "      <td>0.050594</td>\n",
       "      <td>-0.024650</td>\n",
       "      <td>0.065843</td>\n",
       "    </tr>\n",
       "    <tr>\n",
       "      <th>median_income</th>\n",
       "      <td>0.688075</td>\n",
       "      <td>1.000000</td>\n",
       "      <td>-0.119034</td>\n",
       "      <td>0.198050</td>\n",
       "      <td>-0.008093</td>\n",
       "      <td>0.004834</td>\n",
       "      <td>0.013033</td>\n",
       "    </tr>\n",
       "    <tr>\n",
       "      <th>housing_median_age</th>\n",
       "      <td>0.105623</td>\n",
       "      <td>-0.119034</td>\n",
       "      <td>1.000000</td>\n",
       "      <td>-0.361262</td>\n",
       "      <td>-0.320485</td>\n",
       "      <td>-0.296244</td>\n",
       "      <td>-0.302916</td>\n",
       "    </tr>\n",
       "    <tr>\n",
       "      <th>total_rooms</th>\n",
       "      <td>0.134153</td>\n",
       "      <td>0.198050</td>\n",
       "      <td>-0.361262</td>\n",
       "      <td>1.000000</td>\n",
       "      <td>0.929893</td>\n",
       "      <td>0.857126</td>\n",
       "      <td>0.918484</td>\n",
       "    </tr>\n",
       "    <tr>\n",
       "      <th>total_bedrooms</th>\n",
       "      <td>0.050594</td>\n",
       "      <td>-0.008093</td>\n",
       "      <td>-0.320485</td>\n",
       "      <td>0.929893</td>\n",
       "      <td>1.000000</td>\n",
       "      <td>0.878026</td>\n",
       "      <td>0.979829</td>\n",
       "    </tr>\n",
       "    <tr>\n",
       "      <th>population</th>\n",
       "      <td>-0.024650</td>\n",
       "      <td>0.004834</td>\n",
       "      <td>-0.296244</td>\n",
       "      <td>0.857126</td>\n",
       "      <td>0.878026</td>\n",
       "      <td>1.000000</td>\n",
       "      <td>0.907222</td>\n",
       "    </tr>\n",
       "    <tr>\n",
       "      <th>households</th>\n",
       "      <td>0.065843</td>\n",
       "      <td>0.013033</td>\n",
       "      <td>-0.302916</td>\n",
       "      <td>0.918484</td>\n",
       "      <td>0.979829</td>\n",
       "      <td>0.907222</td>\n",
       "      <td>1.000000</td>\n",
       "    </tr>\n",
       "  </tbody>\n",
       "</table>\n",
       "</div>"
      ],
      "text/plain": [
       "                    median_house_value  median_income  housing_median_age  \\\n",
       "median_house_value            1.000000       0.688075            0.105623   \n",
       "median_income                 0.688075       1.000000           -0.119034   \n",
       "housing_median_age            0.105623      -0.119034            1.000000   \n",
       "total_rooms                   0.134153       0.198050           -0.361262   \n",
       "total_bedrooms                0.050594      -0.008093           -0.320485   \n",
       "population                   -0.024650       0.004834           -0.296244   \n",
       "households                    0.065843       0.013033           -0.302916   \n",
       "\n",
       "                    total_rooms  total_bedrooms  population  households  \n",
       "median_house_value     0.134153        0.050594   -0.024650    0.065843  \n",
       "median_income          0.198050       -0.008093    0.004834    0.013033  \n",
       "housing_median_age    -0.361262       -0.320485   -0.296244   -0.302916  \n",
       "total_rooms            1.000000        0.929893    0.857126    0.918484  \n",
       "total_bedrooms         0.929893        1.000000    0.878026    0.979829  \n",
       "population             0.857126        0.878026    1.000000    0.907222  \n",
       "households             0.918484        0.979829    0.907222    1.000000  "
      ]
     },
     "execution_count": 26,
     "metadata": {},
     "output_type": "execute_result"
    }
   ],
   "source": [
    "corr = df.corr()\n",
    "corr"
   ]
  },
  {
   "cell_type": "code",
   "execution_count": 27,
   "metadata": {},
   "outputs": [
    {
     "data": {
      "text/plain": [
       "<matplotlib.axes._subplots.AxesSubplot at 0x7f41c83dd400>"
      ]
     },
     "execution_count": 27,
     "metadata": {},
     "output_type": "execute_result"
    },
    {
     "data": {
      "image/png": "[encoded data removed]",
      "text/plain": [
       "<matplotlib.figure.Figure at 0x7f41c85ae160>"
      ]
     },
     "metadata": {},
     "output_type": "display_data"
    }
   ],
   "source": [
    "sns.heatmap(corr, \n",
    "            xticklabels=corr.columns.values,\n",
    "            yticklabels=corr.columns.values)"
   ]
  },
  {
   "cell_type": "markdown",
   "metadata": {},
   "source": [
    "<br>\n",
    "La variable objetivo **median_house_value** tiene una alta correlación con la variable **median_income**, por lo que probablemente esta sea la variable con más peso en los modelos.\n",
    "\n",
    "Entre las variable **total_rooms**, **total_bedrooms**, **population** y **households** también hay una alta correlación, lo que podría provocar un problema de multicolinealidad."
   ]
  },
  {
   "cell_type": "markdown",
   "metadata": {},
   "source": [
    "A continuación, se generan los diagramas de cajas para cada una de las variables."
   ]
  },
  {
   "cell_type": "code",
   "execution_count": 28,
   "metadata": {
    "scrolled": false
   },
   "outputs": [
    {
     "data": {
      "image/png": "[encoded data removed]",
      "text/plain": [
       "<matplotlib.figure.Figure at 0x7f41c83eb198>"
      ]
     },
     "metadata": {},
     "output_type": "display_data"
    },
    {
     "data": {
      "image/png": "[encoded data removed]",
      "text/plain": [
       "<matplotlib.figure.Figure at 0x7f41c83bf2b0>"
      ]
     },
     "metadata": {},
     "output_type": "display_data"
    },
    {
     "data": {
      "image/png": "[encoded data removed]",
      "text/plain": [
       "<matplotlib.figure.Figure at 0x7f41c8350908>"
      ]
     },
     "metadata": {},
     "output_type": "display_data"
    },
    {
     "data": {
      "image/png": "[encoded data removed]",
      "text/plain": [
       "<matplotlib.figure.Figure at 0x7f41c840e5f8>"
      ]
     },
     "metadata": {},
     "output_type": "display_data"
    },
    {
     "data": {
      "image/png": "[encoded data removed]",
      "text/plain": [
       "<matplotlib.figure.Figure at 0x7f41c833c828>"
      ]
     },
     "metadata": {},
     "output_type": "display_data"
    },
    {
     "data": {
      "image/png": "[encoded data removed]",
      "text/plain": [
       "<matplotlib.figure.Figure at 0x7f41c842ca20>"
      ]
     },
     "metadata": {},
     "output_type": "display_data"
    },
    {
     "data": {
      "image/png": "[encoded data removed]",
      "text/plain": [
       "<matplotlib.figure.Figure at 0x7f41c8461f60>"
      ]
     },
     "metadata": {},
     "output_type": "display_data"
    }
   ],
   "source": [
    "for i in df.columns:\n",
    "    sns.factorplot(kind='box',\n",
    "                   y=i,\n",
    "                   data=df,\n",
    "                   size=7,\n",
    "                   aspect=1.5,\n",
    "                   legend_out=False)"
   ]
  },
  {
   "cell_type": "markdown",
   "metadata": {},
   "source": [
    "<br>\n",
    "Los valores que se aprecian por encima del bigote superior no son outliers, sino que muestran una diferencia de tamaño entre los diferentes bloques del censo de California, concentrándose la mayoría en valores similares y unos pocos que son más grandes que el resto. No obstante, en prácticamente todas las variables se ve como unos pocos valores destacan más que los demás. Si los analizamos detallamadamente, podremos ver que pertecen a los mismos registros, como se muestra a continuación:"
   ]
  },
  {
   "cell_type": "code",
   "execution_count": 29,
   "metadata": {},
   "outputs": [
    {
     "data": {
      "text/html": [
       "<div>\n",
       "<style scoped>\n",
       "    .dataframe tbody tr th:only-of-type {\n",
       "        vertical-align: middle;\n",
       "    }\n",
       "\n",
       "    .dataframe tbody tr th {\n",
       "        vertical-align: top;\n",
       "    }\n",
       "\n",
       "    .dataframe thead th {\n",
       "        text-align: right;\n",
       "    }\n",
       "</style>\n",
       "<table border=\"1\" class=\"dataframe\">\n",
       "  <thead>\n",
       "    <tr style=\"text-align: right;\">\n",
       "      <th></th>\n",
       "      <th>median_house_value</th>\n",
       "      <th>median_income</th>\n",
       "      <th>housing_median_age</th>\n",
       "      <th>total_rooms</th>\n",
       "      <th>total_bedrooms</th>\n",
       "      <th>population</th>\n",
       "      <th>households</th>\n",
       "    </tr>\n",
       "  </thead>\n",
       "  <tbody>\n",
       "    <tr>\n",
       "      <th>6057</th>\n",
       "      <td>253900</td>\n",
       "      <td>6.0191</td>\n",
       "      <td>8</td>\n",
       "      <td>32054</td>\n",
       "      <td>5290</td>\n",
       "      <td>15507</td>\n",
       "      <td>5050</td>\n",
       "    </tr>\n",
       "    <tr>\n",
       "      <th>6066</th>\n",
       "      <td>339700</td>\n",
       "      <td>6.6288</td>\n",
       "      <td>7</td>\n",
       "      <td>27700</td>\n",
       "      <td>4179</td>\n",
       "      <td>15037</td>\n",
       "      <td>4072</td>\n",
       "    </tr>\n",
       "    <tr>\n",
       "      <th>9880</th>\n",
       "      <td>118800</td>\n",
       "      <td>2.3087</td>\n",
       "      <td>11</td>\n",
       "      <td>32627</td>\n",
       "      <td>6445</td>\n",
       "      <td>28566</td>\n",
       "      <td>6082</td>\n",
       "    </tr>\n",
       "    <tr>\n",
       "      <th>10309</th>\n",
       "      <td>366300</td>\n",
       "      <td>7.4947</td>\n",
       "      <td>4</td>\n",
       "      <td>37937</td>\n",
       "      <td>5471</td>\n",
       "      <td>16122</td>\n",
       "      <td>5189</td>\n",
       "    </tr>\n",
       "    <tr>\n",
       "      <th>13139</th>\n",
       "      <td>153700</td>\n",
       "      <td>4.9516</td>\n",
       "      <td>3</td>\n",
       "      <td>39320</td>\n",
       "      <td>6210</td>\n",
       "      <td>16305</td>\n",
       "      <td>5358</td>\n",
       "    </tr>\n",
       "    <tr>\n",
       "      <th>15360</th>\n",
       "      <td>134400</td>\n",
       "      <td>2.5729</td>\n",
       "      <td>14</td>\n",
       "      <td>25135</td>\n",
       "      <td>4819</td>\n",
       "      <td>35682</td>\n",
       "      <td>4769</td>\n",
       "    </tr>\n",
       "  </tbody>\n",
       "</table>\n",
       "</div>"
      ],
      "text/plain": [
       "       median_house_value  median_income  housing_median_age  total_rooms  \\\n",
       "6057               253900         6.0191                   8        32054   \n",
       "6066               339700         6.6288                   7        27700   \n",
       "9880               118800         2.3087                  11        32627   \n",
       "10309              366300         7.4947                   4        37937   \n",
       "13139              153700         4.9516                   3        39320   \n",
       "15360              134400         2.5729                  14        25135   \n",
       "\n",
       "       total_bedrooms  population  households  \n",
       "6057             5290       15507        5050  \n",
       "6066             4179       15037        4072  \n",
       "9880             6445       28566        6082  \n",
       "10309            5471       16122        5189  \n",
       "13139            6210       16305        5358  \n",
       "15360            4819       35682        4769  "
      ]
     },
     "execution_count": 29,
     "metadata": {},
     "output_type": "execute_result"
    }
   ],
   "source": [
    "df[df.population > 15000]"
   ]
  },
  {
   "cell_type": "markdown",
   "metadata": {},
   "source": [
    "Por lo tanto, bastaría con borrar estos pocos registros para eliminar esos valores que destacan en todas las variables, con la siguiente condición:"
   ]
  },
  {
   "cell_type": "code",
   "execution_count": 30,
   "metadata": {},
   "outputs": [],
   "source": [
    "df = df[df.population < 15000]"
   ]
  },
  {
   "cell_type": "markdown",
   "metadata": {},
   "source": [
    "# 3. Selección del modelo de datos <a class=\"anchor\" id=\"seleccion\"></a>"
   ]
  },
  {
   "cell_type": "markdown",
   "metadata": {},
   "source": [
    "Seleccionamos el modelo de datos\n",
    "\n",
    "$$ln(median\\_house\\_value) = a_1 + a_2 \\cdot median\\_income + a_3 \\cdot median\\_income^2 + a_4 \\cdot median\\_income^3 + a_5 \\cdot ln(median\\_age) + a_6 \\cdot ln(total\\_room / population) + a_7 \\cdot ln(total\\_bedrooms / population) + a_8 \\cdot ln(population / households) + a_9 \\cdot ln(households)$$\n",
    "\n",
    "<br>"
   ]
  },
  {
   "cell_type": "code",
   "execution_count": 31,
   "metadata": {},
   "outputs": [],
   "source": [
    "df['ln_median_house_value'] = np.log(df.median_house_value)\n",
    "df['ln_housing_median_age'] = np.log(df.housing_median_age)\n",
    "df['ln_households'] = np.log(df.households)\n",
    "\n",
    "df['median_income_2'] = df.median_income ** 2\n",
    "df['median_income_3'] = df.median_income ** 3\n",
    "\n",
    "df['ln_trooms_popul'] = np.log(df.total_rooms/df.population)\n",
    "df['ln_tbedrooms_popul'] = np.log(df.total_bedrooms/df.population)\n",
    "df['ln_popul_households'] = np.log(df.population/df.households)"
   ]
  },
  {
   "cell_type": "code",
   "execution_count": 32,
   "metadata": {},
   "outputs": [
    {
     "data": {
      "text/html": [
       "<div>\n",
       "<style scoped>\n",
       "    .dataframe tbody tr th:only-of-type {\n",
       "        vertical-align: middle;\n",
       "    }\n",
       "\n",
       "    .dataframe tbody tr th {\n",
       "        vertical-align: top;\n",
       "    }\n",
       "\n",
       "    .dataframe thead th {\n",
       "        text-align: right;\n",
       "    }\n",
       "</style>\n",
       "<table border=\"1\" class=\"dataframe\">\n",
       "  <thead>\n",
       "    <tr style=\"text-align: right;\">\n",
       "      <th></th>\n",
       "      <th>ln_median_house_value</th>\n",
       "      <th>median_income</th>\n",
       "      <th>median_income_2</th>\n",
       "      <th>median_income_3</th>\n",
       "      <th>ln_housing_median_age</th>\n",
       "      <th>ln_trooms_popul</th>\n",
       "      <th>ln_tbedrooms_popul</th>\n",
       "      <th>ln_popul_households</th>\n",
       "      <th>households</th>\n",
       "    </tr>\n",
       "  </thead>\n",
       "  <tbody>\n",
       "    <tr>\n",
       "      <th>0</th>\n",
       "      <td>13.022764</td>\n",
       "      <td>8.3252</td>\n",
       "      <td>69.308955</td>\n",
       "      <td>577.010912</td>\n",
       "      <td>3.713572</td>\n",
       "      <td>1.005370</td>\n",
       "      <td>-0.914739</td>\n",
       "      <td>0.938270</td>\n",
       "      <td>126</td>\n",
       "    </tr>\n",
       "    <tr>\n",
       "      <th>1</th>\n",
       "      <td>12.789684</td>\n",
       "      <td>8.3014</td>\n",
       "      <td>68.913242</td>\n",
       "      <td>572.076387</td>\n",
       "      <td>3.044522</td>\n",
       "      <td>1.084069</td>\n",
       "      <td>-0.775135</td>\n",
       "      <td>0.746613</td>\n",
       "      <td>1138</td>\n",
       "    </tr>\n",
       "    <tr>\n",
       "      <th>2</th>\n",
       "      <td>12.771671</td>\n",
       "      <td>7.2574</td>\n",
       "      <td>52.669855</td>\n",
       "      <td>382.246204</td>\n",
       "      <td>3.951244</td>\n",
       "      <td>1.084399</td>\n",
       "      <td>-0.959552</td>\n",
       "      <td>1.030426</td>\n",
       "      <td>177</td>\n",
       "    </tr>\n",
       "    <tr>\n",
       "      <th>3</th>\n",
       "      <td>12.740517</td>\n",
       "      <td>5.6431</td>\n",
       "      <td>31.844578</td>\n",
       "      <td>179.702136</td>\n",
       "      <td>3.951244</td>\n",
       "      <td>0.825558</td>\n",
       "      <td>-0.864773</td>\n",
       "      <td>0.935287</td>\n",
       "      <td>219</td>\n",
       "    </tr>\n",
       "    <tr>\n",
       "      <th>4</th>\n",
       "      <td>12.743151</td>\n",
       "      <td>3.8462</td>\n",
       "      <td>14.793254</td>\n",
       "      <td>56.897815</td>\n",
       "      <td>3.951244</td>\n",
       "      <td>1.057667</td>\n",
       "      <td>-0.702036</td>\n",
       "      <td>0.779998</td>\n",
       "      <td>259</td>\n",
       "    </tr>\n",
       "  </tbody>\n",
       "</table>\n",
       "</div>"
      ],
      "text/plain": [
       "   ln_median_house_value  median_income  median_income_2  median_income_3  \\\n",
       "0              13.022764         8.3252        69.308955       577.010912   \n",
       "1              12.789684         8.3014        68.913242       572.076387   \n",
       "2              12.771671         7.2574        52.669855       382.246204   \n",
       "3              12.740517         5.6431        31.844578       179.702136   \n",
       "4              12.743151         3.8462        14.793254        56.897815   \n",
       "\n",
       "   ln_housing_median_age  ln_trooms_popul  ln_tbedrooms_popul  \\\n",
       "0               3.713572         1.005370           -0.914739   \n",
       "1               3.044522         1.084069           -0.775135   \n",
       "2               3.951244         1.084399           -0.959552   \n",
       "3               3.951244         0.825558           -0.864773   \n",
       "4               3.951244         1.057667           -0.702036   \n",
       "\n",
       "   ln_popul_households  households  \n",
       "0             0.938270         126  \n",
       "1             0.746613        1138  \n",
       "2             1.030426         177  \n",
       "3             0.935287         219  \n",
       "4             0.779998         259  "
      ]
     },
     "execution_count": 32,
     "metadata": {},
     "output_type": "execute_result"
    }
   ],
   "source": [
    "df_model = df[['ln_median_house_value', 'median_income', 'median_income_2', 'median_income_3', \n",
    "               'ln_housing_median_age', 'ln_trooms_popul', 'ln_tbedrooms_popul', \n",
    "               'ln_popul_households', 'households']]\n",
    "df_model.head()"
   ]
  },
  {
   "cell_type": "markdown",
   "metadata": {},
   "source": [
    "# 4. Separación de datos de entrenamiento y prueba <a class=\"anchor\" id=\"train-test\"></a>"
   ]
  },
  {
   "cell_type": "code",
   "execution_count": 33,
   "metadata": {},
   "outputs": [],
   "source": [
    "from sklearn.model_selection import train_test_split"
   ]
  },
  {
   "cell_type": "markdown",
   "metadata": {},
   "source": [
    "<br>\n",
    "Separamos los datos en entrenamiento y prueba (30%) del conjunto de datos completo."
   ]
  },
  {
   "cell_type": "code",
   "execution_count": 34,
   "metadata": {},
   "outputs": [],
   "source": [
    "df_X = df_model.loc[:, df_model.columns != 'ln_median_house_value']\n",
    "df_y = df_model.ln_median_house_value\n",
    "\n",
    "X_train, X_test, y_train, y_test = train_test_split(df_X, df_y,\n",
    "                                                    test_size = 0.30, \n",
    "                                                    random_state = 1234)"
   ]
  },
  {
   "cell_type": "code",
   "execution_count": 35,
   "metadata": {},
   "outputs": [
    {
     "name": "stdout",
     "output_type": "stream",
     "text": [
      "X_train: (14443, 8)\n",
      "X_test:  (6191, 8)\n",
      "y_train: (14443,)\n",
      "y_test:  (6191,)\n"
     ]
    }
   ],
   "source": [
    "print(\"X_train: \" + str(X_train.shape))\n",
    "print(\"X_test:  \" + str(X_test.shape))\n",
    "print(\"y_train: \" + str(y_train.shape))\n",
    "print(\"y_test:  \" + str(y_test.shape))"
   ]
  },
  {
   "cell_type": "markdown",
   "metadata": {},
   "source": [
    "# 5. Regresión lineal <a class=\"anchor\" id=\"regresion-lineal\"></a>"
   ]
  },
  {
   "cell_type": "markdown",
   "metadata": {},
   "source": [
    "Se realizan dos modelos de regresión lineal. Uno será una regresión lineal básica sin ningún tipo de modificación de parámetros, y el otro será una regresión polinomial comprobando mediante *GridSearchCV* los valores {2, 3, 4}."
   ]
  },
  {
   "cell_type": "code",
   "execution_count": 36,
   "metadata": {
    "collapsed": true
   },
   "outputs": [],
   "source": [
    "from sklearn.linear_model import LinearRegression"
   ]
  },
  {
   "cell_type": "markdown",
   "metadata": {},
   "source": [
    "## 5.1. Regresión lineal básica <a class=\"anchor\" id=\"regresion-lineal-basica\"></a>"
   ]
  },
  {
   "cell_type": "code",
   "execution_count": 37,
   "metadata": {
    "collapsed": true
   },
   "outputs": [],
   "source": [
    "reg_LR = LinearRegression(normalize=True)\n",
    "reg_LR_fit = reg_LR.fit(X_train, y_train)\n",
    "y_pred_LR = reg_LR.predict(X_test)"
   ]
  },
  {
   "cell_type": "code",
   "execution_count": 61,
   "metadata": {},
   "outputs": [
    {
     "name": "stdout",
     "output_type": "stream",
     "text": [
      "Intercept:  11.74956876472197\n"
     ]
    }
   ],
   "source": [
    "print('Intercept: ', reg_LR.intercept_)"
   ]
  },
  {
   "cell_type": "code",
   "execution_count": 60,
   "metadata": {},
   "outputs": [
    {
     "data": {
      "text/html": [
       "<div>\n",
       "<style scoped>\n",
       "    .dataframe tbody tr th:only-of-type {\n",
       "        vertical-align: middle;\n",
       "    }\n",
       "\n",
       "    .dataframe tbody tr th {\n",
       "        vertical-align: top;\n",
       "    }\n",
       "\n",
       "    .dataframe thead th {\n",
       "        text-align: right;\n",
       "    }\n",
       "</style>\n",
       "<table border=\"1\" class=\"dataframe\">\n",
       "  <thead>\n",
       "    <tr style=\"text-align: right;\">\n",
       "      <th></th>\n",
       "      <th>Features</th>\n",
       "      <th>Coefficients</th>\n",
       "    </tr>\n",
       "  </thead>\n",
       "  <tbody>\n",
       "    <tr>\n",
       "      <th>0</th>\n",
       "      <td>median_income</td>\n",
       "      <td>0.467644</td>\n",
       "    </tr>\n",
       "    <tr>\n",
       "      <th>1</th>\n",
       "      <td>median_income_2</td>\n",
       "      <td>-0.014773</td>\n",
       "    </tr>\n",
       "    <tr>\n",
       "      <th>2</th>\n",
       "      <td>median_income_3</td>\n",
       "      <td>-0.000256</td>\n",
       "    </tr>\n",
       "    <tr>\n",
       "      <th>3</th>\n",
       "      <td>ln_housing_median_age</td>\n",
       "      <td>0.161368</td>\n",
       "    </tr>\n",
       "    <tr>\n",
       "      <th>4</th>\n",
       "      <td>ln_trooms_popul</td>\n",
       "      <td>-0.854834</td>\n",
       "    </tr>\n",
       "    <tr>\n",
       "      <th>5</th>\n",
       "      <td>ln_tbedrooms_popul</td>\n",
       "      <td>0.790789</td>\n",
       "    </tr>\n",
       "    <tr>\n",
       "      <th>6</th>\n",
       "      <td>ln_popul_households</td>\n",
       "      <td>-0.434042</td>\n",
       "    </tr>\n",
       "    <tr>\n",
       "      <th>7</th>\n",
       "      <td>households</td>\n",
       "      <td>0.000094</td>\n",
       "    </tr>\n",
       "  </tbody>\n",
       "</table>\n",
       "</div>"
      ],
      "text/plain": [
       "                Features  Coefficients\n",
       "0          median_income      0.467644\n",
       "1        median_income_2     -0.014773\n",
       "2        median_income_3     -0.000256\n",
       "3  ln_housing_median_age      0.161368\n",
       "4        ln_trooms_popul     -0.854834\n",
       "5     ln_tbedrooms_popul      0.790789\n",
       "6    ln_popul_households     -0.434042\n",
       "7             households      0.000094"
      ]
     },
     "execution_count": 60,
     "metadata": {},
     "output_type": "execute_result"
    }
   ],
   "source": [
    "df_coef = pd.concat([pd.Series(X_train.columns), pd.Series(reg_LR.coef_)], axis=1)\n",
    "df_coef.columns = ['Features', 'Coefficients']\n",
    "df_coef"
   ]
  },
  {
   "cell_type": "code",
   "execution_count": 40,
   "metadata": {},
   "outputs": [
    {
     "name": "stdout",
     "output_type": "stream",
     "text": [
      "Mean squared error: 0.13\n",
      "Variance score: 0.61\n"
     ]
    }
   ],
   "source": [
    "print(\"Mean squared error: %.2f\" % mean_squared_error(y_test, y_pred_LR))\n",
    "print('Variance score: %.2f' % r2_score(y_test, y_pred_LR))"
   ]
  },
  {
   "cell_type": "markdown",
   "metadata": {},
   "source": [
    "## 5.2. Regresión lineal con variables polinomiales <a class=\"anchor\" id=\"regresion-lineal-polinomial\"></a>"
   ]
  },
  {
   "cell_type": "code",
   "execution_count": 62,
   "metadata": {},
   "outputs": [
    {
     "name": "stdout",
     "output_type": "stream",
     "text": [
      "Best params:  {'poly__degree': 2}\n",
      "\n",
      "\n",
      "Mean squared error: 0.12\n",
      "Variance score: 0.65\n"
     ]
    }
   ],
   "source": [
    "poly = PolynomialFeatures()\n",
    "scaler = MinMaxScaler()\n",
    "lin_reg = LinearRegression(normalize=True)\n",
    "\n",
    "## Pipeline steps\n",
    "polynomial_step = ('poly', poly)\n",
    "scaler_step = ('scaler', scaler)\n",
    "lin_reg_step = ('lin_reg_step', lin_reg)\n",
    "steps = [polynomial_step, scaler_step, lin_reg_step]\n",
    "pipe = Pipeline(steps)\n",
    "\n",
    "tuned_parameters = {'poly__degree': [2, 3, 4]}\n",
    "\n",
    "kfold = KFold(n_splits = 10)\n",
    "\n",
    "gs_lin_reg = GridSearchCV(pipe, tuned_parameters, cv=kfold, n_jobs=-1)\n",
    "gs_lin_reg.fit(X_train, y_train)\n",
    "\n",
    "y_pred_lin_reg = gs_lin_reg.predict(X_test)\n",
    "\n",
    "print(\"Best params: \", gs_lin_reg.best_params_)\n",
    "print('\\n')\n",
    "print(\"Mean squared error: %.2f\" % mean_squared_error(y_test, y_pred_lin_reg))\n",
    "print('Variance score: %.2f' % r2_score(y_test, y_pred_lin_reg))"
   ]
  },
  {
   "cell_type": "markdown",
   "metadata": {},
   "source": [
    "<br>\n",
    "Observamos que el modelo que se ha hecho con variables polinómicas de segundo grado da un error cuadrático medio ligeramente más bajo que el modelo de regresión lineal básico."
   ]
  },
  {
   "cell_type": "markdown",
   "metadata": {},
   "source": [
    "# 6. Árboles de decisión <a class=\"anchor\" id=\"arboles-decision\"></a>"
   ]
  },
  {
   "cell_type": "markdown",
   "metadata": {},
   "source": [
    "Los árboles de decisión son algoritmos de aprendizaje supervisado donde es posible visualizar el árbol de decisión entrenado, por lo que la interpretación de los resultados es más fácil. La forma en la que se genera un árbol de decisión es cogiendo el mejor atributo del conjunto de datos y situándolo en la *raíz* del árbol, para hacer un *split* y obtener un subconjunto de datos más pequeño. Posteriormente, se realizan estos mismos pasos en cada subconjunto de datos hasta encontrar los *nodos hoja* en cada una de las ramas del árbol.\n",
    "\n",
    "Los árboles de decisión, aunque son fácilmente interpretables, sufren por tener una alta varianza y un pequeño cambio en los datos, puede cambiar el resultado final del árbol. Por este motivo, también se han realizado modelos con **Bagging**, **Random Forest** y **Boosting**, que veremos más adelante."
   ]
  },
  {
   "cell_type": "code",
   "execution_count": 30,
   "metadata": {
    "collapsed": true
   },
   "outputs": [],
   "source": [
    "from sklearn.tree import DecisionTreeRegressor"
   ]
  },
  {
   "cell_type": "markdown",
   "metadata": {},
   "source": [
    "## 6.1. Árbol de decisión básico <a class=\"anchor\" id=\"arbol-decision-basico\"></a>"
   ]
  },
  {
   "cell_type": "markdown",
   "metadata": {},
   "source": [
    "En este caso probamos un árbol de decisión sin modificar ningún parámetro."
   ]
  },
  {
   "cell_type": "code",
   "execution_count": 31,
   "metadata": {},
   "outputs": [
    {
     "name": "stdout",
     "output_type": "stream",
     "text": [
      "Mean squared error: 0.21\n",
      "Variance score: 0.35\n"
     ]
    }
   ],
   "source": [
    "scaler = MinMaxScaler()\n",
    "reg_DT = DecisionTreeRegressor()\n",
    "\n",
    "scaler_step = ('scaler', scaler)\n",
    "reg_DT_step = ('reg_DT', reg_DT)\n",
    "steps = [scaler_step, reg_DT_step]\n",
    "pipe = Pipeline(steps)\n",
    "\n",
    "pipe.fit(X_train, y_train)\n",
    "y_pred_reg_DT = pipe.predict(X_test)\n",
    "\n",
    "print(\"Mean squared error: %.2f\" % mean_squared_error(y_test, y_pred_reg_DT))\n",
    "print('Variance score: %.2f' % r2_score(y_test, y_pred_reg_DT))"
   ]
  },
  {
   "cell_type": "code",
   "execution_count": 32,
   "metadata": {},
   "outputs": [
    {
     "data": {
      "text/plain": [
       "37"
      ]
     },
     "execution_count": 32,
     "metadata": {},
     "output_type": "execute_result"
    }
   ],
   "source": [
    "reg_DT.tree_.max_depth"
   ]
  },
  {
   "cell_type": "markdown",
   "metadata": {},
   "source": [
    "<br>\n",
    "Se observa que el error cuadrático medio es más alto que con la regresión lineal, el valor R2 es bajo y la profundidad del árbol es de 37. Esto podría indicar que prácticamente se está realizando un **Overfitting** sobre los datos de entrenamiento que hacen imposible predecir correctamente los datos de prueba. Por este motivo, es recomendable hacer un *GridSearchCV* para encontrar la profundidad máxima que ha de tener el árbol y el número mínimo de muestras necesarias para hacer un *split* o generar una hoja del árbol."
   ]
  },
  {
   "cell_type": "markdown",
   "metadata": {},
   "source": [
    "## 6.2. Árbol de decisión mediante GridSearch <a class=\"anchor\" id=\"arbol-decision-gridsearch\"></a>"
   ]
  },
  {
   "cell_type": "code",
   "execution_count": 33,
   "metadata": {},
   "outputs": [
    {
     "name": "stdout",
     "output_type": "stream",
     "text": [
      "Best params:  {'reg_DT_gscv__min_samples_leaf': 26, 'reg_DT_gscv__max_depth': 10, 'reg_DT_gscv__min_samples_split': 11}\n",
      "Mean squared error: 0.12\n",
      "Variance score: 0.62\n"
     ]
    }
   ],
   "source": [
    "scaler = MinMaxScaler()\n",
    "reg_DT_gscv = DecisionTreeRegressor()\n",
    "\n",
    "scaler_step = ('scaler', scaler)\n",
    "reg_DT_gscv_step = ('reg_DT_gscv', reg_DT_gscv)\n",
    "steps = [scaler_step, reg_DT_gscv_step]\n",
    "pipe = Pipeline(steps)\n",
    "\n",
    "params = {'reg_DT_gscv__max_depth': range(5, 20),\n",
    "          'reg_DT_gscv__min_samples_split': range(2, 15),\n",
    "          'reg_DT_gscv__min_samples_leaf': range(2, 36, 2)}\n",
    "\n",
    "kfold = KFold(n_splits = 10)\n",
    "\n",
    "gs_reg_DT = GridSearchCV(pipe, param_grid=params, cv=kfold, n_jobs=-1)\n",
    "gs_reg_DT.fit(X_train, y_train)\n",
    "\n",
    "y_pred_reg_DT = gs_reg_DT.predict(X_test)\n",
    "\n",
    "print(\"Best params: \", gs_reg_DT.best_params_)\n",
    "print(\"Mean squared error: %.2f\" % mean_squared_error(y_test, y_pred_reg_DT))\n",
    "print('Variance score: %.2f' % r2_score(y_test, y_pred_reg_DT))"
   ]
  },
  {
   "cell_type": "markdown",
   "metadata": {},
   "source": [
    "<br>\n",
    "Vemos que la máxima profundidad que requiere el árbol es de 10, lo que podría indicar que considera prácticamente todas las variables como importantes o que hace un *split* de la misma variable varias veces. Por este motivo, vamos a estudiar a continuación qué variables son las más importantes para el árbol generado. Además, vemos que nos ha mejorado el error cuadrático medio, aunque únicamente en una centésima."
   ]
  },
  {
   "cell_type": "markdown",
   "metadata": {},
   "source": [
    "## 6.3. Visualización de las variables más importantes <a class=\"anchor\" id=\"arbol-decision-variables\"></a>"
   ]
  },
  {
   "cell_type": "markdown",
   "metadata": {},
   "source": [
    "A partir de los mejores parámetros para el árbol encontrados en el anterior *GridSearchCV*, generamos el árbol."
   ]
  },
  {
   "cell_type": "code",
   "execution_count": 45,
   "metadata": {},
   "outputs": [
    {
     "data": {
      "text/plain": [
       "Pipeline(memory=None,\n",
       "     steps=[('scaler', MinMaxScaler(copy=True, feature_range=(0, 1))), ('reg_DT', DecisionTreeRegressor(criterion='mse', max_depth=10, max_features=None,\n",
       "           max_leaf_nodes=None, min_impurity_decrease=0.0,\n",
       "           min_impurity_split=None, min_samples_leaf=26,\n",
       "           min_samples_split=11, min_weight_fraction_leaf=0.0,\n",
       "           presort=False, random_state=None, splitter='best'))])"
      ]
     },
     "execution_count": 45,
     "metadata": {},
     "output_type": "execute_result"
    }
   ],
   "source": [
    "scaler = MinMaxScaler()\n",
    "reg_DT = DecisionTreeRegressor(max_depth = gs_reg_DT.best_params_['reg_DT_gscv__max_depth'], \n",
    "                               min_samples_leaf = gs_reg_DT.best_params_['reg_DT_gscv__min_samples_leaf'], \n",
    "                               min_samples_split = gs_reg_DT.best_params_['reg_DT_gscv__min_samples_split'])\n",
    "\n",
    "scaler_step = ('scaler', scaler)\n",
    "reg_DT_step = ('reg_DT', reg_DT)\n",
    "steps = [scaler_step, reg_DT_step]\n",
    "pipe = Pipeline(steps)\n",
    "\n",
    "pipe.fit(X_train, y_train)"
   ]
  },
  {
   "cell_type": "code",
   "execution_count": 47,
   "metadata": {},
   "outputs": [
    {
     "data": {
      "text/plain": [
       "<matplotlib.axes._subplots.AxesSubplot at 0x7f1ea9949358>"
      ]
     },
     "execution_count": 47,
     "metadata": {},
     "output_type": "execute_result"
    },
    {
     "data": {
      "image/png": "[encoded data removed]",
      "text/plain": [
       "<Figure size 864x576 with 1 Axes>"
      ]
     },
     "metadata": {},
     "output_type": "display_data"
    }
   ],
   "source": [
    "feat = pd.DataFrame(index=X_train.keys(), data=reg_DT.feature_importances_, columns=['score'])\n",
    "feat = feat.sort_values(by='score', ascending=False)\n",
    "\n",
    "feat.plot(kind='bar', rot=80)"
   ]
  },
  {
   "cell_type": "markdown",
   "metadata": {},
   "source": [
    "La variable más importante para el árbol es **median_income**, siguiéndole **median\\_income³** y **ln(population / households)**. La menos importante sería **households**."
   ]
  },
  {
   "cell_type": "markdown",
   "metadata": {},
   "source": [
    "# 7. Bagging <a class=\"anchor\" id=\"bagging\"></a>"
   ]
  },
  {
   "cell_type": "markdown",
   "metadata": {},
   "source": [
    "Bagging, o *Bootstrap Aggregation*, es un procedimiento de propósito general para reducir la varianza de un método de aprendizaje estadístico. Hay que tener en cuenta que dado un conjunto de *n* observaciones $Z_1, ..., Z_n$, cada una con varianza $\\sigma^2$, la varianza de la media $\\overline{Z}$ de las observaciones está dada por $\\sigma^2 / n$, es decir, con el promedio del conjunto de observaciones se reduce la varianza. \n",
    "\n",
    "Por lo tanto, Bagging utiliza Bootstrap para coger varias muestras de un único conjunto de entrenamiento y así generar *B* conjuntos de entrenamientos de *Boostrap*. Gracias a esto, y en combinación con los árboles de decisión, genera *B* árboles de decisión y hace el promedio del resultado de las predicciones reduciendo la varianza."
   ]
  },
  {
   "cell_type": "code",
   "execution_count": 38,
   "metadata": {
    "collapsed": true
   },
   "outputs": [],
   "source": [
    "from sklearn.ensemble import BaggingRegressor"
   ]
  },
  {
   "cell_type": "code",
   "execution_count": 39,
   "metadata": {},
   "outputs": [
    {
     "name": "stdout",
     "output_type": "stream",
     "text": [
      "Best params:  {'bag_reg_DT__n_estimators': 310}\n",
      "Mean squared error: 0.11\n",
      "Variance score: 0.67\n"
     ]
    }
   ],
   "source": [
    "scaler = MinMaxScaler()\n",
    "bag_reg_DT = BaggingRegressor(DecisionTreeRegressor(), oob_score=False)\n",
    "\n",
    "scaler_step = ('scaler', scaler)\n",
    "bag_reg_DT_step = ('bag_reg_DT', bag_reg_DT)\n",
    "steps = [scaler_step, bag_reg_DT_step]\n",
    "pipe = Pipeline(steps)\n",
    "\n",
    "tuned_parameters = {'bag_reg_DT__n_estimators': range(250, 450, 10)}\n",
    "kfold = KFold(n_splits = 10)\n",
    "\n",
    "gs_bag_reg_DT = GridSearchCV(pipe, tuned_parameters, cv=kfold, n_jobs=-1)\n",
    "gs_bag_reg_DT.fit(X_train, y_train)\n",
    "\n",
    "y_pred_bag_reg_DT = gs_bag_reg_DT.predict(X_test)\n",
    "\n",
    "print(\"Best params: \", gs_bag_reg_DT.best_params_)\n",
    "print(\"Mean squared error: %.2f\" % mean_squared_error(y_test, y_pred_bag_reg_DT))\n",
    "print('Variance score: %.2f' % r2_score(y_test, y_pred_bag_reg_DT))"
   ]
  },
  {
   "cell_type": "markdown",
   "metadata": {},
   "source": [
    "<br>\n",
    "Observamos que ha mejorado el error cuadrático medio con respecto a los otros modelos. Esto podría deberse a la alta correlación entre las variables con la variable objetivo."
   ]
  },
  {
   "cell_type": "markdown",
   "metadata": {},
   "source": [
    "# 8. Random Forest <a class=\"anchor\" id=\"random-forest\"></a>"
   ]
  },
  {
   "cell_type": "markdown",
   "metadata": {},
   "source": [
    "Random Forest provee una mejora sobre los árboles de decisión de Bagging para reducir más la varianza. Esto se hace de modo que cada vez que se hace una división en un árbol, se considera una selección aleatoria de *m* predictores elegidos como candidatos de división de todo el conjunto de *p* predictores. \n",
    "\n",
    "Normalmente se usan $m = \\sqrt{p} \\quad$  o  $\\quad m = p$, y se pueden indicar en el siguiente algoritmo mediante el parámetro **max_features = 'sqrt'** o **max_features = 'auto'**, respectivamente. Además, con el parámetro **n_estimators** indicamos el número de árboles que se generan y con **max_depth** la profundidad de cada árbol. Estimamos la mejor combinación de estos parámetros mediante *GridSearchCV*."
   ]
  },
  {
   "cell_type": "code",
   "execution_count": 5,
   "metadata": {},
   "outputs": [],
   "source": [
    "from sklearn.ensemble import RandomForestRegressor"
   ]
  },
  {
   "cell_type": "code",
   "execution_count": 76,
   "metadata": {},
   "outputs": [
    {
     "name": "stdout",
     "output_type": "stream",
     "text": [
      "Best params:  {'rand_for_reg__min_samples_split': 13, 'rand_for_reg__n_estimators': 160, 'rand_for_reg__min_samples_leaf': 5, 'rand_for_reg__max_features': 'auto', 'rand_for_reg__max_depth': 21}\n",
      "Mean squared error: 0.11\n",
      "Variance score: 0.68\n"
     ]
    }
   ],
   "source": [
    "scaler = MinMaxScaler()\n",
    "rand_for_reg = RandomForestRegressor()\n",
    "\n",
    "scaler_step = ('scaler', scaler)\n",
    "rand_for_reg_step = ('rand_for_reg', rand_for_reg)\n",
    "steps = [scaler_step, rand_for_reg_step]\n",
    "pipe = Pipeline(steps)\n",
    "\n",
    "tuned_parameters = {'rand_for_reg__n_estimators': range(140, 180, 5),\n",
    "                    'rand_for_reg__max_features': ['sqrt', 'auto'],\n",
    "                    'rand_for_reg__max_depth': range(15, 25),\n",
    "                    'rand_for_reg__min_samples_split': range(10, 17),\n",
    "                    'rand_for_reg__min_samples_leaf': range(2, 8)}\n",
    "\n",
    "kfold = KFold(n_splits = 10)\n",
    "\n",
    "gs_rand_for_reg = GridSearchCV(pipe, tuned_parameters, cv=kfold, n_jobs=-1)\n",
    "gs_rand_for_reg.fit(X_train, y_train)\n",
    "\n",
    "y_pred_rand_for_reg = gs_rand_for_reg.predict(X_test)\n",
    "\n",
    "print(\"Best params: \", gs_rand_for_reg.best_params_)\n",
    "print(\"Mean squared error: %.2f\" % mean_squared_error(y_test, y_pred_rand_for_reg))\n",
    "print('Variance score: %.2f' % r2_score(y_test, y_pred_rand_for_reg))"
   ]
  },
  {
   "cell_type": "markdown",
   "metadata": {},
   "source": [
    "Vemos que la profundidad de los árboles es más alto que la del árbol de decisión básico generado anteriormente. Esto puede ser debido a que se cogen los predictores al azar y cada árbol puede estar tomando como importantes otros predictores que el árbol de decisión básico no había tenido en cuenta."
   ]
  },
  {
   "cell_type": "markdown",
   "metadata": {},
   "source": [
    "## 8.1. Visualización de las variables más importantes <a class=\"anchor\" id=\"random-forest-variables\"></a>"
   ]
  },
  {
   "cell_type": "markdown",
   "metadata": {},
   "source": [
    "A continuación, comprobamos cuáles son las variables que ha encontrado más importantes para generar los árboles aleatorios."
   ]
  },
  {
   "cell_type": "code",
   "execution_count": 79,
   "metadata": {},
   "outputs": [
    {
     "data": {
      "text/plain": [
       "Pipeline(memory=None,\n",
       "     steps=[('scaler', MinMaxScaler(copy=True, feature_range=(0, 1))), ('rand_for_reg', RandomForestRegressor(bootstrap=True, criterion='mse', max_depth=21,\n",
       "           max_features='auto', max_leaf_nodes=None,\n",
       "           min_impurity_decrease=0.0, min_impurity_split=None,\n",
       "           min_samples_leaf=5, min_samples_split=13,\n",
       "           min_weight_fraction_leaf=0.0, n_estimators=160, n_jobs=1,\n",
       "           oob_score=False, random_state=None, verbose=0, warm_start=False))])"
      ]
     },
     "execution_count": 79,
     "metadata": {},
     "output_type": "execute_result"
    }
   ],
   "source": [
    "scaler = MinMaxScaler()\n",
    "rand_for_reg = RandomForestRegressor(\n",
    "                    max_depth = gs_rand_for_reg.best_params_['rand_for_reg__max_depth'], \n",
    "                    max_features = gs_rand_for_reg.best_params_['rand_for_reg__max_features'], \n",
    "                    n_estimators = gs_rand_for_reg.best_params_['rand_for_reg__n_estimators'], \n",
    "                    min_samples_split = gs_rand_for_reg.best_params_['rand_for_reg__min_samples_split'],\n",
    "                    min_samples_leaf = gs_rand_for_reg.best_params_['rand_for_reg__min_samples_leaf'])\n",
    "\n",
    "scaler_step = ('scaler', scaler)\n",
    "rand_for_reg_step = ('rand_for_reg', rand_for_reg)\n",
    "steps = [scaler_step, rand_for_reg_step]\n",
    "pipe = Pipeline(steps)\n",
    "\n",
    "pipe.fit(X_train, y_train)"
   ]
  },
  {
   "cell_type": "code",
   "execution_count": 80,
   "metadata": {},
   "outputs": [
    {
     "data": {
      "text/plain": [
       "<matplotlib.axes._subplots.AxesSubplot at 0x7f6687ee1d68>"
      ]
     },
     "execution_count": 80,
     "metadata": {},
     "output_type": "execute_result"
    },
    {
     "data": {
      "image/png": "[encoded data removed]",
      "text/plain": [
       "<Figure size 864x576 with 1 Axes>"
      ]
     },
     "metadata": {},
     "output_type": "display_data"
    }
   ],
   "source": [
    "feat = pd.DataFrame(index=X_train.keys(), data=rand_for_reg.feature_importances_, columns=['score'])\n",
    "feat = feat.sort_values(by='score', ascending=False)\n",
    "\n",
    "feat[:25].plot(kind='bar', rot=80)"
   ]
  },
  {
   "cell_type": "markdown",
   "metadata": {},
   "source": [
    "<br>\n",
    "En este caso, la segunda variable más importante es **median_income^3**, siendo **median_income^2** la tercera, en comparación al árbol de decisión básico. La variable **households** sigue siendo la menos importante para los árboles aleatorios."
   ]
  },
  {
   "cell_type": "markdown",
   "metadata": {},
   "source": [
    "# 9. Boosting <a class=\"anchor\" id=\"boosting\"></a>"
   ]
  },
  {
   "cell_type": "markdown",
   "metadata": {},
   "source": [
    "Así como Bagging implica la creación de múltiples copias del conjunto de entrenamiento original utilizando bootstrap, estimando un árbol de decisión independiente para cada copia, y luego combinando todos los árboles con el fin de crear un único modelo predictivo, Boosting hace que los árboles crezcan de forma secuencial, es decir, cada árbol crece utilizando la información de los árboles generados previamente."
   ]
  },
  {
   "cell_type": "code",
   "execution_count": 50,
   "metadata": {
    "collapsed": true
   },
   "outputs": [],
   "source": [
    "from sklearn.ensemble import AdaBoostRegressor"
   ]
  },
  {
   "cell_type": "code",
   "execution_count": 51,
   "metadata": {},
   "outputs": [
    {
     "name": "stdout",
     "output_type": "stream",
     "text": [
      "Best params:  {'ada_boost_reg__n_estimators': 350}\n",
      "Mean squared error: 0.11\n",
      "Variance score: 0.67\n"
     ]
    }
   ],
   "source": [
    "scaler = MinMaxScaler()\n",
    "ada_boost_reg = AdaBoostRegressor(DecisionTreeRegressor())\n",
    "\n",
    "scaler_step = ('scaler', scaler)\n",
    "ada_boost_reg_step = ('ada_boost_reg', ada_boost_reg)\n",
    "steps = [scaler_step, ada_boost_reg_step]\n",
    "pipe = Pipeline(steps)\n",
    "\n",
    "tuned_parameters = {'ada_boost_reg__n_estimators': range(250, 450, 10)}\n",
    "kfold = KFold(n_splits = 10)\n",
    "\n",
    "gs_ada_boost_reg = GridSearchCV(pipe, tuned_parameters, cv=kfold, n_jobs=-1)\n",
    "gs_ada_boost_reg.fit(X_train, y_train)\n",
    "\n",
    "y_pred_ada_boost_reg = gs_ada_boost_reg.predict(X_test)\n",
    "\n",
    "print(\"Best params: \", gs_ada_boost_reg.best_params_)\n",
    "print(\"Mean squared error: %.2f\" % mean_squared_error(y_test, y_pred_ada_boost_reg))\n",
    "print('Variance score: %.2f' % r2_score(y_test, y_pred_ada_boost_reg))"
   ]
  },
  {
   "cell_type": "markdown",
   "metadata": {},
   "source": [
    "<br>\n",
    "El resultado del error cuadrático medio es el mismo que el de los árboles aleatorios, siendo estos dos los mejores modelos hasta el momento."
   ]
  },
  {
   "cell_type": "markdown",
   "metadata": {},
   "source": [
    "# 10. SVM <a class=\"anchor\" id=\"svm\"></a>"
   ]
  },
  {
   "cell_type": "code",
   "execution_count": 53,
   "metadata": {},
   "outputs": [],
   "source": [
    "from sklearn.svm import SVR, NuSVR"
   ]
  },
  {
   "cell_type": "markdown",
   "metadata": {},
   "source": [
    "A continuación, se prueban tres modelos de $\\epsilon$-SVM con tres kernels diferentes: **lineal**, **Radial Basis Function (*RBF*)** y **polinomial** de grado 3, y un modelo de $\\nu$-SVM con kernel **polinomial**. Los parámetros para los cuatro modelos son los mismos, exceptuando el parámetro **gamma** para el RBF y el parámetro **degree** para el polinomial.\n",
    "\n",
    "Los parámetros a analizar mediante *GridSearchCV* son:\n",
    "\n",
    "* **C**: parámetro de penalización del término de error. Cuanto mayor sea el valor de C, menor número de errores se permitiràn, por lo que si $C \\to \\infty$ se consideraría que todos los ejemplos son perfectamente separables. Cuanto más pequeño sea C, mayor número de errores se admitirían de ejemplos mal clasificados.\n",
    "* **epsilon ($\\epsilon$)**: solo se considera en las SVM de regresión. Especifica los valores para los que no hay penalización asociada en la función de pérdida del entrenamiento. El valor de $\\epsilon$ afecta al número de vectores de soporte usados para construir la función de regresión. Cuando mayor sea el valor de $\\epsilon$, menos vectores de soporte serán elegidos y más ancho será el canal.\n",
    "* **nu ($\\nu$)**: parámetro que controla el número de vectores de soporte y errores de entrenamiento.\n",
    "\n",
    "Los parámetros que se espefican de manera fija son:\n",
    "\n",
    "* **tol**: Tolerancia máxima aceptada para converger.\n",
    "* **max_iter**: número máximo de iteraciones que se realizarían en caso de no haber convergido con la tolerancia especificada.\n",
    "\n",
    "La formulación matemática para las SVM de regresión es la siguiente. Dados los vectores de entrenamiento $x_i \\in \\mathbb{R}^p, i = 1, ..., n$ y un vector $y \\in \\mathbb{R}^n$, $\\epsilon-SVR$ resuelve el siguiente problema primal:\n",
    "\n",
    "$$ min_{\\omega, b, \\xi^+, \\xi^-} \\frac{1}{2} \\omega^T \\omega + C \\sum_{i=1}^n (\\xi_{i}^+ + \\xi_{i}^-)$$\n",
    "\n",
    "sujeto a\n",
    "\n",
    "$$ y_i - \\omega^T \\phi(x_i) - b \\le \\epsilon + \\xi_{i}^+ $$\n",
    "$$ \\omega^T \\phi(x_i) + b - y_i \\lt \\epsilon + \\xi_{i}^- $$\n",
    "$$ \\xi_{i}^+ , \\xi_{i}^- \\ge 0, i = 1, ..., n $$\n",
    "\n",
    "<img src=\"ep-SVR.png\" width=\"500\">"
   ]
  },
  {
   "cell_type": "markdown",
   "metadata": {},
   "source": [
    "## 10.1. $\\epsilon$-SVM con Kernel lineal <a class=\"anchor\" id=\"epsvm-lineal\"></a>"
   ]
  },
  {
   "cell_type": "markdown",
   "metadata": {},
   "source": [
    "La función del kernel lineal es $\\langle x, x' \\rangle$."
   ]
  },
  {
   "cell_type": "code",
   "execution_count": 57,
   "metadata": {
    "scrolled": true
   },
   "outputs": [
    {
     "name": "stdout",
     "output_type": "stream",
     "text": [
      "Best params:  {'svr_lin_reg__C': 5, 'svr_lin_reg__epsilon': 0.0001}\n",
      "Mean squared error: 0.13\n",
      "Variance score: 0.61\n"
     ]
    }
   ],
   "source": [
    "scaler = MinMaxScaler()\n",
    "svr_lin_reg = SVR(kernel='linear', \n",
    "                  shrinking=True, \n",
    "                  cache_size=4096, \n",
    "                  max_iter=1000000, \n",
    "                  tol=10e-4)\n",
    "\n",
    "scaler_step = ('scaler', scaler)\n",
    "svr_lin_reg_step = ('svr_lin_reg', svr_lin_reg)\n",
    "steps = [scaler_step, svr_lin_reg_step]\n",
    "pipe = Pipeline(steps)\n",
    "\n",
    "c = [0.001, 0.01, 0.1, 1, 5, 10, 100]\n",
    "epsilon = [0.00001, 0.0001, 0.001, 0.01]\n",
    "\n",
    "tuned_parameters = {'svr_lin_reg__C': c, \n",
    "                    'svr_lin_reg__epsilon': epsilon}\n",
    "\n",
    "kfold = KFold(n_splits = 10)\n",
    "\n",
    "gs_svr_lin_reg = GridSearchCV(pipe, tuned_parameters, cv=kfold, n_jobs=-1)\n",
    "gs_svr_lin_reg.fit(X_train, y_train)\n",
    "\n",
    "y_pred_svr_lin_reg = gs_svr_lin_reg.predict(X_test)\n",
    "\n",
    "print(\"Best params: \", gs_svr_lin_reg.best_params_)\n",
    "print(\"Mean squared error: %.2f\" % mean_squared_error(y_test, y_pred_svr_lin_reg))\n",
    "print('Variance score: %.2f' % r2_score(y_test, y_pred_svr_lin_reg))"
   ]
  },
  {
   "cell_type": "markdown",
   "metadata": {},
   "source": [
    "## 10.2. $\\epsilon$-SVM con Kernel RBF <a class=\"anchor\" id=\"epsvm-rbf\"></a>"
   ]
  },
  {
   "cell_type": "markdown",
   "metadata": {},
   "source": [
    "Cuando se entrena una SVM con el kernel **RBF**, se han de tener en cuenta los parámetros *C* y *gamma*, entre los que existe un *trade-off*. El parámetro *gamma* define cuánta influencia tiene un único ejemplo del entrenamiento. Cuando más grande sea *gamma*, más cercanos han de estar otros ejemplos para ser afectados.\n",
    "\n",
    "Si *gamma* es muy grande, el radio del área de influencia de los vectores de soporte solo incluye al propio soporte y *C* no tendrá ningún tipo de influencia. Por el contrario, cuando *gamma* es muy pequeño, el modelo queda muy limitado y no es capaz de ver toda la complejidad de los datos en el espacio de dimensiones. Cualquier vector de soporte incluirá todo el dataset de entrenamiento.\n",
    "\n",
    "En la siguiente gráfica se puede observar dicho *trade-off*:\n",
    "\n",
    "![Validation accuracy](http://scikit-learn.org/stable/_images/sphx_glr_plot_rbf_parameters_002.png)\n",
    "\n",
    "Por este motivo, para el *GridSearchCV* se han escogido unos valores de *gamma* de {0.001, 0.01, 0.1, 1, 10}, dado que la *C* podrá tener los valores {0.001, 0.01, 0.1, 1, 5, 10, 100}.\n",
    "\n",
    "La función del kernel radial es $exp(-\\gamma \\| x - x'\\|^2)$, donde $\\gamma$ es el parámetro *gamma*."
   ]
  },
  {
   "cell_type": "code",
   "execution_count": 58,
   "metadata": {},
   "outputs": [
    {
     "name": "stdout",
     "output_type": "stream",
     "text": [
      "Best params:  {'svr_rbf_reg__C': 10, 'svr_rbf_reg__gamma': 10, 'svr_rbf_reg__epsilon': 0.1}\n",
      "Mean squared error: 0.11\n",
      "Variance score: 0.67\n"
     ]
    }
   ],
   "source": [
    "scaler = MinMaxScaler()\n",
    "svr_rbf_reg = SVR(kernel='rbf', \n",
    "                  shrinking=True, \n",
    "                  cache_size=4096, \n",
    "                  max_iter=1000000, \n",
    "                  tol=10e-4)\n",
    "\n",
    "scaler_step = ('scaler', scaler)\n",
    "svr_rbf_reg_step = ('svr_rbf_reg', svr_rbf_reg)\n",
    "steps = [scaler_step, svr_rbf_reg_step]\n",
    "pipe = Pipeline(steps)\n",
    "\n",
    "c = [0.001, 0.01, 0.1, 1, 5, 10, 100]\n",
    "gamma = [0.001, 0.01, 0.1, 1, 10]\n",
    "epsilon = [0.001, 0.01, 0.1, 1]\n",
    "\n",
    "tuned_parameters = {'svr_rbf_reg__C': c, \n",
    "                    'svr_rbf_reg__gamma': gamma, \n",
    "                    'svr_rbf_reg__epsilon': epsilon}\n",
    "\n",
    "kfold = KFold(n_splits = 10)\n",
    "\n",
    "gs_svr_rbf_reg = GridSearchCV(pipe, tuned_parameters, cv=kfold, n_jobs=-1)\n",
    "gs_svr_rbf_reg.fit(X_train, y_train)\n",
    "\n",
    "y_pred_svr_rbf_reg = gs_svr_rbf_reg.predict(X_test)\n",
    "\n",
    "print(\"Best params: \", gs_svr_rbf_reg.best_params_)\n",
    "print(\"Mean squared error: %.2f\" % mean_squared_error(y_test, y_pred_svr_rbf_reg))\n",
    "print('Variance score: %.2f' % r2_score(y_test, y_pred_svr_rbf_reg))"
   ]
  },
  {
   "cell_type": "markdown",
   "metadata": {},
   "source": [
    "## 10.3. $\\epsilon$-SVM con Kernel polinomial <a class=\"anchor\" id=\"epsvm-poly\"></a>"
   ]
  },
  {
   "cell_type": "markdown",
   "metadata": {},
   "source": [
    "La función del kernel polinolial es $(\\gamma \\langle x, x' \\rangle + r)^d$, donde $d$ es el parámetro *degree*, $r$ el parámetro *coef0* (por defecto es 0) y $\\gamma$ es el parámetro *gamma*."
   ]
  },
  {
   "cell_type": "code",
   "execution_count": 22,
   "metadata": {},
   "outputs": [
    {
     "name": "stdout",
     "output_type": "stream",
     "text": [
      "Best params:  {'svr_ps_reg__gamma': 10, 'svr_ps_reg__C': 0.1, 'svr_ps_reg__epsilon': 0.001}\n",
      "Mean squared error: 0.11\n",
      "Variance score: 0.65\n"
     ]
    }
   ],
   "source": [
    "scaler = MinMaxScaler()\n",
    "svr_ps_reg = SVR(kernel='poly', \n",
    "                 shrinking=True, \n",
    "                 cache_size=4096, \n",
    "                 max_iter=10000000, \n",
    "                 tol=10e-2, \n",
    "                 degree=3)\n",
    "\n",
    "scaler_step = ('scaler', scaler)\n",
    "svr_ps_reg_step = ('svr_ps_reg', svr_ps_reg)\n",
    "steps = [scaler_step, svr_ps_reg_step]\n",
    "pipe = Pipeline(steps)\n",
    "\n",
    "c = [0.001, 0.01, 0.1, 1, 5, 10, 100]\n",
    "gamma = [0.001, 0.01, 0.1, 1, 10]\n",
    "epsilon = [0.001, 0.01, 0.1, 1]\n",
    "\n",
    "tuned_parameters = {'svr_ps_reg__C': c, \n",
    "                    'svr_ps_reg__gamma': gamma,\n",
    "                    'svr_ps_reg__epsilon': epsilon}\n",
    "\n",
    "kfold = KFold(n_splits = 10)\n",
    "\n",
    "gs_svr_ps_reg = GridSearchCV(pipe, tuned_parameters, cv=kfold, n_jobs=-1)\n",
    "gs_svr_ps_reg.fit(X_train, y_train)\n",
    "\n",
    "y_pred_svr_ps_reg = gs_svr_ps_reg.predict(X_test)\n",
    "\n",
    "print(\"Best params: \", gs_svr_ps_reg.best_params_)\n",
    "print(\"Mean squared error: %.2f\" % mean_squared_error(y_test, y_pred_svr_ps_reg))\n",
    "print('Variance score: %.2f' % r2_score(y_test, y_pred_svr_ps_reg))"
   ]
  },
  {
   "cell_type": "markdown",
   "metadata": {},
   "source": [
    "## 10.4. $\\nu$-SVM con Kernel RBF <a class=\"anchor\" id=\"nusvm-rbf\"></a>"
   ]
  },
  {
   "cell_type": "markdown",
   "metadata": {},
   "source": [
    "Por último, ejecutamos el modelo $\\nu$-SVM con Kernel RBF."
   ]
  },
  {
   "cell_type": "code",
   "execution_count": 87,
   "metadata": {},
   "outputs": [
    {
     "name": "stdout",
     "output_type": "stream",
     "text": [
      "Best params:  {'nusvr_rbf_reg__nu': 0.8, 'nusvr_rbf_reg__gamma': 10, 'nusvr_rbf_reg__C': 10}\n",
      "Mean squared error: 0.11\n",
      "Variance score: 0.67\n"
     ]
    }
   ],
   "source": [
    "scaler = MinMaxScaler()\n",
    "nusvr_rbf_reg = NuSVR(kernel='rbf', \n",
    "                      shrinking=True, \n",
    "                      cache_size=4096, \n",
    "                      max_iter=1000000, \n",
    "                      tol=10e-3)\n",
    "\n",
    "scaler_step = ('scaler', scaler)\n",
    "nusvr_rbf_reg_step = ('nusvr_rbf_reg', nusvr_rbf_reg)\n",
    "steps = [scaler_step, nusvr_rbf_reg_step]\n",
    "pipe = Pipeline(steps)\n",
    "\n",
    "c = [0.001, 0.01, 0.1, 1, 5, 10, 100]\n",
    "gamma = [0.01, 0.1, 1, 10]\n",
    "nu = [0.2, 0.4, 0.5, 0.6, 0.8]\n",
    "\n",
    "tuned_parameters = {'nusvr_rbf_reg__C': c, \n",
    "                    'nusvr_rbf_reg__gamma': gamma, \n",
    "                    'nusvr_rbf_reg__nu': nu}\n",
    "\n",
    "kfold = KFold(n_splits = 10)\n",
    "\n",
    "gs_nusvr_rbf_reg = GridSearchCV(pipe, tuned_parameters, cv=kfold, n_jobs=-1, verbose=True)\n",
    "gs_nusvr_rbf_reg.fit(X_train, y_train)\n",
    "\n",
    "y_pred_nusvr_rbf_reg = gs_nusvr_rbf_reg.predict(X_test)\n",
    "\n",
    "print(\"Best params: \", gs_nusvr_rbf_reg.best_params_)\n",
    "print(\"Mean squared error: %.2f\" % mean_squared_error(y_test, y_pred_nusvr_rbf_reg))\n",
    "print('Variance score: %.2f' % r2_score(y_test, y_pred_nusvr_rbf_reg))"
   ]
  },
  {
   "cell_type": "markdown",
   "metadata": {},
   "source": [
    "## 10.5. Conclusiones de SVM <a class=\"anchor\" id=\"svm-result\"></a>"
   ]
  },
  {
   "cell_type": "markdown",
   "metadata": {},
   "source": [
    "Los resultados finales de los modelos de SVM anteriores han sido:"
   ]
  },
  {
   "cell_type": "code",
   "execution_count": 94,
   "metadata": {},
   "outputs": [
    {
     "data": {
      "text/html": [
       "<div>\n",
       "<style scoped>\n",
       "    .dataframe tbody tr th:only-of-type {\n",
       "        vertical-align: middle;\n",
       "    }\n",
       "\n",
       "    .dataframe tbody tr th {\n",
       "        vertical-align: top;\n",
       "    }\n",
       "\n",
       "    .dataframe thead th {\n",
       "        text-align: right;\n",
       "    }\n",
       "</style>\n",
       "<table border=\"1\" class=\"dataframe\">\n",
       "  <thead>\n",
       "    <tr style=\"text-align: right;\">\n",
       "      <th></th>\n",
       "      <th>SVM Model</th>\n",
       "      <th>C</th>\n",
       "      <th>gamma</th>\n",
       "      <th>epsilon</th>\n",
       "      <th>nu</th>\n",
       "      <th>MSE</th>\n",
       "      <th>R2</th>\n",
       "    </tr>\n",
       "  </thead>\n",
       "  <tbody>\n",
       "    <tr>\n",
       "      <th>0</th>\n",
       "      <td>ep-SVM con kernel lineal</td>\n",
       "      <td>5</td>\n",
       "      <td>-</td>\n",
       "      <td>0.0001</td>\n",
       "      <td>-</td>\n",
       "      <td>0.13</td>\n",
       "      <td>0.61</td>\n",
       "    </tr>\n",
       "    <tr>\n",
       "      <th>1</th>\n",
       "      <td>ep-SVM con kernel RBF</td>\n",
       "      <td>10</td>\n",
       "      <td>10</td>\n",
       "      <td>0.1</td>\n",
       "      <td>-</td>\n",
       "      <td>0.11</td>\n",
       "      <td>0.67</td>\n",
       "    </tr>\n",
       "    <tr>\n",
       "      <th>2</th>\n",
       "      <td>ep-SVM con kernel polinomial</td>\n",
       "      <td>10</td>\n",
       "      <td>10</td>\n",
       "      <td>0.001</td>\n",
       "      <td>-</td>\n",
       "      <td>0.11</td>\n",
       "      <td>0.65</td>\n",
       "    </tr>\n",
       "    <tr>\n",
       "      <th>3</th>\n",
       "      <td>nu-SVM con kernel RBF</td>\n",
       "      <td>10</td>\n",
       "      <td>10</td>\n",
       "      <td>-</td>\n",
       "      <td>0.8</td>\n",
       "      <td>0.11</td>\n",
       "      <td>0.67</td>\n",
       "    </tr>\n",
       "  </tbody>\n",
       "</table>\n",
       "</div>"
      ],
      "text/plain": [
       "                      SVM Model   C gamma epsilon   nu   MSE    R2\n",
       "0      ep-SVM con kernel lineal   5     -  0.0001    -  0.13  0.61\n",
       "1         ep-SVM con kernel RBF  10    10     0.1    -  0.11  0.67\n",
       "2  ep-SVM con kernel polinomial  10    10   0.001    -  0.11  0.65\n",
       "3         nu-SVM con kernel RBF  10    10       -  0.8  0.11  0.67"
      ]
     },
     "execution_count": 94,
     "metadata": {},
     "output_type": "execute_result"
    }
   ],
   "source": [
    "svm_models = ['ep-SVM con kernel lineal', 'ep-SVM con kernel RBF', \n",
    "              'ep-SVM con kernel polinomial', 'nu-SVM con kernel RBF']\n",
    "C = [5, 10, 10, 10]\n",
    "gamma = ['-', 10, 10, 10]\n",
    "epsilon = [0.0001, 0.1, 0.001, '-']\n",
    "nu = ['-', '-', '-', 0.8]\n",
    "MSE = [0.13, 0.11, 0.11, 0.11]\n",
    "R2 = [0.61, 0.67, 0.65, 0.67]\n",
    "\n",
    "df_svm_models = pd.concat([pd.Series(svm_models), pd.Series(C), pd.Series(gamma),\n",
    "                          pd.Series(epsilon), pd.Series(nu), \n",
    "                          pd.Series(MSE), pd.Series(R2)], axis=1)\n",
    "df_svm_models.columns = ['SVM Model', 'C', 'gamma', 'epsilon', 'nu', 'MSE', 'R2']\n",
    "df_svm_models"
   ]
  },
  {
   "cell_type": "markdown",
   "metadata": {},
   "source": [
    "<br>\n",
    "Los mejores modelos han sido los del kernel **RBF**, con un *Mean Square Error* de 0.11 y un $R^2$ de 0.67. El peor ha sido el modelo con kernel polinomial.\n",
    "\n",
    "El modelo lineal es el que ha tenido un valor de *C* más pequeño, permitiendo un mayor número de errores que el resto de modelos. También el valor de $\\epsilon$ es el más pequeño, por lo que el canal es más estrecho en comparación al de los otro modelos. Debido a esto, los valores de $\\xi_{i}^+, \\xi_{i}^-$ son mayores, lo que provoca que *C* sea más pequeño.\n",
    "\n",
    "Los modelos de $\\epsilon$-SVM con kernel **RBF** y **polinomial** se diferencian únicamente en el valor de $\\epsilon$, a pesar de que los parámetros *C* y $\\gamma$ son los mismos. Esto puede deberse a la influencia del parámetro $\\gamma$ y a que los valores de $\\xi_{i}^+, \\xi_{i}^-$ se mantengan proporcionales al valor de $\\epsilon$, provocando que *C* no se vea alterada. No obstante, para cualquier otro valor de $\\gamma$ mayor que el que tenemos tendríamos valores de *accuracy* muy bajos y por este motivo no se han probado otros valores de $\\gamma$ en el *GridSearchCV*."
   ]
  },
  {
   "cell_type": "markdown",
   "metadata": {},
   "source": [
    "# 11. Redes neuronales <a class=\"anchor\" id=\"neural-net\"></a>"
   ]
  },
  {
   "cell_type": "code",
   "execution_count": 38,
   "metadata": {
    "collapsed": true
   },
   "outputs": [],
   "source": [
    "from sklearn.neural_network import MLPRegressor"
   ]
  },
  {
   "cell_type": "markdown",
   "metadata": {},
   "source": [
    "Generamos varias combinaciones de número de neuronas en una, dos y tres capas."
   ]
  },
  {
   "cell_type": "code",
   "execution_count": 39,
   "metadata": {},
   "outputs": [
    {
     "data": {
      "text/plain": [
       "[1,\n",
       " 3,\n",
       " 5,\n",
       " 10,\n",
       " (1, 1),\n",
       " (1, 3),\n",
       " (1, 5),\n",
       " (1, 10),\n",
       " (3, 1),\n",
       " (3, 3),\n",
       " (3, 5),\n",
       " (3, 10),\n",
       " (5, 1),\n",
       " (5, 3),\n",
       " (5, 5),\n",
       " (5, 10),\n",
       " (10, 1),\n",
       " (10, 3),\n",
       " (10, 5),\n",
       " (10, 10),\n",
       " (1, 1, 1),\n",
       " (1, 1, 3),\n",
       " (1, 1, 5),\n",
       " (1, 3, 1),\n",
       " (1, 3, 3),\n",
       " (1, 3, 5),\n",
       " (1, 5, 1),\n",
       " (1, 5, 3),\n",
       " (1, 5, 5),\n",
       " (3, 1, 1),\n",
       " (3, 1, 3),\n",
       " (3, 1, 5),\n",
       " (3, 3, 1),\n",
       " (3, 3, 3),\n",
       " (3, 3, 5),\n",
       " (3, 5, 1),\n",
       " (3, 5, 3),\n",
       " (3, 5, 5),\n",
       " (5, 1, 1),\n",
       " (5, 1, 3),\n",
       " (5, 1, 5),\n",
       " (5, 3, 1),\n",
       " (5, 3, 3),\n",
       " (5, 3, 5),\n",
       " (5, 5, 1),\n",
       " (5, 5, 3),\n",
       " (5, 5, 5)]"
      ]
     },
     "execution_count": 39,
     "metadata": {},
     "output_type": "execute_result"
    }
   ],
   "source": [
    "import itertools\n",
    "\n",
    "n_neurons = [1, 3, 5, 10]\n",
    "hidden_layer_sizes = n_neurons\n",
    "\n",
    "for two_layer in itertools.product(n_neurons, repeat=2):\n",
    "    hidden_layer_sizes.append(two_layer)\n",
    "\n",
    "n_neurons = [1, 3, 5]\n",
    "for three_layer in itertools.product(n_neurons, repeat=3):\n",
    "    hidden_layer_sizes.append(three_layer)\n",
    "    \n",
    "hidden_layer_sizes"
   ]
  },
  {
   "cell_type": "markdown",
   "metadata": {},
   "source": [
    "A continuación, se realiza un *GridSearchCV* para todas estas posibilidades de redes neuronales, con un *alpha* (Penalizació L2) de {0.0001, 0.001, 0.01} y un *learning rate* constante de {0.001, 0.01, 0.1}.\n",
    "\n",
    "La función de optimización usada es **adam**, la cual hace referencia al optimizador de descendiente del gradiente estocástico propuesto por Kingma, Diederik y Jimmy Ba."
   ]
  },
  {
   "cell_type": "markdown",
   "metadata": {},
   "source": [
    "Se han probado las funciones de activación **ReLU**, **logistic** y **tanh** en varias ejecucions con diferentes parámetros para el GridSeach y siempre ha salido que la más óptima es **ReLU**, por lo tanto, especificamos este parámetro fuera del *GridSearchCV* y, de esta manera, se pueden probar (con un tiempo de ejecución razonable) los parámetros **beta_1** y **beta_2** para la función de optimización **adam**. Esto se hace así para que se ejecute todo en un tiempo razonable de tiempo."
   ]
  },
  {
   "cell_type": "code",
   "execution_count": 52,
   "metadata": {},
   "outputs": [
    {
     "name": "stdout",
     "output_type": "stream",
     "text": [
      "Best params:  {'mlp_reg__hidden_layer_sizes': (10, 3), 'mlp_reg__learning_rate_init': 0.01, 'mlp_reg__alpha': 0.001, 'mlp_reg__beta_1': 0.9, 'mlp_reg__beta_2': 0.9}\n",
      "Mean squared error: 0.14\n",
      "Variance score: 0.57\n"
     ]
    }
   ],
   "source": [
    "scaler = MinMaxScaler()\n",
    "mlp_reg = MLPRegressor(solver='adam',\n",
    "                       max_iter=5000, \n",
    "                       activation='relu')\n",
    "\n",
    "scaler_step = ('scaler', scaler)\n",
    "mlp_reg_step = ('mlp_reg', mlp_reg)\n",
    "steps = [scaler_step, mlp_reg_step]\n",
    "pipe = Pipeline(steps)\n",
    "\n",
    "alpha = [0.0001, 0.001, 0.01]\n",
    "learning_rate_init = [0.001, 0.01, 0.1]\n",
    "beta_1 = [0.8, 0.9, 0.999]\n",
    "beta_2 = [0.8, 0.9]\n",
    "\n",
    "tuned_parameters = {'mlp_reg__alpha': alpha,\n",
    "                    'mlp_reg__learning_rate_init': learning_rate_init, \n",
    "                    'mlp_reg__hidden_layer_sizes': hidden_layer_sizes, \n",
    "                    'mlp_reg__beta_1': beta_1, \n",
    "                    'mlp_reg__beta_2': beta_2}\n",
    "\n",
    "kfold = KFold(n_splits = 5)\n",
    "\n",
    "gs_mlp_reg = GridSearchCV(pipe, tuned_parameters, cv=kfold, n_jobs=-1)\n",
    "gs_mlp_reg.fit(X_train, y_train)\n",
    "\n",
    "y_pred_mlp_reg = gs_mlp_reg.predict(X_test)\n",
    "\n",
    "print(\"Best params: \", gs_mlp_reg.best_params_)\n",
    "print(\"Mean squared error: %.2f\" % mean_squared_error(y_test, y_pred_mlp_reg))\n",
    "print('Variance score: %.2f' % r2_score(y_test, y_pred_mlp_reg))"
   ]
  },
  {
   "cell_type": "markdown",
   "metadata": {},
   "source": [
    "<br>\n",
    "La mejor red neuronal de las propuestas ha sido la de 2 capas ocultas, donde la primera capa tiene 10 neuronas y la segunda tiene 3 neuronas, y con un valor de **alpha** igual a 0.001. No obstante, ha sido el peor modelo de todos los probados."
   ]
  },
  {
   "cell_type": "markdown",
   "metadata": {},
   "source": [
    "# 12. Resultados finales <a class=\"anchor\" id=\"results\"></a>"
   ]
  },
  {
   "cell_type": "markdown",
   "metadata": {},
   "source": [
    "Los resultados finales de todos los modelos son los siguientes:"
   ]
  },
  {
   "cell_type": "code",
   "execution_count": 95,
   "metadata": {},
   "outputs": [
    {
     "data": {
      "text/html": [
       "<div>\n",
       "<style scoped>\n",
       "    .dataframe tbody tr th:only-of-type {\n",
       "        vertical-align: middle;\n",
       "    }\n",
       "\n",
       "    .dataframe tbody tr th {\n",
       "        vertical-align: top;\n",
       "    }\n",
       "\n",
       "    .dataframe thead th {\n",
       "        text-align: right;\n",
       "    }\n",
       "</style>\n",
       "<table border=\"1\" class=\"dataframe\">\n",
       "  <thead>\n",
       "    <tr style=\"text-align: right;\">\n",
       "      <th></th>\n",
       "      <th>Model</th>\n",
       "      <th>MSE</th>\n",
       "      <th>R2</th>\n",
       "    </tr>\n",
       "  </thead>\n",
       "  <tbody>\n",
       "    <tr>\n",
       "      <th>0</th>\n",
       "      <td>Regresión lineal básico</td>\n",
       "      <td>0.13</td>\n",
       "      <td>0.61</td>\n",
       "    </tr>\n",
       "    <tr>\n",
       "      <th>1</th>\n",
       "      <td>Regresión lineal con variables polinomiales</td>\n",
       "      <td>0.12</td>\n",
       "      <td>0.65</td>\n",
       "    </tr>\n",
       "    <tr>\n",
       "      <th>2</th>\n",
       "      <td>Árbol de decisión</td>\n",
       "      <td>0.12</td>\n",
       "      <td>0.62</td>\n",
       "    </tr>\n",
       "    <tr>\n",
       "      <th>3</th>\n",
       "      <td>Bagging</td>\n",
       "      <td>0.11</td>\n",
       "      <td>0.67</td>\n",
       "    </tr>\n",
       "    <tr>\n",
       "      <th>4</th>\n",
       "      <td>Random forest</td>\n",
       "      <td>0.11</td>\n",
       "      <td>0.68</td>\n",
       "    </tr>\n",
       "    <tr>\n",
       "      <th>5</th>\n",
       "      <td>Boosting</td>\n",
       "      <td>0.11</td>\n",
       "      <td>0.67</td>\n",
       "    </tr>\n",
       "    <tr>\n",
       "      <th>6</th>\n",
       "      <td>ep-SVM con kernel lineal</td>\n",
       "      <td>0.13</td>\n",
       "      <td>0.61</td>\n",
       "    </tr>\n",
       "    <tr>\n",
       "      <th>7</th>\n",
       "      <td>ep-SVM con kernel RBF</td>\n",
       "      <td>0.11</td>\n",
       "      <td>0.67</td>\n",
       "    </tr>\n",
       "    <tr>\n",
       "      <th>8</th>\n",
       "      <td>ep-SVM con kernel polinomial</td>\n",
       "      <td>0.11</td>\n",
       "      <td>0.65</td>\n",
       "    </tr>\n",
       "    <tr>\n",
       "      <th>9</th>\n",
       "      <td>nu-SVM con kernel RBF</td>\n",
       "      <td>0.11</td>\n",
       "      <td>0.67</td>\n",
       "    </tr>\n",
       "    <tr>\n",
       "      <th>10</th>\n",
       "      <td>Redes neuronales</td>\n",
       "      <td>0.14</td>\n",
       "      <td>0.57</td>\n",
       "    </tr>\n",
       "  </tbody>\n",
       "</table>\n",
       "</div>"
      ],
      "text/plain": [
       "                                          Model   MSE    R2\n",
       "0                       Regresión lineal básico  0.13  0.61\n",
       "1   Regresión lineal con variables polinomiales  0.12  0.65\n",
       "2                             Árbol de decisión  0.12  0.62\n",
       "3                                       Bagging  0.11  0.67\n",
       "4                                 Random forest  0.11  0.68\n",
       "5                                      Boosting  0.11  0.67\n",
       "6                      ep-SVM con kernel lineal  0.13  0.61\n",
       "7                         ep-SVM con kernel RBF  0.11  0.67\n",
       "8                  ep-SVM con kernel polinomial  0.11  0.65\n",
       "9                         nu-SVM con kernel RBF  0.11  0.67\n",
       "10                             Redes neuronales  0.14  0.57"
      ]
     },
     "execution_count": 95,
     "metadata": {},
     "output_type": "execute_result"
    }
   ],
   "source": [
    "models = ['Regresión lineal básico', 'Regresión lineal con variables polinomiales', \n",
    "          'Árbol de decisión', 'Bagging', 'Random forest', 'Boosting', \n",
    "          'ep-SVM con kernel lineal', 'ep-SVM con kernel RBF', \n",
    "          'ep-SVM con kernel polinomial', 'nu-SVM con kernel RBF', 'Redes neuronales']\n",
    "MSE = [0.13, 0.12, 0.12, 0.11, 0.11, 0.11, 0.13, 0.11, 0.11, 0.11, 0.14]\n",
    "R2 = [0.61, 0.65, 0.62, 0.67, 0.68, 0.67, 0.61, 0.67, 0.65, 0.67, 0.57]\n",
    "\n",
    "df_models = pd.concat([pd.Series(models), pd.Series(MSE), pd.Series(R2)], axis=1)\n",
    "df_models.columns = ['Model', 'MSE', 'R2']\n",
    "df_models"
   ]
  },
  {
   "cell_type": "markdown",
   "metadata": {},
   "source": [
    "<br>\n",
    "El mejor modelo ha sido **Random Forest** con un MSE de 0.11 y un $R^2$ de 0.68. Por detrás de él están los modelos **Bagging**, **Boosting** y los modelos de SVM con kernel **RBF** con un MSE de 0.11 y un $R^2$ de 0.67.\n",
    "\n",
    "Los modelos de redes neuronales, SVM con kernel lineal y la regresión lineal básica han sido los peores modelos.\n",
    "\n",
    "El modelo que usaría para predecir la variable $ln(median\\_house\\_value)$ sería **Random Forest**."
   ]
  }
 ],
 "metadata": {
  "kernelspec": {
   "display_name": "Python 3",
   "language": "python",
   "name": "python3"
  },
  "language_info": {
   "codemirror_mode": {
    "name": "ipython",
    "version": 3
   },
   "file_extension": ".py",
   "mimetype": "text/x-python",
   "name": "python",
   "nbconvert_exporter": "python",
   "pygments_lexer": "ipython3",
   "version": "3.5.2"
  }
 },
 "nbformat": 4,
 "nbformat_minor": 2
}
