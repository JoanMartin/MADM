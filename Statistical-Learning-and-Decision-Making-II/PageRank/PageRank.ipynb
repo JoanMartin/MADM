{
 "cells": [
  {
   "cell_type": "code",
   "execution_count": 1,
   "metadata": {},
   "outputs": [],
   "source": [
    "import os\n",
    "import json\n",
    "\n",
    "from bs4 import BeautifulSoup\n",
    "from igraph import *\n",
    "from prettytable import PrettyTable"
   ]
  },
  {
   "cell_type": "markdown",
   "metadata": {},
   "source": [
    "#### 4.8. Find the 10 Wikipedia documents with the most inlinks. Show the collection of anchor text for those pages"
   ]
  },
  {
   "cell_type": "code",
   "execution_count": 2,
   "metadata": {
    "scrolled": false
   },
   "outputs": [],
   "source": [
    "wiki_network = {}\n",
    "\n",
    "for root, dirs, files in os.walk(\"wiki-small/\"):\n",
    "    for file in files:\n",
    "        if file.endswith(\".html\"):\n",
    "            with open(os.path.join(root, file), 'r') as f:\n",
    "                outlinks = []\n",
    "                if f.name not in wiki_network: # If page not computed yet\n",
    "                    html = f.read()\n",
    "                    soup = BeautifulSoup(html, \"html5lib\")\n",
    "                    \n",
    "                    for a in soup.find_all('a', href=True):\n",
    "                        if 'wikipedia' in a['href'] or '../' in a['href']:\n",
    "                            if a['href'] not in outlinks: # If link not in list\n",
    "                                outlinks.append(a['href'])\n",
    "                    \n",
    "                    wiki_network[f.name] = outlinks\n",
    "\n",
    "# Save in .json file\n",
    "with open('wiki-network.json', 'w') as outfile:\n",
    "    json.dump(wiki_network, outfile)"
   ]
  },
  {
   "cell_type": "markdown",
   "metadata": {},
   "source": [
    "***"
   ]
  },
  {
   "cell_type": "markdown",
   "metadata": {},
   "source": [
    "Dado que el anterior algoritmo dura unos minutos en leer todas las páginas y coger sus links, en el caso de que no queramos ejecutarlo de nuevo, podemos ejecutar las siguientes líneas para leer directamente el fichero .json que se ha generado con los links entre cada nodo."
   ]
  },
  {
   "cell_type": "code",
   "execution_count": 3,
   "metadata": {},
   "outputs": [],
   "source": [
    "with open('wiki-network.json') as f:\n",
    "    wiki_network = json.load(f)"
   ]
  },
  {
   "cell_type": "markdown",
   "metadata": {},
   "source": [
    "La variable **wiki_network** es un diccionario cuyas claves serán páginas y cuyos valores serán listas de páginas a las que apunta la clave.\n",
    "\n",
    "A continuación, generamos el grafo:"
   ]
  },
  {
   "cell_type": "code",
   "execution_count": 4,
   "metadata": {},
   "outputs": [],
   "source": [
    "g = Graph(directed=True)\n",
    "g.add_vertices(list(set(list(wiki_network.keys()) + list([a for v in wiki_network.values() for a in v]))))\n",
    "g.add_edges([(v, a) for v in wiki_network.keys() for a in wiki_network[v]])\n",
    "g.vs[\"label\"] = list(set(list(wiki_network.keys()) + list([a for v in wiki_network.values() for a in v])))"
   ]
  },
  {
   "cell_type": "markdown",
   "metadata": {},
   "source": [
    "Por último, calculamos el número de inlinks que tiene cada página y mostramos las 10 con mayor número:"
   ]
  },
  {
   "cell_type": "code",
   "execution_count": 5,
   "metadata": {},
   "outputs": [
    {
     "name": "stdout",
     "output_type": "stream",
     "text": [
      "+-----------------------------------------------------------------------------------+-------------------+\n",
      "|                                        Page                                       | Number of inlinks |\n",
      "+-----------------------------------------------------------------------------------+-------------------+\n",
      "|                http://en.wikipedia.org/wiki/Charitable_organization               |        6043       |\n",
      "|                               ../../../../index.html                              |        6043       |\n",
      "| http://en.wikipedia.org/wiki/Wikipedia:Text_of_the_GNU_Free_Documentation_License |        6043       |\n",
      "|                 http://en.wikipedia.org/wiki/Wikipedia:Copyrights                 |        6043       |\n",
      "|         ../../../../articles/c/o/m/Wikipedia%7ECommunity_Portal_6a3c.html         |        6043       |\n",
      "|               ../../../../articles/a/b/o/Wikipedia%7EAbout_8d82.html              |        6043       |\n",
      "|            ../../../../articles/c/u/r/Portal%7ECurrent_events_bb60.html           |        6043       |\n",
      "|           ../../../../articles/f/e/a/Portal%7EFeatured_content_5442.html          |        6043       |\n",
      "|            ../../../../articles/c/o/n/Wikipedia%7EContact_us_afd6.html            |        6043       |\n",
      "|            ../../../../articles/r/e/c/Special%7ERecentChanges_e0d0.html           |        6043       |\n",
      "+-----------------------------------------------------------------------------------+-------------------+\n"
     ]
    }
   ],
   "source": [
    "deg_in = g.degree(mode='in')\n",
    "deg_in_top_index = sorted(range(len(deg_in)), \n",
    "                          key=lambda i: deg_in[i], \n",
    "                          reverse=True)[:10]\n",
    "\n",
    "t = PrettyTable(['Page', 'Number of inlinks'])\n",
    "for i in deg_in_top_index:\n",
    "    t.add_row([g.vs[\"label\"][i], deg_in[i]])\n",
    "    \n",
    "print(t)"
   ]
  },
  {
   "cell_type": "markdown",
   "metadata": {},
   "source": [
    "#### 4.9. Compute PageRank for the Wikipedia documents. List the 20 documents with the highest PageRank values together with the values."
   ]
  },
  {
   "cell_type": "code",
   "execution_count": 6,
   "metadata": {},
   "outputs": [
    {
     "name": "stdout",
     "output_type": "stream",
     "text": [
      "+-----------------------------------------------------------------------------------+------------------------+\n",
      "|                                        Page                                       |        PageRank        |\n",
      "+-----------------------------------------------------------------------------------+------------------------+\n",
      "|                http://en.wikipedia.org/wiki/Charitable_organization               | 0.00032614838074396577 |\n",
      "|                               ../../../../index.html                              | 0.00032614838074396577 |\n",
      "| http://en.wikipedia.org/wiki/Wikipedia:Text_of_the_GNU_Free_Documentation_License | 0.00032614838074396577 |\n",
      "|                 http://en.wikipedia.org/wiki/Wikipedia:Copyrights                 | 0.00032614838074396577 |\n",
      "|         ../../../../articles/c/o/m/Wikipedia%7ECommunity_Portal_6a3c.html         | 0.00032614838074396577 |\n",
      "|               ../../../../articles/a/b/o/Wikipedia%7EAbout_8d82.html              | 0.00032614838074396577 |\n",
      "|            ../../../../articles/c/u/r/Portal%7ECurrent_events_bb60.html           | 0.00032614838074396577 |\n",
      "|           ../../../../articles/f/e/a/Portal%7EFeatured_content_5442.html          | 0.00032614838074396577 |\n",
      "|            ../../../../articles/c/o/n/Wikipedia%7EContact_us_afd6.html            | 0.00032614838074396577 |\n",
      "|            ../../../../articles/r/e/c/Special%7ERecentChanges_e0d0.html           | 0.00032614838074396577 |\n",
      "|                http://en.wikipedia.org/wiki/Non-profit_organization               | 0.00032614838074396577 |\n",
      "|             http://en.wikipedia.org/wiki/501%28c%29#501.28c.29.283.29             | 0.00032614838074396577 |\n",
      "|                ../../../../articles/c/o/n/Help%7EContents_22de.html               | 0.00032614838074396577 |\n",
      "|               ../../../../articles/c/o/n/Portal%7EContents_b878.html              | 0.00032614838074396577 |\n",
      "|        ../../../../articles/g/e/n/Wikipedia%7EGeneral_disclaimer_3e44.html        | 0.00032614838074396577 |\n",
      "|             ../../../../articles/c/a/t/Special%7ECategories_101d.html             | 0.00032273037298631037 |\n",
      "|               ../../../../articles/s/t/u/Wikipedia%7EStub_72af.html               | 0.00010729895205143927 |\n",
      "|                ../../../../articles/s/m/a/User%7ESmackBot_cc7a.html               | 8.483338398155271e-05  |\n",
      "|        ../../../../articles/f/i/n/Wikipedia%7EFind_or_fix_a_stub_e7c5.html        | 6.567912245547205e-05  |\n",
      "|       ../../../../articles/p/e/r/Wikipedia%7EPerfect_stub_article_2d8f.html       | 6.0730413964117945e-05 |\n",
      "+-----------------------------------------------------------------------------------+------------------------+\n"
     ]
    }
   ],
   "source": [
    "page_rank = g.pagerank()\n",
    "page_rank_top_index = sorted(range(len(page_rank)), \n",
    "                             key=lambda i: page_rank[i], \n",
    "                             reverse=True)[:20]\n",
    "\n",
    "t = PrettyTable(['Page', 'PageRank'])\n",
    "for i in page_rank_top_index:\n",
    "    t.add_row([g.vs[\"label\"][i], page_rank[i]])\n",
    "    \n",
    "print(t)"
   ]
  },
  {
   "cell_type": "markdown",
   "metadata": {},
   "source": [
    "#### 4.10. Figure 4.11 shows an algorithm for computing PageRank. Prove that the entries of the vector $I$ sum to 1 every time the algorithm enters the loop on line 9.\n",
    "\n",
    "![title](PageRank algorithm.png)"
   ]
  },
  {
   "cell_type": "code",
   "execution_count": 7,
   "metadata": {},
   "outputs": [
    {
     "data": {
      "text/plain": [
       "0.9999999999948229"
      ]
     },
     "execution_count": 7,
     "metadata": {},
     "output_type": "execute_result"
    }
   ],
   "source": [
    "P = g.vs[\"label\"] # Get page of the graph\n",
    "\n",
    "I = [0] * len(P) # Create a vector of length |P|\n",
    "for i in range(len(I)):\n",
    "    I[i] = 1 / len(P) # Start with each page being equally likely\n",
    "    \n",
    "sum(I) # Sum vector I to prove that sum 1 every time the algorithm enters the loop on line 9"
   ]
  },
  {
   "cell_type": "markdown",
   "metadata": {},
   "source": [
    "Vemos que no suma exactamente 1 porque se van arrastrando los decimales en la suma. No obstante, podemos observar, a continuación, como todos los valores del vector $I$ son $3.735901641181591 \\cdot 10^{-6}$ (solo se van a mostrar los 10 primeros elementos):"
   ]
  },
  {
   "cell_type": "code",
   "execution_count": 8,
   "metadata": {
    "scrolled": false
   },
   "outputs": [
    {
     "data": {
      "text/plain": [
       "[3.735901641181591e-06,\n",
       " 3.735901641181591e-06,\n",
       " 3.735901641181591e-06,\n",
       " 3.735901641181591e-06,\n",
       " 3.735901641181591e-06,\n",
       " 3.735901641181591e-06,\n",
       " 3.735901641181591e-06,\n",
       " 3.735901641181591e-06,\n",
       " 3.735901641181591e-06,\n",
       " 3.735901641181591e-06]"
      ]
     },
     "execution_count": 8,
     "metadata": {},
     "output_type": "execute_result"
    }
   ],
   "source": [
    "I[:10]"
   ]
  },
  {
   "cell_type": "markdown",
   "metadata": {},
   "source": [
    "El tamaño de $P$, es decir, el número de página que hay, es:"
   ]
  },
  {
   "cell_type": "code",
   "execution_count": 9,
   "metadata": {
    "scrolled": false
   },
   "outputs": [
    {
     "data": {
      "text/plain": [
       "267673"
      ]
     },
     "execution_count": 9,
     "metadata": {},
     "output_type": "execute_result"
    }
   ],
   "source": [
    "len(P)"
   ]
  },
  {
   "cell_type": "markdown",
   "metadata": {},
   "source": [
    "Por lo que si multiplicamos $3.735901641181591 \\cdot 10^{-6}$ por el tamaño de $P$, vemos como nos da 1:"
   ]
  },
  {
   "cell_type": "code",
   "execution_count": 10,
   "metadata": {},
   "outputs": [
    {
     "data": {
      "text/plain": [
       "1.0"
      ]
     },
     "execution_count": 10,
     "metadata": {},
     "output_type": "execute_result"
    }
   ],
   "source": [
    "I[1] * len(P)"
   ]
  }
 ],
 "metadata": {
  "kernelspec": {
   "display_name": "Python 3",
   "language": "python",
   "name": "python3"
  },
  "language_info": {
   "codemirror_mode": {
    "name": "ipython",
    "version": 3
   },
   "file_extension": ".py",
   "mimetype": "text/x-python",
   "name": "python",
   "nbconvert_exporter": "python",
   "pygments_lexer": "ipython3",
   "version": "3.5.2"
  }
 },
 "nbformat": 4,
 "nbformat_minor": 2
}
