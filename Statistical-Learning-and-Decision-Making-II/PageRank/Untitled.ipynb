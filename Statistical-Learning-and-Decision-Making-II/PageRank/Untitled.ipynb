{
 "cells": [
  {
   "cell_type": "code",
   "execution_count": 9,
   "metadata": {},
   "outputs": [],
   "source": [
    "import os\n",
    "\n",
    "from bs4 import BeautifulSoup"
   ]
  },
  {
   "cell_type": "code",
   "execution_count": 18,
   "metadata": {},
   "outputs": [
    {
     "name": "stdout",
     "output_type": "stream",
     "text": [
      "http://en.wikipedia.org/wiki/Digital_Signature_Algorithm\n"
     ]
    }
   ],
   "source": [
    "html = \"\"\"<html>\n",
    "...\n",
    "<h3 class=\"r\">\n",
    "<a href=\"http://en.wikipedia.org/wiki/Digital_Signature_Algorithm\" class=l\n",
    "   onmousedown=\"return clk(this.href,'','','','6','','0CDEQFjACOAM')\">\n",
    "text</a>\n",
    "</h3>\n",
    "...\n",
    "<h3>Don't find me!</h3>\n",
    "<h3 class=\"r\"><a>Don't find me!</a></h3>\n",
    "<h3 class=\"r\"><a class=\"l\">Don't error on missing href!</a></h3>\n",
    "...\n",
    "</html>\n",
    "\"\"\"\n",
    "\n",
    "soup = BeautifulSoup(html, \"html5lib\")\n",
    "\n",
    "for h3 in soup.findAll(\"h3\", {\"class\": \"r\"}):\n",
    "  for a in h3.findAll(\"a\", {\"class\": \"l\", \"href\": True}):\n",
    "    print(a[\"href\"])"
   ]
  },
  {
   "cell_type": "code",
   "execution_count": 32,
   "metadata": {
    "scrolled": false
   },
   "outputs": [
    {
     "name": "stdout",
     "output_type": "stream",
     "text": [
      "HUGO\n",
      "http://www.genenames.org/data/hgnc_data.php?hgnc_id=19901\n",
      "Mouse Genome Informatics\n",
      "http://www.informatics.jax.org/searches/accession_report.cgi?id=MGI:3038613\n",
      "HomoloGene\n",
      "http://www.ncbi.nlm.nih.gov/entrez/query.fcgi?cmd=Retrieve&db=homologene&dopt=HomoloGene&list_uids=48396\n",
      "Gene ontology\n",
      "http://amigo.geneontology.org/cgi-bin/amigo/go.cgi?view=details&search_constraint=terms&depth=0&query=GO:0000166\n",
      "http://amigo.geneontology.org/cgi-bin/amigo/go.cgi?view=details&search_constraint=terms&depth=0&query=GO:0005515\n",
      "http://amigo.geneontology.org/cgi-bin/amigo/go.cgi?view=details&search_constraint=terms&depth=0&query=GO:0005525\n",
      "http://amigo.geneontology.org/cgi-bin/amigo/go.cgi?view=details&search_constraint=terms&depth=0&query=GO:0005634\n",
      "http://amigo.geneontology.org/cgi-bin/amigo/go.cgi?view=details&search_constraint=terms&depth=0&query=GO:0005737\n",
      "http://amigo.geneontology.org/cgi-bin/amigo/go.cgi?view=details&search_constraint=terms&depth=0&query=GO:0007165\n",
      "PBB GE RRAGB 205540 s at tn.png\n",
      "http://symatlas.gnf.org/SymAtlas/symquery?q=RRAGB\n",
      "Entrez\n",
      "http://www.ncbi.nlm.nih.gov/entrez/query.fcgi?db=gene&cmd=retrieve&dopt=default&list_uids=10325&rn=1\n",
      "http://www.ncbi.nlm.nih.gov/entrez/query.fcgi?db=gene&cmd=retrieve&dopt=default&list_uids=245670&rn=1\n",
      "Ensembl\n",
      "http://www.ensembl.org/Homo_sapiens/geneview?gene=ENSG00000083750;db=core\n",
      "http://www.ensembl.org/Mus_musculus/geneview?gene=ENSMUSG00000041658;db=core\n",
      "Uniprot\n",
      "http://www.expasy.org/uniprot/Q5VZM2\n",
      "http://www.expasy.org/uniprot/Q6NTA4\n",
      "http://www.ncbi.nlm.nih.gov/entrez/viewer.fcgi?val=NM_006064\n",
      "http://www.ncbi.nlm.nih.gov/entrez/viewer.fcgi?val=NP_006055\n",
      "http://www.ncbi.nlm.nih.gov/entrez/viewer.fcgi?val=NM_001004154\n",
      "http://www.ncbi.nlm.nih.gov/entrez/viewer.fcgi?val=NP_001004154\n",
      "http://genome.ucsc.edu/cgi-bin/hgTracks?org=Human&position=chrX:55760897-55801932\n",
      "http://genome.ucsc.edu/cgi-bin/hgTracks?org=Mouse&position=chrX:148480697-148512658\n",
      "Pubmed\n",
      "http://www.ncbi.nlm.nih.gov/sites/entrez?db=gene&cmd=Link&LinkName=gene_pubmed&from_uid=10325\n",
      "http://www.ncbi.nlm.nih.gov/sites/entrez?db=gene&cmd=Link&LinkName=gene_pubmed&from_uid=245670\n",
      "Gene\n",
      "\n",
      "\n",
      "Edit section: References\n",
      "\n",
      "\n",
      "http://www.ncbi.nlm.nih.gov/sites/entrez?Db=gene&Cmd=ShowDetailView&TermToSearch=10325\n",
      "Edit section: Further reading\n",
      "Digital object identifier\n",
      "http://dx.doi.org/10.1038%2Fnature03440\n",
      "http://www.ncbi.nlm.nih.gov/pubmed/15772651\n",
      "Digital object identifier\n",
      "http://dx.doi.org/10.1101%2Fgr.2596504\n",
      "http://www.ncbi.nlm.nih.gov/pubmed/15489334\n",
      "http://www.ncbi.nlm.nih.gov/pubmed/12766061\n",
      "Digital object identifier\n",
      "http://dx.doi.org/10.1073%2Fpnas.242603899\n",
      "http://www.ncbi.nlm.nih.gov/pubmed/12477932\n",
      "Digital object identifier\n",
      "http://dx.doi.org/10.1074%2Fjbc.M004389200\n",
      "http://www.ncbi.nlm.nih.gov/pubmed/11073942\n",
      "http://www.ncbi.nlm.nih.gov/pubmed/9394008\n",
      "http://www.ncbi.nlm.nih.gov/pubmed/7499430\n",
      "Myoglobin.png\n",
      "Protein\n",
      "Wikipedia:Stub\n",
      "http://en.wikipedia.org/w/index.php?stub&title=RRAGB&action=edit\n",
      "Special:Categories\n",
      "Category:Genes on chromosome X\n",
      "Category:Human proteins\n",
      "Category:Protein stubs\n",
      "Category:Protein pages needing a picture\n"
     ]
    },
    {
     "ename": "KeyError",
     "evalue": "'title'",
     "output_type": "error",
     "traceback": [
      "\u001b[0;31m---------------------------------------------------------------------------\u001b[0m",
      "\u001b[0;31mKeyError\u001b[0m                                  Traceback (most recent call last)",
      "\u001b[0;32m<ipython-input-32-4a3b201bae0a>\u001b[0m in \u001b[0;36m<module>\u001b[0;34m()\u001b[0m\n\u001b[1;32m      7\u001b[0m \u001b[0;34m\u001b[0m\u001b[0m\n\u001b[1;32m      8\u001b[0m                     \u001b[0;32mfor\u001b[0m \u001b[0ma\u001b[0m \u001b[0;32min\u001b[0m \u001b[0msoup\u001b[0m\u001b[0;34m.\u001b[0m\u001b[0mfind_all\u001b[0m\u001b[0;34m(\u001b[0m\u001b[0;34m'a'\u001b[0m\u001b[0;34m,\u001b[0m \u001b[0mhref\u001b[0m\u001b[0;34m=\u001b[0m\u001b[0;32mTrue\u001b[0m\u001b[0;34m)\u001b[0m\u001b[0;34m:\u001b[0m\u001b[0;34m\u001b[0m\u001b[0m\n\u001b[0;32m----> 9\u001b[0;31m                         \u001b[0mprint\u001b[0m\u001b[0;34m(\u001b[0m\u001b[0ma\u001b[0m\u001b[0;34m[\u001b[0m\u001b[0;34m'title'\u001b[0m\u001b[0;34m]\u001b[0m\u001b[0;34m)\u001b[0m\u001b[0;34m\u001b[0m\u001b[0m\n\u001b[0m\u001b[1;32m     10\u001b[0m \u001b[0;31m#                         if os.path.exists(a['href']):\u001b[0m\u001b[0;34m\u001b[0m\u001b[0;34m\u001b[0m\u001b[0m\n\u001b[1;32m     11\u001b[0m \u001b[0;31m#                             print(f)\u001b[0m\u001b[0;34m\u001b[0m\u001b[0;34m\u001b[0m\u001b[0m\n",
      "\u001b[0;32m~/.virtualenvs/MADM-2017/lib/python3.5/site-packages/bs4/element.py\u001b[0m in \u001b[0;36m__getitem__\u001b[0;34m(self, key)\u001b[0m\n\u001b[1;32m   1009\u001b[0m         \"\"\"tag[key] returns the value of the 'key' attribute for the tag,\n\u001b[1;32m   1010\u001b[0m         and throws an exception if it's not there.\"\"\"\n\u001b[0;32m-> 1011\u001b[0;31m         \u001b[0;32mreturn\u001b[0m \u001b[0mself\u001b[0m\u001b[0;34m.\u001b[0m\u001b[0mattrs\u001b[0m\u001b[0;34m[\u001b[0m\u001b[0mkey\u001b[0m\u001b[0;34m]\u001b[0m\u001b[0;34m\u001b[0m\u001b[0m\n\u001b[0m\u001b[1;32m   1012\u001b[0m \u001b[0;34m\u001b[0m\u001b[0m\n\u001b[1;32m   1013\u001b[0m     \u001b[0;32mdef\u001b[0m \u001b[0m__iter__\u001b[0m\u001b[0;34m(\u001b[0m\u001b[0mself\u001b[0m\u001b[0;34m)\u001b[0m\u001b[0;34m:\u001b[0m\u001b[0;34m\u001b[0m\u001b[0m\n",
      "\u001b[0;31mKeyError\u001b[0m: 'title'"
     ]
    }
   ],
   "source": [
    "for root, dirs, files in os.walk(\"wiki-small\"):\n",
    "    for file in files:\n",
    "        if file.endswith(\".html\"):\n",
    "             with open(os.path.join(root, file), 'r') as f:\n",
    "                    html = f.read()\n",
    "                    soup = BeautifulSoup(html, \"html5lib\")\n",
    "\n",
    "                    for a in soup.find_all('a', href=True):\n",
    "                        print(a['title'])\n",
    "#                         if os.path.exists(a['href']):\n",
    "#                             print(f)\n",
    "#                             print(a['title'])"
   ]
  }
 ],
 "metadata": {
  "kernelspec": {
   "display_name": "Python 3",
   "language": "python",
   "name": "python3"
  },
  "language_info": {
   "codemirror_mode": {
    "name": "ipython",
    "version": 3
   },
   "file_extension": ".py",
   "mimetype": "text/x-python",
   "name": "python",
   "nbconvert_exporter": "python",
   "pygments_lexer": "ipython3",
   "version": "3.5.2"
  }
 },
 "nbformat": 4,
 "nbformat_minor": 2
}
