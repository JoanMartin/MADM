{
 "cells": [
  {
   "cell_type": "code",
   "execution_count": 1,
   "metadata": {},
   "outputs": [],
   "source": [
    "import os\n",
    "import glob\n",
    "\n",
    "import pandas as pd\n",
    "import numpy as np\n",
    "\n",
    "%matplotlib inline\n",
    "import matplotlib.pyplot as plt\n",
    "plt.rcParams['figure.figsize'] = (12, 8)\n",
    "\n",
    "from sklearn.metrics import mean_squared_error, r2_score\n",
    "from sklearn.model_selection import KFold, cross_val_score, cross_val_predict, GridSearchCV\n",
    "\n",
    "import seaborn as sns"
   ]
  },
  {
   "cell_type": "code",
   "execution_count": 2,
   "metadata": {},
   "outputs": [
    {
     "data": {
      "text/html": [
       "<div>\n",
       "<style scoped>\n",
       "    .dataframe tbody tr th:only-of-type {\n",
       "        vertical-align: middle;\n",
       "    }\n",
       "\n",
       "    .dataframe tbody tr th {\n",
       "        vertical-align: top;\n",
       "    }\n",
       "\n",
       "    .dataframe thead th {\n",
       "        text-align: right;\n",
       "    }\n",
       "</style>\n",
       "<table border=\"1\" class=\"dataframe\">\n",
       "  <thead>\n",
       "    <tr style=\"text-align: right;\">\n",
       "      <th></th>\n",
       "      <th>AC</th>\n",
       "      <th>AF</th>\n",
       "      <th>AR</th>\n",
       "      <th>AS</th>\n",
       "      <th>AST</th>\n",
       "      <th>AY</th>\n",
       "      <th>AwayTeam</th>\n",
       "      <th>B365A</th>\n",
       "      <th>B365D</th>\n",
       "      <th>B365H</th>\n",
       "      <th>...</th>\n",
       "      <th>SBH</th>\n",
       "      <th>SJA</th>\n",
       "      <th>SJD</th>\n",
       "      <th>SJH</th>\n",
       "      <th>VCA</th>\n",
       "      <th>VCD</th>\n",
       "      <th>VCH</th>\n",
       "      <th>WHA</th>\n",
       "      <th>WHD</th>\n",
       "      <th>WHH</th>\n",
       "    </tr>\n",
       "  </thead>\n",
       "  <tbody>\n",
       "    <tr>\n",
       "      <th>0</th>\n",
       "      <td>9.0</td>\n",
       "      <td>9.0</td>\n",
       "      <td>0.0</td>\n",
       "      <td>16.0</td>\n",
       "      <td>6.0</td>\n",
       "      <td>0.0</td>\n",
       "      <td>Malaga</td>\n",
       "      <td>3.2</td>\n",
       "      <td>3.25</td>\n",
       "      <td>2.25</td>\n",
       "      <td>...</td>\n",
       "      <td>NaN</td>\n",
       "      <td>3.00</td>\n",
       "      <td>3.25</td>\n",
       "      <td>2.40</td>\n",
       "      <td>3.40</td>\n",
       "      <td>3.3</td>\n",
       "      <td>2.30</td>\n",
       "      <td>3.2</td>\n",
       "      <td>3.30</td>\n",
       "      <td>2.25</td>\n",
       "    </tr>\n",
       "    <tr>\n",
       "      <th>1</th>\n",
       "      <td>4.0</td>\n",
       "      <td>14.0</td>\n",
       "      <td>0.0</td>\n",
       "      <td>13.0</td>\n",
       "      <td>5.0</td>\n",
       "      <td>2.0</td>\n",
       "      <td>Espanol</td>\n",
       "      <td>3.8</td>\n",
       "      <td>3.30</td>\n",
       "      <td>2.00</td>\n",
       "      <td>...</td>\n",
       "      <td>NaN</td>\n",
       "      <td>3.75</td>\n",
       "      <td>3.25</td>\n",
       "      <td>2.10</td>\n",
       "      <td>4.10</td>\n",
       "      <td>3.5</td>\n",
       "      <td>2.00</td>\n",
       "      <td>3.8</td>\n",
       "      <td>3.25</td>\n",
       "      <td>2.05</td>\n",
       "    </tr>\n",
       "    <tr>\n",
       "      <th>2</th>\n",
       "      <td>8.0</td>\n",
       "      <td>17.0</td>\n",
       "      <td>0.0</td>\n",
       "      <td>10.0</td>\n",
       "      <td>3.0</td>\n",
       "      <td>4.0</td>\n",
       "      <td>Getafe</td>\n",
       "      <td>5.5</td>\n",
       "      <td>3.75</td>\n",
       "      <td>1.62</td>\n",
       "      <td>...</td>\n",
       "      <td>NaN</td>\n",
       "      <td>5.50</td>\n",
       "      <td>3.60</td>\n",
       "      <td>1.67</td>\n",
       "      <td>6.00</td>\n",
       "      <td>3.8</td>\n",
       "      <td>1.67</td>\n",
       "      <td>4.8</td>\n",
       "      <td>3.75</td>\n",
       "      <td>1.70</td>\n",
       "    </tr>\n",
       "    <tr>\n",
       "      <th>3</th>\n",
       "      <td>4.0</td>\n",
       "      <td>17.0</td>\n",
       "      <td>0.0</td>\n",
       "      <td>13.0</td>\n",
       "      <td>9.0</td>\n",
       "      <td>2.0</td>\n",
       "      <td>Betis</td>\n",
       "      <td>4.2</td>\n",
       "      <td>3.50</td>\n",
       "      <td>1.83</td>\n",
       "      <td>...</td>\n",
       "      <td>NaN</td>\n",
       "      <td>4.50</td>\n",
       "      <td>3.50</td>\n",
       "      <td>1.83</td>\n",
       "      <td>4.33</td>\n",
       "      <td>3.7</td>\n",
       "      <td>1.87</td>\n",
       "      <td>4.0</td>\n",
       "      <td>3.50</td>\n",
       "      <td>1.91</td>\n",
       "    </tr>\n",
       "    <tr>\n",
       "      <th>4</th>\n",
       "      <td>1.0</td>\n",
       "      <td>12.0</td>\n",
       "      <td>0.0</td>\n",
       "      <td>5.0</td>\n",
       "      <td>2.0</td>\n",
       "      <td>3.0</td>\n",
       "      <td>Sociedad</td>\n",
       "      <td>26.0</td>\n",
       "      <td>9.00</td>\n",
       "      <td>1.10</td>\n",
       "      <td>...</td>\n",
       "      <td>NaN</td>\n",
       "      <td>29.00</td>\n",
       "      <td>9.00</td>\n",
       "      <td>1.10</td>\n",
       "      <td>31.00</td>\n",
       "      <td>12.0</td>\n",
       "      <td>1.10</td>\n",
       "      <td>29.0</td>\n",
       "      <td>11.00</td>\n",
       "      <td>1.07</td>\n",
       "    </tr>\n",
       "  </tbody>\n",
       "</table>\n",
       "<p>5 rows × 77 columns</p>\n",
       "</div>"
      ],
      "text/plain": [
       "    AC    AF   AR    AS  AST   AY  AwayTeam  B365A  B365D  B365H  ...   SBH  \\\n",
       "0  9.0   9.0  0.0  16.0  6.0  0.0    Malaga    3.2   3.25   2.25  ...   NaN   \n",
       "1  4.0  14.0  0.0  13.0  5.0  2.0   Espanol    3.8   3.30   2.00  ...   NaN   \n",
       "2  8.0  17.0  0.0  10.0  3.0  4.0    Getafe    5.5   3.75   1.62  ...   NaN   \n",
       "3  4.0  17.0  0.0  13.0  9.0  2.0     Betis    4.2   3.50   1.83  ...   NaN   \n",
       "4  1.0  12.0  0.0   5.0  2.0  3.0  Sociedad   26.0   9.00   1.10  ...   NaN   \n",
       "\n",
       "     SJA   SJD   SJH    VCA   VCD   VCH   WHA    WHD   WHH  \n",
       "0   3.00  3.25  2.40   3.40   3.3  2.30   3.2   3.30  2.25  \n",
       "1   3.75  3.25  2.10   4.10   3.5  2.00   3.8   3.25  2.05  \n",
       "2   5.50  3.60  1.67   6.00   3.8  1.67   4.8   3.75  1.70  \n",
       "3   4.50  3.50  1.83   4.33   3.7  1.87   4.0   3.50  1.91  \n",
       "4  29.00  9.00  1.10  31.00  12.0  1.10  29.0  11.00  1.07  \n",
       "\n",
       "[5 rows x 77 columns]"
      ]
     },
     "execution_count": 2,
     "metadata": {},
     "output_type": "execute_result"
    }
   ],
   "source": [
    "path = 'data/'\n",
    "csv_files = glob.glob(os.path.join(path, \"*.csv\"))\n",
    "\n",
    "df_from_file = (pd.read_csv(f, sep=',') for f in csv_files)\n",
    "df_football = pd.concat(df_from_file, ignore_index = True)\n",
    "\n",
    "df_football.head()"
   ]
  },
  {
   "cell_type": "markdown",
   "metadata": {},
   "source": [
    "# Conociendo y preparando los datos"
   ]
  },
  {
   "cell_type": "code",
   "execution_count": 3,
   "metadata": {},
   "outputs": [
    {
     "data": {
      "text/plain": [
       "Index(['AC', 'AF', 'AR', 'AS', 'AST', 'AY', 'AwayTeam', 'B365A', 'B365D',\n",
       "       'B365H', 'BSA', 'BSD', 'BSH', 'BWA', 'BWD', 'BWH', 'Bb1X2', 'BbAH',\n",
       "       'BbAHh', 'BbAv<2.5', 'BbAv>2.5', 'BbAvA', 'BbAvAHA', 'BbAvAHH', 'BbAvD',\n",
       "       'BbAvH', 'BbMx<2.5', 'BbMx>2.5', 'BbMxA', 'BbMxAHA', 'BbMxAHH', 'BbMxD',\n",
       "       'BbMxH', 'BbOU', 'Date', 'Div', 'FTAG', 'FTHG', 'FTR', 'GBA', 'GBD',\n",
       "       'GBH', 'HC', 'HF', 'HR', 'HS', 'HST', 'HTAG', 'HTHG', 'HTR', 'HY',\n",
       "       'HomeTeam', 'IWA', 'IWD', 'IWH', 'LBA', 'LBD', 'LBH', 'PSA', 'PSCA',\n",
       "       'PSCD', 'PSCH', 'PSD', 'PSH', 'Referee', 'SBA', 'SBD', 'SBH', 'SJA',\n",
       "       'SJD', 'SJH', 'VCA', 'VCD', 'VCH', 'WHA', 'WHD', 'WHH'],\n",
       "      dtype='object')"
      ]
     },
     "execution_count": 3,
     "metadata": {},
     "output_type": "execute_result"
    }
   ],
   "source": [
    "df_football.columns"
   ]
  },
  {
   "cell_type": "code",
   "execution_count": 4,
   "metadata": {},
   "outputs": [
    {
     "data": {
      "text/plain": [
       "Text(0.5,0,'percentage')"
      ]
     },
     "execution_count": 4,
     "metadata": {},
     "output_type": "execute_result"
    },
    {
     "data": {
      "image/png": "[encoded data removed]",
      "text/plain": [
       "<matplotlib.figure.Figure at 0x7f500d651160>"
      ]
     },
     "metadata": {},
     "output_type": "display_data"
    }
   ],
   "source": [
    "null_data = df_football.isnull().mean()\n",
    "\n",
    "plt.figure(figsize = (13, 8))\n",
    "null_data[null_data >= 0.3].sort_values().plot.barh(color = 'blue')\n",
    "plt.xlim(xmax = 1)\n",
    "plt.title(\"Missing values rate\", fontsize = 18)\n",
    "plt.xlabel(\"percentage\", fontsize = 14)"
   ]
  },
  {
   "cell_type": "code",
   "execution_count": 5,
   "metadata": {},
   "outputs": [
    {
     "data": {
      "text/html": [
       "<div>\n",
       "<style scoped>\n",
       "    .dataframe tbody tr th:only-of-type {\n",
       "        vertical-align: middle;\n",
       "    }\n",
       "\n",
       "    .dataframe tbody tr th {\n",
       "        vertical-align: top;\n",
       "    }\n",
       "\n",
       "    .dataframe thead th {\n",
       "        text-align: right;\n",
       "    }\n",
       "</style>\n",
       "<table border=\"1\" class=\"dataframe\">\n",
       "  <thead>\n",
       "    <tr style=\"text-align: right;\">\n",
       "      <th></th>\n",
       "      <th>AC</th>\n",
       "      <th>AF</th>\n",
       "      <th>AR</th>\n",
       "      <th>AS</th>\n",
       "      <th>AST</th>\n",
       "      <th>AY</th>\n",
       "      <th>AwayTeam</th>\n",
       "      <th>B365A</th>\n",
       "      <th>B365D</th>\n",
       "      <th>B365H</th>\n",
       "      <th>...</th>\n",
       "      <th>PSCD</th>\n",
       "      <th>PSCH</th>\n",
       "      <th>PSD</th>\n",
       "      <th>PSH</th>\n",
       "      <th>VCA</th>\n",
       "      <th>VCD</th>\n",
       "      <th>VCH</th>\n",
       "      <th>WHA</th>\n",
       "      <th>WHD</th>\n",
       "      <th>WHH</th>\n",
       "    </tr>\n",
       "  </thead>\n",
       "  <tbody>\n",
       "    <tr>\n",
       "      <th>0</th>\n",
       "      <td>9.0</td>\n",
       "      <td>9.0</td>\n",
       "      <td>0.0</td>\n",
       "      <td>16.0</td>\n",
       "      <td>6.0</td>\n",
       "      <td>0.0</td>\n",
       "      <td>Malaga</td>\n",
       "      <td>3.2</td>\n",
       "      <td>3.25</td>\n",
       "      <td>2.25</td>\n",
       "      <td>...</td>\n",
       "      <td>3.45</td>\n",
       "      <td>2.35</td>\n",
       "      <td>3.38</td>\n",
       "      <td>2.31</td>\n",
       "      <td>3.40</td>\n",
       "      <td>3.3</td>\n",
       "      <td>2.30</td>\n",
       "      <td>3.2</td>\n",
       "      <td>3.30</td>\n",
       "      <td>2.25</td>\n",
       "    </tr>\n",
       "    <tr>\n",
       "      <th>1</th>\n",
       "      <td>4.0</td>\n",
       "      <td>14.0</td>\n",
       "      <td>0.0</td>\n",
       "      <td>13.0</td>\n",
       "      <td>5.0</td>\n",
       "      <td>2.0</td>\n",
       "      <td>Espanol</td>\n",
       "      <td>3.8</td>\n",
       "      <td>3.30</td>\n",
       "      <td>2.00</td>\n",
       "      <td>...</td>\n",
       "      <td>3.33</td>\n",
       "      <td>2.25</td>\n",
       "      <td>3.56</td>\n",
       "      <td>2.00</td>\n",
       "      <td>4.10</td>\n",
       "      <td>3.5</td>\n",
       "      <td>2.00</td>\n",
       "      <td>3.8</td>\n",
       "      <td>3.25</td>\n",
       "      <td>2.05</td>\n",
       "    </tr>\n",
       "    <tr>\n",
       "      <th>2</th>\n",
       "      <td>8.0</td>\n",
       "      <td>17.0</td>\n",
       "      <td>0.0</td>\n",
       "      <td>10.0</td>\n",
       "      <td>3.0</td>\n",
       "      <td>4.0</td>\n",
       "      <td>Getafe</td>\n",
       "      <td>5.5</td>\n",
       "      <td>3.75</td>\n",
       "      <td>1.62</td>\n",
       "      <td>...</td>\n",
       "      <td>3.96</td>\n",
       "      <td>1.68</td>\n",
       "      <td>3.94</td>\n",
       "      <td>1.65</td>\n",
       "      <td>6.00</td>\n",
       "      <td>3.8</td>\n",
       "      <td>1.67</td>\n",
       "      <td>4.8</td>\n",
       "      <td>3.75</td>\n",
       "      <td>1.70</td>\n",
       "    </tr>\n",
       "    <tr>\n",
       "      <th>3</th>\n",
       "      <td>4.0</td>\n",
       "      <td>17.0</td>\n",
       "      <td>0.0</td>\n",
       "      <td>13.0</td>\n",
       "      <td>9.0</td>\n",
       "      <td>2.0</td>\n",
       "      <td>Betis</td>\n",
       "      <td>4.2</td>\n",
       "      <td>3.50</td>\n",
       "      <td>1.83</td>\n",
       "      <td>...</td>\n",
       "      <td>3.49</td>\n",
       "      <td>2.17</td>\n",
       "      <td>3.77</td>\n",
       "      <td>1.89</td>\n",
       "      <td>4.33</td>\n",
       "      <td>3.7</td>\n",
       "      <td>1.87</td>\n",
       "      <td>4.0</td>\n",
       "      <td>3.50</td>\n",
       "      <td>1.91</td>\n",
       "    </tr>\n",
       "    <tr>\n",
       "      <th>4</th>\n",
       "      <td>1.0</td>\n",
       "      <td>12.0</td>\n",
       "      <td>0.0</td>\n",
       "      <td>5.0</td>\n",
       "      <td>2.0</td>\n",
       "      <td>3.0</td>\n",
       "      <td>Sociedad</td>\n",
       "      <td>26.0</td>\n",
       "      <td>9.00</td>\n",
       "      <td>1.10</td>\n",
       "      <td>...</td>\n",
       "      <td>13.96</td>\n",
       "      <td>1.09</td>\n",
       "      <td>12.00</td>\n",
       "      <td>1.10</td>\n",
       "      <td>31.00</td>\n",
       "      <td>12.0</td>\n",
       "      <td>1.10</td>\n",
       "      <td>29.0</td>\n",
       "      <td>11.00</td>\n",
       "      <td>1.07</td>\n",
       "    </tr>\n",
       "  </tbody>\n",
       "</table>\n",
       "<p>5 rows × 64 columns</p>\n",
       "</div>"
      ],
      "text/plain": [
       "    AC    AF   AR    AS  AST   AY  AwayTeam  B365A  B365D  B365H  ...    PSCD  \\\n",
       "0  9.0   9.0  0.0  16.0  6.0  0.0    Malaga    3.2   3.25   2.25  ...    3.45   \n",
       "1  4.0  14.0  0.0  13.0  5.0  2.0   Espanol    3.8   3.30   2.00  ...    3.33   \n",
       "2  8.0  17.0  0.0  10.0  3.0  4.0    Getafe    5.5   3.75   1.62  ...    3.96   \n",
       "3  4.0  17.0  0.0  13.0  9.0  2.0     Betis    4.2   3.50   1.83  ...    3.49   \n",
       "4  1.0  12.0  0.0   5.0  2.0  3.0  Sociedad   26.0   9.00   1.10  ...   13.96   \n",
       "\n",
       "   PSCH    PSD   PSH    VCA   VCD   VCH   WHA    WHD   WHH  \n",
       "0  2.35   3.38  2.31   3.40   3.3  2.30   3.2   3.30  2.25  \n",
       "1  2.25   3.56  2.00   4.10   3.5  2.00   3.8   3.25  2.05  \n",
       "2  1.68   3.94  1.65   6.00   3.8  1.67   4.8   3.75  1.70  \n",
       "3  2.17   3.77  1.89   4.33   3.7  1.87   4.0   3.50  1.91  \n",
       "4  1.09  12.00  1.10  31.00  12.0  1.10  29.0  11.00  1.07  \n",
       "\n",
       "[5 rows x 64 columns]"
      ]
     },
     "execution_count": 5,
     "metadata": {},
     "output_type": "execute_result"
    }
   ],
   "source": [
    "features_no_null = null_data[null_data < 0.3].index\n",
    "    \n",
    "df = df_football[features_no_null]\n",
    "df = df.fillna(round(df.mean(), 2))\n",
    "\n",
    "df.head()"
   ]
  },
  {
   "cell_type": "code",
   "execution_count": 6,
   "metadata": {},
   "outputs": [
    {
     "data": {
      "text/html": [
       "<div>\n",
       "<style scoped>\n",
       "    .dataframe tbody tr th:only-of-type {\n",
       "        vertical-align: middle;\n",
       "    }\n",
       "\n",
       "    .dataframe tbody tr th {\n",
       "        vertical-align: top;\n",
       "    }\n",
       "\n",
       "    .dataframe thead th {\n",
       "        text-align: right;\n",
       "    }\n",
       "</style>\n",
       "<table border=\"1\" class=\"dataframe\">\n",
       "  <thead>\n",
       "    <tr style=\"text-align: right;\">\n",
       "      <th></th>\n",
       "      <th>AC</th>\n",
       "      <th>AF</th>\n",
       "      <th>AR</th>\n",
       "      <th>AS</th>\n",
       "      <th>AST</th>\n",
       "      <th>AY</th>\n",
       "      <th>AwayTeam</th>\n",
       "      <th>B365A</th>\n",
       "      <th>B365D</th>\n",
       "      <th>B365H</th>\n",
       "      <th>...</th>\n",
       "      <th>VCH</th>\n",
       "      <th>WHA</th>\n",
       "      <th>WHD</th>\n",
       "      <th>WHH</th>\n",
       "      <th>FTR_A</th>\n",
       "      <th>FTR_D</th>\n",
       "      <th>FTR_H</th>\n",
       "      <th>HTR_A</th>\n",
       "      <th>HTR_D</th>\n",
       "      <th>HTR_H</th>\n",
       "    </tr>\n",
       "  </thead>\n",
       "  <tbody>\n",
       "    <tr>\n",
       "      <th>0</th>\n",
       "      <td>9.0</td>\n",
       "      <td>9.0</td>\n",
       "      <td>0.0</td>\n",
       "      <td>16.0</td>\n",
       "      <td>6.0</td>\n",
       "      <td>0.0</td>\n",
       "      <td>Malaga</td>\n",
       "      <td>3.2</td>\n",
       "      <td>3.25</td>\n",
       "      <td>2.25</td>\n",
       "      <td>...</td>\n",
       "      <td>2.30</td>\n",
       "      <td>3.2</td>\n",
       "      <td>3.30</td>\n",
       "      <td>2.25</td>\n",
       "      <td>1</td>\n",
       "      <td>0</td>\n",
       "      <td>0</td>\n",
       "      <td>0</td>\n",
       "      <td>1</td>\n",
       "      <td>0</td>\n",
       "    </tr>\n",
       "    <tr>\n",
       "      <th>1</th>\n",
       "      <td>4.0</td>\n",
       "      <td>14.0</td>\n",
       "      <td>0.0</td>\n",
       "      <td>13.0</td>\n",
       "      <td>5.0</td>\n",
       "      <td>2.0</td>\n",
       "      <td>Espanol</td>\n",
       "      <td>3.8</td>\n",
       "      <td>3.30</td>\n",
       "      <td>2.00</td>\n",
       "      <td>...</td>\n",
       "      <td>2.00</td>\n",
       "      <td>3.8</td>\n",
       "      <td>3.25</td>\n",
       "      <td>2.05</td>\n",
       "      <td>0</td>\n",
       "      <td>0</td>\n",
       "      <td>1</td>\n",
       "      <td>0</td>\n",
       "      <td>1</td>\n",
       "      <td>0</td>\n",
       "    </tr>\n",
       "    <tr>\n",
       "      <th>2</th>\n",
       "      <td>8.0</td>\n",
       "      <td>17.0</td>\n",
       "      <td>0.0</td>\n",
       "      <td>10.0</td>\n",
       "      <td>3.0</td>\n",
       "      <td>4.0</td>\n",
       "      <td>Getafe</td>\n",
       "      <td>5.5</td>\n",
       "      <td>3.75</td>\n",
       "      <td>1.62</td>\n",
       "      <td>...</td>\n",
       "      <td>1.67</td>\n",
       "      <td>4.8</td>\n",
       "      <td>3.75</td>\n",
       "      <td>1.70</td>\n",
       "      <td>0</td>\n",
       "      <td>0</td>\n",
       "      <td>1</td>\n",
       "      <td>0</td>\n",
       "      <td>0</td>\n",
       "      <td>1</td>\n",
       "    </tr>\n",
       "    <tr>\n",
       "      <th>3</th>\n",
       "      <td>4.0</td>\n",
       "      <td>17.0</td>\n",
       "      <td>0.0</td>\n",
       "      <td>13.0</td>\n",
       "      <td>9.0</td>\n",
       "      <td>2.0</td>\n",
       "      <td>Betis</td>\n",
       "      <td>4.2</td>\n",
       "      <td>3.50</td>\n",
       "      <td>1.83</td>\n",
       "      <td>...</td>\n",
       "      <td>1.87</td>\n",
       "      <td>4.0</td>\n",
       "      <td>3.50</td>\n",
       "      <td>1.91</td>\n",
       "      <td>1</td>\n",
       "      <td>0</td>\n",
       "      <td>0</td>\n",
       "      <td>1</td>\n",
       "      <td>0</td>\n",
       "      <td>0</td>\n",
       "    </tr>\n",
       "    <tr>\n",
       "      <th>4</th>\n",
       "      <td>1.0</td>\n",
       "      <td>12.0</td>\n",
       "      <td>0.0</td>\n",
       "      <td>5.0</td>\n",
       "      <td>2.0</td>\n",
       "      <td>3.0</td>\n",
       "      <td>Sociedad</td>\n",
       "      <td>26.0</td>\n",
       "      <td>9.00</td>\n",
       "      <td>1.10</td>\n",
       "      <td>...</td>\n",
       "      <td>1.10</td>\n",
       "      <td>29.0</td>\n",
       "      <td>11.00</td>\n",
       "      <td>1.07</td>\n",
       "      <td>0</td>\n",
       "      <td>0</td>\n",
       "      <td>1</td>\n",
       "      <td>0</td>\n",
       "      <td>0</td>\n",
       "      <td>1</td>\n",
       "    </tr>\n",
       "  </tbody>\n",
       "</table>\n",
       "<p>5 rows × 70 columns</p>\n",
       "</div>"
      ],
      "text/plain": [
       "    AC    AF   AR    AS  AST   AY  AwayTeam  B365A  B365D  B365H  ...     VCH  \\\n",
       "0  9.0   9.0  0.0  16.0  6.0  0.0    Malaga    3.2   3.25   2.25  ...    2.30   \n",
       "1  4.0  14.0  0.0  13.0  5.0  2.0   Espanol    3.8   3.30   2.00  ...    2.00   \n",
       "2  8.0  17.0  0.0  10.0  3.0  4.0    Getafe    5.5   3.75   1.62  ...    1.67   \n",
       "3  4.0  17.0  0.0  13.0  9.0  2.0     Betis    4.2   3.50   1.83  ...    1.87   \n",
       "4  1.0  12.0  0.0   5.0  2.0  3.0  Sociedad   26.0   9.00   1.10  ...    1.10   \n",
       "\n",
       "    WHA    WHD   WHH  FTR_A  FTR_D  FTR_H  HTR_A  HTR_D  HTR_H  \n",
       "0   3.2   3.30  2.25      1      0      0      0      1      0  \n",
       "1   3.8   3.25  2.05      0      0      1      0      1      0  \n",
       "2   4.8   3.75  1.70      0      0      1      0      0      1  \n",
       "3   4.0   3.50  1.91      1      0      0      1      0      0  \n",
       "4  29.0  11.00  1.07      0      0      1      0      0      1  \n",
       "\n",
       "[5 rows x 70 columns]"
      ]
     },
     "execution_count": 6,
     "metadata": {},
     "output_type": "execute_result"
    }
   ],
   "source": [
    "ftr_dummies = pd.get_dummies(df.FTR, prefix='FTR')\n",
    "df = pd.concat([df, ftr_dummies], axis = 1)\n",
    "\n",
    "htr_dummies = pd.get_dummies(df.HTR, prefix='HTR')\n",
    "df = pd.concat([df, htr_dummies], axis = 1)\n",
    "\n",
    "df.head()"
   ]
  },
  {
   "cell_type": "code",
   "execution_count": 7,
   "metadata": {},
   "outputs": [
    {
     "data": {
      "text/plain": [
       "(13698, 67)"
      ]
     },
     "execution_count": 7,
     "metadata": {},
     "output_type": "execute_result"
    }
   ],
   "source": [
    "variables_to_remove = [\"Date\", \"FTR\", \"HTR\"]\n",
    "\n",
    "df = df.drop(variables_to_remove, axis=1)\n",
    "df.shape"
   ]
  },
  {
   "cell_type": "code",
   "execution_count": 8,
   "metadata": {},
   "outputs": [
    {
     "data": {
      "text/plain": [
       "Index(['AC', 'AF', 'AR', 'AS', 'AST', 'AY', 'AwayTeam', 'B365A', 'B365D',\n",
       "       'B365H', 'BWA', 'BWD', 'BWH', 'Bb1X2', 'BbAH', 'BbAHh', 'BbAv<2.5',\n",
       "       'BbAv>2.5', 'BbAvA', 'BbAvAHA', 'BbAvAHH', 'BbAvD', 'BbAvH', 'BbMx<2.5',\n",
       "       'BbMx>2.5', 'BbMxA', 'BbMxAHA', 'BbMxAHH', 'BbMxD', 'BbMxH', 'BbOU',\n",
       "       'Div', 'FTAG', 'FTHG', 'HC', 'HF', 'HR', 'HS', 'HST', 'HTAG', 'HTHG',\n",
       "       'HY', 'HomeTeam', 'IWA', 'IWD', 'IWH', 'LBA', 'LBD', 'LBH', 'PSA',\n",
       "       'PSCA', 'PSCD', 'PSCH', 'PSD', 'PSH', 'VCA', 'VCD', 'VCH', 'WHA', 'WHD',\n",
       "       'WHH', 'FTR_A', 'FTR_D', 'FTR_H', 'HTR_A', 'HTR_D', 'HTR_H'],\n",
       "      dtype='object')"
      ]
     },
     "execution_count": 8,
     "metadata": {},
     "output_type": "execute_result"
    }
   ],
   "source": [
    "df.columns"
   ]
  },
  {
   "cell_type": "markdown",
   "metadata": {},
   "source": [
    "# Prediciendo la variable FTHG"
   ]
  },
  {
   "cell_type": "markdown",
   "metadata": {},
   "source": [
    "```python\n",
    "features_to_predict = ['FTHG', 'FTAG', 'FTR_A', 'FTR_D', 'FTR_H', \n",
    "                       'HTHG', 'HTAG', 'HTR_A', 'HTR_D', 'HTR_H', \n",
    "                       'HS', 'AS', 'HST', 'AST', 'HC', 'AC', 'HF', \n",
    "                       'AF', 'HY', 'AY', 'HR', 'AR']\n",
    "\n",
    "features = ['B365A', 'B365D', 'B365H', 'BWA', 'BWD', 'BWH', 'Bb1X2', 'BbAH',\n",
    "            'BbAHh', 'BbAv<2.5', 'BbAv>2.5', 'BbAvA', 'BbAvAHA', 'BbAvAHH', 'BbAvD',\n",
    "            'BbAvH', 'BbMx<2.5', 'BbMx>2.5', 'BbMxA', 'BbMxAHA', 'BbMxAHH', 'BbMxD',\n",
    "            'BbMxH', 'BbOU', 'IWA', 'IWD', 'IWH', 'LBA', 'LBD', 'LBH', 'PSA', 'PSCA', \n",
    "            'PSCD', 'PSCH', 'PSD', 'PSH', 'VCA', 'VCD', 'VCH', 'WHA', 'WHD', 'WHH']\n",
    "```"
   ]
  },
  {
   "cell_type": "code",
   "execution_count": 37,
   "metadata": {},
   "outputs": [
    {
     "data": {
      "text/html": [
       "<div>\n",
       "<style scoped>\n",
       "    .dataframe tbody tr th:only-of-type {\n",
       "        vertical-align: middle;\n",
       "    }\n",
       "\n",
       "    .dataframe tbody tr th {\n",
       "        vertical-align: top;\n",
       "    }\n",
       "\n",
       "    .dataframe thead th {\n",
       "        text-align: right;\n",
       "    }\n",
       "</style>\n",
       "<table border=\"1\" class=\"dataframe\">\n",
       "  <thead>\n",
       "    <tr style=\"text-align: right;\">\n",
       "      <th></th>\n",
       "      <th>B365A</th>\n",
       "      <th>B365D</th>\n",
       "      <th>B365H</th>\n",
       "      <th>BWA</th>\n",
       "      <th>BWD</th>\n",
       "      <th>BWH</th>\n",
       "      <th>Bb1X2</th>\n",
       "      <th>BbAH</th>\n",
       "      <th>BbAHh</th>\n",
       "      <th>BbAv&lt;2.5</th>\n",
       "      <th>...</th>\n",
       "      <th>PSCH</th>\n",
       "      <th>PSD</th>\n",
       "      <th>PSH</th>\n",
       "      <th>VCA</th>\n",
       "      <th>VCD</th>\n",
       "      <th>VCH</th>\n",
       "      <th>WHA</th>\n",
       "      <th>WHD</th>\n",
       "      <th>WHH</th>\n",
       "      <th>FTHG</th>\n",
       "    </tr>\n",
       "  </thead>\n",
       "  <tbody>\n",
       "    <tr>\n",
       "      <th>0</th>\n",
       "      <td>3.2</td>\n",
       "      <td>3.25</td>\n",
       "      <td>2.25</td>\n",
       "      <td>3.25</td>\n",
       "      <td>3.40</td>\n",
       "      <td>2.25</td>\n",
       "      <td>38.0</td>\n",
       "      <td>21.0</td>\n",
       "      <td>-0.25</td>\n",
       "      <td>1.78</td>\n",
       "      <td>...</td>\n",
       "      <td>2.35</td>\n",
       "      <td>3.38</td>\n",
       "      <td>2.31</td>\n",
       "      <td>3.40</td>\n",
       "      <td>3.3</td>\n",
       "      <td>2.30</td>\n",
       "      <td>3.2</td>\n",
       "      <td>3.30</td>\n",
       "      <td>2.25</td>\n",
       "      <td>0.0</td>\n",
       "    </tr>\n",
       "    <tr>\n",
       "      <th>1</th>\n",
       "      <td>3.8</td>\n",
       "      <td>3.30</td>\n",
       "      <td>2.00</td>\n",
       "      <td>4.10</td>\n",
       "      <td>3.30</td>\n",
       "      <td>2.00</td>\n",
       "      <td>38.0</td>\n",
       "      <td>20.0</td>\n",
       "      <td>-0.50</td>\n",
       "      <td>1.68</td>\n",
       "      <td>...</td>\n",
       "      <td>2.25</td>\n",
       "      <td>3.56</td>\n",
       "      <td>2.00</td>\n",
       "      <td>4.10</td>\n",
       "      <td>3.5</td>\n",
       "      <td>2.00</td>\n",
       "      <td>3.8</td>\n",
       "      <td>3.25</td>\n",
       "      <td>2.05</td>\n",
       "      <td>2.0</td>\n",
       "    </tr>\n",
       "    <tr>\n",
       "      <th>2</th>\n",
       "      <td>5.5</td>\n",
       "      <td>3.75</td>\n",
       "      <td>1.62</td>\n",
       "      <td>5.50</td>\n",
       "      <td>3.75</td>\n",
       "      <td>1.60</td>\n",
       "      <td>38.0</td>\n",
       "      <td>23.0</td>\n",
       "      <td>-0.75</td>\n",
       "      <td>1.84</td>\n",
       "      <td>...</td>\n",
       "      <td>1.68</td>\n",
       "      <td>3.94</td>\n",
       "      <td>1.65</td>\n",
       "      <td>6.00</td>\n",
       "      <td>3.8</td>\n",
       "      <td>1.67</td>\n",
       "      <td>4.8</td>\n",
       "      <td>3.75</td>\n",
       "      <td>1.70</td>\n",
       "      <td>2.0</td>\n",
       "    </tr>\n",
       "    <tr>\n",
       "      <th>3</th>\n",
       "      <td>4.2</td>\n",
       "      <td>3.50</td>\n",
       "      <td>1.83</td>\n",
       "      <td>4.10</td>\n",
       "      <td>3.50</td>\n",
       "      <td>1.85</td>\n",
       "      <td>38.0</td>\n",
       "      <td>18.0</td>\n",
       "      <td>-0.75</td>\n",
       "      <td>1.92</td>\n",
       "      <td>...</td>\n",
       "      <td>2.17</td>\n",
       "      <td>3.77</td>\n",
       "      <td>1.89</td>\n",
       "      <td>4.33</td>\n",
       "      <td>3.7</td>\n",
       "      <td>1.87</td>\n",
       "      <td>4.0</td>\n",
       "      <td>3.50</td>\n",
       "      <td>1.91</td>\n",
       "      <td>3.0</td>\n",
       "    </tr>\n",
       "    <tr>\n",
       "      <th>4</th>\n",
       "      <td>26.0</td>\n",
       "      <td>9.00</td>\n",
       "      <td>1.10</td>\n",
       "      <td>23.00</td>\n",
       "      <td>10.00</td>\n",
       "      <td>1.08</td>\n",
       "      <td>35.0</td>\n",
       "      <td>23.0</td>\n",
       "      <td>-2.75</td>\n",
       "      <td>3.36</td>\n",
       "      <td>...</td>\n",
       "      <td>1.09</td>\n",
       "      <td>12.00</td>\n",
       "      <td>1.10</td>\n",
       "      <td>31.00</td>\n",
       "      <td>12.0</td>\n",
       "      <td>1.10</td>\n",
       "      <td>29.0</td>\n",
       "      <td>11.00</td>\n",
       "      <td>1.07</td>\n",
       "      <td>5.0</td>\n",
       "    </tr>\n",
       "  </tbody>\n",
       "</table>\n",
       "<p>5 rows × 43 columns</p>\n",
       "</div>"
      ],
      "text/plain": [
       "   B365A  B365D  B365H    BWA    BWD   BWH  Bb1X2  BbAH  BbAHh  BbAv<2.5  \\\n",
       "0    3.2   3.25   2.25   3.25   3.40  2.25   38.0  21.0  -0.25      1.78   \n",
       "1    3.8   3.30   2.00   4.10   3.30  2.00   38.0  20.0  -0.50      1.68   \n",
       "2    5.5   3.75   1.62   5.50   3.75  1.60   38.0  23.0  -0.75      1.84   \n",
       "3    4.2   3.50   1.83   4.10   3.50  1.85   38.0  18.0  -0.75      1.92   \n",
       "4   26.0   9.00   1.10  23.00  10.00  1.08   35.0  23.0  -2.75      3.36   \n",
       "\n",
       "   ...   PSCH    PSD   PSH    VCA   VCD   VCH   WHA    WHD   WHH  FTHG  \n",
       "0  ...   2.35   3.38  2.31   3.40   3.3  2.30   3.2   3.30  2.25   0.0  \n",
       "1  ...   2.25   3.56  2.00   4.10   3.5  2.00   3.8   3.25  2.05   2.0  \n",
       "2  ...   1.68   3.94  1.65   6.00   3.8  1.67   4.8   3.75  1.70   2.0  \n",
       "3  ...   2.17   3.77  1.89   4.33   3.7  1.87   4.0   3.50  1.91   3.0  \n",
       "4  ...   1.09  12.00  1.10  31.00  12.0  1.10  29.0  11.00  1.07   5.0  \n",
       "\n",
       "[5 rows x 43 columns]"
      ]
     },
     "execution_count": 37,
     "metadata": {},
     "output_type": "execute_result"
    }
   ],
   "source": [
    "features = ['B365A', 'B365D', 'B365H', 'BWA', 'BWD', 'BWH', 'Bb1X2', 'BbAH',\n",
    "            'BbAHh', 'BbAv<2.5', 'BbAv>2.5', 'BbAvA', 'BbAvAHA', 'BbAvAHH', 'BbAvD',\n",
    "            'BbAvH', 'BbMx<2.5', 'BbMx>2.5', 'BbMxA', 'BbMxAHA', 'BbMxAHH', 'BbMxD',\n",
    "            'BbMxH', 'BbOU', 'IWA', 'IWD', 'IWH', 'LBA', 'LBD', 'LBH', 'PSA', 'PSCA', \n",
    "            'PSCD', 'PSCH', 'PSD', 'PSH', 'VCA', 'VCD', 'VCH', 'WHA', 'WHD', 'WHH']\n",
    "\n",
    "df_y = df['FTHG']\n",
    "df = pd.concat([df[features], df_y], axis=1)\n",
    "\n",
    "df.head()"
   ]
  },
  {
   "cell_type": "code",
   "execution_count": null,
   "metadata": {},
   "outputs": [
    {
     "data": {
      "text/plain": [
       "<seaborn.axisgrid.PairGrid at 0x7f4fcc489dd8>"
      ]
     },
     "execution_count": 38,
     "metadata": {},
     "output_type": "execute_result"
    },
    {
     "name": "stderr",
     "output_type": "stream",
     "text": [
      "ERROR:tornado.general:Uncaught exception, closing connection.\n",
      "Traceback (most recent call last):\n",
      "  File \"/home/joan/.virtualenvs/MADM-2017/lib/python3.5/site-packages/zmq/eventloop/zmqstream.py\", line 414, in _run_callback\n",
      "    callback(*args, **kwargs)\n",
      "  File \"/home/joan/.virtualenvs/MADM-2017/lib/python3.5/site-packages/tornado/stack_context.py\", line 277, in null_wrapper\n",
      "    return fn(*args, **kwargs)\n",
      "  File \"/home/joan/.virtualenvs/MADM-2017/lib/python3.5/site-packages/ipykernel/kernelbase.py\", line 283, in dispatcher\n",
      "    return self.dispatch_shell(stream, msg)\n",
      "  File \"/home/joan/.virtualenvs/MADM-2017/lib/python3.5/site-packages/ipykernel/kernelbase.py\", line 235, in dispatch_shell\n",
      "    handler(stream, idents, msg)\n",
      "  File \"/home/joan/.virtualenvs/MADM-2017/lib/python3.5/site-packages/ipykernel/kernelbase.py\", line 399, in execute_request\n",
      "    user_expressions, allow_stdin)\n",
      "  File \"/home/joan/.virtualenvs/MADM-2017/lib/python3.5/site-packages/ipykernel/ipkernel.py\", line 196, in do_execute\n",
      "    res = shell.run_cell(code, store_history=store_history, silent=silent)\n",
      "  File \"/home/joan/.virtualenvs/MADM-2017/lib/python3.5/site-packages/ipykernel/zmqshell.py\", line 533, in run_cell\n",
      "    return super(ZMQInteractiveShell, self).run_cell(*args, **kwargs)\n",
      "  File \"/home/joan/.virtualenvs/MADM-2017/lib/python3.5/site-packages/IPython/core/interactiveshell.py\", line 2737, in run_cell\n",
      "    self.events.trigger('post_execute')\n",
      "  File \"/home/joan/.virtualenvs/MADM-2017/lib/python3.5/site-packages/IPython/core/events.py\", line 73, in trigger\n",
      "    func(*args, **kwargs)\n",
      "  File \"/home/joan/.virtualenvs/MADM-2017/lib/python3.5/site-packages/ipykernel/pylab/backend_inline.py\", line 113, in flush_figures\n",
      "    return show(True)\n",
      "  File \"/home/joan/.virtualenvs/MADM-2017/lib/python3.5/site-packages/ipykernel/pylab/backend_inline.py\", line 36, in show\n",
      "    display(figure_manager.canvas.figure)\n",
      "  File \"/home/joan/.virtualenvs/MADM-2017/lib/python3.5/site-packages/IPython/core/display.py\", line 297, in display\n",
      "    format_dict, md_dict = format(obj, include=include, exclude=exclude)\n",
      "  File \"/home/joan/.virtualenvs/MADM-2017/lib/python3.5/site-packages/IPython/core/formatters.py\", line 180, in format\n",
      "    data = formatter(obj)\n",
      "  File \"<decorator-gen-9>\", line 2, in __call__\n",
      "  File \"/home/joan/.virtualenvs/MADM-2017/lib/python3.5/site-packages/IPython/core/formatters.py\", line 224, in catch_format_error\n",
      "    r = method(self, *args, **kwargs)\n",
      "  File \"/home/joan/.virtualenvs/MADM-2017/lib/python3.5/site-packages/IPython/core/formatters.py\", line 341, in __call__\n",
      "    return printer(obj)\n",
      "  File \"/home/joan/.virtualenvs/MADM-2017/lib/python3.5/site-packages/IPython/core/pylabtools.py\", line 238, in <lambda>\n",
      "    png_formatter.for_type(Figure, lambda fig: print_figure(fig, 'png', **kwargs))\n",
      "  File \"/home/joan/.virtualenvs/MADM-2017/lib/python3.5/site-packages/IPython/core/pylabtools.py\", line 122, in print_figure\n",
      "    fig.canvas.print_figure(bytes_io, **kw)\n",
      "  File \"/home/joan/.virtualenvs/MADM-2017/lib/python3.5/site-packages/matplotlib/backend_bases.py\", line 2208, in print_figure\n",
      "    **kwargs)\n",
      "  File \"/home/joan/.virtualenvs/MADM-2017/lib/python3.5/site-packages/matplotlib/backends/backend_agg.py\", line 507, in print_png\n",
      "    FigureCanvasAgg.draw(self)\n",
      "  File \"/home/joan/.virtualenvs/MADM-2017/lib/python3.5/site-packages/matplotlib/backends/backend_agg.py\", line 430, in draw\n",
      "    self.figure.draw(self.renderer)\n",
      "  File \"/home/joan/.virtualenvs/MADM-2017/lib/python3.5/site-packages/matplotlib/artist.py\", line 55, in draw_wrapper\n",
      "    return draw(artist, renderer, *args, **kwargs)\n",
      "  File \"/home/joan/.virtualenvs/MADM-2017/lib/python3.5/site-packages/matplotlib/figure.py\", line 1295, in draw\n",
      "    renderer, self, artists, self.suppressComposite)\n",
      "  File \"/home/joan/.virtualenvs/MADM-2017/lib/python3.5/site-packages/matplotlib/image.py\", line 138, in _draw_list_compositing_images\n",
      "    a.draw(renderer)\n",
      "  File \"/home/joan/.virtualenvs/MADM-2017/lib/python3.5/site-packages/matplotlib/artist.py\", line 55, in draw_wrapper\n",
      "    return draw(artist, renderer, *args, **kwargs)\n",
      "  File \"/home/joan/.virtualenvs/MADM-2017/lib/python3.5/site-packages/matplotlib/axes/_base.py\", line 2399, in draw\n",
      "    mimage._draw_list_compositing_images(renderer, self, artists)\n",
      "  File \"/home/joan/.virtualenvs/MADM-2017/lib/python3.5/site-packages/matplotlib/image.py\", line 138, in _draw_list_compositing_images\n",
      "    a.draw(renderer)\n",
      "  File \"/home/joan/.virtualenvs/MADM-2017/lib/python3.5/site-packages/matplotlib/artist.py\", line 55, in draw_wrapper\n",
      "    return draw(artist, renderer, *args, **kwargs)\n",
      "  File \"/home/joan/.virtualenvs/MADM-2017/lib/python3.5/site-packages/matplotlib/collections.py\", line 845, in draw\n",
      "    Collection.draw(self, renderer)\n",
      "  File \"/home/joan/.virtualenvs/MADM-2017/lib/python3.5/site-packages/matplotlib/artist.py\", line 55, in draw_wrapper\n",
      "    return draw(artist, renderer, *args, **kwargs)\n",
      "  File \"/home/joan/.virtualenvs/MADM-2017/lib/python3.5/site-packages/matplotlib/collections.py\", line 313, in draw\n",
      "    mpath.Path(offsets), transOffset, tuple(facecolors[0]))\n",
      "  File \"/home/joan/.virtualenvs/MADM-2017/lib/python3.5/site-packages/matplotlib/backends/backend_agg.py\", line 117, in draw_markers\n",
      "    return self._renderer.draw_markers(*kl, **kw)\n",
      "KeyboardInterrupt\n",
      "ERROR:tornado.general:Uncaught exception, closing connection.\n",
      "Traceback (most recent call last):\n",
      "  File \"/home/joan/.virtualenvs/MADM-2017/lib/python3.5/site-packages/zmq/eventloop/zmqstream.py\", line 440, in _handle_events\n",
      "    self._handle_recv()\n",
      "  File \"/home/joan/.virtualenvs/MADM-2017/lib/python3.5/site-packages/zmq/eventloop/zmqstream.py\", line 472, in _handle_recv\n",
      "    self._run_callback(callback, msg)\n",
      "  File \"/home/joan/.virtualenvs/MADM-2017/lib/python3.5/site-packages/zmq/eventloop/zmqstream.py\", line 414, in _run_callback\n",
      "    callback(*args, **kwargs)\n",
      "  File \"/home/joan/.virtualenvs/MADM-2017/lib/python3.5/site-packages/tornado/stack_context.py\", line 277, in null_wrapper\n",
      "    return fn(*args, **kwargs)\n",
      "  File \"/home/joan/.virtualenvs/MADM-2017/lib/python3.5/site-packages/ipykernel/kernelbase.py\", line 283, in dispatcher\n",
      "    return self.dispatch_shell(stream, msg)\n",
      "  File \"/home/joan/.virtualenvs/MADM-2017/lib/python3.5/site-packages/ipykernel/kernelbase.py\", line 235, in dispatch_shell\n",
      "    handler(stream, idents, msg)\n",
      "  File \"/home/joan/.virtualenvs/MADM-2017/lib/python3.5/site-packages/ipykernel/kernelbase.py\", line 399, in execute_request\n",
      "    user_expressions, allow_stdin)\n",
      "  File \"/home/joan/.virtualenvs/MADM-2017/lib/python3.5/site-packages/ipykernel/ipkernel.py\", line 196, in do_execute\n",
      "    res = shell.run_cell(code, store_history=store_history, silent=silent)\n",
      "  File \"/home/joan/.virtualenvs/MADM-2017/lib/python3.5/site-packages/ipykernel/zmqshell.py\", line 533, in run_cell\n",
      "    return super(ZMQInteractiveShell, self).run_cell(*args, **kwargs)\n",
      "  File \"/home/joan/.virtualenvs/MADM-2017/lib/python3.5/site-packages/IPython/core/interactiveshell.py\", line 2737, in run_cell\n",
      "    self.events.trigger('post_execute')\n",
      "  File \"/home/joan/.virtualenvs/MADM-2017/lib/python3.5/site-packages/IPython/core/events.py\", line 73, in trigger\n",
      "    func(*args, **kwargs)\n",
      "  File \"/home/joan/.virtualenvs/MADM-2017/lib/python3.5/site-packages/ipykernel/pylab/backend_inline.py\", line 113, in flush_figures\n",
      "    return show(True)\n",
      "  File \"/home/joan/.virtualenvs/MADM-2017/lib/python3.5/site-packages/ipykernel/pylab/backend_inline.py\", line 36, in show\n",
      "    display(figure_manager.canvas.figure)\n",
      "  File \"/home/joan/.virtualenvs/MADM-2017/lib/python3.5/site-packages/IPython/core/display.py\", line 297, in display\n",
      "    format_dict, md_dict = format(obj, include=include, exclude=exclude)\n",
      "  File \"/home/joan/.virtualenvs/MADM-2017/lib/python3.5/site-packages/IPython/core/formatters.py\", line 180, in format\n",
      "    data = formatter(obj)\n",
      "  File \"<decorator-gen-9>\", line 2, in __call__\n",
      "  File \"/home/joan/.virtualenvs/MADM-2017/lib/python3.5/site-packages/IPython/core/formatters.py\", line 224, in catch_format_error\n",
      "    r = method(self, *args, **kwargs)\n",
      "  File \"/home/joan/.virtualenvs/MADM-2017/lib/python3.5/site-packages/IPython/core/formatters.py\", line 341, in __call__\n",
      "    return printer(obj)\n",
      "  File \"/home/joan/.virtualenvs/MADM-2017/lib/python3.5/site-packages/IPython/core/pylabtools.py\", line 238, in <lambda>\n",
      "    png_formatter.for_type(Figure, lambda fig: print_figure(fig, 'png', **kwargs))\n",
      "  File \"/home/joan/.virtualenvs/MADM-2017/lib/python3.5/site-packages/IPython/core/pylabtools.py\", line 122, in print_figure\n",
      "    fig.canvas.print_figure(bytes_io, **kw)\n",
      "  File \"/home/joan/.virtualenvs/MADM-2017/lib/python3.5/site-packages/matplotlib/backend_bases.py\", line 2208, in print_figure\n",
      "    **kwargs)\n",
      "  File \"/home/joan/.virtualenvs/MADM-2017/lib/python3.5/site-packages/matplotlib/backends/backend_agg.py\", line 507, in print_png\n",
      "    FigureCanvasAgg.draw(self)\n",
      "  File \"/home/joan/.virtualenvs/MADM-2017/lib/python3.5/site-packages/matplotlib/backends/backend_agg.py\", line 430, in draw\n",
      "    self.figure.draw(self.renderer)\n",
      "  File \"/home/joan/.virtualenvs/MADM-2017/lib/python3.5/site-packages/matplotlib/artist.py\", line 55, in draw_wrapper\n",
      "    return draw(artist, renderer, *args, **kwargs)\n",
      "  File \"/home/joan/.virtualenvs/MADM-2017/lib/python3.5/site-packages/matplotlib/figure.py\", line 1295, in draw\n",
      "    renderer, self, artists, self.suppressComposite)\n",
      "  File \"/home/joan/.virtualenvs/MADM-2017/lib/python3.5/site-packages/matplotlib/image.py\", line 138, in _draw_list_compositing_images\n",
      "    a.draw(renderer)\n",
      "  File \"/home/joan/.virtualenvs/MADM-2017/lib/python3.5/site-packages/matplotlib/artist.py\", line 55, in draw_wrapper\n",
      "    return draw(artist, renderer, *args, **kwargs)\n",
      "  File \"/home/joan/.virtualenvs/MADM-2017/lib/python3.5/site-packages/matplotlib/axes/_base.py\", line 2399, in draw\n",
      "    mimage._draw_list_compositing_images(renderer, self, artists)\n",
      "  File \"/home/joan/.virtualenvs/MADM-2017/lib/python3.5/site-packages/matplotlib/image.py\", line 138, in _draw_list_compositing_images\n",
      "    a.draw(renderer)\n",
      "  File \"/home/joan/.virtualenvs/MADM-2017/lib/python3.5/site-packages/matplotlib/artist.py\", line 55, in draw_wrapper\n",
      "    return draw(artist, renderer, *args, **kwargs)\n",
      "  File \"/home/joan/.virtualenvs/MADM-2017/lib/python3.5/site-packages/matplotlib/collections.py\", line 845, in draw\n",
      "    Collection.draw(self, renderer)\n",
      "  File \"/home/joan/.virtualenvs/MADM-2017/lib/python3.5/site-packages/matplotlib/artist.py\", line 55, in draw_wrapper\n",
      "    return draw(artist, renderer, *args, **kwargs)\n",
      "  File \"/home/joan/.virtualenvs/MADM-2017/lib/python3.5/site-packages/matplotlib/collections.py\", line 313, in draw\n",
      "    mpath.Path(offsets), transOffset, tuple(facecolors[0]))\n",
      "  File \"/home/joan/.virtualenvs/MADM-2017/lib/python3.5/site-packages/matplotlib/backends/backend_agg.py\", line 117, in draw_markers\n",
      "    return self._renderer.draw_markers(*kl, **kw)\n",
      "KeyboardInterrupt\n"
     ]
    }
   ],
   "source": [
    "sns.pairplot(df)"
   ]
  },
  {
   "cell_type": "markdown",
   "metadata": {},
   "source": [
    "# Separación de datos de entrenamiento y test"
   ]
  },
  {
   "cell_type": "code",
   "execution_count": 9,
   "metadata": {},
   "outputs": [],
   "source": [
    "from sklearn.model_selection import train_test_split"
   ]
  },
  {
   "cell_type": "code",
   "execution_count": 10,
   "metadata": {},
   "outputs": [],
   "source": [
    "df_y = df['FTHG']\n",
    "df_X = df[features]\n",
    "def df_X['FTHG']\n",
    "\n",
    "X_train, X_test, y_train, y_test = train_test_split(df_X, df_y,\n",
    "                                                    test_size = 0.25, random_state = 42)"
   ]
  },
  {
   "cell_type": "code",
   "execution_count": 11,
   "metadata": {},
   "outputs": [
    {
     "name": "stdout",
     "output_type": "stream",
     "text": [
      "X_train: (10273, 42)\n",
      "X_test:  (3425, 42)\n",
      "y_train: (10273,)\n",
      "y_test:  (3425,)\n"
     ]
    }
   ],
   "source": [
    "print(\"X_train: \" + str(X_train.shape))\n",
    "print(\"X_test:  \" + str(X_test.shape))\n",
    "print(\"y_train: \" + str(y_train.shape))\n",
    "print(\"y_test:  \" + str(y_test.shape))"
   ]
  },
  {
   "cell_type": "markdown",
   "metadata": {},
   "source": [
    "# Regresión lineal básica"
   ]
  },
  {
   "cell_type": "code",
   "execution_count": 12,
   "metadata": {},
   "outputs": [],
   "source": [
    "from sklearn.linear_model import LinearRegression"
   ]
  },
  {
   "cell_type": "code",
   "execution_count": 13,
   "metadata": {},
   "outputs": [],
   "source": [
    "reg_LR = LinearRegression()\n",
    "reg_LR_fit = reg_LR.fit(X_train, y_train)\n",
    "y_pred_LR = reg_LR.predict(X_test)"
   ]
  },
  {
   "cell_type": "code",
   "execution_count": 14,
   "metadata": {},
   "outputs": [
    {
     "name": "stdout",
     "output_type": "stream",
     "text": [
      "Intercept:  3.11112311728\n",
      "Coefficients:\n"
     ]
    },
    {
     "data": {
      "text/plain": [
       "[('B365A', 0.031670738323746436),\n",
       " ('B365D', -0.049784078437583978),\n",
       " ('B365H', 0.073971994087412923),\n",
       " ('BWA', 0.011224730455574965),\n",
       " ('BWD', -0.085137348631821042),\n",
       " ('BWH', -0.011695122772014089),\n",
       " ('Bb1X2', 0.0055069646601889214),\n",
       " ('BbAH', -0.0040961418619074206),\n",
       " ('BbAHh', -0.4607236135165011),\n",
       " ('BbAv<2.5', 0.039697211002356569),\n",
       " ('BbAv>2.5', -0.24877511138041303),\n",
       " ('BbAvA', 0.038632898375090166),\n",
       " ('BbAvAHA', -0.05392665151873282),\n",
       " ('BbAvAHH', -0.63253087862258373),\n",
       " ('BbAvD', 0.24489446377255952),\n",
       " ('BbAvH', -0.13948520959354277),\n",
       " ('BbMx<2.5', 0.095837628073203979),\n",
       " ('BbMx>2.5', -0.21131030975744602),\n",
       " ('BbMxA', -0.042884980539330299),\n",
       " ('BbMxAHA', -0.060852197330125479),\n",
       " ('BbMxAHH', 0.24479947499839649),\n",
       " ('BbMxD', 0.0082798790811371512),\n",
       " ('BbMxH', 0.023746124900323781),\n",
       " ('BbOU', -0.0056890791845826977),\n",
       " ('IWA', -0.052082209452988082),\n",
       " ('IWD', 0.033652836559028676),\n",
       " ('IWH', -0.020653586775938714),\n",
       " ('LBA', 0.01085084404532162),\n",
       " ('LBD', 0.012438078227988078),\n",
       " ('LBH', 0.016568535478501081),\n",
       " ('PSA', -0.0088275639071513073),\n",
       " ('PSCA', -0.013837324711440334),\n",
       " ('PSCD', 0.082951156880965285),\n",
       " ('PSCH', -0.0626180270465342),\n",
       " ('PSD', -0.029646474153008605),\n",
       " ('PSH', 0.039906123053537981),\n",
       " ('VCA', 0.032416832549909527),\n",
       " ('VCD', -0.076626227726305868),\n",
       " ('VCH', 0.0096920518392685246),\n",
       " ('WHA', -0.00049594454427998036),\n",
       " ('WHD', -0.14466030490756282),\n",
       " ('WHH', 0.03161214589043207)]"
      ]
     },
     "execution_count": 14,
     "metadata": {},
     "output_type": "execute_result"
    }
   ],
   "source": [
    "print('Intercept: ', reg_LR.intercept_)\n",
    "print('Coefficients:')\n",
    "list(zip(df_X.columns, reg_LR.coef_))"
   ]
  },
  {
   "cell_type": "code",
   "execution_count": 15,
   "metadata": {},
   "outputs": [
    {
     "name": "stdout",
     "output_type": "stream",
     "text": [
      "Mean squared error: 1.41\n",
      "Variance score: 0.18\n"
     ]
    }
   ],
   "source": [
    "print(\"Mean squared error: %.2f\" % mean_squared_error(y_test, y_pred_LR))\n",
    "print('Variance score: %.2f' % r2_score(y_test, y_pred_LR))"
   ]
  },
  {
   "cell_type": "markdown",
   "metadata": {},
   "source": [
    "# Lasso"
   ]
  },
  {
   "cell_type": "code",
   "execution_count": 25,
   "metadata": {},
   "outputs": [],
   "source": [
    "from sklearn.linear_model import Lasso, LassoCV"
   ]
  },
  {
   "cell_type": "markdown",
   "metadata": {},
   "source": [
    "### Lasso CV para conocer alpha"
   ]
  },
  {
   "cell_type": "code",
   "execution_count": 17,
   "metadata": {},
   "outputs": [
    {
     "data": {
      "text/plain": [
       "array([  1.00000000e-04,   1.32035178e-04,   1.74332882e-04,\n",
       "         2.30180731e-04,   3.03919538e-04,   4.01280703e-04,\n",
       "         5.29831691e-04,   6.99564216e-04,   9.23670857e-04,\n",
       "         1.21957046e-03,   1.61026203e-03,   2.12611233e-03,\n",
       "         2.80721620e-03,   3.70651291e-03,   4.89390092e-03,\n",
       "         6.46167079e-03,   8.53167852e-03,   1.12648169e-02,\n",
       "         1.48735211e-02,   1.96382800e-02,   2.59294380e-02,\n",
       "         3.42359796e-02,   4.52035366e-02,   5.96845700e-02,\n",
       "         7.88046282e-02,   1.04049831e-01,   1.37382380e-01,\n",
       "         1.81393069e-01,   2.39502662e-01,   3.16227766e-01])"
      ]
     },
     "execution_count": 17,
     "metadata": {},
     "output_type": "execute_result"
    }
   ],
   "source": [
    "alphas = np.logspace(-4, -0.5, 30)\n",
    "alphas"
   ]
  },
  {
   "cell_type": "code",
   "execution_count": 18,
   "metadata": {},
   "outputs": [
    {
     "name": "stdout",
     "output_type": "stream",
     "text": [
      "Score: \n",
      " 0.180921763229\n",
      "Alpha: \n",
      " 0.0001\n",
      "CV: \n",
      " [  0.00000000e+00   0.00000000e+00  -0.00000000e+00   0.00000000e+00\n",
      "   0.00000000e+00  -5.16012422e-03   0.00000000e+00  -0.00000000e+00\n",
      "  -4.48695354e-01   1.25251212e-01  -3.41215978e-01   0.00000000e+00\n",
      "   2.14981911e-01  -2.66238277e-02   0.00000000e+00  -1.06165833e-02\n",
      "   4.19967282e-02  -4.22869927e-02   0.00000000e+00   0.00000000e+00\n",
      "  -0.00000000e+00   0.00000000e+00  -0.00000000e+00  -0.00000000e+00\n",
      "   0.00000000e+00  -0.00000000e+00  -3.71829155e-03   0.00000000e+00\n",
      "   0.00000000e+00  -2.66108516e-04   0.00000000e+00   0.00000000e+00\n",
      "   0.00000000e+00  -0.00000000e+00   0.00000000e+00  -0.00000000e+00\n",
      "   1.15484143e-02   0.00000000e+00  -0.00000000e+00   0.00000000e+00\n",
      "   0.00000000e+00  -0.00000000e+00]\n"
     ]
    }
   ],
   "source": [
    "lasso_CV = LassoCV(cv=10, n_jobs=-1, normalize=True, alphas=alphas)\n",
    "lasso_CV.fit(df_X, df_y)\n",
    "\n",
    "best_alpha_lasso_CV = lasso_CV.alpha_\n",
    "\n",
    "print('Score: \\n', lasso_CV.score(df_X, df_y))\n",
    "print('Alpha: \\n', lasso_CV.alpha_)\n",
    "print('CV: \\n', lasso_CV.coef_)"
   ]
  },
  {
   "cell_type": "code",
   "execution_count": 19,
   "metadata": {},
   "outputs": [
    {
     "name": "stdout",
     "output_type": "stream",
     "text": [
      "Mean squared error: 1.41\n",
      "Variance score: 0.18\n"
     ]
    }
   ],
   "source": [
    "lasso = Lasso(normalize=True, alpha=best_alpha_lasso_CV)\n",
    "lasso.fit(X_train, y_train)\n",
    "y_pred_lasso = lasso.predict(X_test)\n",
    "\n",
    "print(\"Mean squared error: %.2f\" % mean_squared_error(y_test, y_pred_lasso))\n",
    "print('Variance score: %.2f' % r2_score(y_test, y_pred_lasso))"
   ]
  },
  {
   "cell_type": "markdown",
   "metadata": {},
   "source": [
    "### Lasso con cross_val_predict"
   ]
  },
  {
   "cell_type": "code",
   "execution_count": 27,
   "metadata": {},
   "outputs": [
    {
     "name": "stdout",
     "output_type": "stream",
     "text": [
      "Mean squared error: 1.40\n",
      "Variance score: 0.18\n"
     ]
    }
   ],
   "source": [
    "cv_outer = KFold(n_splits = 10)\n",
    "\n",
    "lasso = LassoCV(cv = 10, n_jobs = -1, normalize=True, alphas=alphas)\n",
    "# lasso = Lasso(normalize=True)\n",
    "\n",
    "# scores = cross_val_score(lasso, df_X, df_y, cv=cv_outer)\n",
    "\n",
    "predicted = cross_val_predict(lasso, df_X, df_y, cv=cv_outer)\n",
    "\n",
    "print(\"Mean squared error: %.2f\" % mean_squared_error(df_y, predicted))\n",
    "print('Variance score: %.2f' % r2_score(df_y, predicted))"
   ]
  },
  {
   "cell_type": "markdown",
   "metadata": {},
   "source": [
    "### Lasso con GridSearchCV"
   ]
  },
  {
   "cell_type": "code",
   "execution_count": 24,
   "metadata": {},
   "outputs": [
    {
     "name": "stdout",
     "output_type": "stream",
     "text": [
      "Best Alpha: \n",
      " 0.0001\n"
     ]
    }
   ],
   "source": [
    "lasso = Lasso(normalize=True)\n",
    "\n",
    "tuned_parameters = [{'alpha': alphas}]\n",
    "n_folds = 10\n",
    "\n",
    "clf = GridSearchCV(lasso, tuned_parameters, cv=n_folds)\n",
    "clf.fit(df_X, df_y)\n",
    "\n",
    "best_alpha_lasso_GS = clf.best_params_['alpha']\n",
    "print('Best Alpha: \\n', best_alpha_lasso_GS)"
   ]
  },
  {
   "cell_type": "code",
   "execution_count": 22,
   "metadata": {},
   "outputs": [
    {
     "name": "stdout",
     "output_type": "stream",
     "text": [
      "Mean squared error: 1.41\n",
      "Variance score: 0.18\n"
     ]
    }
   ],
   "source": [
    "lasso = Lasso(normalize=True, alpha=best_alpha_lasso_GS)\n",
    "lasso.fit(X_train, y_train)\n",
    "y_pred_lasso = lasso.predict(X_test)\n",
    "\n",
    "print(\"Mean squared error: %.2f\" % mean_squared_error(y_test, y_pred_lasso))\n",
    "print('Variance score: %.2f' % r2_score(y_test, y_pred_lasso))"
   ]
  },
  {
   "cell_type": "code",
   "execution_count": 23,
   "metadata": {},
   "outputs": [
    {
     "data": {
      "text/plain": [
       "[('B365A', 0.0069996830875549611),\n",
       " ('B365D', 0.0),\n",
       " ('B365H', -0.0),\n",
       " ('BWA', 0.0),\n",
       " ('BWD', 0.0),\n",
       " ('BWH', -0.0059103757251269713),\n",
       " ('Bb1X2', 0.0),\n",
       " ('BbAH', -0.0),\n",
       " ('BbAHh', -0.47454099318586351),\n",
       " ('BbAv<2.5', 0.0),\n",
       " ('BbAv>2.5', -0.25905224282717404),\n",
       " ('BbAvA', 0.0),\n",
       " ('BbAvAHA', 0.0),\n",
       " ('BbAvAHH', -0.2020614984191933),\n",
       " ('BbAvD', 0.0),\n",
       " ('BbAvH', -0.0),\n",
       " ('BbMx<2.5', 0.10996842721557629),\n",
       " ('BbMx>2.5', -0.15278848505694911),\n",
       " ('BbMxA', 0.0),\n",
       " ('BbMxAHA', 0.0),\n",
       " ('BbMxAHH', -0.0),\n",
       " ('BbMxD', 0.0),\n",
       " ('BbMxH', -0.0),\n",
       " ('BbOU', -6.5611939629557815e-05),\n",
       " ('IWA', 0.0),\n",
       " ('IWD', 0.0),\n",
       " ('IWH', -0.0),\n",
       " ('LBA', 0.0),\n",
       " ('LBD', 0.0),\n",
       " ('LBH', -0.0),\n",
       " ('PSA', 0.0),\n",
       " ('PSCA', 0.0),\n",
       " ('PSCD', 0.0),\n",
       " ('PSCH', -0.007358822088053666),\n",
       " ('PSD', 0.0),\n",
       " ('PSH', -0.0),\n",
       " ('VCA', 0.0044646494970505208),\n",
       " ('VCD', 0.0),\n",
       " ('VCH', -0.0),\n",
       " ('WHA', 0.0),\n",
       " ('WHD', -0.0),\n",
       " ('WHH', -0.0)]"
      ]
     },
     "execution_count": 23,
     "metadata": {},
     "output_type": "execute_result"
    }
   ],
   "source": [
    "list(zip(df_X.columns, lasso.coef_))"
   ]
  },
  {
   "cell_type": "markdown",
   "metadata": {},
   "source": [
    "# Árbol de decisión"
   ]
  },
  {
   "cell_type": "code",
   "execution_count": 28,
   "metadata": {},
   "outputs": [],
   "source": [
    "from sklearn.tree import DecisionTreeRegressor"
   ]
  },
  {
   "cell_type": "markdown",
   "metadata": {},
   "source": [
    "### Árbol de decisión básico"
   ]
  },
  {
   "cell_type": "code",
   "execution_count": 30,
   "metadata": {},
   "outputs": [
    {
     "name": "stdout",
     "output_type": "stream",
     "text": [
      "Mean squared error: 2.89\n",
      "Variance score: -0.68\n"
     ]
    }
   ],
   "source": [
    "reg_DT = DecisionTreeRegressor()\n",
    "reg_DT.fit(X_train, y_train)\n",
    "y_pred_reg_DT = reg_DT.predict(X_test)\n",
    "\n",
    "print(\"Mean squared error: %.2f\" % mean_squared_error(y_test, y_pred_reg_DT))\n",
    "print('Variance score: %.2f' % r2_score(y_test, y_pred_reg_DT))"
   ]
  },
  {
   "cell_type": "markdown",
   "metadata": {},
   "source": [
    "### Árbol de decisión con kfold"
   ]
  },
  {
   "cell_type": "code",
   "execution_count": 32,
   "metadata": {},
   "outputs": [
    {
     "name": "stdout",
     "output_type": "stream",
     "text": [
      "Mean squared error: 2.90\n",
      "Variance score: -0.70\n"
     ]
    }
   ],
   "source": [
    "kfold = KFold(n_splits=10)\n",
    "\n",
    "reg_DT_kfold = DecisionTreeRegressor()\n",
    "y_pred_reg_DT_kfold = cross_val_predict(reg_DT_kfold, X_train, y_train, cv=kfold)\n",
    "\n",
    "print(\"Mean squared error: %.2f\" % mean_squared_error(y_train, y_pred_reg_DT_kfold))\n",
    "print('Variance score: %.2f' % r2_score(y_train, y_pred_reg_DT_kfold))"
   ]
  },
  {
   "cell_type": "markdown",
   "metadata": {},
   "source": [
    "### Árbol de decisión con GridSearch"
   ]
  },
  {
   "cell_type": "code",
   "execution_count": 33,
   "metadata": {},
   "outputs": [
    {
     "name": "stdout",
     "output_type": "stream",
     "text": [
      "{'max_depth': 4, 'min_samples_split': 12, 'min_samples_leaf': 20}\n"
     ]
    }
   ],
   "source": [
    "params = {'max_depth': range(1, 30),\n",
    "          'min_samples_split': range(2, 30, 5),\n",
    "          'min_samples_leaf': range(5, 40, 5)}\n",
    "\n",
    "reg_DT_gscv = DecisionTreeRegressor()\n",
    "gscv_reg_DT = GridSearchCV(estimator=reg_DT_gscv, param_grid=params, cv=5, n_jobs=-1)\n",
    "\n",
    "gscv_reg_DT.fit(df_X, df_y)\n",
    "print(gscv_reg_DT.best_params_)"
   ]
  },
  {
   "cell_type": "code",
   "execution_count": 36,
   "metadata": {},
   "outputs": [
    {
     "name": "stdout",
     "output_type": "stream",
     "text": [
      "Mean squared error: 1.43\n",
      "Variance score: 0.17\n"
     ]
    }
   ],
   "source": [
    "reg_DT_tunned = DecisionTreeRegressor(min_samples_split=12, min_samples_leaf=20, max_depth=4)\n",
    "reg_DT_tunned.fit(X_train, y_train)\n",
    "y_pred_reg_DT_tunned = reg_DT_tunned.predict(X_test)\n",
    "\n",
    "print(\"Mean squared error: %.2f\" % mean_squared_error(y_test, y_pred_reg_DT_tunned))\n",
    "print('Variance score: %.2f' % r2_score(y_test, y_pred_reg_DT_tunned))"
   ]
  }
 ],
 "metadata": {
  "kernelspec": {
   "display_name": "Python 3",
   "language": "python",
   "name": "python3"
  },
  "language_info": {
   "codemirror_mode": {
    "name": "ipython",
    "version": 3
   },
   "file_extension": ".py",
   "mimetype": "text/x-python",
   "name": "python",
   "nbconvert_exporter": "python",
   "pygments_lexer": "ipython3",
   "version": "3.5.2"
  }
 },
 "nbformat": 4,
 "nbformat_minor": 2
}
