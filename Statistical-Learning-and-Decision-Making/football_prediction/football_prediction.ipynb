{
 "cells": [
  {
   "cell_type": "code",
   "execution_count": 46,
   "metadata": {},
   "outputs": [],
   "source": [
    "import os\n",
    "import glob\n",
    "\n",
    "import pandas as pd\n",
    "import numpy as np\n",
    "\n",
    "%matplotlib inline\n",
    "import matplotlib.pyplot as plt\n",
    "plt.rcParams['figure.figsize'] = (12, 8)\n",
    "\n",
    "import seaborn as sns"
   ]
  },
  {
   "cell_type": "code",
   "execution_count": 2,
   "metadata": {},
   "outputs": [
    {
     "data": {
      "text/html": [
       "<div>\n",
       "<style scoped>\n",
       "    .dataframe tbody tr th:only-of-type {\n",
       "        vertical-align: middle;\n",
       "    }\n",
       "\n",
       "    .dataframe tbody tr th {\n",
       "        vertical-align: top;\n",
       "    }\n",
       "\n",
       "    .dataframe thead th {\n",
       "        text-align: right;\n",
       "    }\n",
       "</style>\n",
       "<table border=\"1\" class=\"dataframe\">\n",
       "  <thead>\n",
       "    <tr style=\"text-align: right;\">\n",
       "      <th></th>\n",
       "      <th>AC</th>\n",
       "      <th>AF</th>\n",
       "      <th>AR</th>\n",
       "      <th>AS</th>\n",
       "      <th>AST</th>\n",
       "      <th>AY</th>\n",
       "      <th>AwayTeam</th>\n",
       "      <th>B365A</th>\n",
       "      <th>B365D</th>\n",
       "      <th>B365H</th>\n",
       "      <th>...</th>\n",
       "      <th>SBH</th>\n",
       "      <th>SJA</th>\n",
       "      <th>SJD</th>\n",
       "      <th>SJH</th>\n",
       "      <th>VCA</th>\n",
       "      <th>VCD</th>\n",
       "      <th>VCH</th>\n",
       "      <th>WHA</th>\n",
       "      <th>WHD</th>\n",
       "      <th>WHH</th>\n",
       "    </tr>\n",
       "  </thead>\n",
       "  <tbody>\n",
       "    <tr>\n",
       "      <th>0</th>\n",
       "      <td>2</td>\n",
       "      <td>18</td>\n",
       "      <td>0</td>\n",
       "      <td>6</td>\n",
       "      <td>3</td>\n",
       "      <td>1</td>\n",
       "      <td>Alaves</td>\n",
       "      <td>4.10</td>\n",
       "      <td>3.20</td>\n",
       "      <td>2.05</td>\n",
       "      <td>...</td>\n",
       "      <td>NaN</td>\n",
       "      <td>NaN</td>\n",
       "      <td>NaN</td>\n",
       "      <td>NaN</td>\n",
       "      <td>4.40</td>\n",
       "      <td>3.2</td>\n",
       "      <td>2.05</td>\n",
       "      <td>4.00</td>\n",
       "      <td>3.10</td>\n",
       "      <td>2.05</td>\n",
       "    </tr>\n",
       "    <tr>\n",
       "      <th>1</th>\n",
       "      <td>2</td>\n",
       "      <td>13</td>\n",
       "      <td>1</td>\n",
       "      <td>5</td>\n",
       "      <td>4</td>\n",
       "      <td>3</td>\n",
       "      <td>Las Palmas</td>\n",
       "      <td>4.50</td>\n",
       "      <td>3.80</td>\n",
       "      <td>1.75</td>\n",
       "      <td>...</td>\n",
       "      <td>NaN</td>\n",
       "      <td>NaN</td>\n",
       "      <td>NaN</td>\n",
       "      <td>NaN</td>\n",
       "      <td>4.60</td>\n",
       "      <td>4.0</td>\n",
       "      <td>1.80</td>\n",
       "      <td>4.20</td>\n",
       "      <td>3.75</td>\n",
       "      <td>1.80</td>\n",
       "    </tr>\n",
       "    <tr>\n",
       "      <th>2</th>\n",
       "      <td>4</td>\n",
       "      <td>11</td>\n",
       "      <td>0</td>\n",
       "      <td>13</td>\n",
       "      <td>6</td>\n",
       "      <td>1</td>\n",
       "      <td>Sociedad</td>\n",
       "      <td>3.20</td>\n",
       "      <td>3.25</td>\n",
       "      <td>2.38</td>\n",
       "      <td>...</td>\n",
       "      <td>NaN</td>\n",
       "      <td>NaN</td>\n",
       "      <td>NaN</td>\n",
       "      <td>NaN</td>\n",
       "      <td>3.13</td>\n",
       "      <td>3.4</td>\n",
       "      <td>2.40</td>\n",
       "      <td>2.90</td>\n",
       "      <td>3.40</td>\n",
       "      <td>2.40</td>\n",
       "    </tr>\n",
       "    <tr>\n",
       "      <th>3</th>\n",
       "      <td>0</td>\n",
       "      <td>15</td>\n",
       "      <td>1</td>\n",
       "      <td>9</td>\n",
       "      <td>3</td>\n",
       "      <td>4</td>\n",
       "      <td>Ath Madrid</td>\n",
       "      <td>1.45</td>\n",
       "      <td>4.33</td>\n",
       "      <td>8.00</td>\n",
       "      <td>...</td>\n",
       "      <td>NaN</td>\n",
       "      <td>NaN</td>\n",
       "      <td>NaN</td>\n",
       "      <td>NaN</td>\n",
       "      <td>1.50</td>\n",
       "      <td>4.3</td>\n",
       "      <td>7.50</td>\n",
       "      <td>1.44</td>\n",
       "      <td>4.20</td>\n",
       "      <td>8.00</td>\n",
       "    </tr>\n",
       "    <tr>\n",
       "      <th>4</th>\n",
       "      <td>3</td>\n",
       "      <td>12</td>\n",
       "      <td>0</td>\n",
       "      <td>9</td>\n",
       "      <td>6</td>\n",
       "      <td>4</td>\n",
       "      <td>Espanol</td>\n",
       "      <td>5.50</td>\n",
       "      <td>4.00</td>\n",
       "      <td>1.62</td>\n",
       "      <td>...</td>\n",
       "      <td>NaN</td>\n",
       "      <td>NaN</td>\n",
       "      <td>NaN</td>\n",
       "      <td>NaN</td>\n",
       "      <td>5.75</td>\n",
       "      <td>4.0</td>\n",
       "      <td>1.65</td>\n",
       "      <td>5.50</td>\n",
       "      <td>3.60</td>\n",
       "      <td>1.67</td>\n",
       "    </tr>\n",
       "  </tbody>\n",
       "</table>\n",
       "<p>5 rows × 76 columns</p>\n",
       "</div>"
      ],
      "text/plain": [
       "   AC  AF  AR  AS  AST  AY    AwayTeam  B365A  B365D  B365H  ...   SBH  SJA  \\\n",
       "0   2  18   0   6    3   1      Alaves   4.10   3.20   2.05  ...   NaN  NaN   \n",
       "1   2  13   1   5    4   3  Las Palmas   4.50   3.80   1.75  ...   NaN  NaN   \n",
       "2   4  11   0  13    6   1    Sociedad   3.20   3.25   2.38  ...   NaN  NaN   \n",
       "3   0  15   1   9    3   4  Ath Madrid   1.45   4.33   8.00  ...   NaN  NaN   \n",
       "4   3  12   0   9    6   4     Espanol   5.50   4.00   1.62  ...   NaN  NaN   \n",
       "\n",
       "   SJD  SJH   VCA  VCD   VCH   WHA   WHD   WHH  \n",
       "0  NaN  NaN  4.40  3.2  2.05  4.00  3.10  2.05  \n",
       "1  NaN  NaN  4.60  4.0  1.80  4.20  3.75  1.80  \n",
       "2  NaN  NaN  3.13  3.4  2.40  2.90  3.40  2.40  \n",
       "3  NaN  NaN  1.50  4.3  7.50  1.44  4.20  8.00  \n",
       "4  NaN  NaN  5.75  4.0  1.65  5.50  3.60  1.67  \n",
       "\n",
       "[5 rows x 76 columns]"
      ]
     },
     "execution_count": 2,
     "metadata": {},
     "output_type": "execute_result"
    }
   ],
   "source": [
    "path = 'data/'\n",
    "csv_files = glob.glob(os.path.join(path, \"*.csv\"))\n",
    "\n",
    "df_from_file = (pd.read_csv(f) for f in csv_files)\n",
    "df_football = pd.concat(df_from_file, ignore_index = True)\n",
    "\n",
    "df_football.Date = pd.to_datetime(df_football.Date)\n",
    "# df_football = df_football.set_index('Date')\n",
    "\n",
    "df_football.head()"
   ]
  },
  {
   "cell_type": "code",
   "execution_count": 3,
   "metadata": {},
   "outputs": [
    {
     "data": {
      "text/plain": [
       "(2459, 76)"
      ]
     },
     "execution_count": 3,
     "metadata": {},
     "output_type": "execute_result"
    }
   ],
   "source": [
    "df_football.shape"
   ]
  },
  {
   "cell_type": "code",
   "execution_count": 4,
   "metadata": {},
   "outputs": [
    {
     "data": {
      "text/html": [
       "<div>\n",
       "<style scoped>\n",
       "    .dataframe tbody tr th:only-of-type {\n",
       "        vertical-align: middle;\n",
       "    }\n",
       "\n",
       "    .dataframe tbody tr th {\n",
       "        vertical-align: top;\n",
       "    }\n",
       "\n",
       "    .dataframe thead th {\n",
       "        text-align: right;\n",
       "    }\n",
       "</style>\n",
       "<table border=\"1\" class=\"dataframe\">\n",
       "  <thead>\n",
       "    <tr style=\"text-align: right;\">\n",
       "      <th></th>\n",
       "      <th>AC</th>\n",
       "      <th>AF</th>\n",
       "      <th>AR</th>\n",
       "      <th>AS</th>\n",
       "      <th>AST</th>\n",
       "      <th>AY</th>\n",
       "      <th>AwayTeam</th>\n",
       "      <th>B365A</th>\n",
       "      <th>B365D</th>\n",
       "      <th>B365H</th>\n",
       "      <th>...</th>\n",
       "      <th>VCH</th>\n",
       "      <th>WHA</th>\n",
       "      <th>WHD</th>\n",
       "      <th>WHH</th>\n",
       "      <th>FTR_A</th>\n",
       "      <th>FTR_D</th>\n",
       "      <th>FTR_H</th>\n",
       "      <th>HTR_A</th>\n",
       "      <th>HTR_D</th>\n",
       "      <th>HTR_H</th>\n",
       "    </tr>\n",
       "  </thead>\n",
       "  <tbody>\n",
       "    <tr>\n",
       "      <th>0</th>\n",
       "      <td>2</td>\n",
       "      <td>18</td>\n",
       "      <td>0</td>\n",
       "      <td>6</td>\n",
       "      <td>3</td>\n",
       "      <td>1</td>\n",
       "      <td>Alaves</td>\n",
       "      <td>4.10</td>\n",
       "      <td>3.20</td>\n",
       "      <td>2.05</td>\n",
       "      <td>...</td>\n",
       "      <td>2.05</td>\n",
       "      <td>4.00</td>\n",
       "      <td>3.10</td>\n",
       "      <td>2.05</td>\n",
       "      <td>0</td>\n",
       "      <td>0</td>\n",
       "      <td>1</td>\n",
       "      <td>0</td>\n",
       "      <td>0</td>\n",
       "      <td>1</td>\n",
       "    </tr>\n",
       "    <tr>\n",
       "      <th>1</th>\n",
       "      <td>2</td>\n",
       "      <td>13</td>\n",
       "      <td>1</td>\n",
       "      <td>5</td>\n",
       "      <td>4</td>\n",
       "      <td>3</td>\n",
       "      <td>Las Palmas</td>\n",
       "      <td>4.50</td>\n",
       "      <td>3.80</td>\n",
       "      <td>1.75</td>\n",
       "      <td>...</td>\n",
       "      <td>1.80</td>\n",
       "      <td>4.20</td>\n",
       "      <td>3.75</td>\n",
       "      <td>1.80</td>\n",
       "      <td>0</td>\n",
       "      <td>0</td>\n",
       "      <td>1</td>\n",
       "      <td>0</td>\n",
       "      <td>0</td>\n",
       "      <td>1</td>\n",
       "    </tr>\n",
       "    <tr>\n",
       "      <th>2</th>\n",
       "      <td>4</td>\n",
       "      <td>11</td>\n",
       "      <td>0</td>\n",
       "      <td>13</td>\n",
       "      <td>6</td>\n",
       "      <td>1</td>\n",
       "      <td>Sociedad</td>\n",
       "      <td>3.20</td>\n",
       "      <td>3.25</td>\n",
       "      <td>2.38</td>\n",
       "      <td>...</td>\n",
       "      <td>2.40</td>\n",
       "      <td>2.90</td>\n",
       "      <td>3.40</td>\n",
       "      <td>2.40</td>\n",
       "      <td>1</td>\n",
       "      <td>0</td>\n",
       "      <td>0</td>\n",
       "      <td>0</td>\n",
       "      <td>1</td>\n",
       "      <td>0</td>\n",
       "    </tr>\n",
       "    <tr>\n",
       "      <th>3</th>\n",
       "      <td>0</td>\n",
       "      <td>15</td>\n",
       "      <td>1</td>\n",
       "      <td>9</td>\n",
       "      <td>3</td>\n",
       "      <td>4</td>\n",
       "      <td>Ath Madrid</td>\n",
       "      <td>1.45</td>\n",
       "      <td>4.33</td>\n",
       "      <td>8.00</td>\n",
       "      <td>...</td>\n",
       "      <td>7.50</td>\n",
       "      <td>1.44</td>\n",
       "      <td>4.20</td>\n",
       "      <td>8.00</td>\n",
       "      <td>0</td>\n",
       "      <td>1</td>\n",
       "      <td>0</td>\n",
       "      <td>0</td>\n",
       "      <td>0</td>\n",
       "      <td>1</td>\n",
       "    </tr>\n",
       "    <tr>\n",
       "      <th>4</th>\n",
       "      <td>3</td>\n",
       "      <td>12</td>\n",
       "      <td>0</td>\n",
       "      <td>9</td>\n",
       "      <td>6</td>\n",
       "      <td>4</td>\n",
       "      <td>Espanol</td>\n",
       "      <td>5.50</td>\n",
       "      <td>4.00</td>\n",
       "      <td>1.62</td>\n",
       "      <td>...</td>\n",
       "      <td>1.65</td>\n",
       "      <td>5.50</td>\n",
       "      <td>3.60</td>\n",
       "      <td>1.67</td>\n",
       "      <td>0</td>\n",
       "      <td>1</td>\n",
       "      <td>0</td>\n",
       "      <td>0</td>\n",
       "      <td>1</td>\n",
       "      <td>0</td>\n",
       "    </tr>\n",
       "  </tbody>\n",
       "</table>\n",
       "<p>5 rows × 82 columns</p>\n",
       "</div>"
      ],
      "text/plain": [
       "   AC  AF  AR  AS  AST  AY    AwayTeam  B365A  B365D  B365H  ...     VCH  \\\n",
       "0   2  18   0   6    3   1      Alaves   4.10   3.20   2.05  ...    2.05   \n",
       "1   2  13   1   5    4   3  Las Palmas   4.50   3.80   1.75  ...    1.80   \n",
       "2   4  11   0  13    6   1    Sociedad   3.20   3.25   2.38  ...    2.40   \n",
       "3   0  15   1   9    3   4  Ath Madrid   1.45   4.33   8.00  ...    7.50   \n",
       "4   3  12   0   9    6   4     Espanol   5.50   4.00   1.62  ...    1.65   \n",
       "\n",
       "    WHA   WHD   WHH  FTR_A  FTR_D  FTR_H  HTR_A  HTR_D  HTR_H  \n",
       "0  4.00  3.10  2.05      0      0      1      0      0      1  \n",
       "1  4.20  3.75  1.80      0      0      1      0      0      1  \n",
       "2  2.90  3.40  2.40      1      0      0      0      1      0  \n",
       "3  1.44  4.20  8.00      0      1      0      0      0      1  \n",
       "4  5.50  3.60  1.67      0      1      0      0      1      0  \n",
       "\n",
       "[5 rows x 82 columns]"
      ]
     },
     "execution_count": 4,
     "metadata": {},
     "output_type": "execute_result"
    }
   ],
   "source": [
    "ftr_dummies = pd.get_dummies(df_football.FTR, prefix='FTR')\n",
    "df_football = pd.concat([df_football, ftr_dummies], axis = 1)\n",
    "\n",
    "htr_dummies = pd.get_dummies(df_football.HTR, prefix='HTR')\n",
    "df_football = pd.concat([df_football, htr_dummies], axis = 1)\n",
    "\n",
    "df_football.head()"
   ]
  },
  {
   "cell_type": "markdown",
   "metadata": {},
   "source": [
    "# Eligiendo la variable a predecir"
   ]
  },
  {
   "cell_type": "code",
   "execution_count": 47,
   "metadata": {},
   "outputs": [
    {
     "data": {
      "text/plain": [
       "<matplotlib.axes._subplots.AxesSubplot at 0x7fe7b4fec748>"
      ]
     },
     "execution_count": 47,
     "metadata": {},
     "output_type": "execute_result"
    },
    {
     "data": {
      "image/png": "[encoded data removed]",
      "text/plain": [
       "<matplotlib.figure.Figure at 0x7fe7b4feb518>"
      ]
     },
     "metadata": {},
     "output_type": "display_data"
    }
   ],
   "source": [
    "features_to_predict = ['FTHG', 'FTAG', 'FTR_A', 'FTR_D', 'FTR_H', \n",
    "                       'HTHG', 'HTAG', 'HTR_A', 'HTR_D', 'HTR_H', \n",
    "                       'HS', 'AS', 'HST', 'AST', 'HC', 'AC', 'HF', \n",
    "                       'AF', 'HY', 'AY', 'HR', 'AR']\n",
    "\n",
    "df_corr = df_football.corr().filter(features_to_predict).drop(features_to_predict)\n",
    "\n",
    "sns.heatmap(df_corr)"
   ]
  },
  {
   "cell_type": "code",
   "execution_count": 6,
   "metadata": {},
   "outputs": [
    {
     "data": {
      "text/plain": [
       "['FTHG']"
      ]
     },
     "execution_count": 6,
     "metadata": {},
     "output_type": "execute_result"
    }
   ],
   "source": [
    "final_features_to_predict = [feat for feat in features_to_predict \n",
    "                            if len(df_corr[df_corr.abs()[feat] > 0.5]) > 0]\n",
    "final_features_to_predict"
   ]
  },
  {
   "cell_type": "code",
   "execution_count": 48,
   "metadata": {},
   "outputs": [
    {
     "data": {
      "text/plain": [
       "<matplotlib.axes._subplots.AxesSubplot at 0x7fe7b50661d0>"
      ]
     },
     "execution_count": 48,
     "metadata": {},
     "output_type": "execute_result"
    },
    {
     "data": {
      "image/png": "[encoded data removed]",
      "text/plain": [
       "<matplotlib.figure.Figure at 0x7fe7b4feac88>"
      ]
     },
     "metadata": {},
     "output_type": "display_data"
    }
   ],
   "source": [
    " sns.heatmap(df_corr[['FTHG']])"
   ]
  },
  {
   "cell_type": "code",
   "execution_count": 8,
   "metadata": {},
   "outputs": [
    {
     "data": {
      "text/html": [
       "<div>\n",
       "<style scoped>\n",
       "    .dataframe tbody tr th:only-of-type {\n",
       "        vertical-align: middle;\n",
       "    }\n",
       "\n",
       "    .dataframe tbody tr th {\n",
       "        vertical-align: top;\n",
       "    }\n",
       "\n",
       "    .dataframe thead th {\n",
       "        text-align: right;\n",
       "    }\n",
       "</style>\n",
       "<table border=\"1\" class=\"dataframe\">\n",
       "  <thead>\n",
       "    <tr style=\"text-align: right;\">\n",
       "      <th></th>\n",
       "      <th>B365A</th>\n",
       "      <th>B365D</th>\n",
       "      <th>B365H</th>\n",
       "      <th>BSA</th>\n",
       "      <th>BSD</th>\n",
       "      <th>BSH</th>\n",
       "      <th>BWA</th>\n",
       "      <th>BWD</th>\n",
       "      <th>BWH</th>\n",
       "      <th>Bb1X2</th>\n",
       "      <th>...</th>\n",
       "      <th>SJA</th>\n",
       "      <th>SJD</th>\n",
       "      <th>SJH</th>\n",
       "      <th>VCA</th>\n",
       "      <th>VCD</th>\n",
       "      <th>VCH</th>\n",
       "      <th>WHA</th>\n",
       "      <th>WHD</th>\n",
       "      <th>WHH</th>\n",
       "      <th>FTHG</th>\n",
       "    </tr>\n",
       "  </thead>\n",
       "  <tbody>\n",
       "    <tr>\n",
       "      <th>0</th>\n",
       "      <td>4.10</td>\n",
       "      <td>3.20</td>\n",
       "      <td>2.05</td>\n",
       "      <td>NaN</td>\n",
       "      <td>NaN</td>\n",
       "      <td>NaN</td>\n",
       "      <td>4.10</td>\n",
       "      <td>3.10</td>\n",
       "      <td>2.05</td>\n",
       "      <td>35</td>\n",
       "      <td>...</td>\n",
       "      <td>NaN</td>\n",
       "      <td>NaN</td>\n",
       "      <td>NaN</td>\n",
       "      <td>4.40</td>\n",
       "      <td>3.2</td>\n",
       "      <td>2.05</td>\n",
       "      <td>4.00</td>\n",
       "      <td>3.10</td>\n",
       "      <td>2.05</td>\n",
       "      <td>1</td>\n",
       "    </tr>\n",
       "    <tr>\n",
       "      <th>1</th>\n",
       "      <td>4.50</td>\n",
       "      <td>3.80</td>\n",
       "      <td>1.75</td>\n",
       "      <td>NaN</td>\n",
       "      <td>NaN</td>\n",
       "      <td>NaN</td>\n",
       "      <td>4.60</td>\n",
       "      <td>3.90</td>\n",
       "      <td>1.75</td>\n",
       "      <td>35</td>\n",
       "      <td>...</td>\n",
       "      <td>NaN</td>\n",
       "      <td>NaN</td>\n",
       "      <td>NaN</td>\n",
       "      <td>4.60</td>\n",
       "      <td>4.0</td>\n",
       "      <td>1.80</td>\n",
       "      <td>4.20</td>\n",
       "      <td>3.75</td>\n",
       "      <td>1.80</td>\n",
       "      <td>1</td>\n",
       "    </tr>\n",
       "    <tr>\n",
       "      <th>2</th>\n",
       "      <td>3.20</td>\n",
       "      <td>3.25</td>\n",
       "      <td>2.38</td>\n",
       "      <td>NaN</td>\n",
       "      <td>NaN</td>\n",
       "      <td>NaN</td>\n",
       "      <td>3.00</td>\n",
       "      <td>3.30</td>\n",
       "      <td>2.40</td>\n",
       "      <td>35</td>\n",
       "      <td>...</td>\n",
       "      <td>NaN</td>\n",
       "      <td>NaN</td>\n",
       "      <td>NaN</td>\n",
       "      <td>3.13</td>\n",
       "      <td>3.4</td>\n",
       "      <td>2.40</td>\n",
       "      <td>2.90</td>\n",
       "      <td>3.40</td>\n",
       "      <td>2.40</td>\n",
       "      <td>2</td>\n",
       "    </tr>\n",
       "    <tr>\n",
       "      <th>3</th>\n",
       "      <td>1.45</td>\n",
       "      <td>4.33</td>\n",
       "      <td>8.00</td>\n",
       "      <td>NaN</td>\n",
       "      <td>NaN</td>\n",
       "      <td>NaN</td>\n",
       "      <td>1.45</td>\n",
       "      <td>4.33</td>\n",
       "      <td>7.50</td>\n",
       "      <td>35</td>\n",
       "      <td>...</td>\n",
       "      <td>NaN</td>\n",
       "      <td>NaN</td>\n",
       "      <td>NaN</td>\n",
       "      <td>1.50</td>\n",
       "      <td>4.3</td>\n",
       "      <td>7.50</td>\n",
       "      <td>1.44</td>\n",
       "      <td>4.20</td>\n",
       "      <td>8.00</td>\n",
       "      <td>2</td>\n",
       "    </tr>\n",
       "    <tr>\n",
       "      <th>4</th>\n",
       "      <td>5.50</td>\n",
       "      <td>4.00</td>\n",
       "      <td>1.62</td>\n",
       "      <td>NaN</td>\n",
       "      <td>NaN</td>\n",
       "      <td>NaN</td>\n",
       "      <td>5.75</td>\n",
       "      <td>3.90</td>\n",
       "      <td>1.62</td>\n",
       "      <td>35</td>\n",
       "      <td>...</td>\n",
       "      <td>NaN</td>\n",
       "      <td>NaN</td>\n",
       "      <td>NaN</td>\n",
       "      <td>5.75</td>\n",
       "      <td>4.0</td>\n",
       "      <td>1.65</td>\n",
       "      <td>5.50</td>\n",
       "      <td>3.60</td>\n",
       "      <td>1.67</td>\n",
       "      <td>1</td>\n",
       "    </tr>\n",
       "  </tbody>\n",
       "</table>\n",
       "<p>5 rows × 55 columns</p>\n",
       "</div>"
      ],
      "text/plain": [
       "   B365A  B365D  B365H  BSA  BSD  BSH   BWA   BWD   BWH  Bb1X2  ...   SJA  \\\n",
       "0   4.10   3.20   2.05  NaN  NaN  NaN  4.10  3.10  2.05     35  ...   NaN   \n",
       "1   4.50   3.80   1.75  NaN  NaN  NaN  4.60  3.90  1.75     35  ...   NaN   \n",
       "2   3.20   3.25   2.38  NaN  NaN  NaN  3.00  3.30  2.40     35  ...   NaN   \n",
       "3   1.45   4.33   8.00  NaN  NaN  NaN  1.45  4.33  7.50     35  ...   NaN   \n",
       "4   5.50   4.00   1.62  NaN  NaN  NaN  5.75  3.90  1.62     35  ...   NaN   \n",
       "\n",
       "   SJD  SJH   VCA  VCD   VCH   WHA   WHD   WHH  FTHG  \n",
       "0  NaN  NaN  4.40  3.2  2.05  4.00  3.10  2.05     1  \n",
       "1  NaN  NaN  4.60  4.0  1.80  4.20  3.75  1.80     1  \n",
       "2  NaN  NaN  3.13  3.4  2.40  2.90  3.40  2.40     2  \n",
       "3  NaN  NaN  1.50  4.3  7.50  1.44  4.20  8.00     2  \n",
       "4  NaN  NaN  5.75  4.0  1.65  5.50  3.60  1.67     1  \n",
       "\n",
       "[5 rows x 55 columns]"
      ]
     },
     "execution_count": 8,
     "metadata": {},
     "output_type": "execute_result"
    }
   ],
   "source": [
    "df = df_football[df_corr[['FTHG']].index]\n",
    "df = pd.concat([df, df_football['FTHG']], axis=1)\n",
    "\n",
    "df.head()"
   ]
  },
  {
   "cell_type": "code",
   "execution_count": 9,
   "metadata": {
    "scrolled": false
   },
   "outputs": [
    {
     "data": {
      "text/plain": [
       "Text(0.5,0,'percentage')"
      ]
     },
     "execution_count": 9,
     "metadata": {},
     "output_type": "execute_result"
    },
    {
     "data": {
      "image/png": "[encoded data removed]",
      "text/plain": [
       "<matplotlib.figure.Figure at 0x7fe7b99baeb8>"
      ]
     },
     "metadata": {},
     "output_type": "display_data"
    }
   ],
   "source": [
    "null_data = df.isnull().mean()\n",
    "\n",
    "plt.figure(figsize = (13, 13))\n",
    "null_data.sort_values().plot.barh(color = 'blue')\n",
    "plt.xlim(xmax = 1)\n",
    "plt.title(\"Missing values rate\", fontsize = 18)\n",
    "plt.xlabel(\"percentage\", fontsize = 14)"
   ]
  },
  {
   "cell_type": "code",
   "execution_count": 10,
   "metadata": {},
   "outputs": [
    {
     "data": {
      "text/html": [
       "<div>\n",
       "<style scoped>\n",
       "    .dataframe tbody tr th:only-of-type {\n",
       "        vertical-align: middle;\n",
       "    }\n",
       "\n",
       "    .dataframe tbody tr th {\n",
       "        vertical-align: top;\n",
       "    }\n",
       "\n",
       "    .dataframe thead th {\n",
       "        text-align: right;\n",
       "    }\n",
       "</style>\n",
       "<table border=\"1\" class=\"dataframe\">\n",
       "  <thead>\n",
       "    <tr style=\"text-align: right;\">\n",
       "      <th></th>\n",
       "      <th>B365A</th>\n",
       "      <th>B365D</th>\n",
       "      <th>B365H</th>\n",
       "      <th>BWA</th>\n",
       "      <th>BWD</th>\n",
       "      <th>BWH</th>\n",
       "      <th>Bb1X2</th>\n",
       "      <th>BbAH</th>\n",
       "      <th>BbAHh</th>\n",
       "      <th>BbAv&lt;2.5</th>\n",
       "      <th>...</th>\n",
       "      <th>PSCH</th>\n",
       "      <th>PSD</th>\n",
       "      <th>PSH</th>\n",
       "      <th>VCA</th>\n",
       "      <th>VCD</th>\n",
       "      <th>VCH</th>\n",
       "      <th>WHA</th>\n",
       "      <th>WHD</th>\n",
       "      <th>WHH</th>\n",
       "      <th>FTHG</th>\n",
       "    </tr>\n",
       "  </thead>\n",
       "  <tbody>\n",
       "    <tr>\n",
       "      <th>0</th>\n",
       "      <td>4.10</td>\n",
       "      <td>3.20</td>\n",
       "      <td>2.05</td>\n",
       "      <td>4.10</td>\n",
       "      <td>3.10</td>\n",
       "      <td>2.05</td>\n",
       "      <td>35</td>\n",
       "      <td>18.0</td>\n",
       "      <td>-0.50</td>\n",
       "      <td>1.46</td>\n",
       "      <td>...</td>\n",
       "      <td>1.98</td>\n",
       "      <td>3.25</td>\n",
       "      <td>2.03</td>\n",
       "      <td>4.40</td>\n",
       "      <td>3.2</td>\n",
       "      <td>2.05</td>\n",
       "      <td>4.00</td>\n",
       "      <td>3.10</td>\n",
       "      <td>2.05</td>\n",
       "      <td>1</td>\n",
       "    </tr>\n",
       "    <tr>\n",
       "      <th>1</th>\n",
       "      <td>4.50</td>\n",
       "      <td>3.80</td>\n",
       "      <td>1.75</td>\n",
       "      <td>4.60</td>\n",
       "      <td>3.90</td>\n",
       "      <td>1.75</td>\n",
       "      <td>35</td>\n",
       "      <td>16.0</td>\n",
       "      <td>-0.75</td>\n",
       "      <td>2.27</td>\n",
       "      <td>...</td>\n",
       "      <td>1.78</td>\n",
       "      <td>4.01</td>\n",
       "      <td>1.78</td>\n",
       "      <td>4.60</td>\n",
       "      <td>4.0</td>\n",
       "      <td>1.80</td>\n",
       "      <td>4.20</td>\n",
       "      <td>3.75</td>\n",
       "      <td>1.80</td>\n",
       "      <td>1</td>\n",
       "    </tr>\n",
       "    <tr>\n",
       "      <th>2</th>\n",
       "      <td>3.20</td>\n",
       "      <td>3.25</td>\n",
       "      <td>2.38</td>\n",
       "      <td>3.00</td>\n",
       "      <td>3.30</td>\n",
       "      <td>2.40</td>\n",
       "      <td>35</td>\n",
       "      <td>18.0</td>\n",
       "      <td>-0.25</td>\n",
       "      <td>1.84</td>\n",
       "      <td>...</td>\n",
       "      <td>2.12</td>\n",
       "      <td>3.40</td>\n",
       "      <td>2.44</td>\n",
       "      <td>3.13</td>\n",
       "      <td>3.4</td>\n",
       "      <td>2.40</td>\n",
       "      <td>2.90</td>\n",
       "      <td>3.40</td>\n",
       "      <td>2.40</td>\n",
       "      <td>2</td>\n",
       "    </tr>\n",
       "    <tr>\n",
       "      <th>3</th>\n",
       "      <td>1.45</td>\n",
       "      <td>4.33</td>\n",
       "      <td>8.00</td>\n",
       "      <td>1.45</td>\n",
       "      <td>4.33</td>\n",
       "      <td>7.50</td>\n",
       "      <td>35</td>\n",
       "      <td>16.0</td>\n",
       "      <td>1.25</td>\n",
       "      <td>1.74</td>\n",
       "      <td>...</td>\n",
       "      <td>6.93</td>\n",
       "      <td>4.38</td>\n",
       "      <td>8.36</td>\n",
       "      <td>1.50</td>\n",
       "      <td>4.3</td>\n",
       "      <td>7.50</td>\n",
       "      <td>1.44</td>\n",
       "      <td>4.20</td>\n",
       "      <td>8.00</td>\n",
       "      <td>2</td>\n",
       "    </tr>\n",
       "    <tr>\n",
       "      <th>4</th>\n",
       "      <td>5.50</td>\n",
       "      <td>4.00</td>\n",
       "      <td>1.62</td>\n",
       "      <td>5.75</td>\n",
       "      <td>3.90</td>\n",
       "      <td>1.62</td>\n",
       "      <td>35</td>\n",
       "      <td>16.0</td>\n",
       "      <td>-1.00</td>\n",
       "      <td>2.09</td>\n",
       "      <td>...</td>\n",
       "      <td>1.64</td>\n",
       "      <td>4.17</td>\n",
       "      <td>1.62</td>\n",
       "      <td>5.75</td>\n",
       "      <td>4.0</td>\n",
       "      <td>1.65</td>\n",
       "      <td>5.50</td>\n",
       "      <td>3.60</td>\n",
       "      <td>1.67</td>\n",
       "      <td>1</td>\n",
       "    </tr>\n",
       "  </tbody>\n",
       "</table>\n",
       "<p>5 rows × 43 columns</p>\n",
       "</div>"
      ],
      "text/plain": [
       "   B365A  B365D  B365H   BWA   BWD   BWH  Bb1X2  BbAH  BbAHh  BbAv<2.5  ...   \\\n",
       "0   4.10   3.20   2.05  4.10  3.10  2.05     35  18.0  -0.50      1.46  ...    \n",
       "1   4.50   3.80   1.75  4.60  3.90  1.75     35  16.0  -0.75      2.27  ...    \n",
       "2   3.20   3.25   2.38  3.00  3.30  2.40     35  18.0  -0.25      1.84  ...    \n",
       "3   1.45   4.33   8.00  1.45  4.33  7.50     35  16.0   1.25      1.74  ...    \n",
       "4   5.50   4.00   1.62  5.75  3.90  1.62     35  16.0  -1.00      2.09  ...    \n",
       "\n",
       "   PSCH   PSD   PSH   VCA  VCD   VCH   WHA   WHD   WHH  FTHG  \n",
       "0  1.98  3.25  2.03  4.40  3.2  2.05  4.00  3.10  2.05     1  \n",
       "1  1.78  4.01  1.78  4.60  4.0  1.80  4.20  3.75  1.80     1  \n",
       "2  2.12  3.40  2.44  3.13  3.4  2.40  2.90  3.40  2.40     2  \n",
       "3  6.93  4.38  8.36  1.50  4.3  7.50  1.44  4.20  8.00     2  \n",
       "4  1.64  4.17  1.62  5.75  4.0  1.65  5.50  3.60  1.67     1  \n",
       "\n",
       "[5 rows x 43 columns]"
      ]
     },
     "execution_count": 10,
     "metadata": {},
     "output_type": "execute_result"
    }
   ],
   "source": [
    "features_wanted = null_data[null_data < 0.3].index\n",
    "    \n",
    "df = df[features_wanted]\n",
    "df = df.fillna(round(df.mean(), 2))\n",
    "\n",
    "df.head()"
   ]
  },
  {
   "cell_type": "code",
   "execution_count": 11,
   "metadata": {},
   "outputs": [
    {
     "data": {
      "text/plain": [
       "(2459, 43)"
      ]
     },
     "execution_count": 11,
     "metadata": {},
     "output_type": "execute_result"
    }
   ],
   "source": [
    "df.shape"
   ]
  },
  {
   "cell_type": "markdown",
   "metadata": {},
   "source": [
    "# Separación de datos de entrenamiento y test"
   ]
  },
  {
   "cell_type": "code",
   "execution_count": 12,
   "metadata": {},
   "outputs": [],
   "source": [
    "from sklearn.model_selection import train_test_split"
   ]
  },
  {
   "cell_type": "code",
   "execution_count": 13,
   "metadata": {},
   "outputs": [],
   "source": [
    "df_X = df.copy()\n",
    "df_y = df_X['FTHG']\n",
    "del df_X['FTHG']\n",
    "\n",
    "X_train, X_test, y_train, y_test = train_test_split(df_X, df_y,\n",
    "                                                    test_size = 0.25, random_state = 42)"
   ]
  },
  {
   "cell_type": "code",
   "execution_count": 14,
   "metadata": {},
   "outputs": [
    {
     "name": "stdout",
     "output_type": "stream",
     "text": [
      "X_train: (1844, 42)\n",
      "X_test:  (615, 42)\n",
      "y_train: (1844,)\n",
      "y_test:  (615,)\n"
     ]
    }
   ],
   "source": [
    "print(\"X_train: \" + str(X_train.shape))\n",
    "print(\"X_test:  \" + str(X_test.shape))\n",
    "print(\"y_train: \" + str(y_train.shape))\n",
    "print(\"y_test:  \" + str(y_test.shape))"
   ]
  },
  {
   "cell_type": "markdown",
   "metadata": {},
   "source": [
    "# Regresión lineal básica"
   ]
  },
  {
   "cell_type": "code",
   "execution_count": 15,
   "metadata": {},
   "outputs": [],
   "source": [
    "from sklearn.linear_model import LinearRegression\n",
    "from sklearn.metrics import mean_squared_error, r2_score"
   ]
  },
  {
   "cell_type": "code",
   "execution_count": 16,
   "metadata": {},
   "outputs": [],
   "source": [
    "reg_LR = LinearRegression()\n",
    "reg_LR_fit = reg_LR.fit(X_train, y_train)\n",
    "y_pred_LR = reg_LR.predict(X_test)"
   ]
  },
  {
   "cell_type": "code",
   "execution_count": 45,
   "metadata": {},
   "outputs": [
    {
     "name": "stdout",
     "output_type": "stream",
     "text": [
      "Intercept:  3.18168463497\n",
      "Coefficients:\n"
     ]
    },
    {
     "data": {
      "text/plain": [
       "[('B365A', 0.055023210955761799),\n",
       " ('B365D', -0.1220275852920242),\n",
       " ('B365H', 0.14429220003794793),\n",
       " ('BWA', -0.013737964447231344),\n",
       " ('BWD', 0.18488246804921346),\n",
       " ('BWH', -0.077100123970756537),\n",
       " ('Bb1X2', 0.0038557379426815905),\n",
       " ('BbAH', -0.00036734531480440486),\n",
       " ('BbAHh', -0.30391759973875715),\n",
       " ('BbAv<2.5', 0.34289358193473346),\n",
       " ('BbAv>2.5', -0.32692620131051547),\n",
       " ('BbAvA', 0.29621471909746022),\n",
       " ('BbAvAHA', -1.048841909359127),\n",
       " ('BbAvAHH', 0.47428236019077752),\n",
       " ('BbAvD', -0.10273295504223555),\n",
       " ('BbAvH', -0.059265601371871333),\n",
       " ('BbMx<2.5', -0.12809005953891534),\n",
       " ('BbMx>2.5', -0.14639904225829478),\n",
       " ('BbMxA', -0.099209664681106993),\n",
       " ('BbMxAHA', 0.72078907517232582),\n",
       " ('BbMxAHH', -0.54756589017241808),\n",
       " ('BbMxD', 0.11563775126709676),\n",
       " ('BbMxH', -0.067157786672627798),\n",
       " ('BbOU', -0.013787222092873473),\n",
       " ('IWA', -0.050703970710237932),\n",
       " ('IWD', -0.041391824653440601),\n",
       " ('IWH', -0.0058787786453809937),\n",
       " ('LBA', -0.014652755684059108),\n",
       " ('LBD', 0.031691671068310348),\n",
       " ('LBH', -0.031774175356976561),\n",
       " ('PSA', -0.063490395367023056),\n",
       " ('PSCA', 0.00027594540866470141),\n",
       " ('PSCD', 0.077422774974966385),\n",
       " ('PSCH', -0.10369941843787013),\n",
       " ('PSD', 0.052621421928872807),\n",
       " ('PSH', 0.067433421538579591),\n",
       " ('VCA', 0.0040897559141094483),\n",
       " ('VCD', -0.16247856526518578),\n",
       " ('VCH', 0.052692753191043371),\n",
       " ('WHA', -0.045394492073971851),\n",
       " ('WHD', -0.11608560566723501),\n",
       " ('WHH', 0.044854282744314071)]"
      ]
     },
     "execution_count": 45,
     "metadata": {},
     "output_type": "execute_result"
    }
   ],
   "source": [
    "print('Intercept: ', reg_LR.intercept_)\n",
    "print('Coefficients:')\n",
    "list(zip(df_X.columns, reg_LR.coef_))"
   ]
  },
  {
   "cell_type": "code",
   "execution_count": 18,
   "metadata": {},
   "outputs": [
    {
     "name": "stdout",
     "output_type": "stream",
     "text": [
      "Mean squared error: 1.46\n",
      "Variance score: 0.22\n"
     ]
    }
   ],
   "source": [
    "print(\"Mean squared error: %.2f\" % mean_squared_error(y_test, y_pred_LR))\n",
    "print('Variance score: %.2f' % r2_score(y_test, y_pred_LR))"
   ]
  },
  {
   "cell_type": "markdown",
   "metadata": {},
   "source": [
    "# Lasso"
   ]
  },
  {
   "cell_type": "code",
   "execution_count": 26,
   "metadata": {},
   "outputs": [],
   "source": [
    "from sklearn.linear_model import Lasso, LassoCV\n",
    "from sklearn.model_selection import KFold, cross_val_score, cross_val_predict, GridSearchCV"
   ]
  },
  {
   "cell_type": "markdown",
   "metadata": {},
   "source": [
    "### Lasso CV para conocer alpha"
   ]
  },
  {
   "cell_type": "code",
   "execution_count": 28,
   "metadata": {},
   "outputs": [
    {
     "data": {
      "text/plain": [
       "array([  1.00000000e-04,   1.32035178e-04,   1.74332882e-04,\n",
       "         2.30180731e-04,   3.03919538e-04,   4.01280703e-04,\n",
       "         5.29831691e-04,   6.99564216e-04,   9.23670857e-04,\n",
       "         1.21957046e-03,   1.61026203e-03,   2.12611233e-03,\n",
       "         2.80721620e-03,   3.70651291e-03,   4.89390092e-03,\n",
       "         6.46167079e-03,   8.53167852e-03,   1.12648169e-02,\n",
       "         1.48735211e-02,   1.96382800e-02,   2.59294380e-02,\n",
       "         3.42359796e-02,   4.52035366e-02,   5.96845700e-02,\n",
       "         7.88046282e-02,   1.04049831e-01,   1.37382380e-01,\n",
       "         1.81393069e-01,   2.39502662e-01,   3.16227766e-01])"
      ]
     },
     "execution_count": 28,
     "metadata": {},
     "output_type": "execute_result"
    }
   ],
   "source": [
    "alphas = np.logspace(-4, -0.5, 30)\n",
    "alphas"
   ]
  },
  {
   "cell_type": "code",
   "execution_count": 20,
   "metadata": {},
   "outputs": [
    {
     "name": "stdout",
     "output_type": "stream",
     "text": [
      "Score: \n",
      " 0.266433968783\n",
      "Alpha: \n",
      " 0.000303919538231\n",
      "CV: \n",
      " [ 0.00834239  0.         -0.          0.00196368  0.         -0.         -0.\n",
      " -0.         -0.40195062  0.0731298  -0.50996469  0.          0.         -0.\n",
      "  0.         -0.          0.         -0.0314552   0.          0.         -0.\n",
      "  0.01347157 -0.00778044 -0.00487348  0.         -0.         -0.          0.\n",
      "  0.         -0.01611084 -0.          0.          0.         -0.00237007\n",
      " -0.         -0.          0.00951423  0.         -0.          0.          0.\n",
      " -0.        ]\n"
     ]
    }
   ],
   "source": [
    "lasso_CV = LassoCV(cv=10, n_jobs=-1, normalize=True, alphas=alphas)\n",
    "lasso_CV.fit(df_X, df_y)\n",
    "\n",
    "best_alpha_lasso_CV = lasso_CV.alpha_\n",
    "\n",
    "print('Score: \\n', lasso_CV.score(df_X, df_y))\n",
    "print('Alpha: \\n', lasso_CV.alpha_)\n",
    "print('CV: \\n', lasso_CV.coef_)"
   ]
  },
  {
   "cell_type": "code",
   "execution_count": 21,
   "metadata": {},
   "outputs": [
    {
     "name": "stdout",
     "output_type": "stream",
     "text": [
      "Mean squared error: 1.40\n",
      "Variance score: 0.25\n"
     ]
    }
   ],
   "source": [
    "lasso = Lasso(normalize=True, alpha=best_alpha_lasso_CV)\n",
    "lasso.fit(X_train, y_train)\n",
    "y_pred_lasso = lasso.predict(X_test)\n",
    "\n",
    "print(\"Mean squared error: %.2f\" % mean_squared_error(y_test, y_pred_lasso))\n",
    "print('Variance score: %.2f' % r2_score(y_test, y_pred_lasso))"
   ]
  },
  {
   "cell_type": "markdown",
   "metadata": {},
   "source": [
    "### Lasso con cross_val_predict"
   ]
  },
  {
   "cell_type": "code",
   "execution_count": 22,
   "metadata": {},
   "outputs": [
    {
     "name": "stdout",
     "output_type": "stream",
     "text": [
      "Mean squared error: 1.51\n",
      "Variance score: 0.25\n"
     ]
    }
   ],
   "source": [
    "cv_outer = KFold(len(df_X), n_folds = 10)\n",
    "\n",
    "lasso = LassoCV(cv = 10, n_jobs = -1, normalize=True, alphas=alphas)\n",
    "# lasso = Lasso(normalize=True)\n",
    "\n",
    "# scores = cross_val_score(lasso, df_X, df_y, cv=cv_outer)\n",
    "\n",
    "predicted = cross_val_predict(lasso, df_X, df_y, cv=cv_outer)\n",
    "\n",
    "print(\"Mean squared error: %.2f\" % mean_squared_error(df_y, predicted))\n",
    "print('Variance score: %.2f' % r2_score(df_y, predicted))"
   ]
  },
  {
   "cell_type": "markdown",
   "metadata": {},
   "source": [
    "### Lasso con GridSearchCV"
   ]
  },
  {
   "cell_type": "code",
   "execution_count": 30,
   "metadata": {},
   "outputs": [
    {
     "data": {
      "text/plain": [
       "0.00052983169062837071"
      ]
     },
     "execution_count": 30,
     "metadata": {},
     "output_type": "execute_result"
    }
   ],
   "source": [
    "lasso = Lasso(normalize=True)\n",
    "\n",
    "tuned_parameters = [{'alpha': alphas}]\n",
    "n_folds = 10\n",
    "\n",
    "clf = GridSearchCV(lasso, tuned_parameters, cv=n_folds)\n",
    "clf.fit(df_X, df_y)\n",
    "\n",
    "best_alpha_lasso_GS = clf.best_params_['alpha']\n",
    "best_alpha_lasso_GS"
   ]
  },
  {
   "cell_type": "code",
   "execution_count": 31,
   "metadata": {},
   "outputs": [
    {
     "name": "stdout",
     "output_type": "stream",
     "text": [
      "Mean squared error: 1.40\n",
      "Variance score: 0.25\n"
     ]
    }
   ],
   "source": [
    "from sklearn.linear_model import Lasso\n",
    "\n",
    "lasso = Lasso(normalize=True, alpha=best_alpha_lasso_GS)\n",
    "lasso.fit(X_train, y_train)\n",
    "y_pred_lasso = lasso.predict(X_test)\n",
    "\n",
    "print(\"Mean squared error: %.2f\" % mean_squared_error(y_test, y_pred_lasso))\n",
    "print('Variance score: %.2f' % r2_score(y_test, y_pred_lasso))"
   ]
  },
  {
   "cell_type": "code",
   "execution_count": 42,
   "metadata": {},
   "outputs": [
    {
     "data": {
      "text/plain": [
       "[('B365A', 0.03309653032350663),\n",
       " ('B365D', 0.0),\n",
       " ('B365H', -0.0),\n",
       " ('BWA', 0.0),\n",
       " ('BWD', 0.0),\n",
       " ('BWH', -0.0078378204638777094),\n",
       " ('Bb1X2', -0.0),\n",
       " ('BbAH', 0.0),\n",
       " ('BbAHh', -0.41431838542393346),\n",
       " ('BbAv<2.5', 0.0047456305424997394),\n",
       " ('BbAv>2.5', -0.45726881391555602),\n",
       " ('BbAvA', 0.0),\n",
       " ('BbAvAHA', -0.0),\n",
       " ('BbAvAHH', 0.0),\n",
       " ('BbAvD', 0.0),\n",
       " ('BbAvH', -0.0),\n",
       " ('BbMx<2.5', 0.0),\n",
       " ('BbMx>2.5', -0.077497316683644651),\n",
       " ('BbMxA', 0.0),\n",
       " ('BbMxAHA', 0.0),\n",
       " ('BbMxAHH', -0.0),\n",
       " ('BbMxD', 0.0024704863627138399),\n",
       " ('BbMxH', -0.0),\n",
       " ('BbOU', -0.0051072116394867964),\n",
       " ('IWA', 0.0),\n",
       " ('IWD', 0.0),\n",
       " ('IWH', -0.0),\n",
       " ('LBA', 0.0),\n",
       " ('LBD', 0.0),\n",
       " ('LBH', -0.0030341353130640524),\n",
       " ('PSA', -0.0),\n",
       " ('PSCA', 0.0),\n",
       " ('PSCD', 0.0),\n",
       " ('PSCH', -0.0),\n",
       " ('PSD', 0.0),\n",
       " ('PSH', -0.0),\n",
       " ('VCA', 0.0),\n",
       " ('VCD', 0.0),\n",
       " ('VCH', -0.0),\n",
       " ('WHA', 0.0),\n",
       " ('WHD', 0.0),\n",
       " ('WHH', -0.0)]"
      ]
     },
     "execution_count": 42,
     "metadata": {},
     "output_type": "execute_result"
    }
   ],
   "source": [
    "list(zip(df_X.columns, lasso.coef_))"
   ]
  }
 ],
 "metadata": {
  "kernelspec": {
   "display_name": "Python 3",
   "language": "python",
   "name": "python3"
  },
  "language_info": {
   "codemirror_mode": {
    "name": "ipython",
    "version": 3
   },
   "file_extension": ".py",
   "mimetype": "text/x-python",
   "name": "python",
   "nbconvert_exporter": "python",
   "pygments_lexer": "ipython3",
   "version": "3.5.2"
  }
 },
 "nbformat": 4,
 "nbformat_minor": 2
}
