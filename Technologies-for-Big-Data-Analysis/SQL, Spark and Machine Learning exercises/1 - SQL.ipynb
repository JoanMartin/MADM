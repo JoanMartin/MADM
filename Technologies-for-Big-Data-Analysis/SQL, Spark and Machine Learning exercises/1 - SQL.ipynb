{
 "cells": [
  {
   "cell_type": "markdown",
   "metadata": {},
   "source": [
    "# Movielens\n",
    "---\n",
    "Esta base de datos contiene información sobre películas y ratings de distintos usuarios.\n",
    "Responde a las siguientes preguntas"
   ]
  },
  {
   "cell_type": "markdown",
   "metadata": {},
   "source": [
    "<div class=\"panel panel-danger\">\n",
    "    <div class='panel-heading'>\n",
    "    <h4>Antes de empezar</h4>\n",
    "    </div>\n",
    "    <div class='panel-body'>\n",
    "    <p>Para poder ejecutar queries a la base de datos, necesitamos tener instalado antes el paquete [ipython-sql](https://github.com/catherinedevlin/ipython-sql).\n",
    "    \n",
    "    <p>Este paquete nos permite escribir las queries sql en las celdas del notebook y visualizar el resultado como tablas html renderizadas\n",
    "    <p>Ejecuta `!pip install ipython-sql` si es la primera vez que usas este notebook\n",
    "    </div>\n",
    "</div>"
   ]
  },
  {
   "cell_type": "markdown",
   "metadata": {},
   "source": [
    "<br>"
   ]
  },
  {
   "cell_type": "code",
   "execution_count": 1,
   "metadata": {},
   "outputs": [],
   "source": [
    "%matplotlib inline\n",
    "\n",
    "import matplotlib.pyplot as plt\n",
    "plt.rcParams['figure.figsize'] = (12, 8)\n",
    "\n",
    "import pandas as pd\n",
    "import sqlite3"
   ]
  },
  {
   "cell_type": "markdown",
   "metadata": {},
   "source": [
    "Cargamos la base de datos y mostramos el nombre de sus tablas:"
   ]
  },
  {
   "cell_type": "code",
   "execution_count": 2,
   "metadata": {},
   "outputs": [
    {
     "name": "stdout",
     "output_type": "stream",
     "text": [
      "Done.\n"
     ]
    },
    {
     "data": {
      "text/html": [
       "<table>\n",
       "    <tr>\n",
       "        <th>name</th>\n",
       "    </tr>\n",
       "    <tr>\n",
       "        <td>ratings</td>\n",
       "    </tr>\n",
       "    <tr>\n",
       "        <td>links</td>\n",
       "    </tr>\n",
       "    <tr>\n",
       "        <td>tags</td>\n",
       "    </tr>\n",
       "    <tr>\n",
       "        <td>movies</td>\n",
       "    </tr>\n",
       "</table>"
      ],
      "text/plain": [
       "[('ratings',), ('links',), ('tags',), ('movies',)]"
      ]
     },
     "execution_count": 2,
     "metadata": {},
     "output_type": "execute_result"
    }
   ],
   "source": [
    "%load_ext sql\n",
    "%sql sqlite:///data/movies/movielens.sqlite\n",
    "%sql SELECT name FROM sqlite_master WHERE type='table'"
   ]
  },
  {
   "cell_type": "markdown",
   "metadata": {},
   "source": [
    "Antes de empezar, recuerda que para ejecutar una query sql en las celdas de los notebooks, debes empezar la celda por `%%sql`. Por ejemplo..."
   ]
  },
  {
   "cell_type": "code",
   "execution_count": 3,
   "metadata": {},
   "outputs": [
    {
     "name": "stdout",
     "output_type": "stream",
     "text": [
      "Done.\n"
     ]
    },
    {
     "data": {
      "text/html": [
       "<table>\n",
       "    <tr>\n",
       "        <th>num_rows</th>\n",
       "    </tr>\n",
       "    <tr>\n",
       "        <td>9125</td>\n",
       "    </tr>\n",
       "</table>"
      ],
      "text/plain": [
       "[(9125,)]"
      ]
     },
     "execution_count": 3,
     "metadata": {},
     "output_type": "execute_result"
    }
   ],
   "source": [
    "%%sql\n",
    "\n",
    "SELECT count(*) as num_rows\n",
    "FROM movies"
   ]
  },
  {
   "cell_type": "markdown",
   "metadata": {},
   "source": [
    "Recuerda que también puedes realizar queries a la base de datos usango `pandas` y `sqlite3`"
   ]
  },
  {
   "cell_type": "markdown",
   "metadata": {},
   "source": [
    "---\n",
    "<div class=\"panel panel-success\">\n",
    "    <div class='panel-heading'>\n",
    "    <h4>Empecemos</h4>\n",
    "    </div>\n",
    "    <div class='panel-body'>\n",
    "    <p> Responde a las siguientes preguntas de la base de datos\n",
    "    </div>\n",
    "</div>"
   ]
  },
  {
   "cell_type": "markdown",
   "metadata": {},
   "source": [
    "**1. Nombra las columnas de cada tabla en la base de datos e identifíca las *primary* y *foreign* keys **"
   ]
  },
  {
   "cell_type": "markdown",
   "metadata": {},
   "source": [
    "Para ver la información de cada tabla, usamos **PRAGMA table_info(table_name)**."
   ]
  },
  {
   "cell_type": "code",
   "execution_count": 4,
   "metadata": {},
   "outputs": [
    {
     "name": "stdout",
     "output_type": "stream",
     "text": [
      "Done.\n"
     ]
    },
    {
     "data": {
      "text/html": [
       "<table>\n",
       "    <tr>\n",
       "        <th>cid</th>\n",
       "        <th>name</th>\n",
       "        <th>type</th>\n",
       "        <th>notnull</th>\n",
       "        <th>dflt_value</th>\n",
       "        <th>pk</th>\n",
       "    </tr>\n",
       "    <tr>\n",
       "        <td>0</td>\n",
       "        <td>index</td>\n",
       "        <td>INTEGER</td>\n",
       "        <td>0</td>\n",
       "        <td>None</td>\n",
       "        <td>0</td>\n",
       "    </tr>\n",
       "    <tr>\n",
       "        <td>1</td>\n",
       "        <td>userId</td>\n",
       "        <td>INTEGER</td>\n",
       "        <td>0</td>\n",
       "        <td>None</td>\n",
       "        <td>0</td>\n",
       "    </tr>\n",
       "    <tr>\n",
       "        <td>2</td>\n",
       "        <td>movieId</td>\n",
       "        <td>INTEGER</td>\n",
       "        <td>0</td>\n",
       "        <td>None</td>\n",
       "        <td>0</td>\n",
       "    </tr>\n",
       "    <tr>\n",
       "        <td>3</td>\n",
       "        <td>rating</td>\n",
       "        <td>REAL</td>\n",
       "        <td>0</td>\n",
       "        <td>None</td>\n",
       "        <td>0</td>\n",
       "    </tr>\n",
       "    <tr>\n",
       "        <td>4</td>\n",
       "        <td>timestamp</td>\n",
       "        <td>TIMESTAMP</td>\n",
       "        <td>0</td>\n",
       "        <td>None</td>\n",
       "        <td>0</td>\n",
       "    </tr>\n",
       "</table>"
      ],
      "text/plain": [
       "[(0, 'index', 'INTEGER', 0, None, 0),\n",
       " (1, 'userId', 'INTEGER', 0, None, 0),\n",
       " (2, 'movieId', 'INTEGER', 0, None, 0),\n",
       " (3, 'rating', 'REAL', 0, None, 0),\n",
       " (4, 'timestamp', 'TIMESTAMP', 0, None, 0)]"
      ]
     },
     "execution_count": 4,
     "metadata": {},
     "output_type": "execute_result"
    }
   ],
   "source": [
    "%%sql\n",
    "\n",
    "PRAGMA table_info('ratings')"
   ]
  },
  {
   "cell_type": "markdown",
   "metadata": {},
   "source": [
    "Las *foreign keys* serían **userId** y **movieId**, cada una para sus respectivas tablas de dimensiones *Usuarios* (aunque esta no exista en este dataset) y *Películas*.\n",
    "\n",
    "La clave primaria sería la unión de **userId** y **movieId**, dado que un usuario solo puede valorar una misma película una única vez. No obstante, vemos que no la tiene creada y, aunque se la podríamos crear con las siguientes sentencias de SQL, no lo vamos a hacer para no afectar a la base de datos original usada en estos ejercicios:\n",
    "\n",
    "```SQL\n",
    "CREATE TABLE tmp_ratings (\n",
    "    `index` INTEGER, \n",
    "    userId INTEGER,\n",
    "    movieId INTEGER,\n",
    "    rating REAL,\n",
    "    timestamp TIMESTAMP\n",
    ");\n",
    "\n",
    "INSERT INTO tmp_ratings (`index`, userId, movieId, rating, timestamp)\n",
    "    SELECT `index`, userId, movieId, rating, timestamp FROM ratings;\n",
    "    \n",
    "DROP TABLE ratings;\n",
    "\n",
    "ALTER TABLE tmp_ratings RENAME TO ratings;\n",
    "```\n",
    "\n",
    "SQLite no permite hacer modificaciones en la estructura de una tabla una vez creada, por lo que tenemos que crear una tabla auxiliar idéntica a la original, rellenarla con los mismo datos, borrar la original y cambiarle el nombre a la auxiliar.\n",
    "\n",
    "<br>"
   ]
  },
  {
   "cell_type": "code",
   "execution_count": 5,
   "metadata": {},
   "outputs": [
    {
     "name": "stdout",
     "output_type": "stream",
     "text": [
      "Done.\n"
     ]
    },
    {
     "data": {
      "text/html": [
       "<table>\n",
       "    <tr>\n",
       "        <th>cid</th>\n",
       "        <th>name</th>\n",
       "        <th>type</th>\n",
       "        <th>notnull</th>\n",
       "        <th>dflt_value</th>\n",
       "        <th>pk</th>\n",
       "    </tr>\n",
       "    <tr>\n",
       "        <td>0</td>\n",
       "        <td>index</td>\n",
       "        <td>INTEGER</td>\n",
       "        <td>0</td>\n",
       "        <td>None</td>\n",
       "        <td>0</td>\n",
       "    </tr>\n",
       "    <tr>\n",
       "        <td>1</td>\n",
       "        <td>movieId</td>\n",
       "        <td>INTEGER</td>\n",
       "        <td>0</td>\n",
       "        <td>None</td>\n",
       "        <td>0</td>\n",
       "    </tr>\n",
       "    <tr>\n",
       "        <td>2</td>\n",
       "        <td>imdbId</td>\n",
       "        <td>INTEGER</td>\n",
       "        <td>0</td>\n",
       "        <td>None</td>\n",
       "        <td>0</td>\n",
       "    </tr>\n",
       "    <tr>\n",
       "        <td>3</td>\n",
       "        <td>tmdbId</td>\n",
       "        <td>REAL</td>\n",
       "        <td>0</td>\n",
       "        <td>None</td>\n",
       "        <td>0</td>\n",
       "    </tr>\n",
       "</table>"
      ],
      "text/plain": [
       "[(0, 'index', 'INTEGER', 0, None, 0),\n",
       " (1, 'movieId', 'INTEGER', 0, None, 0),\n",
       " (2, 'imdbId', 'INTEGER', 0, None, 0),\n",
       " (3, 'tmdbId', 'REAL', 0, None, 0)]"
      ]
     },
     "execution_count": 5,
     "metadata": {},
     "output_type": "execute_result"
    }
   ],
   "source": [
    "%%sql \n",
    "\n",
    "PRAGMA table_info('links')"
   ]
  },
  {
   "cell_type": "markdown",
   "metadata": {},
   "source": [
    "**moviedId** es la única *foreign key* de esta tabla. No obstante, también es *clave primaria*, ya que es una relación de 1-1 con la tabla **movies**.\n",
    "\n",
    "<br>"
   ]
  },
  {
   "cell_type": "code",
   "execution_count": 6,
   "metadata": {},
   "outputs": [
    {
     "name": "stdout",
     "output_type": "stream",
     "text": [
      "Done.\n"
     ]
    },
    {
     "data": {
      "text/html": [
       "<table>\n",
       "    <tr>\n",
       "        <th>cid</th>\n",
       "        <th>name</th>\n",
       "        <th>type</th>\n",
       "        <th>notnull</th>\n",
       "        <th>dflt_value</th>\n",
       "        <th>pk</th>\n",
       "    </tr>\n",
       "    <tr>\n",
       "        <td>0</td>\n",
       "        <td>index</td>\n",
       "        <td>INTEGER</td>\n",
       "        <td>0</td>\n",
       "        <td>None</td>\n",
       "        <td>0</td>\n",
       "    </tr>\n",
       "    <tr>\n",
       "        <td>1</td>\n",
       "        <td>userId</td>\n",
       "        <td>INTEGER</td>\n",
       "        <td>0</td>\n",
       "        <td>None</td>\n",
       "        <td>0</td>\n",
       "    </tr>\n",
       "    <tr>\n",
       "        <td>2</td>\n",
       "        <td>movieId</td>\n",
       "        <td>INTEGER</td>\n",
       "        <td>0</td>\n",
       "        <td>None</td>\n",
       "        <td>0</td>\n",
       "    </tr>\n",
       "    <tr>\n",
       "        <td>3</td>\n",
       "        <td>tag</td>\n",
       "        <td>TEXT</td>\n",
       "        <td>0</td>\n",
       "        <td>None</td>\n",
       "        <td>0</td>\n",
       "    </tr>\n",
       "    <tr>\n",
       "        <td>4</td>\n",
       "        <td>timestamp</td>\n",
       "        <td>TIMESTAMP</td>\n",
       "        <td>0</td>\n",
       "        <td>None</td>\n",
       "        <td>0</td>\n",
       "    </tr>\n",
       "</table>"
      ],
      "text/plain": [
       "[(0, 'index', 'INTEGER', 0, None, 0),\n",
       " (1, 'userId', 'INTEGER', 0, None, 0),\n",
       " (2, 'movieId', 'INTEGER', 0, None, 0),\n",
       " (3, 'tag', 'TEXT', 0, None, 0),\n",
       " (4, 'timestamp', 'TIMESTAMP', 0, None, 0)]"
      ]
     },
     "execution_count": 6,
     "metadata": {},
     "output_type": "execute_result"
    }
   ],
   "source": [
    "%%sql\n",
    "\n",
    "PRAGMA table_info('tags')"
   ]
  },
  {
   "cell_type": "markdown",
   "metadata": {},
   "source": [
    "**userId** y **movieId** son las *foreign key* e **index** la *primary key*, ya que un usuario puede asignarle más de un tag a una misma película.\n",
    "\n",
    "<br>"
   ]
  },
  {
   "cell_type": "code",
   "execution_count": 7,
   "metadata": {},
   "outputs": [
    {
     "name": "stdout",
     "output_type": "stream",
     "text": [
      "Done.\n"
     ]
    },
    {
     "data": {
      "text/html": [
       "<table>\n",
       "    <tr>\n",
       "        <th>cid</th>\n",
       "        <th>name</th>\n",
       "        <th>type</th>\n",
       "        <th>notnull</th>\n",
       "        <th>dflt_value</th>\n",
       "        <th>pk</th>\n",
       "    </tr>\n",
       "    <tr>\n",
       "        <td>0</td>\n",
       "        <td>index</td>\n",
       "        <td>INTEGER</td>\n",
       "        <td>0</td>\n",
       "        <td>None</td>\n",
       "        <td>0</td>\n",
       "    </tr>\n",
       "    <tr>\n",
       "        <td>1</td>\n",
       "        <td>movieId</td>\n",
       "        <td>INTEGER</td>\n",
       "        <td>0</td>\n",
       "        <td>None</td>\n",
       "        <td>0</td>\n",
       "    </tr>\n",
       "    <tr>\n",
       "        <td>2</td>\n",
       "        <td>title</td>\n",
       "        <td>TEXT</td>\n",
       "        <td>0</td>\n",
       "        <td>None</td>\n",
       "        <td>0</td>\n",
       "    </tr>\n",
       "    <tr>\n",
       "        <td>3</td>\n",
       "        <td>genres</td>\n",
       "        <td>TEXT</td>\n",
       "        <td>0</td>\n",
       "        <td>None</td>\n",
       "        <td>0</td>\n",
       "    </tr>\n",
       "</table>"
      ],
      "text/plain": [
       "[(0, 'index', 'INTEGER', 0, None, 0),\n",
       " (1, 'movieId', 'INTEGER', 0, None, 0),\n",
       " (2, 'title', 'TEXT', 0, None, 0),\n",
       " (3, 'genres', 'TEXT', 0, None, 0)]"
      ]
     },
     "execution_count": 7,
     "metadata": {},
     "output_type": "execute_result"
    }
   ],
   "source": [
    "%%sql\n",
    "\n",
    "PRAGMA table_info('movies')"
   ]
  },
  {
   "cell_type": "markdown",
   "metadata": {},
   "source": [
    "**movieId** es la *primary key*. Esta tabla no tiene *foreign key*.\n",
    "\n",
    "<br>"
   ]
  },
  {
   "cell_type": "markdown",
   "metadata": {},
   "source": [
    "**2. ¿Cómo evoluciona el rating de '12 Angry Men' a lo largo de los años? Haz un gráfico de la evolución**"
   ]
  },
  {
   "cell_type": "markdown",
   "metadata": {},
   "source": [
    "Comprobamos qué películas existen llamadas **12 Angry Men**."
   ]
  },
  {
   "cell_type": "code",
   "execution_count": 8,
   "metadata": {},
   "outputs": [
    {
     "name": "stdout",
     "output_type": "stream",
     "text": [
      "Done.\n"
     ]
    },
    {
     "data": {
      "text/html": [
       "<table>\n",
       "    <tr>\n",
       "        <th>movieId</th>\n",
       "        <th>title</th>\n",
       "    </tr>\n",
       "    <tr>\n",
       "        <td>1203</td>\n",
       "        <td>12 Angry Men (1957)</td>\n",
       "    </tr>\n",
       "    <tr>\n",
       "        <td>77846</td>\n",
       "        <td>12 Angry Men (1997)</td>\n",
       "    </tr>\n",
       "</table>"
      ],
      "text/plain": [
       "[(1203, '12 Angry Men (1957)'), (77846, '12 Angry Men (1997)')]"
      ]
     },
     "execution_count": 8,
     "metadata": {},
     "output_type": "execute_result"
    }
   ],
   "source": [
    "%%sql\n",
    "\n",
    "SELECT movieId, title\n",
    "FROM movies m\n",
    "WHERE title LIKE '12 Angry Men%'"
   ]
  },
  {
   "cell_type": "markdown",
   "metadata": {},
   "source": [
    "Dado que existen dos, en diferentes años, vamos a comparar sus *ratings* mediante la siguiente *query*. Esta *query* cruza las tablas **movies** y **ratings** para sacar la media de las puntuaciones de cada película, agrupando por título y por año."
   ]
  },
  {
   "cell_type": "code",
   "execution_count": 9,
   "metadata": {},
   "outputs": [
    {
     "name": "stdout",
     "output_type": "stream",
     "text": [
      "Done.\n"
     ]
    },
    {
     "data": {
      "text/html": [
       "<table>\n",
       "    <tr>\n",
       "        <th>title</th>\n",
       "        <th>year</th>\n",
       "        <th>avg_rating</th>\n",
       "    </tr>\n",
       "    <tr>\n",
       "        <td>12 Angry Men (1957)</td>\n",
       "        <td>1996</td>\n",
       "        <td>4.0</td>\n",
       "    </tr>\n",
       "    <tr>\n",
       "        <td>12 Angry Men (1957)</td>\n",
       "        <td>1997</td>\n",
       "        <td>4.4</td>\n",
       "    </tr>\n",
       "    <tr>\n",
       "        <td>12 Angry Men (1957)</td>\n",
       "        <td>1998</td>\n",
       "        <td>3.5</td>\n",
       "    </tr>\n",
       "    <tr>\n",
       "        <td>12 Angry Men (1957)</td>\n",
       "        <td>1999</td>\n",
       "        <td>4.5</td>\n",
       "    </tr>\n",
       "    <tr>\n",
       "        <td>12 Angry Men (1957)</td>\n",
       "        <td>2000</td>\n",
       "        <td>4.545454545454546</td>\n",
       "    </tr>\n",
       "</table>"
      ],
      "text/plain": [
       "[('12 Angry Men (1957)', '1996', 4.0),\n",
       " ('12 Angry Men (1957)', '1997', 4.4),\n",
       " ('12 Angry Men (1957)', '1998', 3.5),\n",
       " ('12 Angry Men (1957)', '1999', 4.5),\n",
       " ('12 Angry Men (1957)', '2000', 4.545454545454546)]"
      ]
     },
     "execution_count": 9,
     "metadata": {},
     "output_type": "execute_result"
    }
   ],
   "source": [
    "%%sql\n",
    "\n",
    "SELECT title, \n",
    "    strftime('%Y', timestamp) AS year,\n",
    "    avg(rating) AS avg_rating\n",
    "FROM movies m\n",
    "INNER JOIN ratings r ON m.movieId = r.movieId\n",
    "WHERE title LIKE '12 Angry Men%'\n",
    "GROUP BY title, \n",
    "    year\n",
    "ORDER BY title, year\n",
    "LIMIT 5"
   ]
  },
  {
   "cell_type": "markdown",
   "metadata": {},
   "source": [
    "No obstante, para poder hacer una gráfica del resultado de la anterior *query*, hay que crear un dataframe de la siguiente manera realizando exactamente la misma consulta anterior:"
   ]
  },
  {
   "cell_type": "code",
   "execution_count": 10,
   "metadata": {},
   "outputs": [
    {
     "data": {
      "text/html": [
       "<div>\n",
       "<style scoped>\n",
       "    .dataframe tbody tr th:only-of-type {\n",
       "        vertical-align: middle;\n",
       "    }\n",
       "\n",
       "    .dataframe tbody tr th {\n",
       "        vertical-align: top;\n",
       "    }\n",
       "\n",
       "    .dataframe thead th {\n",
       "        text-align: right;\n",
       "    }\n",
       "</style>\n",
       "<table border=\"1\" class=\"dataframe\">\n",
       "  <thead>\n",
       "    <tr style=\"text-align: right;\">\n",
       "      <th></th>\n",
       "      <th>title</th>\n",
       "      <th>year</th>\n",
       "      <th>avg_rating</th>\n",
       "    </tr>\n",
       "  </thead>\n",
       "  <tbody>\n",
       "    <tr>\n",
       "      <th>0</th>\n",
       "      <td>12 Angry Men (1957)</td>\n",
       "      <td>1996</td>\n",
       "      <td>4.000000</td>\n",
       "    </tr>\n",
       "    <tr>\n",
       "      <th>1</th>\n",
       "      <td>12 Angry Men (1957)</td>\n",
       "      <td>1997</td>\n",
       "      <td>4.400000</td>\n",
       "    </tr>\n",
       "    <tr>\n",
       "      <th>2</th>\n",
       "      <td>12 Angry Men (1957)</td>\n",
       "      <td>1998</td>\n",
       "      <td>3.500000</td>\n",
       "    </tr>\n",
       "    <tr>\n",
       "      <th>3</th>\n",
       "      <td>12 Angry Men (1957)</td>\n",
       "      <td>1999</td>\n",
       "      <td>4.500000</td>\n",
       "    </tr>\n",
       "    <tr>\n",
       "      <th>4</th>\n",
       "      <td>12 Angry Men (1957)</td>\n",
       "      <td>2000</td>\n",
       "      <td>4.545455</td>\n",
       "    </tr>\n",
       "    <tr>\n",
       "      <th>5</th>\n",
       "      <td>12 Angry Men (1957)</td>\n",
       "      <td>2001</td>\n",
       "      <td>4.500000</td>\n",
       "    </tr>\n",
       "    <tr>\n",
       "      <th>6</th>\n",
       "      <td>12 Angry Men (1957)</td>\n",
       "      <td>2002</td>\n",
       "      <td>3.750000</td>\n",
       "    </tr>\n",
       "    <tr>\n",
       "      <th>7</th>\n",
       "      <td>12 Angry Men (1957)</td>\n",
       "      <td>2003</td>\n",
       "      <td>3.500000</td>\n",
       "    </tr>\n",
       "    <tr>\n",
       "      <th>8</th>\n",
       "      <td>12 Angry Men (1957)</td>\n",
       "      <td>2004</td>\n",
       "      <td>3.000000</td>\n",
       "    </tr>\n",
       "    <tr>\n",
       "      <th>9</th>\n",
       "      <td>12 Angry Men (1957)</td>\n",
       "      <td>2005</td>\n",
       "      <td>4.500000</td>\n",
       "    </tr>\n",
       "    <tr>\n",
       "      <th>10</th>\n",
       "      <td>12 Angry Men (1957)</td>\n",
       "      <td>2006</td>\n",
       "      <td>4.250000</td>\n",
       "    </tr>\n",
       "    <tr>\n",
       "      <th>11</th>\n",
       "      <td>12 Angry Men (1957)</td>\n",
       "      <td>2007</td>\n",
       "      <td>5.000000</td>\n",
       "    </tr>\n",
       "    <tr>\n",
       "      <th>12</th>\n",
       "      <td>12 Angry Men (1957)</td>\n",
       "      <td>2008</td>\n",
       "      <td>3.500000</td>\n",
       "    </tr>\n",
       "    <tr>\n",
       "      <th>13</th>\n",
       "      <td>12 Angry Men (1957)</td>\n",
       "      <td>2009</td>\n",
       "      <td>4.250000</td>\n",
       "    </tr>\n",
       "    <tr>\n",
       "      <th>14</th>\n",
       "      <td>12 Angry Men (1957)</td>\n",
       "      <td>2010</td>\n",
       "      <td>5.000000</td>\n",
       "    </tr>\n",
       "    <tr>\n",
       "      <th>15</th>\n",
       "      <td>12 Angry Men (1957)</td>\n",
       "      <td>2011</td>\n",
       "      <td>4.250000</td>\n",
       "    </tr>\n",
       "    <tr>\n",
       "      <th>16</th>\n",
       "      <td>12 Angry Men (1957)</td>\n",
       "      <td>2012</td>\n",
       "      <td>4.125000</td>\n",
       "    </tr>\n",
       "    <tr>\n",
       "      <th>17</th>\n",
       "      <td>12 Angry Men (1957)</td>\n",
       "      <td>2013</td>\n",
       "      <td>5.000000</td>\n",
       "    </tr>\n",
       "    <tr>\n",
       "      <th>18</th>\n",
       "      <td>12 Angry Men (1957)</td>\n",
       "      <td>2014</td>\n",
       "      <td>4.666667</td>\n",
       "    </tr>\n",
       "    <tr>\n",
       "      <th>19</th>\n",
       "      <td>12 Angry Men (1957)</td>\n",
       "      <td>2015</td>\n",
       "      <td>4.750000</td>\n",
       "    </tr>\n",
       "    <tr>\n",
       "      <th>20</th>\n",
       "      <td>12 Angry Men (1957)</td>\n",
       "      <td>2016</td>\n",
       "      <td>4.000000</td>\n",
       "    </tr>\n",
       "    <tr>\n",
       "      <th>21</th>\n",
       "      <td>12 Angry Men (1997)</td>\n",
       "      <td>2011</td>\n",
       "      <td>3.500000</td>\n",
       "    </tr>\n",
       "    <tr>\n",
       "      <th>22</th>\n",
       "      <td>12 Angry Men (1997)</td>\n",
       "      <td>2012</td>\n",
       "      <td>5.000000</td>\n",
       "    </tr>\n",
       "    <tr>\n",
       "      <th>23</th>\n",
       "      <td>12 Angry Men (1997)</td>\n",
       "      <td>2013</td>\n",
       "      <td>4.000000</td>\n",
       "    </tr>\n",
       "    <tr>\n",
       "      <th>24</th>\n",
       "      <td>12 Angry Men (1997)</td>\n",
       "      <td>2015</td>\n",
       "      <td>4.000000</td>\n",
       "    </tr>\n",
       "  </tbody>\n",
       "</table>\n",
       "</div>"
      ],
      "text/plain": [
       "                  title  year  avg_rating\n",
       "0   12 Angry Men (1957)  1996    4.000000\n",
       "1   12 Angry Men (1957)  1997    4.400000\n",
       "2   12 Angry Men (1957)  1998    3.500000\n",
       "3   12 Angry Men (1957)  1999    4.500000\n",
       "4   12 Angry Men (1957)  2000    4.545455\n",
       "5   12 Angry Men (1957)  2001    4.500000\n",
       "6   12 Angry Men (1957)  2002    3.750000\n",
       "7   12 Angry Men (1957)  2003    3.500000\n",
       "8   12 Angry Men (1957)  2004    3.000000\n",
       "9   12 Angry Men (1957)  2005    4.500000\n",
       "10  12 Angry Men (1957)  2006    4.250000\n",
       "11  12 Angry Men (1957)  2007    5.000000\n",
       "12  12 Angry Men (1957)  2008    3.500000\n",
       "13  12 Angry Men (1957)  2009    4.250000\n",
       "14  12 Angry Men (1957)  2010    5.000000\n",
       "15  12 Angry Men (1957)  2011    4.250000\n",
       "16  12 Angry Men (1957)  2012    4.125000\n",
       "17  12 Angry Men (1957)  2013    5.000000\n",
       "18  12 Angry Men (1957)  2014    4.666667\n",
       "19  12 Angry Men (1957)  2015    4.750000\n",
       "20  12 Angry Men (1957)  2016    4.000000\n",
       "21  12 Angry Men (1997)  2011    3.500000\n",
       "22  12 Angry Men (1997)  2012    5.000000\n",
       "23  12 Angry Men (1997)  2013    4.000000\n",
       "24  12 Angry Men (1997)  2015    4.000000"
      ]
     },
     "execution_count": 10,
     "metadata": {},
     "output_type": "execute_result"
    }
   ],
   "source": [
    "conn = sqlite3.connect('data/movies/movielens.sqlite')\n",
    "\n",
    "query = \"\"\"\n",
    "    SELECT title, \n",
    "        strftime('%Y', timestamp) AS year,\n",
    "        avg(rating) AS avg_rating\n",
    "    FROM movies m\n",
    "    INNER JOIN ratings r ON m.movieId = r.movieId\n",
    "    WHERE title LIKE '12 Angry Men%'\n",
    "    GROUP BY title, \n",
    "        year\n",
    "    ORDER BY title, year\n",
    "\"\"\"\n",
    "\n",
    "df_film = pd.read_sql(query, conn)\n",
    "df_film"
   ]
  },
  {
   "cell_type": "markdown",
   "metadata": {},
   "source": [
    "Por último, creamos la gráfica:"
   ]
  },
  {
   "cell_type": "code",
   "execution_count": 11,
   "metadata": {},
   "outputs": [
    {
     "data": {
      "text/plain": [
       "<matplotlib.legend.Legend at 0x7fb345ca6cf8>"
      ]
     },
     "execution_count": 11,
     "metadata": {},
     "output_type": "execute_result"
    },
    {
     "data": {
      "image/png": "[encoded data removed]",
      "text/plain": [
       "<matplotlib.figure.Figure at 0x7fb347d4d978>"
      ]
     },
     "metadata": {},
     "output_type": "display_data"
    }
   ],
   "source": [
    "df_1957_film = df_film[df_film.title == '12 Angry Men (1957)']\n",
    "df_1997_film = df_film[df_film.title == '12 Angry Men (1997)']\n",
    "\n",
    "plt.plot(df_1957_film.year, df_1957_film.avg_rating, label = '12 Angry Men (1957)')\n",
    "plt.plot(df_1997_film.year, df_1997_film.avg_rating, label = '12 Angry Men (1997)')\n",
    "plt.legend()"
   ]
  },
  {
   "cell_type": "markdown",
   "metadata": {},
   "source": [
    "** 3. ¿Cuál es la película peor valorada de cada año? **"
   ]
  },
  {
   "cell_type": "markdown",
   "metadata": {},
   "source": [
    "Para poder conocer cuál es la película peor valorada de cada año deberemos usar *subquerys*. Primero, debemos saber la valoración de cada película por año para, finalmente, sacar la valoración mínima agrupando únicamente por año. Hay que tener en cuenta que en caso de que haya dos películas repetidas el mismo año, la función **min** ordena los valores por la primera columna que se especifique en el **group by**, por lo que nos puede llevar a resultados diferentes. Para solucionar esto habría que hacer una *query* mucho más compleja que está fuera del alcance de este ejercicio. No obstante, sí que vamos a mostrar ambos ejemplos."
   ]
  },
  {
   "cell_type": "code",
   "execution_count": 12,
   "metadata": {},
   "outputs": [
    {
     "name": "stdout",
     "output_type": "stream",
     "text": [
      "Done.\n"
     ]
    },
    {
     "data": {
      "text/html": [
       "<table>\n",
       "    <tr>\n",
       "        <th>movieId</th>\n",
       "        <th>title</th>\n",
       "        <th>year</th>\n",
       "        <th>avg_rating</th>\n",
       "    </tr>\n",
       "    <tr>\n",
       "        <td>42</td>\n",
       "        <td>Dead Presidents (1995)</td>\n",
       "        <td>1996</td>\n",
       "        <td>1.0</td>\n",
       "    </tr>\n",
       "    <tr>\n",
       "        <td>737</td>\n",
       "        <td>Barb Wire (1996)</td>\n",
       "        <td>1996</td>\n",
       "        <td>1.0</td>\n",
       "    </tr>\n",
       "</table>"
      ],
      "text/plain": [
       "[(42, 'Dead Presidents (1995)', '1996', 1.0),\n",
       " (737, 'Barb Wire (1996)', '1996', 1.0)]"
      ]
     },
     "execution_count": 12,
     "metadata": {},
     "output_type": "execute_result"
    }
   ],
   "source": [
    "%%sql\n",
    "\n",
    "SELECT m.movieId,\n",
    "    title,\n",
    "    strftime('%Y', timestamp) AS year,\n",
    "    min(rating) AS avg_rating\n",
    "FROM movies m\n",
    "    INNER JOIN ratings r ON m.movieId = r.movieId\n",
    "where strftime('%Y', timestamp) = '1996'\n",
    "    and m.movieId in (42, 737)\n",
    "group by m.movieId, year"
   ]
  },
  {
   "cell_type": "code",
   "execution_count": 13,
   "metadata": {},
   "outputs": [
    {
     "name": "stdout",
     "output_type": "stream",
     "text": [
      "Done.\n"
     ]
    },
    {
     "data": {
      "text/html": [
       "<table>\n",
       "    <tr>\n",
       "        <th>movieId</th>\n",
       "        <th>title</th>\n",
       "        <th>year</th>\n",
       "        <th>avg_rating</th>\n",
       "    </tr>\n",
       "    <tr>\n",
       "        <td>737</td>\n",
       "        <td>Barb Wire (1996)</td>\n",
       "        <td>1996</td>\n",
       "        <td>1.0</td>\n",
       "    </tr>\n",
       "    <tr>\n",
       "        <td>42</td>\n",
       "        <td>Dead Presidents (1995)</td>\n",
       "        <td>1996</td>\n",
       "        <td>1.0</td>\n",
       "    </tr>\n",
       "</table>"
      ],
      "text/plain": [
       "[(737, 'Barb Wire (1996)', '1996', 1.0),\n",
       " (42, 'Dead Presidents (1995)', '1996', 1.0)]"
      ]
     },
     "execution_count": 13,
     "metadata": {},
     "output_type": "execute_result"
    }
   ],
   "source": [
    "%%sql\n",
    "\n",
    "SELECT m.movieId,\n",
    "    title,\n",
    "    strftime('%Y', timestamp) AS year,\n",
    "    min(rating) AS avg_rating\n",
    "FROM movies m\n",
    "    INNER JOIN ratings r ON m.movieId = r.movieId\n",
    "where strftime('%Y', timestamp) = '1996'\n",
    "    and m.movieId in (42, 737)\n",
    "group by title, year"
   ]
  },
  {
   "cell_type": "markdown",
   "metadata": {},
   "source": [
    "En las dos *querys* anteriores, la primera está agrupada por **movieId** y **year**, y automáticamente el gestor de BBDD devuelve el resultado ordenado por **movieId**; mientras que en la segunda, se está haciendo una agrupación por **title** y por **year**, devolviendo el resultado ordenador por **title**.\n",
    "\n",
    "Por lo tanto, mostramos el resultado final de ambas formas a continuación."
   ]
  },
  {
   "cell_type": "code",
   "execution_count": 14,
   "metadata": {},
   "outputs": [
    {
     "name": "stdout",
     "output_type": "stream",
     "text": [
      "Done.\n"
     ]
    },
    {
     "data": {
      "text/html": [
       "<table>\n",
       "    <tr>\n",
       "        <th>title</th>\n",
       "        <th>year</th>\n",
       "        <th>rating</th>\n",
       "    </tr>\n",
       "    <tr>\n",
       "        <td>Get Shorty (1995)</td>\n",
       "        <td>1995</td>\n",
       "        <td>3.0</td>\n",
       "    </tr>\n",
       "    <tr>\n",
       "        <td>Dead Presidents (1995)</td>\n",
       "        <td>1996</td>\n",
       "        <td>1.0</td>\n",
       "    </tr>\n",
       "    <tr>\n",
       "        <td>Powder (1995)</td>\n",
       "        <td>1997</td>\n",
       "        <td>1.0</td>\n",
       "    </tr>\n",
       "    <tr>\n",
       "        <td>Lawnmower Man 2: Beyond Cyberspace (1996)</td>\n",
       "        <td>1998</td>\n",
       "        <td>1.0</td>\n",
       "    </tr>\n",
       "    <tr>\n",
       "        <td>Waiting to Exhale (1995)</td>\n",
       "        <td>1999</td>\n",
       "        <td>1.0</td>\n",
       "    </tr>\n",
       "    <tr>\n",
       "        <td>Cutthroat Island (1995)</td>\n",
       "        <td>2000</td>\n",
       "        <td>1.0</td>\n",
       "    </tr>\n",
       "    <tr>\n",
       "        <td>Tom and Huck (1995)</td>\n",
       "        <td>2001</td>\n",
       "        <td>1.0</td>\n",
       "    </tr>\n",
       "    <tr>\n",
       "        <td>Bio-Dome (1996)</td>\n",
       "        <td>2002</td>\n",
       "        <td>1.0</td>\n",
       "    </tr>\n",
       "    <tr>\n",
       "        <td>Mr. Wrong (1996)</td>\n",
       "        <td>2003</td>\n",
       "        <td>0.5</td>\n",
       "    </tr>\n",
       "    <tr>\n",
       "        <td>Fair Game (1995)</td>\n",
       "        <td>2004</td>\n",
       "        <td>0.5</td>\n",
       "    </tr>\n",
       "    <tr>\n",
       "        <td>My Family (1995)</td>\n",
       "        <td>2005</td>\n",
       "        <td>0.5</td>\n",
       "    </tr>\n",
       "    <tr>\n",
       "        <td>Wyatt Earp (1994)</td>\n",
       "        <td>2006</td>\n",
       "        <td>0.5</td>\n",
       "    </tr>\n",
       "    <tr>\n",
       "        <td>Sabrina (1995)</td>\n",
       "        <td>2007</td>\n",
       "        <td>0.5</td>\n",
       "    </tr>\n",
       "    <tr>\n",
       "        <td>Beverly Hills Cop III (1994)</td>\n",
       "        <td>2008</td>\n",
       "        <td>0.5</td>\n",
       "    </tr>\n",
       "    <tr>\n",
       "        <td>Poetic Justice (1993)</td>\n",
       "        <td>2009</td>\n",
       "        <td>0.5</td>\n",
       "    </tr>\n",
       "    <tr>\n",
       "        <td>Brady Bunch Movie, The (1995)</td>\n",
       "        <td>2010</td>\n",
       "        <td>0.5</td>\n",
       "    </tr>\n",
       "    <tr>\n",
       "        <td>Bio-Dome (1996)</td>\n",
       "        <td>2011</td>\n",
       "        <td>0.5</td>\n",
       "    </tr>\n",
       "    <tr>\n",
       "        <td>Don&#x27;t Be a Menace to South Central While Drinking Your Juice in the Hood (1996)</td>\n",
       "        <td>2012</td>\n",
       "        <td>0.5</td>\n",
       "    </tr>\n",
       "    <tr>\n",
       "        <td>Perfect Blue (1997)</td>\n",
       "        <td>2013</td>\n",
       "        <td>0.5</td>\n",
       "    </tr>\n",
       "    <tr>\n",
       "        <td>Batman Forever (1995)</td>\n",
       "        <td>2014</td>\n",
       "        <td>0.5</td>\n",
       "    </tr>\n",
       "    <tr>\n",
       "        <td>Rage: Carrie 2, The (1999)</td>\n",
       "        <td>2015</td>\n",
       "        <td>0.5</td>\n",
       "    </tr>\n",
       "    <tr>\n",
       "        <td>Junior (1994)</td>\n",
       "        <td>2016</td>\n",
       "        <td>0.5</td>\n",
       "    </tr>\n",
       "</table>"
      ],
      "text/plain": [
       "[('Get Shorty (1995)', '1995', 3.0),\n",
       " ('Dead Presidents (1995)', '1996', 1.0),\n",
       " ('Powder (1995)', '1997', 1.0),\n",
       " ('Lawnmower Man 2: Beyond Cyberspace (1996)', '1998', 1.0),\n",
       " ('Waiting to Exhale (1995)', '1999', 1.0),\n",
       " ('Cutthroat Island (1995)', '2000', 1.0),\n",
       " ('Tom and Huck (1995)', '2001', 1.0),\n",
       " ('Bio-Dome (1996)', '2002', 1.0),\n",
       " ('Mr. Wrong (1996)', '2003', 0.5),\n",
       " ('Fair Game (1995)', '2004', 0.5),\n",
       " ('My Family (1995)', '2005', 0.5),\n",
       " ('Wyatt Earp (1994)', '2006', 0.5),\n",
       " ('Sabrina (1995)', '2007', 0.5),\n",
       " ('Beverly Hills Cop III (1994)', '2008', 0.5),\n",
       " ('Poetic Justice (1993)', '2009', 0.5),\n",
       " ('Brady Bunch Movie, The (1995)', '2010', 0.5),\n",
       " ('Bio-Dome (1996)', '2011', 0.5),\n",
       " (\"Don't Be a Menace to South Central While Drinking Your Juice in the Hood (1996)\", '2012', 0.5),\n",
       " ('Perfect Blue (1997)', '2013', 0.5),\n",
       " ('Batman Forever (1995)', '2014', 0.5),\n",
       " ('Rage: Carrie 2, The (1999)', '2015', 0.5),\n",
       " ('Junior (1994)', '2016', 0.5)]"
      ]
     },
     "execution_count": 14,
     "metadata": {},
     "output_type": "execute_result"
    }
   ],
   "source": [
    "%%sql\n",
    "\n",
    "SELECT title,\n",
    "    year,\n",
    "    min(avg_rating) AS rating\n",
    "FROM (\n",
    "    SELECT title,\n",
    "        strftime('%Y', timestamp) AS year,\n",
    "        avg(rating) AS avg_rating\n",
    "    FROM movies m\n",
    "        INNER JOIN ratings r ON m.movieId = r.movieId\n",
    "    GROUP BY r.movieId, year\n",
    ")\n",
    "GROUP BY year\n",
    "ORDER BY 2"
   ]
  },
  {
   "cell_type": "code",
   "execution_count": 15,
   "metadata": {},
   "outputs": [
    {
     "name": "stdout",
     "output_type": "stream",
     "text": [
      "Done.\n"
     ]
    },
    {
     "data": {
      "text/html": [
       "<table>\n",
       "    <tr>\n",
       "        <th>title</th>\n",
       "        <th>year</th>\n",
       "        <th>rating</th>\n",
       "    </tr>\n",
       "    <tr>\n",
       "        <td>Fish Called Wanda, A (1988)</td>\n",
       "        <td>1995</td>\n",
       "        <td>3.0</td>\n",
       "    </tr>\n",
       "    <tr>\n",
       "        <td>Barb Wire (1996)</td>\n",
       "        <td>1996</td>\n",
       "        <td>1.0</td>\n",
       "    </tr>\n",
       "    <tr>\n",
       "        <td>Airheads (1994)</td>\n",
       "        <td>1997</td>\n",
       "        <td>1.0</td>\n",
       "    </tr>\n",
       "    <tr>\n",
       "        <td>American Buffalo (1996)</td>\n",
       "        <td>1998</td>\n",
       "        <td>1.0</td>\n",
       "    </tr>\n",
       "    <tr>\n",
       "        <td>Adventures of Elmo in Grouchland, The (1999)</td>\n",
       "        <td>1999</td>\n",
       "        <td>1.0</td>\n",
       "    </tr>\n",
       "    <tr>\n",
       "        <td>102 Dalmatians (2000)</td>\n",
       "        <td>2000</td>\n",
       "        <td>1.0</td>\n",
       "    </tr>\n",
       "    <tr>\n",
       "        <td>6th Man, The (Sixth Man, The) (1997)</td>\n",
       "        <td>2001</td>\n",
       "        <td>1.0</td>\n",
       "    </tr>\n",
       "    <tr>\n",
       "        <td>2 ou 3 choses que je sais d&#x27;elle (2 or 3 Things I Know About Her) (1967)</td>\n",
       "        <td>2002</td>\n",
       "        <td>1.0</td>\n",
       "    </tr>\n",
       "    <tr>\n",
       "        <td>Angel at My Table, An (1990)</td>\n",
       "        <td>2003</td>\n",
       "        <td>0.5</td>\n",
       "    </tr>\n",
       "    <tr>\n",
       "        <td>13 Ghosts (1960)</td>\n",
       "        <td>2004</td>\n",
       "        <td>0.5</td>\n",
       "    </tr>\n",
       "    <tr>\n",
       "        <td>3 Ninjas: High Noon On Mega Mountain (1998)</td>\n",
       "        <td>2005</td>\n",
       "        <td>0.5</td>\n",
       "    </tr>\n",
       "    <tr>\n",
       "        <td>Arthur 2: On the Rocks (1988)</td>\n",
       "        <td>2006</td>\n",
       "        <td>0.5</td>\n",
       "    </tr>\n",
       "    <tr>\n",
       "        <td>Bewitched (2005)</td>\n",
       "        <td>2007</td>\n",
       "        <td>0.5</td>\n",
       "    </tr>\n",
       "    <tr>\n",
       "        <td>American Pie 2 (2001)</td>\n",
       "        <td>2008</td>\n",
       "        <td>0.5</td>\n",
       "    </tr>\n",
       "    <tr>\n",
       "        <td>&quot;Great Performances&quot; Cats (1998)</td>\n",
       "        <td>2009</td>\n",
       "        <td>0.5</td>\n",
       "    </tr>\n",
       "    <tr>\n",
       "        <td>2 Fast 2 Furious (Fast and the Furious 2, The) (2003)</td>\n",
       "        <td>2010</td>\n",
       "        <td>0.5</td>\n",
       "    </tr>\n",
       "    <tr>\n",
       "        <td>Adventures of Sharkboy and Lavagirl 3-D, The (2005)</td>\n",
       "        <td>2011</td>\n",
       "        <td>0.5</td>\n",
       "    </tr>\n",
       "    <tr>\n",
       "        <td>American Tail, An (1986)</td>\n",
       "        <td>2012</td>\n",
       "        <td>0.5</td>\n",
       "    </tr>\n",
       "    <tr>\n",
       "        <td>Beginners (2010)</td>\n",
       "        <td>2013</td>\n",
       "        <td>0.5</td>\n",
       "    </tr>\n",
       "    <tr>\n",
       "        <td>2012 (2009)</td>\n",
       "        <td>2014</td>\n",
       "        <td>0.5</td>\n",
       "    </tr>\n",
       "    <tr>\n",
       "        <td>102 Dalmatians (2000)</td>\n",
       "        <td>2015</td>\n",
       "        <td>0.5</td>\n",
       "    </tr>\n",
       "    <tr>\n",
       "        <td>Adventures of Mary-Kate and Ashley, The: The Case of the United States Navy Adventure (1997)</td>\n",
       "        <td>2016</td>\n",
       "        <td>0.5</td>\n",
       "    </tr>\n",
       "</table>"
      ],
      "text/plain": [
       "[('Fish Called Wanda, A (1988)', '1995', 3.0),\n",
       " ('Barb Wire (1996)', '1996', 1.0),\n",
       " ('Airheads (1994)', '1997', 1.0),\n",
       " ('American Buffalo (1996)', '1998', 1.0),\n",
       " ('Adventures of Elmo in Grouchland, The (1999)', '1999', 1.0),\n",
       " ('102 Dalmatians (2000)', '2000', 1.0),\n",
       " ('6th Man, The (Sixth Man, The) (1997)', '2001', 1.0),\n",
       " (\"2 ou 3 choses que je sais d'elle (2 or 3 Things I Know About Her) (1967)\", '2002', 1.0),\n",
       " ('Angel at My Table, An (1990)', '2003', 0.5),\n",
       " ('13 Ghosts (1960)', '2004', 0.5),\n",
       " ('3 Ninjas: High Noon On Mega Mountain (1998)', '2005', 0.5),\n",
       " ('Arthur 2: On the Rocks (1988)', '2006', 0.5),\n",
       " ('Bewitched (2005)', '2007', 0.5),\n",
       " ('American Pie 2 (2001)', '2008', 0.5),\n",
       " ('\"Great Performances\" Cats (1998)', '2009', 0.5),\n",
       " ('2 Fast 2 Furious (Fast and the Furious 2, The) (2003)', '2010', 0.5),\n",
       " ('Adventures of Sharkboy and Lavagirl 3-D, The (2005)', '2011', 0.5),\n",
       " ('American Tail, An (1986)', '2012', 0.5),\n",
       " ('Beginners (2010)', '2013', 0.5),\n",
       " ('2012 (2009)', '2014', 0.5),\n",
       " ('102 Dalmatians (2000)', '2015', 0.5),\n",
       " ('Adventures of Mary-Kate and Ashley, The: The Case of the United States Navy Adventure (1997)', '2016', 0.5)]"
      ]
     },
     "execution_count": 15,
     "metadata": {},
     "output_type": "execute_result"
    }
   ],
   "source": [
    "%%sql\n",
    "\n",
    "SELECT title,\n",
    "    year,\n",
    "    min(avg_rating) AS rating\n",
    "FROM (\n",
    "    SELECT title,\n",
    "        strftime('%Y', timestamp) AS year,\n",
    "        avg(rating) AS avg_rating\n",
    "    FROM movies m\n",
    "        INNER JOIN ratings r ON m.movieId = r.movieId\n",
    "    GROUP BY title, year\n",
    ")\n",
    "GROUP BY year\n",
    "ORDER BY 2"
   ]
  },
  {
   "cell_type": "markdown",
   "metadata": {},
   "source": [
    "** 4. ¿Quién es el usuario más activo y desde cuándo lleva activo? **"
   ]
  },
  {
   "cell_type": "markdown",
   "metadata": {},
   "source": [
    "Para saber el usuario más activo, basta con contar el número de valoraciones que ha hecho cada usuario y, finalmente, coger el que tenga más mediante la función **max**."
   ]
  },
  {
   "cell_type": "code",
   "execution_count": 16,
   "metadata": {},
   "outputs": [
    {
     "name": "stdout",
     "output_type": "stream",
     "text": [
      "Done.\n"
     ]
    },
    {
     "data": {
      "text/html": [
       "<table>\n",
       "    <tr>\n",
       "        <th>userId</th>\n",
       "        <th>n_ratings</th>\n",
       "        <th>first_rating</th>\n",
       "    </tr>\n",
       "    <tr>\n",
       "        <td>547</td>\n",
       "        <td>2391</td>\n",
       "        <td>2000-11-21 03:25:09</td>\n",
       "    </tr>\n",
       "</table>"
      ],
      "text/plain": [
       "[(547, 2391, '2000-11-21 03:25:09')]"
      ]
     },
     "execution_count": 16,
     "metadata": {},
     "output_type": "execute_result"
    }
   ],
   "source": [
    "%%sql\n",
    "\n",
    "SELECT userId, \n",
    "    max(n_ratings) as n_ratings,\n",
    "    first_rating\n",
    "FROM (\n",
    "    SELECT userId, \n",
    "        count(*) as n_ratings,\n",
    "        min(timestamp) as first_rating\n",
    "    FROM ratings\n",
    "    GROUP BY userId\n",
    ")"
   ]
  },
  {
   "cell_type": "markdown",
   "metadata": {},
   "source": [
    "** 5. ¿Cuales son sus 5 películas favorítas del año 2016? **"
   ]
  },
  {
   "cell_type": "markdown",
   "metadata": {},
   "source": [
    "Para realizar este apartado, utilizamos la *query* usada en el ejercicio anterior para extraer el *id* del usuario más activo (para no hacer *[Hard-Code](https://es.wikipedia.org/wiki/Hard_code)*). Esta la unimos con **movies** y **ratings** para conocer cuáles han sido sus 5 películas favoritas del 2016."
   ]
  },
  {
   "cell_type": "code",
   "execution_count": 17,
   "metadata": {
    "scrolled": false
   },
   "outputs": [
    {
     "name": "stdout",
     "output_type": "stream",
     "text": [
      "Done.\n"
     ]
    },
    {
     "data": {
      "text/html": [
       "<table>\n",
       "    <tr>\n",
       "        <th>title</th>\n",
       "        <th>userId</th>\n",
       "        <th>rating</th>\n",
       "        <th>timestamp</th>\n",
       "    </tr>\n",
       "    <tr>\n",
       "        <td>Making a Murderer (2015)</td>\n",
       "        <td>547</td>\n",
       "        <td>5.0</td>\n",
       "        <td>2016-02-02 17:03:02</td>\n",
       "    </tr>\n",
       "    <tr>\n",
       "        <td>The Beatles: Eight Days a Week - The Touring Years (2016)</td>\n",
       "        <td>547</td>\n",
       "        <td>5.0</td>\n",
       "        <td>2016-10-14 04:27:19</td>\n",
       "    </tr>\n",
       "    <tr>\n",
       "        <td>Lust, Caution (Se, jie) (2007)</td>\n",
       "        <td>547</td>\n",
       "        <td>4.5</td>\n",
       "        <td>2016-08-30 15:10:39</td>\n",
       "    </tr>\n",
       "    <tr>\n",
       "        <td>Impossible, The (Imposible, Lo) (2012)</td>\n",
       "        <td>547</td>\n",
       "        <td>4.5</td>\n",
       "        <td>2016-03-12 14:28:34</td>\n",
       "    </tr>\n",
       "    <tr>\n",
       "        <td>Ex Machina (2015)</td>\n",
       "        <td>547</td>\n",
       "        <td>4.5</td>\n",
       "        <td>2016-01-28 17:08:05</td>\n",
       "    </tr>\n",
       "</table>"
      ],
      "text/plain": [
       "[('Making a Murderer (2015)', 547, 5.0, '2016-02-02 17:03:02'),\n",
       " ('The Beatles: Eight Days a Week - The Touring Years (2016)', 547, 5.0, '2016-10-14 04:27:19'),\n",
       " ('Lust, Caution (Se, jie) (2007)', 547, 4.5, '2016-08-30 15:10:39'),\n",
       " ('Impossible, The (Imposible, Lo) (2012)', 547, 4.5, '2016-03-12 14:28:34'),\n",
       " ('Ex Machina (2015)', 547, 4.5, '2016-01-28 17:08:05')]"
      ]
     },
     "execution_count": 17,
     "metadata": {},
     "output_type": "execute_result"
    }
   ],
   "source": [
    "%%sql\n",
    "\n",
    "SELECT m.title, \n",
    "    u.userId, \n",
    "    r.rating, \n",
    "    r.timestamp\n",
    "FROM movies m\n",
    "INNER JOIN ratings r \n",
    "    ON r.movieId = m.movieId AND strftime('%Y', r.timestamp) = '2016'\n",
    "INNER JOIN (\n",
    "    SELECT userId,\n",
    "        max(n_ratings) as n_ratings\n",
    "    FROM (\n",
    "        SELECT userId, \n",
    "            count(*) as n_ratings\n",
    "        FROM ratings\n",
    "        GROUP BY userId\n",
    "    )\n",
    ") u \n",
    "    ON r.userId = u.userId\n",
    "ORDER BY r.rating DESC\n",
    "LIMIT 5"
   ]
  },
  {
   "cell_type": "markdown",
   "metadata": {},
   "source": [
    "**6. Haz una gráfica de como evolucionan el número de películas que ve cada año y la nota media. **"
   ]
  },
  {
   "cell_type": "markdown",
   "metadata": {},
   "source": [
    "Para esta parte, hacemos dos pequeñas modificaciones en la *query* anterior para agrupar por año y extraer el número de películas que ve cada año el usuario más activo y la nota media. Además, no es necesario unir con la tabla **movies**."
   ]
  },
  {
   "cell_type": "code",
   "execution_count": 18,
   "metadata": {},
   "outputs": [
    {
     "name": "stdout",
     "output_type": "stream",
     "text": [
      "Done.\n"
     ]
    },
    {
     "data": {
      "text/html": [
       "<table>\n",
       "    <tr>\n",
       "        <th>year</th>\n",
       "        <th>n_films</th>\n",
       "        <th>avg_rating</th>\n",
       "    </tr>\n",
       "    <tr>\n",
       "        <td>2000</td>\n",
       "        <td>212</td>\n",
       "        <td>4.080188679245283</td>\n",
       "    </tr>\n",
       "    <tr>\n",
       "        <td>2001</td>\n",
       "        <td>240</td>\n",
       "        <td>3.2375</td>\n",
       "    </tr>\n",
       "    <tr>\n",
       "        <td>2002</td>\n",
       "        <td>269</td>\n",
       "        <td>3.0185873605947955</td>\n",
       "    </tr>\n",
       "    <tr>\n",
       "        <td>2003</td>\n",
       "        <td>301</td>\n",
       "        <td>3.2425249169435215</td>\n",
       "    </tr>\n",
       "    <tr>\n",
       "        <td>2004</td>\n",
       "        <td>202</td>\n",
       "        <td>2.985148514851485</td>\n",
       "    </tr>\n",
       "    <tr>\n",
       "        <td>2005</td>\n",
       "        <td>193</td>\n",
       "        <td>3.349740932642487</td>\n",
       "    </tr>\n",
       "    <tr>\n",
       "        <td>2006</td>\n",
       "        <td>93</td>\n",
       "        <td>3.252688172043011</td>\n",
       "    </tr>\n",
       "    <tr>\n",
       "        <td>2007</td>\n",
       "        <td>153</td>\n",
       "        <td>3.3333333333333335</td>\n",
       "    </tr>\n",
       "    <tr>\n",
       "        <td>2008</td>\n",
       "        <td>141</td>\n",
       "        <td>3.4539007092198584</td>\n",
       "    </tr>\n",
       "    <tr>\n",
       "        <td>2009</td>\n",
       "        <td>95</td>\n",
       "        <td>3.3842105263157896</td>\n",
       "    </tr>\n",
       "    <tr>\n",
       "        <td>2010</td>\n",
       "        <td>70</td>\n",
       "        <td>3.407142857142857</td>\n",
       "    </tr>\n",
       "    <tr>\n",
       "        <td>2011</td>\n",
       "        <td>71</td>\n",
       "        <td>3.492957746478873</td>\n",
       "    </tr>\n",
       "    <tr>\n",
       "        <td>2012</td>\n",
       "        <td>77</td>\n",
       "        <td>3.512987012987013</td>\n",
       "    </tr>\n",
       "    <tr>\n",
       "        <td>2013</td>\n",
       "        <td>71</td>\n",
       "        <td>3.8028169014084505</td>\n",
       "    </tr>\n",
       "    <tr>\n",
       "        <td>2014</td>\n",
       "        <td>78</td>\n",
       "        <td>3.5833333333333335</td>\n",
       "    </tr>\n",
       "    <tr>\n",
       "        <td>2015</td>\n",
       "        <td>75</td>\n",
       "        <td>3.546666666666667</td>\n",
       "    </tr>\n",
       "    <tr>\n",
       "        <td>2016</td>\n",
       "        <td>50</td>\n",
       "        <td>3.54</td>\n",
       "    </tr>\n",
       "</table>"
      ],
      "text/plain": [
       "[('2000', 212, 4.080188679245283),\n",
       " ('2001', 240, 3.2375),\n",
       " ('2002', 269, 3.0185873605947955),\n",
       " ('2003', 301, 3.2425249169435215),\n",
       " ('2004', 202, 2.985148514851485),\n",
       " ('2005', 193, 3.349740932642487),\n",
       " ('2006', 93, 3.252688172043011),\n",
       " ('2007', 153, 3.3333333333333335),\n",
       " ('2008', 141, 3.4539007092198584),\n",
       " ('2009', 95, 3.3842105263157896),\n",
       " ('2010', 70, 3.407142857142857),\n",
       " ('2011', 71, 3.492957746478873),\n",
       " ('2012', 77, 3.512987012987013),\n",
       " ('2013', 71, 3.8028169014084505),\n",
       " ('2014', 78, 3.5833333333333335),\n",
       " ('2015', 75, 3.546666666666667),\n",
       " ('2016', 50, 3.54)]"
      ]
     },
     "execution_count": 18,
     "metadata": {},
     "output_type": "execute_result"
    }
   ],
   "source": [
    "%%sql\n",
    "\n",
    "SELECT strftime('%Y', r.timestamp) as year, \n",
    "    count(*) as n_films,\n",
    "    avg(r.rating) as avg_rating\n",
    "FROM ratings r \n",
    "INNER JOIN (\n",
    "    SELECT userId,\n",
    "        max(n_ratings) as n_ratings\n",
    "    FROM (\n",
    "        SELECT userId, \n",
    "            count(*) as n_ratings\n",
    "        FROM ratings\n",
    "        GROUP BY userId\n",
    "    )\n",
    ") u \n",
    "    ON r.userId = u.userId\n",
    "GROUP BY year\n",
    "ORDER BY year"
   ]
  },
  {
   "cell_type": "markdown",
   "metadata": {},
   "source": [
    "Finalmente, pasamos el resultado de esta query a un dataframe para poder realizar la gráfica:"
   ]
  },
  {
   "cell_type": "code",
   "execution_count": 19,
   "metadata": {},
   "outputs": [
    {
     "data": {
      "text/plain": [
       "<matplotlib.legend.Legend at 0x7fb345c8a438>"
      ]
     },
     "execution_count": 19,
     "metadata": {},
     "output_type": "execute_result"
    },
    {
     "data": {
      "image/png": "[encoded data removed]",
      "text/plain": [
       "<matplotlib.figure.Figure at 0x7fb345a2b8d0>"
      ]
     },
     "metadata": {},
     "output_type": "display_data"
    }
   ],
   "source": [
    "conn = sqlite3.connect('data/movies/movielens.sqlite')\n",
    "\n",
    "query = \"\"\"\n",
    "    SELECT strftime('%Y', r.timestamp) as year, \n",
    "        count(*) as n_films,\n",
    "        avg(r.rating) as avg_rating\n",
    "    FROM ratings r \n",
    "    INNER JOIN (\n",
    "        SELECT userId,\n",
    "            max(n_ratings) as n_ratings\n",
    "        FROM (\n",
    "            SELECT userId, \n",
    "                count(*) as n_ratings\n",
    "            FROM ratings\n",
    "            GROUP BY userId\n",
    "        )\n",
    "    ) u \n",
    "        ON r.userId = u.userId\n",
    "    GROUP BY year\n",
    "\"\"\"\n",
    "\n",
    "df_by_year = pd.read_sql(query, conn)\n",
    "\n",
    "fig, ax = plt.subplots(ncols=1, nrows=2)\n",
    "\n",
    "ax[0].plot(df_by_year.year, df_by_year.n_films, label = 'Number of films')\n",
    "ax[0].legend()\n",
    "ax[1].plot(df_by_year.year, df_by_year.avg_rating, label = 'Ratings average')\n",
    "ax[1].legend()"
   ]
  }
 ],
 "metadata": {
  "kernelspec": {
   "display_name": "Python 3",
   "language": "python",
   "name": "python3"
  },
  "language_info": {
   "codemirror_mode": {
    "name": "ipython",
    "version": 3
   },
   "file_extension": ".py",
   "mimetype": "text/x-python",
   "name": "python",
   "nbconvert_exporter": "python",
   "pygments_lexer": "ipython3",
   "version": "3.5.2"
  }
 },
 "nbformat": 4,
 "nbformat_minor": 2
}
